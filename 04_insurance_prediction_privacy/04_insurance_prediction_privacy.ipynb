{
 "cells": [
  {
   "cell_type": "markdown",
   "metadata": {},
   "source": [
    "<div class=\"alert alert-success\" style=\"border-radius: 15px; box-shadow: 4px 4px 4px; border: 1px solid; background-color: orange; color: black;\">\n",
    "    <h2>Linear Algebra Project</h2> \n",
    "   \n",
    "The Sure Tomorrow insurance company wants to solve several tasks with the help of Machine Learning and you are asked to evaluate that possibility.\n",
    "\n",
    "- Task 1: Find customers who are similar to a given customer. This will help the company's agents with marketing.\n",
    "- Task 2: Predict whether a new customer is likely to receive an insurance benefit. Can a prediction model do better than a dummy model?\n",
    "- Task 3: Predict the number of insurance benefits a new customer is likely to receive using a linear regression model.\n",
    "- Task 4: Protect clients' personal data without breaking the model from the previous task. It's necessary to develop a data transformation algorithm that would make it hard to recover personal information if the data fell into the wrong hands. This is called data masking, or data obfuscation. But the data should be protected in such a way that the quality of machine learning models doesn't suffer. You don't need to pick the best model, just prove that the algorithm works correctly.\n",
    "\n",
    "</div>"
   ]
  },
  {
   "cell_type": "markdown",
   "metadata": {},
   "source": [
    "<div class=\"alert alert-success\" style=\"border-radius: 15px; box-shadow: 4px 4px 4px; border: 1px solid; background-color: lightgray; color: black;\">\n",
    "    <h2>Project Summary: Sure Tomorrow Insurance - Machine Learning Applications</h2>\n",
    "\n",
    "- **Goal**: Apply machine learning to support key insurance operations: customer similarity search, benefit eligibility prediction, benefit quantity estimation, and secure data obfuscation.  \n",
    "- **Tasks & Models**: \n",
    "    * Task 1: Customer Similarity – PCA, kNN Clustering (Euclidean & Manhattan distances)\n",
    "    * Task 2: Benefit Eligibility (Classification) – k-Nearest Neighbors (F1 = 0.943 @ k=1, scaled)\n",
    "    * Task 3: Benefit Quantity (Regression) – Linear Regression (RMSE = 0.36, R² ≈ 0.66)\n",
    "    * Task 4: Data Obfuscation – Invertible matrix transformation (privacy-preserving, no loss in RMSE/R²)\n",
    "- **Data Period**: Anonymized dataset with synthetic customer profiles, scaled and unscaled\n",
    "- **Techniques Used**:\n",
    "    - Dimensionality reduction via PCA to uncover latent clusters\n",
    "    - Clustering via scaled kNN (Euclidean & Manhattan distances)\n",
    "    - Handling class imbalance (12% positive class) for fair evaluation of classifiers\n",
    "    - Scaling for consistent distance metric performance\n",
    "    - Evaluation of dummy classifiers for baseline comparison\n",
    "    - Linear regression (original vs scaled vs obfuscated data)\n",
    "    - Analytical proof that data obfuscation does not affect predictions\n",
    "    - Visual inspection of residuals, predictions, and recovery accuracy\n",
    "- **Conclusion**: This multi-part project shows that machine learning can significantly enhance decision making at Sure Tomorrow Insurance. Scaled kNN achieves state of the art classification performance (F1 = 0.943), linear regression offers strong prediction of benefit counts (R² ≈ 0.66), and matrix-based obfuscation provides privacy without compromising model utility. This confirms that machine learning is both effective and secure for deployment in insurance use cases.\n",
    "                                                          \n",
    "</div>"
   ]
  },
  {
   "cell_type": "markdown",
   "metadata": {},
   "source": [
    "# Data Preprocessing & Exploration\n",
    "\n",
    "## Initialization"
   ]
  },
  {
   "cell_type": "code",
   "execution_count": 63,
   "metadata": {
    "scrolled": true,
    "trusted": true
   },
   "outputs": [],
   "source": [
    "import numpy as np\n",
    "import pandas as pd\n",
    "import seaborn as sns\n",
    "import sklearn.linear_model\n",
    "import sklearn.metrics\n",
    "import sklearn.neighbors\n",
    "import sklearn.preprocessing\n",
    "from sklearn.decomposition import PCA\n",
    "from sklearn.model_selection import train_test_split\n",
    "from IPython.display import display\n",
    "from sklearn.cluster import KMeans\n",
    "from sklearn.preprocessing import StandardScaler\n",
    "import matplotlib.pyplot as plt\n",
    "from sklearn.neighbors import NearestNeighbors\n",
    "from sklearn.neighbors import KNeighborsClassifier\n",
    "from sklearn.metrics import f1_score, confusion_matrix\n",
    "import math\n",
    "from sklearn.linear_model import LinearRegression\n",
    "from sklearn.metrics import mean_squared_error, r2_score"
   ]
  },
  {
   "cell_type": "markdown",
   "metadata": {},
   "source": [
    "## Load Data"
   ]
  },
  {
   "cell_type": "code",
   "execution_count": 64,
   "metadata": {
    "scrolled": true,
    "trusted": true
   },
   "outputs": [],
   "source": [
    "df = pd.read_csv('/datasets/insurance_us.csv')"
   ]
  },
  {
   "cell_type": "code",
   "execution_count": 65,
   "metadata": {
    "scrolled": true,
    "trusted": true
   },
   "outputs": [],
   "source": [
    "df = df.rename(columns={'Gender': 'gender', 'Age': 'age', 'Salary': 'income', 'Family members': 'family_members', 'Insurance benefits': 'insurance_benefits'})"
   ]
  },
  {
   "cell_type": "code",
   "execution_count": 66,
   "metadata": {
    "scrolled": true,
    "trusted": true
   },
   "outputs": [
    {
     "data": {
      "text/html": [
       "<div>\n",
       "<style scoped>\n",
       "    .dataframe tbody tr th:only-of-type {\n",
       "        vertical-align: middle;\n",
       "    }\n",
       "\n",
       "    .dataframe tbody tr th {\n",
       "        vertical-align: top;\n",
       "    }\n",
       "\n",
       "    .dataframe thead th {\n",
       "        text-align: right;\n",
       "    }\n",
       "</style>\n",
       "<table border=\"1\" class=\"dataframe\">\n",
       "  <thead>\n",
       "    <tr style=\"text-align: right;\">\n",
       "      <th></th>\n",
       "      <th>gender</th>\n",
       "      <th>age</th>\n",
       "      <th>income</th>\n",
       "      <th>family_members</th>\n",
       "      <th>insurance_benefits</th>\n",
       "    </tr>\n",
       "  </thead>\n",
       "  <tbody>\n",
       "    <tr>\n",
       "      <th>3063</th>\n",
       "      <td>0</td>\n",
       "      <td>24.0</td>\n",
       "      <td>64400.0</td>\n",
       "      <td>0</td>\n",
       "      <td>0</td>\n",
       "    </tr>\n",
       "    <tr>\n",
       "      <th>1173</th>\n",
       "      <td>0</td>\n",
       "      <td>39.0</td>\n",
       "      <td>21600.0</td>\n",
       "      <td>2</td>\n",
       "      <td>0</td>\n",
       "    </tr>\n",
       "    <tr>\n",
       "      <th>3460</th>\n",
       "      <td>1</td>\n",
       "      <td>23.0</td>\n",
       "      <td>34000.0</td>\n",
       "      <td>1</td>\n",
       "      <td>0</td>\n",
       "    </tr>\n",
       "    <tr>\n",
       "      <th>3574</th>\n",
       "      <td>1</td>\n",
       "      <td>36.0</td>\n",
       "      <td>40600.0</td>\n",
       "      <td>3</td>\n",
       "      <td>0</td>\n",
       "    </tr>\n",
       "    <tr>\n",
       "      <th>1546</th>\n",
       "      <td>1</td>\n",
       "      <td>33.0</td>\n",
       "      <td>44100.0</td>\n",
       "      <td>2</td>\n",
       "      <td>0</td>\n",
       "    </tr>\n",
       "    <tr>\n",
       "      <th>371</th>\n",
       "      <td>0</td>\n",
       "      <td>19.0</td>\n",
       "      <td>45800.0</td>\n",
       "      <td>3</td>\n",
       "      <td>0</td>\n",
       "    </tr>\n",
       "    <tr>\n",
       "      <th>4523</th>\n",
       "      <td>0</td>\n",
       "      <td>22.0</td>\n",
       "      <td>44700.0</td>\n",
       "      <td>0</td>\n",
       "      <td>0</td>\n",
       "    </tr>\n",
       "    <tr>\n",
       "      <th>3243</th>\n",
       "      <td>0</td>\n",
       "      <td>18.0</td>\n",
       "      <td>27900.0</td>\n",
       "      <td>1</td>\n",
       "      <td>0</td>\n",
       "    </tr>\n",
       "    <tr>\n",
       "      <th>203</th>\n",
       "      <td>1</td>\n",
       "      <td>31.0</td>\n",
       "      <td>42900.0</td>\n",
       "      <td>1</td>\n",
       "      <td>0</td>\n",
       "    </tr>\n",
       "    <tr>\n",
       "      <th>4402</th>\n",
       "      <td>0</td>\n",
       "      <td>38.0</td>\n",
       "      <td>31700.0</td>\n",
       "      <td>2</td>\n",
       "      <td>0</td>\n",
       "    </tr>\n",
       "  </tbody>\n",
       "</table>\n",
       "</div>"
      ],
      "text/plain": [
       "      gender   age   income  family_members  insurance_benefits\n",
       "3063       0  24.0  64400.0               0                   0\n",
       "1173       0  39.0  21600.0               2                   0\n",
       "3460       1  23.0  34000.0               1                   0\n",
       "3574       1  36.0  40600.0               3                   0\n",
       "1546       1  33.0  44100.0               2                   0\n",
       "371        0  19.0  45800.0               3                   0\n",
       "4523       0  22.0  44700.0               0                   0\n",
       "3243       0  18.0  27900.0               1                   0\n",
       "203        1  31.0  42900.0               1                   0\n",
       "4402       0  38.0  31700.0               2                   0"
      ]
     },
     "execution_count": 66,
     "metadata": {},
     "output_type": "execute_result"
    }
   ],
   "source": [
    "df.sample(10)"
   ]
  },
  {
   "cell_type": "code",
   "execution_count": 67,
   "metadata": {
    "scrolled": true,
    "trusted": true
   },
   "outputs": [
    {
     "name": "stdout",
     "output_type": "stream",
     "text": [
      "<class 'pandas.core.frame.DataFrame'>\n",
      "RangeIndex: 5000 entries, 0 to 4999\n",
      "Data columns (total 5 columns):\n",
      " #   Column              Non-Null Count  Dtype  \n",
      "---  ------              --------------  -----  \n",
      " 0   gender              5000 non-null   int64  \n",
      " 1   age                 5000 non-null   float64\n",
      " 2   income              5000 non-null   float64\n",
      " 3   family_members      5000 non-null   int64  \n",
      " 4   insurance_benefits  5000 non-null   int64  \n",
      "dtypes: float64(2), int64(3)\n",
      "memory usage: 195.4 KB\n"
     ]
    }
   ],
   "source": [
    "df.info()"
   ]
  },
  {
   "cell_type": "code",
   "execution_count": 68,
   "metadata": {
    "scrolled": true,
    "trusted": true
   },
   "outputs": [],
   "source": [
    "df['age'] = df['age'].astype(int)"
   ]
  },
  {
   "cell_type": "code",
   "execution_count": 69,
   "metadata": {
    "scrolled": true,
    "trusted": true
   },
   "outputs": [],
   "source": [
    "df['income'] = df['income'].astype(int)"
   ]
  },
  {
   "cell_type": "markdown",
   "metadata": {},
   "source": [
    "<div class=\"alert alert-success\" style=\"border-radius: 15px; box-shadow: 4px 4px 4px; border: 1px solid; background-color: lightgreen; color: black;\">\n",
    "    <h2>Comments</h2> \n",
    "\n",
    "* Changing datatype from float to int for columns age and income\n",
    "\n",
    "</div>"
   ]
  },
  {
   "cell_type": "code",
   "execution_count": 70,
   "metadata": {
    "scrolled": false,
    "trusted": true
   },
   "outputs": [
    {
     "name": "stdout",
     "output_type": "stream",
     "text": [
      "<class 'pandas.core.frame.DataFrame'>\n",
      "RangeIndex: 5000 entries, 0 to 4999\n",
      "Data columns (total 5 columns):\n",
      " #   Column              Non-Null Count  Dtype\n",
      "---  ------              --------------  -----\n",
      " 0   gender              5000 non-null   int64\n",
      " 1   age                 5000 non-null   int64\n",
      " 2   income              5000 non-null   int64\n",
      " 3   family_members      5000 non-null   int64\n",
      " 4   insurance_benefits  5000 non-null   int64\n",
      "dtypes: int64(5)\n",
      "memory usage: 195.4 KB\n"
     ]
    }
   ],
   "source": [
    "df.info()"
   ]
  },
  {
   "cell_type": "markdown",
   "metadata": {},
   "source": [
    "<div class=\"alert alert-success\" style=\"border-radius: 15px; box-shadow: 4px 4px 4px; border: 1px solid; background-color: lightgreen; color: black;\">\n",
    "    <h2>Comments</h2> \n",
    "\n",
    "* Confirming the datatype were changed successfully for columns age and income\n",
    "* Confirming there are no missing values\n",
    "\n",
    "</div>"
   ]
  },
  {
   "cell_type": "code",
   "execution_count": 71,
   "metadata": {
    "scrolled": false,
    "trusted": true
   },
   "outputs": [
    {
     "data": {
      "text/html": [
       "<div>\n",
       "<style scoped>\n",
       "    .dataframe tbody tr th:only-of-type {\n",
       "        vertical-align: middle;\n",
       "    }\n",
       "\n",
       "    .dataframe tbody tr th {\n",
       "        vertical-align: top;\n",
       "    }\n",
       "\n",
       "    .dataframe thead th {\n",
       "        text-align: right;\n",
       "    }\n",
       "</style>\n",
       "<table border=\"1\" class=\"dataframe\">\n",
       "  <thead>\n",
       "    <tr style=\"text-align: right;\">\n",
       "      <th></th>\n",
       "      <th>gender</th>\n",
       "      <th>age</th>\n",
       "      <th>income</th>\n",
       "      <th>family_members</th>\n",
       "      <th>insurance_benefits</th>\n",
       "    </tr>\n",
       "  </thead>\n",
       "  <tbody>\n",
       "    <tr>\n",
       "      <th>281</th>\n",
       "      <td>1</td>\n",
       "      <td>39</td>\n",
       "      <td>48100</td>\n",
       "      <td>1</td>\n",
       "      <td>0</td>\n",
       "    </tr>\n",
       "    <tr>\n",
       "      <th>488</th>\n",
       "      <td>1</td>\n",
       "      <td>24</td>\n",
       "      <td>32900</td>\n",
       "      <td>1</td>\n",
       "      <td>0</td>\n",
       "    </tr>\n",
       "    <tr>\n",
       "      <th>513</th>\n",
       "      <td>0</td>\n",
       "      <td>31</td>\n",
       "      <td>37400</td>\n",
       "      <td>2</td>\n",
       "      <td>0</td>\n",
       "    </tr>\n",
       "    <tr>\n",
       "      <th>718</th>\n",
       "      <td>1</td>\n",
       "      <td>22</td>\n",
       "      <td>32600</td>\n",
       "      <td>1</td>\n",
       "      <td>0</td>\n",
       "    </tr>\n",
       "    <tr>\n",
       "      <th>785</th>\n",
       "      <td>0</td>\n",
       "      <td>20</td>\n",
       "      <td>35800</td>\n",
       "      <td>0</td>\n",
       "      <td>0</td>\n",
       "    </tr>\n",
       "    <tr>\n",
       "      <th>...</th>\n",
       "      <td>...</td>\n",
       "      <td>...</td>\n",
       "      <td>...</td>\n",
       "      <td>...</td>\n",
       "      <td>...</td>\n",
       "    </tr>\n",
       "    <tr>\n",
       "      <th>4793</th>\n",
       "      <td>1</td>\n",
       "      <td>24</td>\n",
       "      <td>37800</td>\n",
       "      <td>0</td>\n",
       "      <td>0</td>\n",
       "    </tr>\n",
       "    <tr>\n",
       "      <th>4902</th>\n",
       "      <td>1</td>\n",
       "      <td>35</td>\n",
       "      <td>38700</td>\n",
       "      <td>1</td>\n",
       "      <td>0</td>\n",
       "    </tr>\n",
       "    <tr>\n",
       "      <th>4935</th>\n",
       "      <td>1</td>\n",
       "      <td>19</td>\n",
       "      <td>32700</td>\n",
       "      <td>0</td>\n",
       "      <td>0</td>\n",
       "    </tr>\n",
       "    <tr>\n",
       "      <th>4945</th>\n",
       "      <td>1</td>\n",
       "      <td>21</td>\n",
       "      <td>45800</td>\n",
       "      <td>0</td>\n",
       "      <td>0</td>\n",
       "    </tr>\n",
       "    <tr>\n",
       "      <th>4965</th>\n",
       "      <td>0</td>\n",
       "      <td>22</td>\n",
       "      <td>40100</td>\n",
       "      <td>1</td>\n",
       "      <td>0</td>\n",
       "    </tr>\n",
       "  </tbody>\n",
       "</table>\n",
       "<p>153 rows × 5 columns</p>\n",
       "</div>"
      ],
      "text/plain": [
       "      gender  age  income  family_members  insurance_benefits\n",
       "281        1   39   48100               1                   0\n",
       "488        1   24   32900               1                   0\n",
       "513        0   31   37400               2                   0\n",
       "718        1   22   32600               1                   0\n",
       "785        0   20   35800               0                   0\n",
       "...      ...  ...     ...             ...                 ...\n",
       "4793       1   24   37800               0                   0\n",
       "4902       1   35   38700               1                   0\n",
       "4935       1   19   32700               0                   0\n",
       "4945       1   21   45800               0                   0\n",
       "4965       0   22   40100               1                   0\n",
       "\n",
       "[153 rows x 5 columns]"
      ]
     },
     "execution_count": 71,
     "metadata": {},
     "output_type": "execute_result"
    }
   ],
   "source": [
    "df[df.duplicated()]"
   ]
  },
  {
   "cell_type": "markdown",
   "metadata": {},
   "source": [
    "<div class=\"alert alert-success\" style=\"border-radius: 15px; box-shadow: 4px 4px 4px; border: 1px solid; background-color: lightgreen; color: black;\">\n",
    "    <h2>Comments</h2> \n",
    "\n",
    "* Confirming there are 153 duplicates\n",
    "* Will drop duplicate rows as keeping true duplicates might skew the similiarity scores. By removing duplicates I am ensuring the data is not biased by the over-representtation of certain observations and conclusions about customer behavior and insurance benefit predictions are as reliable as possible\n",
    "\n",
    "</div>"
   ]
  },
  {
   "cell_type": "code",
   "execution_count": 72,
   "metadata": {
    "scrolled": true,
    "trusted": true
   },
   "outputs": [
    {
     "name": "stdout",
     "output_type": "stream",
     "text": [
      "\n",
      "DataFrame shape after removing duplicates: (4847, 5)\n"
     ]
    }
   ],
   "source": [
    "df = df.drop_duplicates()\n",
    "print(f\"\\nDataFrame shape after removing duplicates: {df.shape}\")"
   ]
  },
  {
   "cell_type": "markdown",
   "metadata": {},
   "source": [
    "<div class=\"alert alert-success\" style=\"border-radius: 15px; box-shadow: 4px 4px 4px; border: 1px solid; background-color: lightgreen; color: black;\">\n",
    "    <h2>Comments</h2> \n",
    "\n",
    "* Confirming the removal of the duplicate rows\n",
    "</div>"
   ]
  },
  {
   "cell_type": "code",
   "execution_count": 73,
   "metadata": {
    "scrolled": true,
    "trusted": true
   },
   "outputs": [
    {
     "data": {
      "text/html": [
       "<div>\n",
       "<style scoped>\n",
       "    .dataframe tbody tr th:only-of-type {\n",
       "        vertical-align: middle;\n",
       "    }\n",
       "\n",
       "    .dataframe tbody tr th {\n",
       "        vertical-align: top;\n",
       "    }\n",
       "\n",
       "    .dataframe thead th {\n",
       "        text-align: right;\n",
       "    }\n",
       "</style>\n",
       "<table border=\"1\" class=\"dataframe\">\n",
       "  <thead>\n",
       "    <tr style=\"text-align: right;\">\n",
       "      <th></th>\n",
       "      <th>gender</th>\n",
       "      <th>age</th>\n",
       "      <th>income</th>\n",
       "      <th>family_members</th>\n",
       "      <th>insurance_benefits</th>\n",
       "    </tr>\n",
       "  </thead>\n",
       "  <tbody>\n",
       "    <tr>\n",
       "      <th>count</th>\n",
       "      <td>4847.000000</td>\n",
       "      <td>4847.000000</td>\n",
       "      <td>4847.000000</td>\n",
       "      <td>4847.000000</td>\n",
       "      <td>4847.000000</td>\n",
       "    </tr>\n",
       "    <tr>\n",
       "      <th>mean</th>\n",
       "      <td>0.498453</td>\n",
       "      <td>31.023932</td>\n",
       "      <td>39895.811223</td>\n",
       "      <td>1.203425</td>\n",
       "      <td>0.152259</td>\n",
       "    </tr>\n",
       "    <tr>\n",
       "      <th>std</th>\n",
       "      <td>0.500049</td>\n",
       "      <td>8.487995</td>\n",
       "      <td>9972.952441</td>\n",
       "      <td>1.098664</td>\n",
       "      <td>0.468934</td>\n",
       "    </tr>\n",
       "    <tr>\n",
       "      <th>min</th>\n",
       "      <td>0.000000</td>\n",
       "      <td>18.000000</td>\n",
       "      <td>5300.000000</td>\n",
       "      <td>0.000000</td>\n",
       "      <td>0.000000</td>\n",
       "    </tr>\n",
       "    <tr>\n",
       "      <th>25%</th>\n",
       "      <td>0.000000</td>\n",
       "      <td>24.000000</td>\n",
       "      <td>33200.000000</td>\n",
       "      <td>0.000000</td>\n",
       "      <td>0.000000</td>\n",
       "    </tr>\n",
       "    <tr>\n",
       "      <th>50%</th>\n",
       "      <td>0.000000</td>\n",
       "      <td>30.000000</td>\n",
       "      <td>40200.000000</td>\n",
       "      <td>1.000000</td>\n",
       "      <td>0.000000</td>\n",
       "    </tr>\n",
       "    <tr>\n",
       "      <th>75%</th>\n",
       "      <td>1.000000</td>\n",
       "      <td>37.000000</td>\n",
       "      <td>46600.000000</td>\n",
       "      <td>2.000000</td>\n",
       "      <td>0.000000</td>\n",
       "    </tr>\n",
       "    <tr>\n",
       "      <th>max</th>\n",
       "      <td>1.000000</td>\n",
       "      <td>65.000000</td>\n",
       "      <td>79000.000000</td>\n",
       "      <td>6.000000</td>\n",
       "      <td>5.000000</td>\n",
       "    </tr>\n",
       "  </tbody>\n",
       "</table>\n",
       "</div>"
      ],
      "text/plain": [
       "            gender          age        income  family_members  \\\n",
       "count  4847.000000  4847.000000   4847.000000     4847.000000   \n",
       "mean      0.498453    31.023932  39895.811223        1.203425   \n",
       "std       0.500049     8.487995   9972.952441        1.098664   \n",
       "min       0.000000    18.000000   5300.000000        0.000000   \n",
       "25%       0.000000    24.000000  33200.000000        0.000000   \n",
       "50%       0.000000    30.000000  40200.000000        1.000000   \n",
       "75%       1.000000    37.000000  46600.000000        2.000000   \n",
       "max       1.000000    65.000000  79000.000000        6.000000   \n",
       "\n",
       "       insurance_benefits  \n",
       "count         4847.000000  \n",
       "mean             0.152259  \n",
       "std              0.468934  \n",
       "min              0.000000  \n",
       "25%              0.000000  \n",
       "50%              0.000000  \n",
       "75%              0.000000  \n",
       "max              5.000000  "
      ]
     },
     "execution_count": 73,
     "metadata": {},
     "output_type": "execute_result"
    }
   ],
   "source": [
    "# now have a look at the data's descriptive statistics. \n",
    "# Does everything look okay?\n",
    "df.describe()"
   ]
  },
  {
   "cell_type": "markdown",
   "metadata": {},
   "source": [
    "<div class=\"alert alert-success\" style=\"border-radius: 15px; box-shadow: 4px 4px 4px; border: 1px solid; background-color: lightgreen; color: black;\">\n",
    "    <h2>Comments</h2> \n",
    "\n",
    "* Gender:\n",
    "    * Gender is a binary variable with a mean very close to 0.5 indicating a balanced distribution\n",
    "    * The standard deviation is as ecpected for a binary variable\n",
    "*Age:\n",
    "    * This column has a realisitic spread with most customers in the young to muddle-aged adult range\n",
    "    * The mean and median values are close and the standard deviation appears reasonable\n",
    "* Income:\n",
    "    * The distribution looks plasusible for an insurance dataset with the central values (median and quartiles) are in the expected range\n",
    "    * The variation (standard deviation near 10k) suggests a reasonable level of diversity among customers\n",
    "* Family Members:\n",
    "    * The number of family memebrs ranges from 0 to 6 with a median of 1 suggesting that many customers are either single or only have one family recorded\n",
    "    * The data shows a skew toward lower counts but the range indicates that larger families are present albeit less frequently. This distribution appears reasonable\n",
    "* Insurance Benefits:\n",
    "    * The target variable is highly zero inflated with most customers receiving zero benefits as indicated by the quartiles all being zero\n",
    "    * A few customers received multiple benefits with a maximum of 5. This type of distribution is common for count data especially in insurance claims or similiar contexts\n",
    "* Overall Assessment:\n",
    "    * Feature Distributions: All features appear to have distributions that make snese for an insurance related dataset\n",
    "        * Gender is balanced\n",
    "        * Age covers the expected adult range\n",
    "        * Income is spread across a plausible range with a moderate standard deviation\n",
    "        * Family members and insurance benefits are a bit skewed with a strong mode at zero for benefits which will be important for the model design but does not indicate a data quality problem\n",
    "    \n",
    "    \n",
    "    \n",
    "    \n",
    "    \n",
    "    \n",
    "</div>"
   ]
  },
  {
   "cell_type": "markdown",
   "metadata": {},
   "source": [
    "## EDA"
   ]
  },
  {
   "cell_type": "code",
   "execution_count": 74,
   "metadata": {
    "scrolled": false,
    "trusted": true
   },
   "outputs": [
    {
     "data": {
      "image/png": "[encoded data removed]",
      "text/plain": [
       "<Figure size 1200x1200 with 30 Axes>"
      ]
     },
     "metadata": {},
     "output_type": "display_data"
    }
   ],
   "source": [
    "g = sns.pairplot(df, kind='hist')\n",
    "g.fig.set_size_inches(12, 12)"
   ]
  },
  {
   "cell_type": "code",
   "execution_count": 75,
   "metadata": {
    "scrolled": true,
    "trusted": true
   },
   "outputs": [],
   "source": [
    "features = ['gender', 'age', 'income', 'family_members', 'insurance_benefits']\n",
    "scaler = StandardScaler()\n",
    "X_scaled = scaler.fit_transform(df[features])"
   ]
  },
  {
   "cell_type": "code",
   "execution_count": 76,
   "metadata": {
    "scrolled": false,
    "trusted": true
   },
   "outputs": [
    {
     "data": {
      "image/png": "[encoded data removed]",
      "text/plain": [
       "<Figure size 800x600 with 1 Axes>"
      ]
     },
     "metadata": {},
     "output_type": "display_data"
    }
   ],
   "source": [
    "pca = PCA(n_components=2)\n",
    "X_pca = pca.fit_transform(X_scaled)\n",
    "\n",
    "plt.figure(figsize=(8, 6))\n",
    "plt.scatter(X_pca[:, 0], X_pca[:, 1], alpha=0.5)\n",
    "plt.xlabel('Dimension 1: Maximum Variance Direction')\n",
    "plt.ylabel('Dimension 2: Second Maximum Variance Direction')\n",
    "plt.title('PCA Visualization of Customer Data')\n",
    "plt.show()"
   ]
  },
  {
   "cell_type": "markdown",
   "metadata": {},
   "source": [
    "<div class=\"alert alert-success\" style=\"border-radius: 15px; box-shadow: 4px 4px 4px; border: 1px solid; background-color: lightgreen; color: black;\">\n",
    "    <h2>Comments</h2> \n",
    "\n",
    "* Appyling  linear algebra method for dimensionality reduction. Using Principal Component Analysis (PCA) to transform the multvariate data into a lower dimensional space that preserves as much variation as possible. This will help visualize the data and possibly reveal clusters that are not evident in pairplots\n",
    "* Overall Shape and Spread:\n",
    "    * Dimension 1: Maximum Variance Direction:\n",
    "        * The data extends from near 0 to 10 on the first principal component\n",
    "        * There are distinct bands of points -- one cluster near 0-1, another roughly 2-4, and another around 7-10. This suggests that Component 1 captures a large degree of variability in the dataset\n",
    "    * Dimension 2: Second Maximum Variance Direction:\n",
    "        * The data spans roughly from -3 to +4 on the second principal component. This direction captures the second largest share of variance still important but not as dominant as the firszt dimension. The points appear more densely packed along the vertical axis indicating that Component 2 adds some separation but not as strikingly as Component 1\n",
    "* Possible Clusters or Group Structure:\n",
    "    * Visually we can see at least 3 main groupings along Dimensions 1:\n",
    "        * Near 0-1 on the x-axis\n",
    "        * Around 2-4 on the x-axis\n",
    "        * Around 7-10 on the x-axis\n",
    "    * There is some overlap in the y-axis values (Dimension 2) among these groups. This pattern hints at latent clusters in the data wehere customers might differ according to their aggregated characteristics in ways that align with the PCA dimensions\n",
    "* Key Takeaways:\n",
    "    * Dimensions 1 likely captures a strong combination of correlated variables. For instance if income is one of the highest variance features it might heabily influence Component 1\n",
    "    * Dimension 2 is uncorrelated to Dimension 1 and captures additional variance. It might be influenced by another set of features\n",
    "    * The PCA plot shows clear horizontal separation along the first principal component indicating at least three major sub populations in the dataset\n",
    "    * The second component offers some additional vertical spread but less dramatic grouping than the first component alone\n",
    "    \n",
    "    \n",
    "    \n",
    "    \n",
    "    \n",
    "    \n",
    "</div>"
   ]
  },
  {
   "cell_type": "code",
   "execution_count": 77,
   "metadata": {
    "scrolled": false,
    "trusted": true
   },
   "outputs": [
    {
     "data": {
      "image/png": "[encoded data removed]",
      "text/plain": [
       "<Figure size 800x600 with 1 Axes>"
      ]
     },
     "metadata": {},
     "output_type": "display_data"
    }
   ],
   "source": [
    "kmeans = KMeans(n_clusters=3, random_state=42)\n",
    "clusters = kmeans.fit_predict(X_scaled)  # or use X_pca for clustering on reduced dimensions\n",
    "\n",
    "df['cluster'] = clusters\n",
    "\n",
    "plt.figure(figsize=(8, 6))\n",
    "plt.scatter(X_pca[:, 0], X_pca[:, 1], c=clusters, cmap='viridis', alpha=0.5)\n",
    "plt.xlabel('Principal Component 1')\n",
    "plt.ylabel('Principal Component 2')\n",
    "plt.title('Clusters Visualized via PCA')\n",
    "plt.show()"
   ]
  },
  {
   "cell_type": "markdown",
   "metadata": {},
   "source": [
    "<div class=\"alert alert-success\" style=\"border-radius: 15px; box-shadow: 4px 4px 4px; border: 1px solid; background-color: lightgreen; color: black;\">\n",
    "    <h2>Comments</h2> \n",
    "\n",
    "* Using machine learning technique for clustering. Since manually identifying clusters visually might be difficult using machine learning algorithms can automatically group similiar customers based on the multivariate patterns in the data\n",
    "* Left Cluster (Large Purple/Teal Cloud):\n",
    "    * Spans a wide range on the vertical axis (-3 to +4) suggesting intra cluster variability in the second principal component. However, they share similarities in the first principal component (low PC1 values)\n",
    "    * Potentially represents customers who share a common attribute combination perhaps lower income or younger ages but vary in another aspect cpatured by PC2\n",
    "* Middle Clusters (Yellow Centered Around PC1 ~3):\n",
    "    * Fairly compact range in both PC1 and PC2 suggesting these custoemrs might be more homogeneous in their underlying feature mix maybe a moderate age/income group\n",
    "* Right Cluster (Yellow PC1 ~7-10):\n",
    "    * Smaller group, quite separate along PC1, which might indicate substantially higher or lower values for a key feature (commonly it could be higher income or older age). The big jump in PC1 suggests a distinct demographic or financial profile\n",
    "    \n",
    "    \n",
    "    \n",
    "    \n",
    "    \n",
    "    \n",
    "</div>"
   ]
  },
  {
   "cell_type": "markdown",
   "metadata": {},
   "source": [
    "# Task 1. Similar Customers"
   ]
  },
  {
   "cell_type": "code",
   "execution_count": 78,
   "metadata": {
    "scrolled": true,
    "trusted": true
   },
   "outputs": [],
   "source": [
    "feature_names = ['gender', 'age', 'income', 'family_members']"
   ]
  },
  {
   "cell_type": "code",
   "execution_count": 79,
   "metadata": {
    "scrolled": true,
    "trusted": true
   },
   "outputs": [],
   "source": [
    "def get_knn(df, n, k, metric):\n",
    "    \"\"\"\n",
    "    Returns k nearest neighbors\n",
    "    :param df: pandas DataFrame used to find similar objects within\n",
    "    :param n: object no for which the nearest neighbours are looked for\n",
    "    :param k: the number of the nearest neighbours to return\n",
    "    :param metric: name of distance metric\n",
    "    \"\"\"\n",
    "    \n",
    "    X = df[feature_names].values\n",
    "\n",
    "    nbrs = NearestNeighbors(n_neighbors=k, metric=metric)\n",
    "    nbrs.fit(X)\n",
    "    nbrs_distances, nbrs_indices = nbrs.kneighbors([df.iloc[n][feature_names]], k, return_distance=True)\n",
    "    \n",
    "    actual_indices = df.iloc[nbrs_indices[0]].index\n",
    "\n",
    "    df_res = pd.concat([\n",
    "        df.iloc[nbrs_indices[0]],\n",
    "        pd.DataFrame(nbrs_distances.T, index=actual_indices, columns=['distance'])\n",
    "    ], axis=1)\n",
    "    \n",
    "    return df_res"
   ]
  },
  {
   "cell_type": "code",
   "execution_count": 80,
   "metadata": {
    "scrolled": true,
    "trusted": true
   },
   "outputs": [],
   "source": [
    "feature_names = ['gender', 'age', 'income', 'family_members']\n",
    "\n",
    "transformer_mas = sklearn.preprocessing.MaxAbsScaler().fit(df[feature_names].to_numpy())\n",
    "\n",
    "df_scaled = df.copy()\n",
    "df_scaled.loc[:, feature_names] = transformer_mas.transform(df[feature_names].to_numpy())"
   ]
  },
  {
   "cell_type": "code",
   "execution_count": 81,
   "metadata": {
    "trusted": true
   },
   "outputs": [
    {
     "data": {
      "text/html": [
       "<div>\n",
       "<style scoped>\n",
       "    .dataframe tbody tr th:only-of-type {\n",
       "        vertical-align: middle;\n",
       "    }\n",
       "\n",
       "    .dataframe tbody tr th {\n",
       "        vertical-align: top;\n",
       "    }\n",
       "\n",
       "    .dataframe thead th {\n",
       "        text-align: right;\n",
       "    }\n",
       "</style>\n",
       "<table border=\"1\" class=\"dataframe\">\n",
       "  <thead>\n",
       "    <tr style=\"text-align: right;\">\n",
       "      <th></th>\n",
       "      <th>gender</th>\n",
       "      <th>age</th>\n",
       "      <th>income</th>\n",
       "      <th>family_members</th>\n",
       "      <th>insurance_benefits</th>\n",
       "      <th>cluster</th>\n",
       "    </tr>\n",
       "  </thead>\n",
       "  <tbody>\n",
       "    <tr>\n",
       "      <th>3388</th>\n",
       "      <td>1.0</td>\n",
       "      <td>0.476923</td>\n",
       "      <td>0.600000</td>\n",
       "      <td>0.166667</td>\n",
       "      <td>0</td>\n",
       "      <td>0</td>\n",
       "    </tr>\n",
       "    <tr>\n",
       "      <th>1867</th>\n",
       "      <td>0.0</td>\n",
       "      <td>0.569231</td>\n",
       "      <td>0.651899</td>\n",
       "      <td>0.166667</td>\n",
       "      <td>0</td>\n",
       "      <td>1</td>\n",
       "    </tr>\n",
       "    <tr>\n",
       "      <th>1884</th>\n",
       "      <td>0.0</td>\n",
       "      <td>0.661538</td>\n",
       "      <td>0.450633</td>\n",
       "      <td>0.333333</td>\n",
       "      <td>1</td>\n",
       "      <td>2</td>\n",
       "    </tr>\n",
       "    <tr>\n",
       "      <th>3917</th>\n",
       "      <td>1.0</td>\n",
       "      <td>0.707692</td>\n",
       "      <td>0.622785</td>\n",
       "      <td>0.000000</td>\n",
       "      <td>1</td>\n",
       "      <td>2</td>\n",
       "    </tr>\n",
       "    <tr>\n",
       "      <th>1313</th>\n",
       "      <td>0.0</td>\n",
       "      <td>0.307692</td>\n",
       "      <td>0.465823</td>\n",
       "      <td>0.000000</td>\n",
       "      <td>0</td>\n",
       "      <td>1</td>\n",
       "    </tr>\n",
       "  </tbody>\n",
       "</table>\n",
       "</div>"
      ],
      "text/plain": [
       "      gender       age    income  family_members  insurance_benefits  cluster\n",
       "3388     1.0  0.476923  0.600000        0.166667                   0        0\n",
       "1867     0.0  0.569231  0.651899        0.166667                   0        1\n",
       "1884     0.0  0.661538  0.450633        0.333333                   1        2\n",
       "3917     1.0  0.707692  0.622785        0.000000                   1        2\n",
       "1313     0.0  0.307692  0.465823        0.000000                   0        1"
      ]
     },
     "execution_count": 81,
     "metadata": {},
     "output_type": "execute_result"
    }
   ],
   "source": [
    "df_scaled.sample(5)"
   ]
  },
  {
   "cell_type": "markdown",
   "metadata": {},
   "source": [
    "<div class=\"alert alert-success\" style=\"border-radius: 15px; box-shadow: 4px 4px 4px; border: 1px solid; background-color: lightgreen; color: black;\">\n",
    "    <h2>Comments</h2> \n",
    "\n",
    "\n",
    "* Scaled dataframe\n",
    "* Gender Homogeneity: Since all rows have gender = 1 these are presumably all from the same gender group\n",
    "* Age rnages from about 0.31 to 0.63 which might indicate younger to middel range ages\n",
    "* Income is between 0.31 to 0.59 so relative incomes vary moderately in this small subset\n",
    "* Family_members shows values like 0.00, 0.17, 0.33, 0.50. These numbers correspond to different family sizes in the original data (0.50 indicates that the original count of family members for that row was half of the maximum value found in the entire column)\n",
    "* Insurance_benefits: All entries have a value of 0 indicating that no coverage or no benefits. Since this feature is constant it won't hlep the clustering algorithm differentiate these particular individuals. Instead the clustering differences here come from age, income, and family_members\n",
    "* Clustering Assignments:\n",
    "    * Cluster 0\n",
    "        * The first four rows are grouped together. They vary in their scaled age, income, and family size but presumably share enough similiarity to be closer to each other than to other points in the dataset\n",
    "    * Cluster 1\n",
    "        * The single row at index 4198 belongs to a different cluster. Even though it superficially looks somewhat similar to row 3587 (both have moderate scaled age, moderate scaled income, and nonzero family_members), the clustering algorithm sees enough overall difference to place 4198 in a different group. Possibly row 4198 is more aligned with a different centroid or group of data point\n",
    "\n",
    "    \n",
    "    \n",
    "</div>"
   ]
  },
  {
   "cell_type": "code",
   "execution_count": 82,
   "metadata": {
    "trusted": true
   },
   "outputs": [
    {
     "name": "stdout",
     "output_type": "stream",
     "text": [
      "\n",
      "== Unscaled + euclidean ==\n",
      "      gender  age  income  family_members  insurance_benefits  cluster  \\\n",
      "100        0   19   37300               1                   0        1   \n",
      "1831       0   20   37300               2                   0        1   \n",
      "4278       1   19   37300               2                   0        0   \n",
      "2624       1   19   37300               0                   0        0   \n",
      "1086       0   22   37300               3                   0        1   \n",
      "\n",
      "      distance  \n",
      "100   0.000000  \n",
      "1831  1.414214  \n",
      "4278  1.414214  \n",
      "2624  1.414214  \n",
      "1086  3.605551  \n",
      "\n",
      "== Unscaled + manhattan ==\n",
      "      gender  age  income  family_members  insurance_benefits  cluster  \\\n",
      "100        0   19   37300               1                   0        1   \n",
      "2624       1   19   37300               0                   0        0   \n",
      "1831       0   20   37300               2                   0        1   \n",
      "4278       1   19   37300               2                   0        0   \n",
      "1086       0   22   37300               3                   0        1   \n",
      "\n",
      "      distance  \n",
      "100        0.0  \n",
      "2624       2.0  \n",
      "1831       2.0  \n",
      "4278       2.0  \n",
      "1086       5.0  \n",
      "\n",
      "== Scaled + euclidean ==\n",
      "      gender       age    income  family_members  insurance_benefits  cluster  \\\n",
      "100      0.0  0.292308  0.472152        0.166667                   0        1   \n",
      "4915     0.0  0.292308  0.477215        0.166667                   0        1   \n",
      "243      0.0  0.292308  0.467089        0.166667                   0        1   \n",
      "1323     0.0  0.292308  0.456962        0.166667                   0        1   \n",
      "811      0.0  0.307692  0.470886        0.166667                   0        1   \n",
      "\n",
      "      distance  \n",
      "100   0.000000  \n",
      "4915  0.005063  \n",
      "243   0.005063  \n",
      "1323  0.015190  \n",
      "811   0.015437  \n",
      "\n",
      "== Scaled + manhattan ==\n",
      "      gender       age    income  family_members  insurance_benefits  cluster  \\\n",
      "100      0.0  0.292308  0.472152        0.166667                   0        1   \n",
      "4915     0.0  0.292308  0.477215        0.166667                   0        1   \n",
      "243      0.0  0.292308  0.467089        0.166667                   0        1   \n",
      "1323     0.0  0.292308  0.456962        0.166667                   0        1   \n",
      "811      0.0  0.307692  0.470886        0.166667                   0        1   \n",
      "\n",
      "      distance  \n",
      "100   0.000000  \n",
      "4915  0.005063  \n",
      "243   0.005063  \n",
      "1323  0.015190  \n",
      "811   0.016650  \n"
     ]
    }
   ],
   "source": [
    "combinations = [\n",
    "    ('Unscaled', 'euclidean'),\n",
    "    ('Unscaled', 'manhattan'),\n",
    "    ('Scaled', 'euclidean'),\n",
    "    ('Scaled', 'manhattan')\n",
    "]\n",
    "\n",
    "n = 100\n",
    "k = 5\n",
    "\n",
    "result_dfs = {}\n",
    "\n",
    "for scale, metric in combinations:\n",
    "    if scale == 'Unscaled':\n",
    "        df_to_use = df\n",
    "    else:\n",
    "        df_to_use = df_scaled\n",
    "    result = get_knn(df_to_use, n=n, k=k, metric=metric)\n",
    "    result_dfs[f\"{scale} + {metric}\"] = result\n",
    "\n",
    "for combo, df_result in result_dfs.items():\n",
    "    print(f\"\\n== {combo} ==\")\n",
    "    print(df_result)"
   ]
  },
  {
   "cell_type": "markdown",
   "metadata": {},
   "source": [
    "<div class=\"alert alert-success\" style=\"border-radius: 15px; box-shadow: 4px 4px 4px; border: 1px solid; background-color: lightgreen; color: black;\">\n",
    "    <h2>Comments</h2> \n",
    "\n",
    "\n",
    "* Unscaled + Euclidean\n",
    "    * Row 100 has a distance of 0.0 indicating this row is the reference point for the Euclidean distance calculation\n",
    "    * Rows at distance 1.4142 (1831, 4278, 2624) - The Euclidean distance of approximately 1.4142 indicates that the sum of squared differences between these tows and the reference row equals exactly 2. Income and insurance benefits have no difference\n",
    "    * Row at distance 3.605551 (1089) - This Euclidean distance is about 3.605551 meaning squared differences sum up to exactly 13. Income and insurance benefits remain identical and thus contribute no difference. Row 1086 differs significantly more from the reference point primarily due to a larger age difference and more family members\n",
    "    * Clsutering outcomes are influenced by combinations of features, not only Euclidean distance from row 100. Gender despite a seemingly small numeric difference might have a meaningful effect on cluster differentiation\n",
    "* Scaled + Euclidean\n",
    "    * Row 100 has a distance of 0.0, meaning it's the reference point for the other rows\n",
    "    * Rows 4915 and 243 both have distances of about 0.005063, indicating they're very close to the reference\n",
    "    * Rows 1323 and 811 are slightly further away, at distances of 0.015190 and 0.015437, respectively. Even these are very small distances, indicating overall close similarity\n",
    "    * Gender and insurance_benefits are constant (0.0) for all rows. Therefore, they don't influence the differences seen here\n",
    "    * All rows have exactly the same scaled value of 0.166667, which means family size is identical for these observations and does not influence distance\n",
    "    * The observed differences come exclusively from age and income\n",
    "        * Row 4915 vs Row 100 - Same age, slightly higher income (+0.005063 difference)\n",
    "        * Row 243 vs Row 100 - Same age, slightly lower income (-0.005063 difference)\n",
    "        * Row 1323 vs Row 100 - Same age, notably lower income (-0.015190 difference)\n",
    "        * Row 811 vs Row 100 - Slightly older (+0.015384 difference in age), slightly lower income (-0.001266 difference)\n",
    "    * All observations are assigned to cluster 1, indicating high internal similarity according to the clustering algorithm. The very small distances confirm that these observations represent a tight group within the cluster, particularly close to the cluster centroid or reference point (row 100)\n",
    "    * The data shows a closely knit cluster of observations (cluster 1) with minor internal variation. Distances clearly indicate that age and income are responsible for the subtle differences observed. All observations are highly similar, suggesting that this cluster is quite cohesive and stable\n",
    "    \n",
    "\n",
    "\n",
    "    \n",
    "    \n",
    "       \n",
    "\n",
    "    \n",
    "    \n",
    "</div>"
   ]
  },
  {
   "cell_type": "markdown",
   "metadata": {},
   "source": [
    "<div class=\"alert alert-success\" style=\"border-radius: 15px; box-shadow: 4px 4px 4px; border: 1px solid; background-color: lightgreen; color: black;\">\n",
    "    <h2>Comments</h2> \n",
    "\n",
    "\n",
    "* Unscaled + Manhattan \n",
    "    * Row 100 is used as the reference observation for the Manhattan distance calculation having a distance of 0.0\n",
    "    * Rows in Cluster 1\n",
    "        * Row 100 - Central point of Cluster 1\n",
    "        * Row 1831 (distance 2) - Slight differences in age and family members compared to the reference\n",
    "        * Row 1086 (distance 5) - Considerably different mainly due to a greater age difference and family size difference. Even though it is quitge distant it is still in the same cluster as the reference suggesting that cluster boundaries might be broad or based on additional rows not shown here\n",
    "    * Rows in Cluster 0\n",
    "        * Rows 2624 and 4278 both have distance=2 and share gender=1 feature differeing from the reference gender=0. This gender likely contributers to placing them in a different cluster\n",
    "    * Influence of Features - Age and family members are clearly influential in defining the distances between observations. Gender is critical in cluster differentiation evident by its consistent role in distinguishing cluster 0 from the reference in cluster 1\n",
    "    * Distance within Clusters - Distances withing clusters can vary significantly as with row 1086 in cluster 1. This may indicate the clsuters have subsantial internal variability or that there are intermediate observations bridging these extreme withing the full dataset\n",
    "    * Gender differences strongly influence cluster assignments. Age and family size differences significantly contribute to internal distances within clusters. The chosen reference observation (row 100) acts as a meaningful baseline, clearly distinguishing rows based on Manhattan distances calculated from simple feature variations\n",
    "* Scaled + Manhattan\n",
    "    * Row 100 has a distance of 0.0, meaning it's the reference point for the other rows\n",
    "    * Gender (0.0 for all rows), family members (0.166667 for all rows), insurance benefit (0 for all rows) - These features don't contribute to any observed distances\n",
    "    * Income: Primary differentiating feature for rows 4915, 243, and 1323\n",
    "    * Age: Differentiating feature specifically for row 811 (in combination with a small income difference)\n",
    "    * All observations are assigned to cluster 1, indicating they're considered very similar in the broader dataset. Extremely small distances confirm strong similarity and cohesion within this cluster. \n",
    "    * The Manhattan distances are very small, indicating that these data points form a tightly clustered subgroup with minimal internal variation\n",
    "    * Even tiny differences in scaled income lead to noticeable (though small) distance changes. This suggests income is a sensitive indicator for differentiating similar observations\n",
    "    * For row 811, both age and income differences contribute, highlighting that even small combined variations can slightly increase overall distance\n",
    "    * The data shows a tightly clustered subset of observations. The primary differentiating factors within this group are small variations in income and, in one case, a minor variation in age. The Manhattan distances clearly illustrate the individual contribution of each feature to overall dissimilarity, reinforcing the precision and interpretability of Manhattan distance metrics for scaled data. This analysis emphasizes that the cluster represented (cluster 1) is highly cohesive and homogeneous\n",
    "    \n",
    "</div>"
   ]
  },
  {
   "cell_type": "markdown",
   "metadata": {},
   "source": [
    "**Does the data being not scaled affect the kNN algorithm? If so, how does that appear?** \n",
    "\n",
    "* Yes, the absence of scaling strongly impacts the kNN algorithm. Features with naturally larger numeric ranges (such as income) disproportionately influence the distance calculations, overshadowing variables with smaller scales (like gender, family_members, and insurance_benefits). When using unscaled data, differences in smaller-scale features like gender or family size have relatively less effect compared to differences in features like age or income. For instance, in the unscaled Euclidean analysis, large numeric differences in age significantly increased the Euclidean distance (e.g., row 1086 with age difference leading to a squared difference of 9), creating large gaps even when other features are identical. This imbalance results in clusters that might be dominated by a single feature dimension, reducing the interpretability and reliability of kNN. Observations with relatively minor numeric variations in features with large scales (like age or income) appear less similar than they actually might be in terms of practical similarity. Scaling is crucial for balanced, accurate, and meaningful results with kNN. Without scaling, features with greater numeric ranges excessively influence the algorithm, potentially distorting the actual similarity between observations.\n",
    "\n"
   ]
  },
  {
   "cell_type": "markdown",
   "metadata": {},
   "source": [
    "**How similar are the results using the Manhattan distance metric (regardless of the scaling)?** \n",
    "\n",
    "* The results using Manhattan distance metrics (both scaled and unscaled) are relatively consistent in terms of identifying the influential features. In both scaled and unscaled analyses, differences in age, family_members, and sometimes gender stand out clearly, highlighting their significance in distinguishing observations.\n",
    "\n",
    "* Unscaled Manhattan:\n",
    "    * Distances were simple and intuitive (e.g., differences of exactly 2 or 5).\n",
    "    * Clustering relied heavily on clear, discrete differences such as age increments or gender category differences.\n",
    "    * Gender was explicitly identified as crucial in differentiating between clusters, reflecting the categorical nature clearly in the unscaled scenario.\n",
    "* Scaled Manhattan:\n",
    "    * Distances were very small, but sensitive enough to pick up subtle changes, especially in income and to a lesser degree age.\n",
    "    * The clusters were highly cohesive and internally homogeneous due to scaling, reinforcing subtle but meaningful differentiations among observations.\n",
    "    * Income variations, even minimal, were precisely represented and influential in determining similarity or slight differences within clusters.\n",
    "* Conclusion:\n",
    "    * Manhattan distances, regardless of scaling, consistently provide clarity and interpretability. However, scaled data allows Manhattan distance to capture nuanced differences and subtle variations more effectively, leading to more cohesive and clearly interpretable clusters.\n",
    "\n"
   ]
  },
  {
   "cell_type": "markdown",
   "metadata": {},
   "source": [
    "# Task 2. Is Customer Likely to Receive Insurance Benefit?"
   ]
  },
  {
   "cell_type": "code",
   "execution_count": 83,
   "metadata": {
    "scrolled": true,
    "trusted": true
   },
   "outputs": [],
   "source": [
    "df['insurance_benefits_received'] = (df['insurance_benefits'] > 0).astype(int)"
   ]
  },
  {
   "cell_type": "markdown",
   "metadata": {},
   "source": [
    "<div class=\"alert alert-success\" style=\"border-radius: 15px; box-shadow: 4px 4px 4px; border: 1px solid; background-color: lightgreen; color: black;\">\n",
    "    <h2>Comments</h2> \n",
    "\n",
    "* Calculating the target\n",
    "    \n",
    "</div>"
   ]
  },
  {
   "cell_type": "code",
   "execution_count": 84,
   "metadata": {
    "scrolled": false,
    "trusted": true
   },
   "outputs": [
    {
     "data": {
      "text/plain": [
       "0    4284\n",
       "1     563\n",
       "Name: insurance_benefits_received, dtype: int64"
      ]
     },
     "execution_count": 84,
     "metadata": {},
     "output_type": "execute_result"
    }
   ],
   "source": [
    "df['insurance_benefits_received'].value_counts()"
   ]
  },
  {
   "cell_type": "markdown",
   "metadata": {},
   "source": [
    "<div class=\"alert alert-success\" style=\"border-radius: 15px; box-shadow: 4px 4px 4px; border: 1px solid; background-color: lightgreen; color: black;\">\n",
    "    <h2>Comments</h2> \n",
    "\n",
    "* Checking for class imbalance with value_counts()\n",
    "* Class 0 (No insurance benefits received): 4284 instances\n",
    "* Class 1 (Insurance benefits received): 563 instances\n",
    "* Class imbalance is clearly present here, as the number of individuals who did not receive insurance benefits (Class 0) greatly exceeds the number who did (Class 1). Thus the dataset is heavily skewerd toward Class 0\n",
    "* Because the data is imbalanced, predictive models might easily achieve seemingly high accuracy by simply predicting the majority class (no insurance benefits). Accuracy alone is not an appropriate measure in this scenario. Instead, metrics such as F1-score, Precision, Recall, or ROC-AUC would provide a more insightful assessment of model performance\n",
    "    \n",
    "</div>"
   ]
  },
  {
   "cell_type": "code",
   "execution_count": 85,
   "metadata": {
    "scrolled": true,
    "trusted": true
   },
   "outputs": [],
   "source": [
    "def eval_classifier(y_true, y_pred):\n",
    "    \n",
    "    f1_score = sklearn.metrics.f1_score(y_true, y_pred)\n",
    "    print(f'F1: {f1_score:.2f}')\n",
    "    \n",
    "    cm = sklearn.metrics.confusion_matrix(y_true, y_pred, normalize='all')\n",
    "    print('Confusion Matrix')\n",
    "    print(cm)"
   ]
  },
  {
   "cell_type": "code",
   "execution_count": 86,
   "metadata": {
    "scrolled": true,
    "trusted": true
   },
   "outputs": [],
   "source": [
    "def rnd_model_predict(P, size, seed=42):\n",
    "\n",
    "    rng = np.random.default_rng(seed=seed)\n",
    "    return rng.binomial(n=1, p=P, size=size)"
   ]
  },
  {
   "cell_type": "code",
   "execution_count": 87,
   "metadata": {
    "scrolled": false,
    "trusted": true
   },
   "outputs": [
    {
     "name": "stdout",
     "output_type": "stream",
     "text": [
      "The probability: 0.00\n",
      "F1: 0.00\n",
      "Confusion Matrix\n",
      "[[0.88384568 0.        ]\n",
      " [0.11615432 0.        ]]\n",
      "\n",
      "The probability: 0.12\n",
      "F1: 0.13\n",
      "Confusion Matrix\n",
      "[[0.78502166 0.09882401]\n",
      " [0.1017124  0.01444192]]\n",
      "\n",
      "The probability: 0.50\n",
      "F1: 0.19\n",
      "Confusion Matrix\n",
      "[[0.44873117 0.4351145 ]\n",
      " [0.05921188 0.05694244]]\n",
      "\n",
      "The probability: 1.00\n",
      "F1: 0.21\n",
      "Confusion Matrix\n",
      "[[0.         0.88384568]\n",
      " [0.         0.11615432]]\n",
      "\n"
     ]
    }
   ],
   "source": [
    "for P in [0, df['insurance_benefits_received'].sum() / len(df), 0.5, 1]:\n",
    "    print(f'The probability: {P:.2f}')\n",
    "    \n",
    "    y_pred_rnd = rnd_model_predict(P, size=len(df))\n",
    "    \n",
    "    eval_classifier(df['insurance_benefits_received'], y_pred_rnd)\n",
    "    \n",
    "    print()"
   ]
  },
  {
   "cell_type": "markdown",
   "metadata": {
    "scrolled": true
   },
   "source": [
    "<div class=\"alert alert-success\" style=\"border-radius: 15px; box-shadow: 4px 4px 4px; border: 1px solid; background-color: lightgreen; color: black;\">\n",
    "    <h2>Comments</h2> \n",
    "\n",
    "* Probability = 0.00 (Always prediciting no benefits)\n",
    "    * This classifier always predicts \"no insurance benefit.\"\n",
    "    * It correctly classifies all negative cases (88.38%) but completely misses positive cases (11.62%). Thus, precision and recall are both zero, yielding an F1-score of 0\n",
    "* Probability = 0.12 (Actual Proportion of Benefits in the Data)\n",
    "    * With random guessing at the actual proportion (12%), the model achieves a very low F1-score (0.13)\n",
    "    * Most predictions still fall into the majority class, but there's slight accuracy improvement (compared to 0.00) due to randomly guessing positives occasionally. However, it is still a very weak classifier\n",
    "* Probability = 0.50 (Random Guessing with Equal Probability)\n",
    "    * Equal random guessing improves the F1-score slightly (0.19), but predictions become highly unreliable\n",
    "    * Many negatives (44%) are incorrectly classified as positives. True positives are slightly higher compared to previous scenarios, but still weak overall\n",
    "* Probability = 1.00 (Always Predicting Benefits)\n",
    "    * This classifier always predicts \"insurance benefit received,\" completely missing the majority class (no benefits)\n",
    "    * It achieves the highest F1-score (0.21) among these dummy models due to correctly identifying all positives, but the extremely high false positive rate makes this a poor practical model\n",
    "* Overall Insights:\n",
    "    * The dummy models demonstrate very low F1-scores (0.00–0.21), indicating that randomly predicting does not provide meaningful performance\n",
    "    * The class imbalance (88% no benefits vs. 12% benefits) strongly affects performance. Always predicting the majority (no benefits) or minority (benefits) class doesn't yield a practical classifier\n",
    "    * The kNN-based classifier should ideally outperform these results substantially. A meaningful predictive model should have an F1-score clearly higher than ~0.21\n",
    "\n",
    "    \n",
    "</div>"
   ]
  },
  {
   "cell_type": "code",
   "execution_count": 88,
   "metadata": {
    "scrolled": true,
    "trusted": true
   },
   "outputs": [],
   "source": [
    "features = ['gender', 'age', 'income', 'family_members']\n",
    "target = 'insurance_benefits_received'\n",
    "\n",
    "X = df[features]\n",
    "y = df[target]"
   ]
  },
  {
   "cell_type": "markdown",
   "metadata": {},
   "source": [
    "<div class=\"alert alert-success\" style=\"border-radius: 15px; box-shadow: 4px 4px 4px; border: 1px solid; background-color: lightgreen; color: black;\">\n",
    "    <h2>Comments</h2> \n",
    "\n",
    "* Defining features and targets\n",
    "    \n",
    "</div>"
   ]
  },
  {
   "cell_type": "code",
   "execution_count": 89,
   "metadata": {
    "scrolled": true,
    "trusted": true
   },
   "outputs": [],
   "source": [
    "X_train, X_test, y_train, y_test = train_test_split(\n",
    "    X, y, \n",
    "    test_size=0.3, \n",
    "    random_state=42, \n",
    "    stratify=y\n",
    ")"
   ]
  },
  {
   "cell_type": "markdown",
   "metadata": {},
   "source": [
    "<div class=\"alert alert-success\" style=\"border-radius: 15px; box-shadow: 4px 4px 4px; border: 1px solid; background-color: lightgreen; color: black;\">\n",
    "    <h2>Comments</h2> \n",
    "\n",
    "* Splitting data into train and test sets (70:30 ratio)\n",
    "    \n",
    "</div>"
   ]
  },
  {
   "cell_type": "code",
   "execution_count": 90,
   "metadata": {
    "trusted": true
   },
   "outputs": [],
   "source": [
    "scaler = StandardScaler()\n",
    "\n",
    "X_train_scaled = scaler.fit_transform(X_train)\n",
    "X_test_scaled = scaler.transform(X_test)"
   ]
  },
  {
   "cell_type": "markdown",
   "metadata": {},
   "source": [
    "<div class=\"alert alert-success\" style=\"border-radius: 15px; box-shadow: 4px 4px 4px; border: 1px solid; background-color: lightgreen; color: black;\">\n",
    "    <h2>Comments</h2> \n",
    "\n",
    "* Scaling features\n",
    "    \n",
    "</div>"
   ]
  },
  {
   "cell_type": "code",
   "execution_count": 91,
   "metadata": {
    "trusted": true
   },
   "outputs": [
    {
     "name": "stdout",
     "output_type": "stream",
     "text": [
      "Evaluating kNN (Unscaled vs Scaled):\n",
      "\n",
      "k=1: F1-score Unscaled = 0.676 | F1-score Scaled = 0.943\n",
      "k=2: F1-score Unscaled = 0.398 | F1-score Scaled = 0.905\n",
      "k=3: F1-score Unscaled = 0.407 | F1-score Scaled = 0.925\n",
      "k=4: F1-score Unscaled = 0.206 | F1-score Scaled = 0.896\n",
      "k=5: F1-score Unscaled = 0.222 | F1-score Scaled = 0.913\n",
      "k=6: F1-score Unscaled = 0.023 | F1-score Scaled = 0.896\n",
      "k=7: F1-score Unscaled = 0.045 | F1-score Scaled = 0.921\n",
      "k=8: F1-score Unscaled = 0.035 | F1-score Scaled = 0.903\n",
      "k=9: F1-score Unscaled = 0.034 | F1-score Scaled = 0.917\n",
      "k=10: F1-score Unscaled = 0.023 | F1-score Scaled = 0.888\n"
     ]
    }
   ],
   "source": [
    "print(\"Evaluating kNN (Unscaled vs Scaled):\\n\")\n",
    "\n",
    "for k in range(1, 11):\n",
    "    # Unscaled data\n",
    "    knn_unscaled = KNeighborsClassifier(n_neighbors=k)\n",
    "    knn_unscaled.fit(X_train, y_train)\n",
    "    y_pred_unscaled = knn_unscaled.predict(X_test)\n",
    "    f1_unscaled = f1_score(y_test, y_pred_unscaled)\n",
    "    \n",
    "    # Scaled data\n",
    "    knn_scaled = KNeighborsClassifier(n_neighbors=k)\n",
    "    knn_scaled.fit(X_train_scaled, y_train)\n",
    "    y_pred_scaled = knn_scaled.predict(X_test_scaled)\n",
    "    f1_scaled = f1_score(y_test, y_pred_scaled)\n",
    "    \n",
    "    print(f\"k={k}: F1-score Unscaled = {f1_unscaled:.3f} | F1-score Scaled = {f1_scaled:.3f}\")"
   ]
  },
  {
   "cell_type": "markdown",
   "metadata": {},
   "source": [
    "<div class=\"alert alert-success\" style=\"border-radius: 15px; box-shadow: 4px 4px 4px; border: 1px solid; background-color: lightgreen; color: black;\">\n",
    "    <h2>Comments</h2> \n",
    "\n",
    "    \n",
    "* Evaluating kNN classifier for k =1 to 10 - scaled and unscaled    \n",
    "* Performance Analysis of kNN Classifier (Scaled vs. Unscaled Data)\n",
    "* Impact of scalling - Scaled data significantly outperforms unscaled data at every value of k. This emphasizes the importance of scaling features for distance-based algorithms like kNN\n",
    "* Optimal k Value:\n",
    "    * Scaled data - Highest performance occurs at k = 1 with an F1-score of 0.943. Very good performance maintained throughout (0.888 to 0.943), consistently higher than the unscaled data. A slight decline in performance observed as k increases, but still remains strong overall\n",
    "    * Unscaled data - Highest performance at k = 1 with an F1-score of 0.676, dropping sharply as k increases. Extremely poor performance for higher k (≥ 6), with scores close to zero, indicating inability to accurately detect the minority class\n",
    "* Comparison to Dummy Model\n",
    "    * The dummy models produced F1-score ranging from 0.00 to 0.21. Both unscaled (at lower k values) and scaled data clearly outperform the dummy baseline, though scaled data outperforms by a wide margin. This means that the scaled kNN classifier is effectively identifying patterns beyond random guessing, which is a strong indication of a useful predictive model\n",
    "* For unscaled data, performance deteriorates rapidly as k increases, likely because large numeric features dominate distance measures, making predictions unreliable at higher k\n",
    "* For scaled data, although the best performance occurs at k=1, it remains very stable across multiple values of k (2–10). This highlights robustness after scaling\n",
    "* Conclusions:\n",
    "    * Scaling the data significantly improves the kNN algorithm’s effectiveness\n",
    "    * kNN with scaled data substantially outperforms the dummy model benchmarks, demonstrating that it has captured meaningful patterns in predicting the receipt of insurance benefits\n",
    "    * k=1 is optimal according to these results, but additional validation is recommended\n",
    "\n",
    "\n",
    "\n",
    "\n",
    "    \n",
    "</div>"
   ]
  },
  {
   "cell_type": "markdown",
   "metadata": {},
   "source": [
    "# Task 3. Regression (with Linear Regression)"
   ]
  },
  {
   "cell_type": "code",
   "execution_count": 92,
   "metadata": {
    "scrolled": true,
    "trusted": true
   },
   "outputs": [],
   "source": [
    "class MyLinearRegression:\n",
    "    \n",
    "    def __init__(self):\n",
    "        self.weights = None\n",
    "    \n",
    "    def fit(self, X, y):\n",
    "        \n",
    "        X2 = np.append(np.ones((len(X), 1)), X, axis=1)\n",
    "        \n",
    "        \n",
    "        self.weights = np.linalg.inv(X2.T @ X2) @ X2.T @ y\n",
    "\n",
    "    def predict(self, X):\n",
    "        \n",
    "        X2 = np.append(np.ones((len(X), 1)), X, axis=1)\n",
    "        \n",
    "        \n",
    "        y_pred = X2 @ self.weights\n",
    "        \n",
    "        return y_pred"
   ]
  },
  {
   "cell_type": "code",
   "execution_count": 93,
   "metadata": {
    "scrolled": true,
    "trusted": true
   },
   "outputs": [],
   "source": [
    "def eval_regressor(y_true, y_pred):\n",
    "    \n",
    "    rmse = math.sqrt(sklearn.metrics.mean_squared_error(y_true, y_pred))\n",
    "    print(f'RMSE: {rmse:.2f}')\n",
    "    \n",
    "    r2_score = math.sqrt(sklearn.metrics.r2_score(y_true, y_pred))\n",
    "    print(f'R2: {r2_score:.2f}')    "
   ]
  },
  {
   "cell_type": "code",
   "execution_count": 94,
   "metadata": {
    "scrolled": true,
    "trusted": true
   },
   "outputs": [],
   "source": [
    "X = df[['age', 'gender', 'income', 'family_members']].to_numpy()\n",
    "y = df['insurance_benefits'].to_numpy()"
   ]
  },
  {
   "cell_type": "code",
   "execution_count": 95,
   "metadata": {
    "trusted": true
   },
   "outputs": [],
   "source": [
    "X_train, X_test, y_train, y_test = train_test_split(X, y, test_size=0.3, random_state=12345)"
   ]
  },
  {
   "cell_type": "markdown",
   "metadata": {},
   "source": [
    "<div class=\"alert alert-success\" style=\"border-radius: 15px; box-shadow: 4px 4px 4px; border: 1px solid; background-color: lightgreen; color: black;\">\n",
    "    <h2>Comments</h2> \n",
    "\n",
    "* Splitting original unscaled data\n",
    "    \n",
    "</div>"
   ]
  },
  {
   "cell_type": "code",
   "execution_count": 96,
   "metadata": {
    "trusted": true
   },
   "outputs": [
    {
     "name": "stdout",
     "output_type": "stream",
     "text": [
      "Weights (Unscaled): [-9.77366679e-01  3.58042290e-02  1.95594897e-02  5.85335011e-07\n",
      " -1.21618426e-02]\n",
      "Unscaled Data Evaluation:\n",
      "RMSE: 0.36\n",
      "R2: 0.66\n"
     ]
    }
   ],
   "source": [
    "lr = MyLinearRegression()\n",
    "lr.fit(X_train, y_train)\n",
    "print(\"Weights (Unscaled):\", lr.weights)\n",
    "\n",
    "y_test_pred = lr.predict(X_test)\n",
    "print(\"Unscaled Data Evaluation:\")\n",
    "eval_regressor(y_test, y_test_pred)"
   ]
  },
  {
   "cell_type": "markdown",
   "metadata": {},
   "source": [
    "<div class=\"alert alert-success\" style=\"border-radius: 15px; box-shadow: 4px 4px 4px; border: 1px solid; background-color: lightgreen; color: black;\">\n",
    "    <h2>Comments</h2> \n",
    "\n",
    "* Training and evaluating on unscaled data    \n",
    "* Intercept (-0.977): Baseline prediction when all features are zero (not very interpretable alone due to feature scaling/offsets)\n",
    "* Age (+0.0358): Slight positive relationship. Holding other features constant, older individuals are slightly more likely to receive insurance benefits\n",
    "* Gender (+0.0196): Small positive effect. Depending on how gender is encoded (0 = female, 1 = male), it suggests a slight difference in benefit likelihood\n",
    "* Income (+0.000000585): Extremely small effect, which suggests income (in raw unscaled units) contributes very little to predicting benefits. This is likely due to the scale of income being much larger than other variables\n",
    "* Family Members (-0.0122): Slight negative relationship — more family members may slightly reduce the predicted benefit, according to the model\n",
    "* RMSE = 0.36 - This is the root mean squared error — on average, the model's predictions deviate from the true insurance_benefits values by 0.36 units (on the same scale as the target variable)\n",
    "* R² = 0.66 (√ shown) → R² ≈ 0.66 - This means the model explains about 66% of the variance in the target (insurance_benefits). While not perfect, it shows a solid level of predictive power\n",
    "* Conclusion:\n",
    "    * The unscaled linear regression model provides moderate prediction quality with an RMSE of 0.36 and an R² of ~0.66\n",
    "    * The model captures some meaningful relationships, especially from age and gender, but income contributes almost nothing, likely due to scale issues (which scaling can address).\n",
    "\n",
    "\n",
    "\n",
    "    \n",
    "</div>"
   ]
  },
  {
   "cell_type": "code",
   "execution_count": 97,
   "metadata": {
    "trusted": true
   },
   "outputs": [],
   "source": [
    "scaler = StandardScaler()\n",
    "X_scaled = scaler.fit_transform(X)"
   ]
  },
  {
   "cell_type": "markdown",
   "metadata": {},
   "source": [
    "<div class=\"alert alert-success\" style=\"border-radius: 15px; box-shadow: 4px 4px 4px; border: 1px solid; background-color: lightgreen; color: black;\">\n",
    "    <h2>Comments</h2> \n",
    "\n",
    "* Scaling features\n",
    "    \n",
    "</div>"
   ]
  },
  {
   "cell_type": "code",
   "execution_count": 98,
   "metadata": {
    "trusted": true
   },
   "outputs": [],
   "source": [
    "X_train_scaled, X_test_scaled, y_train_scaled, y_test_scaled = train_test_split(\n",
    "    X_scaled, y, test_size=0.3, random_state=12345\n",
    ")"
   ]
  },
  {
   "cell_type": "markdown",
   "metadata": {},
   "source": [
    "<div class=\"alert alert-success\" style=\"border-radius: 15px; box-shadow: 4px 4px 4px; border: 1px solid; background-color: lightgreen; color: black;\">\n",
    "    <h2>Comments</h2> \n",
    "\n",
    "* Splitting scaled data using same target y\n",
    "    \n",
    "</div>"
   ]
  },
  {
   "cell_type": "code",
   "execution_count": 99,
   "metadata": {
    "trusted": true
   },
   "outputs": [
    {
     "name": "stdout",
     "output_type": "stream",
     "text": [
      "\n",
      "Weights (Scaled): [ 0.15188733  0.30387477  0.0097797   0.00583692 -0.0133604 ]\n",
      "Scaled Data Evaluation:\n",
      "RMSE: 0.36\n",
      "R2: 0.66\n"
     ]
    }
   ],
   "source": [
    "lr_scaled = MyLinearRegression()\n",
    "lr_scaled.fit(X_train_scaled, y_train_scaled)\n",
    "print(\"\\nWeights (Scaled):\", lr_scaled.weights)\n",
    "\n",
    "y_test_pred_scaled = lr_scaled.predict(X_test_scaled)\n",
    "print(\"Scaled Data Evaluation:\")\n",
    "eval_regressor(y_test_scaled, y_test_pred_scaled)"
   ]
  },
  {
   "cell_type": "markdown",
   "metadata": {},
   "source": [
    "<div class=\"alert alert-success\" style=\"border-radius: 15px; box-shadow: 4px 4px 4px; border: 1px solid; background-color: lightgreen; color: black;\">\n",
    "    <h2>Comments</h2> \n",
    "\n",
    "* Training and evaluating on scaled data    \n",
    "* Intercept (0.1519): The model's baseline output when all standardized features are 0 (i.e., average values)\n",
    "* Age (+0.3039): The most influential feature — a 1 standard deviation increase in age leads to a 0.30 unit increase in the predicted insurance benefit. This suggests age is a strong positive predictor\n",
    "* Gender (+0.0098): Very small positive effect. Minimal impact on prediction once scaled. Gender doesn't significantly differentiate benefit levels\n",
    "* Income (+0.0058): Now has a clearer (though still modest) positive effect after scaling. This shows that scaling helped the model detect income’s influence better, compared to the nearly zero effect before\n",
    "* Family Members (-0.0134): Slight negative contribution. As family size increases (in standardized units), the predicted benefit slightly decreases\n",
    "* RMSE = 0.36 Identical to the unscaled model — the prediction error hasn’t changed. This is expected because linear regression is scale-invariant for predictions\n",
    "* R² ≈ 0.66 - The model explains about 66% of the variance in the insurance benefits variable — which is a very solid result, especially for a simple linear model\n",
    "* Conclusion:\n",
    "    * Scaling did not change model accuracy, but it improved interpretability by putting all features on a common scale\n",
    "    * Age is confirmed as the strongest positive predictor of insurance benefits\n",
    "    * Income, previously drowned out due to scale issues, now shows a measurable positive influence\n",
    "    * This confirms why scaling is important for interpreting model coefficients — even if predictions stay the same\n",
    "    \n",
    "</div>"
   ]
  },
  {
   "cell_type": "code",
   "execution_count": 100,
   "metadata": {
    "scrolled": false,
    "trusted": true
   },
   "outputs": [
    {
     "data": {
      "image/png": "[encoded data removed]",
      "text/plain": [
       "<Figure size 1200x500 with 2 Axes>"
      ]
     },
     "metadata": {},
     "output_type": "display_data"
    }
   ],
   "source": [
    "plt.figure(figsize=(12, 5))\n",
    "\n",
    "# Unscaled\n",
    "plt.subplot(1, 2, 1)\n",
    "plt.scatter(y_test, y_test_pred, alpha=0.6)\n",
    "plt.plot([y_test.min(), y_test.max()],\n",
    "         [y_test.min(), y_test.max()],\n",
    "         '--', color='red')\n",
    "plt.xlabel('Actual')\n",
    "plt.ylabel('Predicted')\n",
    "plt.title('Unscaled: Predicted vs Actual')\n",
    "plt.grid(True)\n",
    "\n",
    "# Scaled\n",
    "plt.subplot(1, 2, 2)\n",
    "plt.scatter(y_test_scaled, y_test_pred_scaled, alpha=0.6)\n",
    "plt.plot([y_test_scaled.min(), y_test_scaled.max()],\n",
    "         [y_test_scaled.min(), y_test_scaled.max()],\n",
    "         '--', color='red')\n",
    "plt.xlabel('Actual')\n",
    "plt.ylabel('Predicted')\n",
    "plt.title('Scaled: Predicted vs Actual')\n",
    "plt.grid(True)\n",
    "\n",
    "plt.tight_layout()\n",
    "plt.show()"
   ]
  },
  {
   "cell_type": "markdown",
   "metadata": {},
   "source": [
    "<div class=\"alert alert-success\" style=\"border-radius: 15px; box-shadow: 4px 4px 4px; border: 1px solid; background-color: lightgreen; color: black;\">\n",
    "    <h2>Comments</h2> \n",
    "\n",
    "* Predicted vs Actual plots for both unscaled and scaled linear regression models\n",
    "* Left Plot: Predictions from your unscaled linear regression model\n",
    "* Right Plot: Predictions from your scaled linear regression model\n",
    "* Red dashed line: The ideal line where predictions = actual values (perfect model)\n",
    "* Blue dots: Actual vs predicted insurance benefits for each sample\n",
    "* Overall Shape & Trends (Both Models): Both models follow the same general trend — predictions increase with actual values. The dots are clustered along the red line, showing that the model does reasonably well at approximating the relationship\n",
    "* Underprediction for Higher Values (Systematic Bias): For actual values of 3 and 4, the predicted values remain consistently below the ideal line. This suggests that the model tends to underestimate higher benefit amounts. This could be due to a lack of high-value training data, or linear regression struggling with a nonlinear pattern\n",
    "* Scaling Impact: The predictions for the scaled model (right plot) are nearly identical to the unscaled version. This matches the earlier results: RMSE and R² were the same for both models. This makes sense, as scaling affects coefficient interpretability more than prediction performance in ordinary least squares regression. However, the scaled model is typically more numerically stable and interpretable.\n",
    "* Spread and Clustering Around Actual 0 and 1: Most of the data seems to be clustered around 0 and 1, especially around 0. This aligns with earlier analysis showing class imbalance (most clients received no or low benefits). There's a tight vertical spread around these values, indicating the model predicts close to the mean for those observations\n",
    "* Conclusion\n",
    "    * Both models show good performance in lower to mid benefit ranges\n",
    "    * Higher benefit levels are underpredicted, likely due to data imbalance or model simplicity\n",
    "    * Scaling didn’t change prediction accuracy (as expected), but is still important for coefficient clarity and stability\n",
    "\n",
    "    \n",
    "</div>"
   ]
  },
  {
   "cell_type": "code",
   "execution_count": 101,
   "metadata": {
    "scrolled": false,
    "trusted": true
   },
   "outputs": [
    {
     "data": {
      "image/png": "[encoded data removed]",
      "text/plain": [
       "<Figure size 1200x500 with 2 Axes>"
      ]
     },
     "metadata": {},
     "output_type": "display_data"
    }
   ],
   "source": [
    "residuals_unscaled = y_test - y_test_pred\n",
    "residuals_scaled = y_test_scaled - y_test_pred_scaled\n",
    "\n",
    "plt.figure(figsize=(12, 5))\n",
    "\n",
    "# Unscaled\n",
    "plt.subplot(1, 2, 1)\n",
    "plt.scatter(y_test_pred, residuals_unscaled, alpha=0.6)\n",
    "plt.axhline(0, color='red', linestyle='--')\n",
    "plt.xlabel('Predicted')\n",
    "plt.ylabel('Residuals')\n",
    "plt.title('Unscaled: Residual Plot')\n",
    "plt.grid(True)\n",
    "\n",
    "# Scaled\n",
    "plt.subplot(1, 2, 2)\n",
    "plt.scatter(y_test_pred_scaled, residuals_scaled, alpha=0.6)\n",
    "plt.axhline(0, color='red', linestyle='--')\n",
    "plt.xlabel('Predicted')\n",
    "plt.ylabel('Residuals')\n",
    "plt.title('Scaled: Residual Plot')\n",
    "plt.grid(True)\n",
    "\n",
    "plt.tight_layout()\n",
    "plt.show()"
   ]
  },
  {
   "cell_type": "markdown",
   "metadata": {},
   "source": [
    "<div class=\"alert alert-success\" style=\"border-radius: 15px; box-shadow: 4px 4px 4px; border: 1px solid; background-color: lightgreen; color: black;\">\n",
    "    <h2>Comments</h2> \n",
    "\n",
    "* Residual plot providing deep insight into linear regression model's errors unscaled vs scaled\n",
    "* Left Plot: Residuals from the unscaled linear regression.\n",
    "* Right Plot: Residuals from the scaled regression.\n",
    "* Residuals = Actual - Predicted\n",
    "* Red dashed line at 0: Perfect prediction (residual = 0)\n",
    "* Both plots look nearly identical. This makes sense because RMSE and R² were the same for both models. Scaling didn’t change the predictions — just the way coefficients are calculated and interpreted.\n",
    "* Systematic Underprediction for Larger Values - Residuals grow larger and more positive as predictions increase. You can see clear vertical clusters around predicted values of ~0.6 to ~1.2 with residuals ranging up to ~2.5+. This means The model is underpredicting high actual values (because residual = actual - predicted → large positive = actual much higher). The further the actual benefit value is from the mean, the worse the model performs — especially for clients with higher insurance benefits\n",
    "* A healthy residual plot should have random scatter around zero. Here, there's a clear downward diagonal strip, suggesting the model overpredicts low actual values (residuals slightly negative) and underpredicts high actual values (residuals strongly positive). This often indicates that a linear model isn't capturing a nonlinear relationship in the data\n",
    "* There's no wild scatter or spread growing dramatically with higher predictions. This is good because it means the variance of your errors is fairly stable\n",
    "* Summary:\n",
    "    * Residuals not random - Model is biased — struggles with higher values\n",
    "    * Residuals grow with prediction - Underpredicts large insurance benefits\n",
    "    * Identical unscaled vs scaled - Confirms scaling affects coefficients, not prediction\n",
    "    * No weird outliers or variance\t- Good sign of model consistency\n",
    "\n",
    "    \n",
    "</div>"
   ]
  },
  {
   "cell_type": "markdown",
   "metadata": {},
   "source": [
    "# Task 4. Obfuscating Data"
   ]
  },
  {
   "cell_type": "code",
   "execution_count": 102,
   "metadata": {
    "scrolled": true,
    "trusted": true
   },
   "outputs": [],
   "source": [
    "personal_info_column_list = ['gender', 'age', 'income', 'family_members']\n",
    "df_pn = df[personal_info_column_list]"
   ]
  },
  {
   "cell_type": "code",
   "execution_count": 103,
   "metadata": {
    "scrolled": true,
    "trusted": true
   },
   "outputs": [],
   "source": [
    "X = df_pn.to_numpy()"
   ]
  },
  {
   "cell_type": "code",
   "execution_count": 104,
   "metadata": {
    "scrolled": true,
    "trusted": true
   },
   "outputs": [],
   "source": [
    "rng = np.random.default_rng(seed=42)\n",
    "P = rng.random(size=(X.shape[1], X.shape[1]))"
   ]
  },
  {
   "cell_type": "markdown",
   "metadata": {},
   "source": [
    "<div class=\"alert alert-success\" style=\"border-radius: 15px; box-shadow: 4px 4px 4px; border: 1px solid; background-color: lightgreen; color: black;\">\n",
    "    <h2>Comments</h2> \n",
    "\n",
    "* Generating a random invertible matrix\n",
    "\n",
    "    \n",
    "</div>"
   ]
  },
  {
   "cell_type": "code",
   "execution_count": 105,
   "metadata": {
    "scrolled": true,
    "trusted": true
   },
   "outputs": [
    {
     "name": "stdout",
     "output_type": "stream",
     "text": [
      "Matrix P is invertible. Determinant = 0.2434\n"
     ]
    }
   ],
   "source": [
    "det_P = np.linalg.det(P)\n",
    "if det_P == 0:\n",
    "    print(\"Matrix P is NOT invertible! Regenerate.\")\n",
    "else:\n",
    "    print(f\"Matrix P is invertible. Determinant = {det_P:.4f}\")"
   ]
  },
  {
   "cell_type": "markdown",
   "metadata": {},
   "source": [
    "<div class=\"alert alert-success\" style=\"border-radius: 15px; box-shadow: 4px 4px 4px; border: 1px solid; background-color: lightgreen; color: black;\">\n",
    "    <h2>Comments</h2> \n",
    "\n",
    "* Checking invertibility\n",
    "* The determinant of matrix P is not zero which confirms that it is invertible. This is a required condition for obfuscation to be reversible since we will later use formula $X=X \n",
    "′\n",
    " ⋅P \n",
    "−1$\n",
    "* The value 0.2434 is neither too close to 0 nor too large which is good\n",
    "    * If it were very close to 0 the matrix would be nearly singular and inverting it could lead to numerical instability\n",
    "    * If it were very large or very small inversion might still work but rounding errors could increase\n",
    "\n",
    "    \n",
    "</div>"
   ]
  },
  {
   "cell_type": "code",
   "execution_count": 106,
   "metadata": {
    "trusted": true
   },
   "outputs": [],
   "source": [
    "X_obfuscated = X @ P"
   ]
  },
  {
   "cell_type": "markdown",
   "metadata": {},
   "source": [
    "<div class=\"alert alert-success\" style=\"border-radius: 15px; box-shadow: 4px 4px 4px; border: 1px solid; background-color: lightgreen; color: black;\">\n",
    "    <h2>Comments</h2> \n",
    "\n",
    "* Transforming X\n",
    "\n",
    "    \n",
    "</div>"
   ]
  },
  {
   "cell_type": "code",
   "execution_count": 107,
   "metadata": {
    "trusted": true
   },
   "outputs": [],
   "source": [
    "df_obfuscated = pd.DataFrame(X_obfuscated, columns=[f'obf_{i}' for i in range(X.shape[1])])"
   ]
  },
  {
   "cell_type": "markdown",
   "metadata": {},
   "source": [
    "<div class=\"alert alert-success\" style=\"border-radius: 15px; box-shadow: 4px 4px 4px; border: 1px solid; background-color: lightgreen; color: black;\">\n",
    "    <h2>Comments</h2> \n",
    "\n",
    "* Creating obfuscated Dataframe\n",
    "\n",
    "    \n",
    "</div>"
   ]
  },
  {
   "cell_type": "code",
   "execution_count": 108,
   "metadata": {
    "trusted": true
   },
   "outputs": [
    {
     "name": "stdout",
     "output_type": "stream",
     "text": [
      "\n",
      "Original features:\n",
      "    gender  age  income  family_members\n",
      "0       1   41   49600               1\n",
      "1       0   46   38000               1\n",
      "2       0   29   21000               0\n",
      "3       0   21   41700               2\n",
      "4       1   28   26100               0\n",
      "\n",
      "Obfuscated features:\n",
      "          obf_0         obf_1         obf_2         obf_3\n",
      "0  6359.715273  22380.404676  18424.090742  46000.696690\n",
      "1  4873.294065  17160.367030  14125.780761  35253.455773\n",
      "2  2693.117429   9486.397744   7808.831560  19484.860631\n",
      "3  5345.603937  18803.227203  15479.148373  38663.061863\n",
      "4  3347.176735  11782.829283   9699.998942  24211.273378\n"
     ]
    }
   ],
   "source": [
    "print(\"\\nOriginal features:\\n\", df_pn.head())\n",
    "print(\"\\nObfuscated features:\\n\", df_obfuscated.head())"
   ]
  },
  {
   "cell_type": "markdown",
   "metadata": {},
   "source": [
    "<div class=\"alert alert-success\" style=\"border-radius: 15px; box-shadow: 4px 4px 4px; border: 1px solid; background-color: lightgreen; color: black;\">\n",
    "    <h2>Comments</h2> \n",
    "\n",
    "* Comparing before/after\n",
    "* Data trasnformed - All original values are replaced by abstract numerical values\n",
    "* Privacy achieved - No direct or obvious link to age/income/etc\n",
    "* Interpretability lost - The obfuscated data has no human readable meaning\n",
    "* Reversible\n",
    "* Transformation is effective and secure\n",
    "\n",
    "    \n",
    "</div>"
   ]
  },
  {
   "cell_type": "markdown",
   "metadata": {},
   "source": [
    "Can you guess the customers' ages or income after the transformation?\n",
    "\n",
    "* No — after the transformation, you cannot guess specific values like age or income anymore, because:\n",
    "    * The original features are linearly combined into obfuscated values.\n",
    "    * Each new feature (obf_0, obf_1, etc.) is a mix of all original features.\n",
    "    * There's no intuitive or human-readable connection between the transformed columns and original concepts (like \"this value looks like age\").\n",
    "* After the transformation using an invertible matrix, the numerical features (like age and income) are linearly combined into new obfuscated features. These new features do not correspond directly to any original variable. As a result, it's not possible to guess the customers’ actual ages or incomes just by looking at the transformed data. This confirms that the obfuscation step has effectively protected sensitive information."
   ]
  },
  {
   "cell_type": "code",
   "execution_count": 109,
   "metadata": {
    "scrolled": true,
    "trusted": true
   },
   "outputs": [],
   "source": [
    "P_inv = np.linalg.inv(P)"
   ]
  },
  {
   "cell_type": "markdown",
   "metadata": {},
   "source": [
    "<div class=\"alert alert-success\" style=\"border-radius: 15px; box-shadow: 4px 4px 4px; border: 1px solid; background-color: lightgreen; color: black;\">\n",
    "    <h2>Comments</h2> \n",
    "\n",
    "* Inverting the matrix\n",
    "\n",
    "    \n",
    "</div>"
   ]
  },
  {
   "cell_type": "code",
   "execution_count": 110,
   "metadata": {
    "trusted": true
   },
   "outputs": [],
   "source": [
    "X_recovered = X_obfuscated @ P_inv"
   ]
  },
  {
   "cell_type": "markdown",
   "metadata": {},
   "source": [
    "<div class=\"alert alert-success\" style=\"border-radius: 15px; box-shadow: 4px 4px 4px; border: 1px solid; background-color: lightgreen; color: black;\">\n",
    "    <h2>Comments</h2> \n",
    "\n",
    "* Recovering original X from X'\n",
    "\n",
    "    \n",
    "</div>"
   ]
  },
  {
   "cell_type": "code",
   "execution_count": 111,
   "metadata": {
    "trusted": true
   },
   "outputs": [
    {
     "name": "stdout",
     "output_type": "stream",
     "text": [
      "Max recovery error: 2.1827872842550278e-11\n",
      "Recovered data matches original?: True\n"
     ]
    }
   ],
   "source": [
    "print(\"Max recovery error:\", np.max(np.abs(X - X_recovered)))\n",
    "print(\"Recovered data matches original?:\", np.allclose(X, X_recovered))"
   ]
  },
  {
   "cell_type": "markdown",
   "metadata": {},
   "source": [
    "<div class=\"alert alert-success\" style=\"border-radius: 15px; box-shadow: 4px 4px 4px; border: 1px solid; background-color: lightgreen; color: black;\">\n",
    "    <h2>Comments</h2> \n",
    "\n",
    "* Checking the difference\n",
    "* Max recovery error is extremely small\n",
    "* Recovery is mathematically accurate. The message recovered data matches original = True confirms that all recovered values are numerically close enough to the original (within a tiny tolerance) confirming the obfuscation and de-obfuscation process is functionally lossless\n",
    "* Floating point precision is the only rerason for small error. They do no indicate a mistake or data corruption. They are completely expected in numerical computing\n",
    "* Conclusion\n",
    "    * The original data was successfully recovered using the inverse of the obfuscation matrix\n",
    "    * THe obfuscation process is reversible proving its correctness and security\n",
    "    * Any small differences are due only to harmless floating point rounding errors\n",
    "\n",
    "    \n",
    "</div>"
   ]
  },
  {
   "cell_type": "code",
   "execution_count": 112,
   "metadata": {
    "scrolled": true,
    "trusted": true
   },
   "outputs": [],
   "source": [
    "df_original = pd.DataFrame(X, columns=personal_info_column_list)\n",
    "df_transformed = pd.DataFrame(X_obfuscated, columns=[f'obf_{i}' for i in range(X.shape[1])])\n",
    "df_recovered = pd.DataFrame(X_recovered, columns=personal_info_column_list)"
   ]
  },
  {
   "cell_type": "markdown",
   "metadata": {},
   "source": [
    "<div class=\"alert alert-success\" style=\"border-radius: 15px; box-shadow: 4px 4px 4px; border: 1px solid; background-color: lightgreen; color: black;\">\n",
    "    <h2>Comments</h2> \n",
    "\n",
    "* Converting to Dataframes for easier viewing\n",
    "\n",
    "    \n",
    "</div>"
   ]
  },
  {
   "cell_type": "code",
   "execution_count": 113,
   "metadata": {
    "trusted": true
   },
   "outputs": [],
   "source": [
    "comparison = pd.concat([\n",
    "    df_original.head(5).reset_index(drop=True),\n",
    "    df_transformed.head(5).reset_index(drop=True),\n",
    "    df_recovered.head(5).reset_index(drop=True)\n",
    "], axis=1)"
   ]
  },
  {
   "cell_type": "markdown",
   "metadata": {},
   "source": [
    "<div class=\"alert alert-success\" style=\"border-radius: 15px; box-shadow: 4px 4px 4px; border: 1px solid; background-color: lightgreen; color: black;\">\n",
    "    <h2>Comments</h2> \n",
    "\n",
    "* Concatenating for comparison\n",
    "\n",
    "    \n",
    "</div>"
   ]
  },
  {
   "cell_type": "code",
   "execution_count": 114,
   "metadata": {
    "trusted": true
   },
   "outputs": [],
   "source": [
    "comparison.columns = (\n",
    "    [f'Original_{col}' for col in df_original.columns] +\n",
    "    [f'Transformed_{col}' for col in df_transformed.columns] +\n",
    "    [f'Recovered_{col}' for col in df_recovered.columns]\n",
    ")"
   ]
  },
  {
   "cell_type": "markdown",
   "metadata": {},
   "source": [
    "<div class=\"alert alert-success\" style=\"border-radius: 15px; box-shadow: 4px 4px 4px; border: 1px solid; background-color: lightgreen; color: black;\">\n",
    "    <h2>Comments</h2> \n",
    "\n",
    "* Renaming columns to make scetions clear\n",
    "\n",
    "    \n",
    "</div>"
   ]
  },
  {
   "cell_type": "code",
   "execution_count": 115,
   "metadata": {
    "scrolled": true,
    "trusted": true
   },
   "outputs": [
    {
     "name": "stdout",
     "output_type": "stream",
     "text": [
      "   Original_gender  Original_age  Original_income  Original_family_members  \\\n",
      "0                1            41            49600                        1   \n",
      "1                0            46            38000                        1   \n",
      "2                0            29            21000                        0   \n",
      "3                0            21            41700                        2   \n",
      "4                1            28            26100                        0   \n",
      "\n",
      "   Transformed_obf_0  Transformed_obf_1  Transformed_obf_2  Transformed_obf_3  \\\n",
      "0           6359.715          22380.405          18424.091          46000.697   \n",
      "1           4873.294          17160.367          14125.781          35253.456   \n",
      "2           2693.117           9486.398           7808.832          19484.861   \n",
      "3           5345.604          18803.227          15479.148          38663.062   \n",
      "4           3347.177          11782.829           9699.999          24211.273   \n",
      "\n",
      "   Recovered_gender  Recovered_age  Recovered_income  Recovered_family_members  \n",
      "0               1.0           41.0           49600.0                       1.0  \n",
      "1              -0.0           46.0           38000.0                       1.0  \n",
      "2              -0.0           29.0           21000.0                       0.0  \n",
      "3              -0.0           21.0           41700.0                       2.0  \n",
      "4               1.0           28.0           26100.0                      -0.0  \n"
     ]
    }
   ],
   "source": [
    "print(comparison.round(3))"
   ]
  },
  {
   "cell_type": "markdown",
   "metadata": {},
   "source": [
    "<div class=\"alert alert-success\" style=\"border-radius: 15px; box-shadow: 4px 4px 4px; border: 1px solid; background-color: lightgreen; color: black;\">\n",
    "    <h2>Comments</h2> \n",
    "\n",
    "* Original vs Transformed (Obfuscated)\n",
    "    * Obfuscation was successful - There is no direct or human readable connection between original and obfuscated data\n",
    "* Recovered vs Original\n",
    "    * The recovered values match exactly. Recovered as 1.0, -0.0 instead of 1, 0 but still functionally identical. The negative sign is a result of low level numerical operations not a sign of an error\n",
    "* Accuracy of Recovery:\n",
    "    * All values are correctly restored with only tiny floating point noise (-0.0 instead of 0.0)\n",
    "    * The trasnformation and reversal using matrix multipcation are lossless\n",
    "* Conclusion:\n",
    "    * Obfuscation made data unreadable - Confirms privacy protection is effective\n",
    "    * Recovered data matches original - Confirms the transformation is reversible\n",
    "    * Differences like -0.0 are harmless - Standard in floating point math no issues\n",
    "\n",
    "* The small differences between the original and recovered data are caused by floating-point precision errors. When performing matrix operations like multiplication and inversion (especially with non-integer values), computers use approximations, which can introduce tiny rounding errors. These differences are typically very small (on the order of 1e-10 or less) and do not affect the correctness of the recovery.\n",
    "\n",
    "    \n",
    "</div>"
   ]
  },
  {
   "cell_type": "markdown",
   "metadata": {},
   "source": [
    "## Proof That Data Obfuscation Can Work with LR"
   ]
  },
  {
   "cell_type": "markdown",
   "metadata": {},
   "source": [
    "When the feature matrix \n",
    "𝑋 is obfuscated by multiplying it with an invertible matrix 𝑃, the weight vector changes to:\n",
    "$$w\n",
    "p\n",
    "​\n",
    " =P \n",
    "^{−1}\n",
    " w$$\n",
    "However, the predicted values remain the same:\n",
    "\n",
    "$$\n",
    "\\hat{y}P\n",
    "​\n",
    " =X \n",
    "′\n",
    " w \n",
    "p\n",
    "​\n",
    " =XPP \n",
    "^{−1}\n",
    " w=Xw= \n",
    "\\hat{y}$$\n",
    " \n",
    "This means that linear regression predictions are invariant to invertible linear transformations of the feature matrix. As a result, the RMSE and overall model performance will be identical, even when the data has been obfuscated. This proves that the obfuscation technique does not degrade model quality while preserving privacy."
   ]
  },
  {
   "cell_type": "markdown",
   "metadata": {},
   "source": [
    "### Analytical Proof: Obfuscation Does Not Affect Linear Regression Predictions\n",
    "\n",
    "We are given:\n",
    "\n",
    "- $X$: the original feature matrix  \n",
    "- $y$: the target vector  \n",
    "- $P$: an invertible matrix used to obfuscate data  \n",
    "- $X' = X P$: the obfuscated feature matrix\n",
    "\n",
    "---\n",
    "\n",
    "#### Original Linear Regression\n",
    "\n",
    "The optimal weight vector in standard linear regression is:\n",
    "\n",
    "$$\n",
    "w = (X^\\top X)^{-1} X^\\top y\n",
    "$$\n",
    "\n",
    "Predicted values are:\n",
    "\n",
    "$$\n",
    "\\hat{y} = X w\n",
    "$$\n",
    "\n",
    "---\n",
    "\n",
    "#### Obfuscated Linear Regression\n",
    "\n",
    "Using the obfuscated feature matrix $X' = X P$, the weight vector becomes:\n",
    "\n",
    "$$\n",
    "w_P = \\left[(X P)^\\top (X P)\\right]^{-1} (X P)^\\top y\n",
    "$$\n",
    "\n",
    "---\n",
    "\n",
    "#### Simplify Using Matrix Properties\n",
    "\n",
    "Use the property $(AB)^\\top = B^\\top A^\\top$:\n",
    "\n",
    "$$\n",
    "w_P = \\left(P^\\top X^\\top X P\\right)^{-1} P^\\top X^\\top y\n",
    "$$\n",
    "\n",
    "Apply the identity $(ABC)^{-1} = C^{-1} B^{-1} A^{-1}$:\n",
    "\n",
    "$$\n",
    "(P^\\top X^\\top X P)^{-1} = P^{-1} (X^\\top X)^{-1} (P^\\top)^{-1}\n",
    "$$\n",
    "\n",
    "Substitute:\n",
    "\n",
    "$$\n",
    "w_P = P^{-1} (X^\\top X)^{-1} (P^\\top)^{-1} P^\\top X^\\top y\n",
    "$$\n",
    "\n",
    "Since $(P^\\top)^{-1} P^\\top = I$:\n",
    "\n",
    "$$\n",
    "w_P = P^{-1} (X^\\top X)^{-1} X^\\top y\n",
    "$$\n",
    "\n",
    "---\n",
    "\n",
    "#### Obfuscated Predictions\n",
    "\n",
    "Predicted values using obfuscated features and $w_P$:\n",
    "\n",
    "$$\n",
    "\\hat{y}_P = X' w_P = (X P) \\cdot \\left(P^{-1} (X^\\top X)^{-1} X^\\top y\\right)\n",
    "$$\n",
    "\n",
    "Simplify using $P P^{-1} = I$:\n",
    "\n",
    "$$\n",
    "\\hat{y}_P = X (X^\\top X)^{-1} X^\\top y = \\hat{y}\n",
    "$$\n",
    "\n",
    "---\n",
    "\n",
    "#### Conclusion\n",
    "\n",
    "$$\n",
    "\\boxed{\\hat{y}_P = \\hat{y}}\n",
    "$$\n",
    "\n",
    "The predicted values remain **exactly the same** after obfuscation.  \n",
    "So, the regression model’s performance (e.g., RMSE) is unaffected.  \n",
    "**Obfuscating features with an invertible matrix $P$ does not affect prediction accuracy.**"
   ]
  },
  {
   "cell_type": "markdown",
   "metadata": {},
   "source": [
    "## Test Linear Regression With Data Obfuscation"
   ]
  },
  {
   "cell_type": "code",
   "execution_count": 116,
   "metadata": {
    "scrolled": true,
    "trusted": true
   },
   "outputs": [],
   "source": [
    "X = df[['age', 'gender', 'income', 'family_members']].to_numpy()\n",
    "y = df['insurance_benefits'].to_numpy()"
   ]
  },
  {
   "cell_type": "markdown",
   "metadata": {},
   "source": [
    "<div class=\"alert alert-success\" style=\"border-radius: 15px; box-shadow: 4px 4px 4px; border: 1px solid; background-color: lightgreen; color: black;\">\n",
    "    <h2>Comments</h2> \n",
    "\n",
    "* Preparing the original feature matrix and target\n",
    "    \n",
    "</div>"
   ]
  },
  {
   "cell_type": "code",
   "execution_count": 117,
   "metadata": {
    "scrolled": true,
    "trusted": true
   },
   "outputs": [],
   "source": [
    "X_train, X_test, y_train, y_test = train_test_split(X, y, test_size=0.3, random_state=42)"
   ]
  },
  {
   "cell_type": "markdown",
   "metadata": {},
   "source": [
    "<div class=\"alert alert-success\" style=\"border-radius: 15px; box-shadow: 4px 4px 4px; border: 1px solid; background-color: lightgreen; color: black;\">\n",
    "    <h2>Comments</h2> \n",
    "\n",
    "* Splitting the data\n",
    "    \n",
    "</div>"
   ]
  },
  {
   "cell_type": "code",
   "execution_count": 118,
   "metadata": {
    "scrolled": true,
    "trusted": true
   },
   "outputs": [
    {
     "name": "stdout",
     "output_type": "stream",
     "text": [
      "Determinant of P (must not be 0): 0.2434\n"
     ]
    }
   ],
   "source": [
    "rng = np.random.default_rng(seed=42)\n",
    "d = X.shape[1]\n",
    "\n",
    "while True:\n",
    "    P = rng.random((d, d))\n",
    "    if np.linalg.det(P) != 0:\n",
    "        break\n",
    "\n",
    "print(\"Determinant of P (must not be 0):\", round(np.linalg.det(P), 4))"
   ]
  },
  {
   "cell_type": "markdown",
   "metadata": {},
   "source": [
    "<div class=\"alert alert-success\" style=\"border-radius: 15px; box-shadow: 4px 4px 4px; border: 1px solid; background-color: lightgreen; color: black;\">\n",
    "    <h2>Comments</h2> \n",
    "\n",
    "* Generating an invertible random matrix P    \n",
    "* The determinant of matrix P is 0.2434 which is not zero confimring that matrix P is invertible\n",
    "* The determinant is not too small which means the matrix is numerically stable when inverted. If the determinant were close to zero, it would suggest that 𝑃 is almost singular, and inversion could lead to large numerical errors - 0.2434 is safely away from zero, so the matrix is well-conditioned for inversion\n",
    "\n",
    "    \n",
    "</div>"
   ]
  },
  {
   "cell_type": "code",
   "execution_count": 119,
   "metadata": {
    "trusted": true
   },
   "outputs": [],
   "source": [
    "X_train_obf = X_train @ P\n",
    "X_test_obf = X_test @ P"
   ]
  },
  {
   "cell_type": "markdown",
   "metadata": {},
   "source": [
    "<div class=\"alert alert-success\" style=\"border-radius: 15px; box-shadow: 4px 4px 4px; border: 1px solid; background-color: lightgreen; color: black;\">\n",
    "    <h2>Comments</h2> \n",
    "\n",
    "* Obfuscating the feature matrices\n",
    "\n",
    "    \n",
    "</div>"
   ]
  },
  {
   "cell_type": "code",
   "execution_count": 120,
   "metadata": {
    "trusted": true
   },
   "outputs": [],
   "source": [
    "model_original = LinearRegression()\n",
    "model_original.fit(X_train, y_train)\n",
    "y_pred_orig = model_original.predict(X_test)\n",
    "\n",
    "rmse_orig = mean_squared_error(y_test, y_pred_orig, squared=False)\n",
    "r2_orig = r2_score(y_test, y_pred_orig)"
   ]
  },
  {
   "cell_type": "markdown",
   "metadata": {},
   "source": [
    "<div class=\"alert alert-success\" style=\"border-radius: 15px; box-shadow: 4px 4px 4px; border: 1px solid; background-color: lightgreen; color: black;\">\n",
    "    <h2>Comments</h2> \n",
    "\n",
    "* Training and evaluating the model on original data\n",
    "\n",
    "    \n",
    "</div>"
   ]
  },
  {
   "cell_type": "code",
   "execution_count": 121,
   "metadata": {
    "trusted": true
   },
   "outputs": [],
   "source": [
    "model_obf = LinearRegression()\n",
    "model_obf.fit(X_train_obf, y_train)\n",
    "y_pred_obf = model_obf.predict(X_test_obf)\n",
    "\n",
    "rmse_obf = mean_squared_error(y_test, y_pred_obf, squared=False)\n",
    "r2_obf = r2_score(y_test, y_pred_obf)"
   ]
  },
  {
   "cell_type": "markdown",
   "metadata": {},
   "source": [
    "<div class=\"alert alert-success\" style=\"border-radius: 15px; box-shadow: 4px 4px 4px; border: 1px solid; background-color: lightgreen; color: black;\">\n",
    "    <h2>Comments</h2> \n",
    "\n",
    "* Training and evaluating model on obfuscated data\n",
    "\n",
    "    \n",
    "</div>"
   ]
  },
  {
   "cell_type": "code",
   "execution_count": 122,
   "metadata": {
    "trusted": true
   },
   "outputs": [
    {
     "name": "stdout",
     "output_type": "stream",
     "text": [
      "\n",
      "--- Evaluation on Original Data ---\n",
      "RMSE: 0.36346\n",
      "R²:   0.43241\n",
      "\n",
      "--- Evaluation on Obfuscated Data ---\n",
      "RMSE: 0.36346\n",
      "R²:   0.43241\n"
     ]
    }
   ],
   "source": [
    "print(\"\\n--- Evaluation on Original Data ---\")\n",
    "print(f\"RMSE: {rmse_orig:.5f}\")\n",
    "print(f\"R²:   {r2_orig:.5f}\")\n",
    "\n",
    "print(\"\\n--- Evaluation on Obfuscated Data ---\")\n",
    "print(f\"RMSE: {rmse_obf:.5f}\")\n",
    "print(f\"R²:   {r2_obf:.5f}\")"
   ]
  },
  {
   "cell_type": "markdown",
   "metadata": {},
   "source": [
    "<div class=\"alert alert-success\" style=\"border-radius: 15px; box-shadow: 4px 4px 4px; border: 1px solid; background-color: lightgreen; color: black;\">\n",
    "    <h2>Comments</h2> \n",
    "\n",
    "* Comparing results\n",
    "* RMSE (Root Mean Squared Error)\n",
    "    * The RMSE is exactly the same for both models confirming that the error in predicted values is identical regardless of whether the model was trained on original or obfuscated features\n",
    "* $R^{2}$ score is also identical showing that the explained variance is the same meaning the model's ability to capture the relationship between features and target remains unaffected\n",
    "* Conclusion\n",
    "    * Since the RMSE and $R^{2}$ are unchanged proves analytically and computationally that obfuscation does not affect linear regression predicition supporting the earlier analytical proof\n",
    "    * The results confirm that linear regression predictions are invariant under invertible linear transformations of the feature matrix. The model’s accuracy and behavior remain exactly the same, proving that this form of data obfuscation preserves both privacy and performance\n",
    "    \n",
    "</div>"
   ]
  },
  {
   "cell_type": "code",
   "execution_count": 123,
   "metadata": {
    "trusted": true
   },
   "outputs": [
    {
     "name": "stdout",
     "output_type": "stream",
     "text": [
      "\n",
      "Max difference in predictions: 3.901989842347575e-12\n",
      "Are predictions almost equal? True\n"
     ]
    }
   ],
   "source": [
    "diff = np.abs(y_pred_orig - y_pred_obf)\n",
    "print(\"\\nMax difference in predictions:\", np.max(diff))\n",
    "print(\"Are predictions almost equal?\", np.allclose(y_pred_orig, y_pred_obf))"
   ]
  },
  {
   "cell_type": "markdown",
   "metadata": {},
   "source": [
    "<div class=\"alert alert-success\" style=\"border-radius: 15px; box-shadow: 4px 4px 4px; border: 1px solid; background-color: lightgreen; color: black;\">\n",
    "    <h2>Comments</h2> \n",
    "\n",
    "* Comapring predicitions\n",
    "* Tiny numerical difference\n",
    "    * The maximum difference between predicted values from the original and obfuscated model is 0.0000000000039. This value is extremely small well within the range of floating point rounding error\n",
    "* Effectively identical predictions\n",
    "    * The np.allclose() function checks whether two arrays are equal within a small tolerance. Since it returned True the predicitions from both models are considered numerically identical for all practical purposes\n",
    "* Conclusion\n",
    "    * The predictions from the linear regression model trained on obfuscated data are functionally identical to those from the original data. The maximum prediction difference is negligible and due only to harmless floating-point precision. This confirms that obfuscating the data does not alter model outputs in any meaningful way\n",
    "    \n",
    "</div>"
   ]
  },
  {
   "cell_type": "code",
   "execution_count": 124,
   "metadata": {
    "trusted": true
   },
   "outputs": [
    {
     "data": {
      "image/png": "[encoded data removed]",
      "text/plain": [
       "<Figure size 700x600 with 1 Axes>"
      ]
     },
     "metadata": {},
     "output_type": "display_data"
    }
   ],
   "source": [
    "plt.figure(figsize=(7, 6))\n",
    "plt.scatter(y_pred_orig, y_pred_obf, alpha=0.6, edgecolors='k')\n",
    "plt.plot([y_pred_orig.min(), y_pred_orig.max()],\n",
    "         [y_pred_orig.min(), y_pred_orig.max()],\n",
    "         color='red', linestyle='--', label='Perfect match')\n",
    "\n",
    "plt.xlabel(\"Predictions (Original Data)\")\n",
    "plt.ylabel(\"Predictions (Obfuscated Data)\")\n",
    "plt.title(\"Prediction Comparison: Original vs Obfuscated\")\n",
    "plt.legend()\n",
    "plt.grid(True)\n",
    "plt.tight_layout()\n",
    "plt.show()"
   ]
  },
  {
   "cell_type": "markdown",
   "metadata": {},
   "source": [
    "<div class=\"alert alert-success\" style=\"border-radius: 15px; box-shadow: 4px 4px 4px; border: 1px solid; background-color: lightgreen; color: black;\">\n",
    "    <h2>Comments</h2> \n",
    "\n",
    "* Visualizing Predicition Comparison\n",
    "* Each point is a predicition pair from both models\n",
    "* The red dashed line is the perfefct match reference\n",
    "* All points lie very close to this line confirming matching predictions\n",
    "    \n",
    "</div>"
   ]
  },
  {
   "cell_type": "markdown",
   "metadata": {},
   "source": [
    "# Conclusions"
   ]
  },
  {
   "cell_type": "markdown",
   "metadata": {},
   "source": [
    "<div class=\"alert alert-success\" style=\"border-radius: 15px; box-shadow: 4px 4px 4px; border: 1px solid; background-color: lightgreen; color: black;\">\n",
    "    <h2>Comments</h2> \n",
    "\n",
    "* This project explored how machine learning techniques can assist Sure Tomorrow Insurance across four core tasks: identifying customer similarity for marketing, predicting insurance benefit eligibility and quantity, and securing personal data through obfuscation while preserving model performance.\n",
    "* Task 1: Identifying Similar Cusotmers (Clustering & kNN)\n",
    "    * Using PCA, we reduced the dimensionality of customer data to reveal clusters and group patterns not easily visible in raw form\n",
    "    * Clear groupings emerged in the PCA space, indicating meaningful segmentation in customer characteristics—especially along the first principal component (PC1), which likely captures income, age, or family size\n",
    "    * k-Nearest Neighbors (kNN) and distance-based similarity (Euclidean and Manhattan) effectively identified customer neighbors and grouped them into coherent clusters\n",
    "    * Scaling had a critical impact: scaled data produced much more meaningful and consistent groupings, especially for distance-based methods\n",
    "* Task 2: Classification – Predicting Insurance Benefit Eligibility\n",
    "    * The dataset showed significant class imbalance (only ~12% received benefits), making accuracy alone misleading\n",
    "    * Dummy models achieved very low F1-scores (0.00–0.21)\n",
    "    * A kNN-based classifier significantly outperformed these baselines:\n",
    "        * Best F1-score: 0.943 (scaled, k=1)\n",
    "        * Scaling dramatically improved model stability and precision across all k values\n",
    "        * Unscaled models performed poorly due to feature magnitude imbalance\\\n",
    "    * A scaled kNN classifier provides meaningful prediction of benefit eligibility, proving ML can outperform naive baselines even with imbalanced data\n",
    "* Task 3: Regression – Predicting Number of Benefits\n",
    "    * A custom linear regression model was built and tested with and without feature scaling\n",
    "    * RMSE = 0.36 and $R^{²}$ ≈ 0.66 for both models\n",
    "    * Scaling improved coefficient interpretability (especially for income), but predictions remained unchanged\n",
    "    * Age emerged as the strongest predictor, with income and family size playing smaller roles\n",
    "    * Linear regression moderately predicts the number of benefits. Scaling improves clarity, but model performance is inherently scale-invariant\n",
    "* Task 4: Privacy-Preserving Data Obfuscation\n",
    "    * Obfuscation was applied using an invertible random matrix 𝑃, transforming the feature matrix to $X^{′} = X ⋅ 𝑃$\n",
    "    * Recovery of original data using $𝑋 = 𝑋^{′} ⋅ 𝑃^{−1}$ was confirmed to be accurate, with max recovery error < 1e-10, caused only by harmless floating-point rounding\n",
    "     * Analytical and computational proofs showed that: $$\\hat{y}P = \\hat{y}$$ meaning predicted values are identical before and after obfuscation\n",
    "    * RMSE and $R^{²}$ for both models matched exactly, and visualizations confirmed overlapping predictions\n",
    "    * The obfuscated data is no longer interpretable, but model utility is fully preserved\n",
    "    * Obfuscation is effective, secure, and has no negative impact on linear regression performance, making it a viable privacy-preserving transformation\n",
    "* Overall Conclusion\n",
    "    * The project demonstrated that machine learning can effectively support Sure Tomorrow Insurance in the following ways:\n",
    "        * Customer similarity and segmentation can be accurately captured using clustering and kNN, especially with scaled data\n",
    "        * Classification models (kNN) can predict benefit eligibility far better than dummy baselines when properly tuned and scaled\n",
    "        * Linear regression provides meaningful prediction for benefit count, with consistent performance across original and scaled inputs\n",
    "        *  Data obfuscation using invertible matrix transformations effectively protects personal data without compromising model accuracy\n",
    "    * This confirms that Sure Tomorrow can responsibly and effectively apply machine learning, not only to improve decision-making but also to maintain data privacy and security\n",
    "                                                                                                                            \n",
    "                                                                                                                            \n",
    "</div>"
   ]
  }
 ],
 "metadata": {
  "ExecuteTimeLog": [
   {
    "duration": 159,
    "start_time": "2025-04-07T20:19:25.265Z"
   },
   {
    "duration": 2751,
    "start_time": "2025-04-07T20:19:34.244Z"
   },
   {
    "duration": 10,
    "start_time": "2025-04-07T20:19:36.998Z"
   },
   {
    "duration": 4,
    "start_time": "2025-04-07T20:19:37.009Z"
   },
   {
    "duration": 19,
    "start_time": "2025-04-07T20:19:37.014Z"
   },
   {
    "duration": 9,
    "start_time": "2025-04-07T20:19:37.035Z"
   },
   {
    "duration": 11,
    "start_time": "2025-04-07T20:19:41.364Z"
   },
   {
    "duration": 84,
    "start_time": "2025-04-07T20:19:41.609Z"
   },
   {
    "duration": 14,
    "start_time": "2025-04-07T20:20:07.306Z"
   },
   {
    "duration": 4,
    "start_time": "2025-04-07T20:21:58.965Z"
   },
   {
    "duration": 3,
    "start_time": "2025-04-07T20:22:14.425Z"
   },
   {
    "duration": 3,
    "start_time": "2025-04-07T20:22:29.745Z"
   },
   {
    "duration": 4,
    "start_time": "2025-04-07T20:22:30.384Z"
   },
   {
    "duration": 9,
    "start_time": "2025-04-07T20:22:44.690Z"
   },
   {
    "duration": 156,
    "start_time": "2025-04-07T23:47:31.954Z"
   },
   {
    "duration": 2967,
    "start_time": "2025-04-07T23:47:38.685Z"
   },
   {
    "duration": 11,
    "start_time": "2025-04-07T23:47:41.654Z"
   },
   {
    "duration": 3,
    "start_time": "2025-04-07T23:47:41.667Z"
   },
   {
    "duration": 12,
    "start_time": "2025-04-07T23:47:41.672Z"
   },
   {
    "duration": 10,
    "start_time": "2025-04-07T23:47:41.687Z"
   },
   {
    "duration": 4,
    "start_time": "2025-04-07T23:47:41.699Z"
   },
   {
    "duration": 3,
    "start_time": "2025-04-07T23:47:41.725Z"
   },
   {
    "duration": 9,
    "start_time": "2025-04-07T23:47:41.730Z"
   },
   {
    "duration": 10,
    "start_time": "2025-04-07T23:47:41.741Z"
   },
   {
    "duration": 9,
    "start_time": "2025-04-08T00:13:23.388Z"
   },
   {
    "duration": 89,
    "start_time": "2025-04-08T00:13:55.632Z"
   },
   {
    "duration": 3,
    "start_time": "2025-04-08T00:18:31.265Z"
   },
   {
    "duration": 10,
    "start_time": "2025-04-08T00:18:31.270Z"
   },
   {
    "duration": 3,
    "start_time": "2025-04-08T00:18:31.281Z"
   },
   {
    "duration": 9,
    "start_time": "2025-04-08T00:18:31.285Z"
   },
   {
    "duration": 10,
    "start_time": "2025-04-08T00:18:31.296Z"
   },
   {
    "duration": 3,
    "start_time": "2025-04-08T00:18:31.307Z"
   },
   {
    "duration": 3,
    "start_time": "2025-04-08T00:18:31.312Z"
   },
   {
    "duration": 9,
    "start_time": "2025-04-08T00:18:31.317Z"
   },
   {
    "duration": 10,
    "start_time": "2025-04-08T00:18:32.629Z"
   },
   {
    "duration": 5,
    "start_time": "2025-04-08T00:18:33.285Z"
   },
   {
    "duration": 17,
    "start_time": "2025-04-08T00:40:22.808Z"
   },
   {
    "duration": 3,
    "start_time": "2025-04-08T00:42:21.491Z"
   },
   {
    "duration": 7,
    "start_time": "2025-04-08T00:42:21.499Z"
   },
   {
    "duration": 3,
    "start_time": "2025-04-08T00:42:21.508Z"
   },
   {
    "duration": 8,
    "start_time": "2025-04-08T00:42:21.513Z"
   },
   {
    "duration": 9,
    "start_time": "2025-04-08T00:42:21.522Z"
   },
   {
    "duration": 3,
    "start_time": "2025-04-08T00:42:21.533Z"
   },
   {
    "duration": 3,
    "start_time": "2025-04-08T00:42:21.538Z"
   },
   {
    "duration": 8,
    "start_time": "2025-04-08T00:42:21.542Z"
   },
   {
    "duration": 8,
    "start_time": "2025-04-08T00:42:21.552Z"
   },
   {
    "duration": 5,
    "start_time": "2025-04-08T00:42:21.562Z"
   },
   {
    "duration": 17,
    "start_time": "2025-04-08T00:42:23.098Z"
   },
   {
    "duration": 6,
    "start_time": "2025-04-08T00:43:08.551Z"
   },
   {
    "duration": 20,
    "start_time": "2025-04-08T00:43:09.038Z"
   },
   {
    "duration": 25,
    "start_time": "2025-04-08T01:28:01.408Z"
   },
   {
    "duration": 989,
    "start_time": "2025-04-08T01:28:05.756Z"
   },
   {
    "duration": 8,
    "start_time": "2025-04-08T01:28:06.747Z"
   },
   {
    "duration": 4,
    "start_time": "2025-04-08T01:28:06.757Z"
   },
   {
    "duration": 12,
    "start_time": "2025-04-08T01:28:06.763Z"
   },
   {
    "duration": 10,
    "start_time": "2025-04-08T01:28:06.777Z"
   },
   {
    "duration": 3,
    "start_time": "2025-04-08T01:28:06.789Z"
   },
   {
    "duration": 30,
    "start_time": "2025-04-08T01:28:06.794Z"
   },
   {
    "duration": 8,
    "start_time": "2025-04-08T01:28:06.825Z"
   },
   {
    "duration": 9,
    "start_time": "2025-04-08T01:28:06.835Z"
   },
   {
    "duration": 316,
    "start_time": "2025-04-08T01:28:06.847Z"
   },
   {
    "duration": 0,
    "start_time": "2025-04-08T01:28:07.165Z"
   },
   {
    "duration": 0,
    "start_time": "2025-04-08T01:28:07.166Z"
   },
   {
    "duration": 0,
    "start_time": "2025-04-08T01:28:07.168Z"
   },
   {
    "duration": 1,
    "start_time": "2025-04-08T01:28:07.169Z"
   },
   {
    "duration": 0,
    "start_time": "2025-04-08T01:28:07.171Z"
   },
   {
    "duration": 0,
    "start_time": "2025-04-08T01:28:07.174Z"
   },
   {
    "duration": 0,
    "start_time": "2025-04-08T01:28:07.175Z"
   },
   {
    "duration": 0,
    "start_time": "2025-04-08T01:28:07.176Z"
   },
   {
    "duration": 0,
    "start_time": "2025-04-08T01:28:07.178Z"
   },
   {
    "duration": 0,
    "start_time": "2025-04-08T01:28:07.180Z"
   },
   {
    "duration": 0,
    "start_time": "2025-04-08T01:28:07.181Z"
   },
   {
    "duration": 0,
    "start_time": "2025-04-08T01:28:07.182Z"
   },
   {
    "duration": 0,
    "start_time": "2025-04-08T01:28:07.184Z"
   },
   {
    "duration": 0,
    "start_time": "2025-04-08T01:28:07.185Z"
   },
   {
    "duration": 0,
    "start_time": "2025-04-08T01:28:07.187Z"
   },
   {
    "duration": 0,
    "start_time": "2025-04-08T01:28:07.224Z"
   },
   {
    "duration": 0,
    "start_time": "2025-04-08T01:28:07.225Z"
   },
   {
    "duration": 6,
    "start_time": "2025-04-08T01:28:18.010Z"
   },
   {
    "duration": 17,
    "start_time": "2025-04-08T01:28:18.287Z"
   },
   {
    "duration": 2519,
    "start_time": "2025-04-08T01:28:18.889Z"
   },
   {
    "duration": 3,
    "start_time": "2025-04-08T01:28:21.410Z"
   },
   {
    "duration": 18,
    "start_time": "2025-04-08T01:28:32.734Z"
   },
   {
    "duration": 14,
    "start_time": "2025-04-08T01:45:03.470Z"
   },
   {
    "duration": 14,
    "start_time": "2025-04-08T01:45:03.657Z"
   },
   {
    "duration": 3,
    "start_time": "2025-04-08T01:46:01.105Z"
   },
   {
    "duration": 9,
    "start_time": "2025-04-08T01:46:01.110Z"
   },
   {
    "duration": 4,
    "start_time": "2025-04-08T01:46:01.121Z"
   },
   {
    "duration": 9,
    "start_time": "2025-04-08T01:46:01.127Z"
   },
   {
    "duration": 9,
    "start_time": "2025-04-08T01:46:01.139Z"
   },
   {
    "duration": 4,
    "start_time": "2025-04-08T01:46:01.150Z"
   },
   {
    "duration": 4,
    "start_time": "2025-04-08T01:46:01.155Z"
   },
   {
    "duration": 10,
    "start_time": "2025-04-08T01:46:01.160Z"
   },
   {
    "duration": 13,
    "start_time": "2025-04-08T01:46:01.173Z"
   },
   {
    "duration": 40,
    "start_time": "2025-04-08T01:46:01.188Z"
   },
   {
    "duration": 17,
    "start_time": "2025-04-08T01:46:01.231Z"
   },
   {
    "duration": 2767,
    "start_time": "2025-04-08T01:46:01.250Z"
   },
   {
    "duration": 2676,
    "start_time": "2025-04-08T01:46:07.975Z"
   },
   {
    "duration": 6,
    "start_time": "2025-04-08T01:46:10.653Z"
   },
   {
    "duration": 175,
    "start_time": "2025-04-08T01:46:10.661Z"
   },
   {
    "duration": 964,
    "start_time": "2025-04-08T01:46:35.881Z"
   },
   {
    "duration": 6,
    "start_time": "2025-04-08T01:46:36.848Z"
   },
   {
    "duration": 3,
    "start_time": "2025-04-08T01:46:36.856Z"
   },
   {
    "duration": 9,
    "start_time": "2025-04-08T01:46:36.862Z"
   },
   {
    "duration": 10,
    "start_time": "2025-04-08T01:46:36.872Z"
   },
   {
    "duration": 3,
    "start_time": "2025-04-08T01:46:36.883Z"
   },
   {
    "duration": 3,
    "start_time": "2025-04-08T01:46:36.888Z"
   },
   {
    "duration": 35,
    "start_time": "2025-04-08T01:46:36.893Z"
   },
   {
    "duration": 8,
    "start_time": "2025-04-08T01:46:36.930Z"
   },
   {
    "duration": 5,
    "start_time": "2025-04-08T01:46:36.942Z"
   },
   {
    "duration": 18,
    "start_time": "2025-04-08T01:46:36.948Z"
   },
   {
    "duration": 2681,
    "start_time": "2025-04-08T01:46:36.967Z"
   },
   {
    "duration": 9,
    "start_time": "2025-04-08T01:46:39.650Z"
   },
   {
    "duration": 356,
    "start_time": "2025-04-08T01:46:39.661Z"
   },
   {
    "duration": 6,
    "start_time": "2025-04-08T01:46:40.018Z"
   },
   {
    "duration": 6,
    "start_time": "2025-04-08T01:46:40.026Z"
   },
   {
    "duration": 0,
    "start_time": "2025-04-08T01:46:40.034Z"
   },
   {
    "duration": 0,
    "start_time": "2025-04-08T01:46:40.036Z"
   },
   {
    "duration": 0,
    "start_time": "2025-04-08T01:46:40.039Z"
   },
   {
    "duration": 0,
    "start_time": "2025-04-08T01:46:40.040Z"
   },
   {
    "duration": 0,
    "start_time": "2025-04-08T01:46:40.041Z"
   },
   {
    "duration": 0,
    "start_time": "2025-04-08T01:46:40.042Z"
   },
   {
    "duration": 0,
    "start_time": "2025-04-08T01:46:40.042Z"
   },
   {
    "duration": 0,
    "start_time": "2025-04-08T01:46:40.044Z"
   },
   {
    "duration": 0,
    "start_time": "2025-04-08T01:46:40.045Z"
   },
   {
    "duration": 0,
    "start_time": "2025-04-08T01:46:40.046Z"
   },
   {
    "duration": 0,
    "start_time": "2025-04-08T01:46:40.048Z"
   },
   {
    "duration": 0,
    "start_time": "2025-04-08T01:46:40.049Z"
   },
   {
    "duration": 0,
    "start_time": "2025-04-08T01:46:40.051Z"
   },
   {
    "duration": 7,
    "start_time": "2025-04-08T01:48:27.327Z"
   },
   {
    "duration": 261,
    "start_time": "2025-04-08T01:48:27.565Z"
   },
   {
    "duration": 332,
    "start_time": "2025-04-08T01:48:46.996Z"
   },
   {
    "duration": 273,
    "start_time": "2025-04-08T01:51:21.716Z"
   },
   {
    "duration": 2778,
    "start_time": "2025-04-09T01:54:18.089Z"
   },
   {
    "duration": 14,
    "start_time": "2025-04-09T01:54:20.869Z"
   },
   {
    "duration": 3,
    "start_time": "2025-04-09T01:54:20.885Z"
   },
   {
    "duration": 11,
    "start_time": "2025-04-09T01:54:20.890Z"
   },
   {
    "duration": 14,
    "start_time": "2025-04-09T01:54:20.902Z"
   },
   {
    "duration": 3,
    "start_time": "2025-04-09T01:54:20.918Z"
   },
   {
    "duration": 3,
    "start_time": "2025-04-09T01:54:20.922Z"
   },
   {
    "duration": 8,
    "start_time": "2025-04-09T01:54:20.927Z"
   },
   {
    "duration": 8,
    "start_time": "2025-04-09T01:54:20.937Z"
   },
   {
    "duration": 4,
    "start_time": "2025-04-09T01:54:20.949Z"
   },
   {
    "duration": 54,
    "start_time": "2025-04-09T01:54:20.955Z"
   },
   {
    "duration": 2570,
    "start_time": "2025-04-09T01:54:21.011Z"
   },
   {
    "duration": 6,
    "start_time": "2025-04-09T01:54:23.583Z"
   },
   {
    "duration": 276,
    "start_time": "2025-04-09T01:54:23.591Z"
   },
   {
    "duration": 508,
    "start_time": "2025-04-09T01:54:23.869Z"
   },
   {
    "duration": 3,
    "start_time": "2025-04-09T01:54:24.379Z"
   },
   {
    "duration": 6,
    "start_time": "2025-04-09T01:54:24.384Z"
   },
   {
    "duration": 0,
    "start_time": "2025-04-09T01:54:24.392Z"
   },
   {
    "duration": 0,
    "start_time": "2025-04-09T01:54:24.409Z"
   },
   {
    "duration": 0,
    "start_time": "2025-04-09T01:54:24.410Z"
   },
   {
    "duration": 0,
    "start_time": "2025-04-09T01:54:24.412Z"
   },
   {
    "duration": 0,
    "start_time": "2025-04-09T01:54:24.413Z"
   },
   {
    "duration": 0,
    "start_time": "2025-04-09T01:54:24.414Z"
   },
   {
    "duration": 0,
    "start_time": "2025-04-09T01:54:24.416Z"
   },
   {
    "duration": 0,
    "start_time": "2025-04-09T01:54:24.417Z"
   },
   {
    "duration": 0,
    "start_time": "2025-04-09T01:54:24.418Z"
   },
   {
    "duration": 0,
    "start_time": "2025-04-09T01:54:24.420Z"
   },
   {
    "duration": 0,
    "start_time": "2025-04-09T01:54:24.421Z"
   },
   {
    "duration": 0,
    "start_time": "2025-04-09T01:54:24.423Z"
   },
   {
    "duration": 0,
    "start_time": "2025-04-09T01:54:24.424Z"
   },
   {
    "duration": 4,
    "start_time": "2025-04-09T01:58:30.341Z"
   },
   {
    "duration": 9,
    "start_time": "2025-04-09T01:58:31.421Z"
   },
   {
    "duration": 13,
    "start_time": "2025-04-09T01:58:31.797Z"
   },
   {
    "duration": 313,
    "start_time": "2025-04-09T01:58:58.972Z"
   },
   {
    "duration": 998,
    "start_time": "2025-04-09T01:59:18.491Z"
   },
   {
    "duration": 8,
    "start_time": "2025-04-09T01:59:19.492Z"
   },
   {
    "duration": 8,
    "start_time": "2025-04-09T01:59:19.501Z"
   },
   {
    "duration": 11,
    "start_time": "2025-04-09T01:59:19.511Z"
   },
   {
    "duration": 11,
    "start_time": "2025-04-09T01:59:19.525Z"
   },
   {
    "duration": 6,
    "start_time": "2025-04-09T01:59:19.539Z"
   },
   {
    "duration": 4,
    "start_time": "2025-04-09T01:59:19.547Z"
   },
   {
    "duration": 12,
    "start_time": "2025-04-09T01:59:19.554Z"
   },
   {
    "duration": 10,
    "start_time": "2025-04-09T01:59:19.570Z"
   },
   {
    "duration": 5,
    "start_time": "2025-04-09T01:59:19.581Z"
   },
   {
    "duration": 20,
    "start_time": "2025-04-09T01:59:19.610Z"
   },
   {
    "duration": 2645,
    "start_time": "2025-04-09T01:59:19.632Z"
   },
   {
    "duration": 7,
    "start_time": "2025-04-09T01:59:22.279Z"
   },
   {
    "duration": 390,
    "start_time": "2025-04-09T01:59:22.289Z"
   },
   {
    "duration": 428,
    "start_time": "2025-04-09T01:59:22.681Z"
   },
   {
    "duration": 3,
    "start_time": "2025-04-09T01:59:23.111Z"
   },
   {
    "duration": 5,
    "start_time": "2025-04-09T01:59:23.115Z"
   },
   {
    "duration": 9,
    "start_time": "2025-04-09T01:59:23.122Z"
   },
   {
    "duration": 12,
    "start_time": "2025-04-09T01:59:23.132Z"
   },
   {
    "duration": 89,
    "start_time": "2025-04-09T01:59:23.147Z"
   },
   {
    "duration": 4,
    "start_time": "2025-04-09T01:59:23.239Z"
   },
   {
    "duration": 0,
    "start_time": "2025-04-09T01:59:23.246Z"
   },
   {
    "duration": 0,
    "start_time": "2025-04-09T01:59:23.248Z"
   },
   {
    "duration": 0,
    "start_time": "2025-04-09T01:59:23.249Z"
   },
   {
    "duration": 0,
    "start_time": "2025-04-09T01:59:23.250Z"
   },
   {
    "duration": 0,
    "start_time": "2025-04-09T01:59:23.251Z"
   },
   {
    "duration": 0,
    "start_time": "2025-04-09T01:59:23.252Z"
   },
   {
    "duration": 0,
    "start_time": "2025-04-09T01:59:23.253Z"
   },
   {
    "duration": 0,
    "start_time": "2025-04-09T01:59:23.254Z"
   },
   {
    "duration": 0,
    "start_time": "2025-04-09T01:59:23.255Z"
   },
   {
    "duration": 0,
    "start_time": "2025-04-09T01:59:23.256Z"
   },
   {
    "duration": 13,
    "start_time": "2025-04-09T01:59:33.604Z"
   },
   {
    "duration": 12,
    "start_time": "2025-04-09T01:59:38.667Z"
   },
   {
    "duration": 28,
    "start_time": "2025-04-09T01:59:44.465Z"
   },
   {
    "duration": 19,
    "start_time": "2025-04-09T01:59:46.636Z"
   },
   {
    "duration": 60,
    "start_time": "2025-04-09T02:01:46.500Z"
   },
   {
    "duration": 2823,
    "start_time": "2025-04-09T12:12:32.187Z"
   },
   {
    "duration": 18,
    "start_time": "2025-04-09T12:12:35.012Z"
   },
   {
    "duration": 3,
    "start_time": "2025-04-09T12:12:35.032Z"
   },
   {
    "duration": 12,
    "start_time": "2025-04-09T12:12:35.037Z"
   },
   {
    "duration": 10,
    "start_time": "2025-04-09T12:12:35.051Z"
   },
   {
    "duration": 4,
    "start_time": "2025-04-09T12:12:35.062Z"
   },
   {
    "duration": 3,
    "start_time": "2025-04-09T12:12:35.068Z"
   },
   {
    "duration": 10,
    "start_time": "2025-04-09T12:12:35.073Z"
   },
   {
    "duration": 28,
    "start_time": "2025-04-09T12:12:35.084Z"
   },
   {
    "duration": 5,
    "start_time": "2025-04-09T12:12:35.115Z"
   },
   {
    "duration": 16,
    "start_time": "2025-04-09T12:12:35.122Z"
   },
   {
    "duration": 2670,
    "start_time": "2025-04-09T12:12:35.140Z"
   },
   {
    "duration": 7,
    "start_time": "2025-04-09T12:12:37.812Z"
   },
   {
    "duration": 301,
    "start_time": "2025-04-09T12:12:37.823Z"
   },
   {
    "duration": 389,
    "start_time": "2025-04-09T12:12:38.126Z"
   },
   {
    "duration": 2,
    "start_time": "2025-04-09T12:12:38.517Z"
   },
   {
    "duration": 5,
    "start_time": "2025-04-09T12:12:38.520Z"
   },
   {
    "duration": 8,
    "start_time": "2025-04-09T12:12:38.526Z"
   },
   {
    "duration": 10,
    "start_time": "2025-04-09T12:12:38.535Z"
   },
   {
    "duration": 70,
    "start_time": "2025-04-09T12:12:38.547Z"
   },
   {
    "duration": 4,
    "start_time": "2025-04-09T12:12:38.618Z"
   },
   {
    "duration": 0,
    "start_time": "2025-04-09T12:12:38.624Z"
   },
   {
    "duration": 0,
    "start_time": "2025-04-09T12:12:38.628Z"
   },
   {
    "duration": 0,
    "start_time": "2025-04-09T12:12:38.629Z"
   },
   {
    "duration": 0,
    "start_time": "2025-04-09T12:12:38.629Z"
   },
   {
    "duration": 0,
    "start_time": "2025-04-09T12:12:38.630Z"
   },
   {
    "duration": 0,
    "start_time": "2025-04-09T12:12:38.631Z"
   },
   {
    "duration": 0,
    "start_time": "2025-04-09T12:12:38.632Z"
   },
   {
    "duration": 0,
    "start_time": "2025-04-09T12:12:38.634Z"
   },
   {
    "duration": 0,
    "start_time": "2025-04-09T12:12:38.635Z"
   },
   {
    "duration": 0,
    "start_time": "2025-04-09T12:12:38.636Z"
   },
   {
    "duration": 2722,
    "start_time": "2025-04-09T19:30:49.549Z"
   },
   {
    "duration": 11,
    "start_time": "2025-04-09T19:30:52.273Z"
   },
   {
    "duration": 3,
    "start_time": "2025-04-09T19:30:52.286Z"
   },
   {
    "duration": 10,
    "start_time": "2025-04-09T19:30:52.291Z"
   },
   {
    "duration": 8,
    "start_time": "2025-04-09T19:30:52.303Z"
   },
   {
    "duration": 3,
    "start_time": "2025-04-09T19:30:52.313Z"
   },
   {
    "duration": 3,
    "start_time": "2025-04-09T19:30:52.317Z"
   },
   {
    "duration": 8,
    "start_time": "2025-04-09T19:30:52.343Z"
   },
   {
    "duration": 9,
    "start_time": "2025-04-09T19:30:52.353Z"
   },
   {
    "duration": 5,
    "start_time": "2025-04-09T19:30:52.365Z"
   },
   {
    "duration": 16,
    "start_time": "2025-04-09T19:30:52.371Z"
   },
   {
    "duration": 2567,
    "start_time": "2025-04-09T19:30:52.388Z"
   },
   {
    "duration": 7,
    "start_time": "2025-04-09T19:30:54.957Z"
   },
   {
    "duration": 314,
    "start_time": "2025-04-09T19:30:54.966Z"
   },
   {
    "duration": 447,
    "start_time": "2025-04-09T19:30:55.282Z"
   },
   {
    "duration": 3,
    "start_time": "2025-04-09T19:30:55.732Z"
   },
   {
    "duration": 10,
    "start_time": "2025-04-09T19:30:55.736Z"
   },
   {
    "duration": 7,
    "start_time": "2025-04-09T19:30:55.748Z"
   },
   {
    "duration": 8,
    "start_time": "2025-04-09T19:30:55.757Z"
   },
   {
    "duration": 45,
    "start_time": "2025-04-09T19:30:55.767Z"
   },
   {
    "duration": 5,
    "start_time": "2025-04-09T19:30:55.813Z"
   },
   {
    "duration": 0,
    "start_time": "2025-04-09T19:30:55.843Z"
   },
   {
    "duration": 0,
    "start_time": "2025-04-09T19:30:55.844Z"
   },
   {
    "duration": 0,
    "start_time": "2025-04-09T19:30:55.845Z"
   },
   {
    "duration": 0,
    "start_time": "2025-04-09T19:30:55.847Z"
   },
   {
    "duration": 0,
    "start_time": "2025-04-09T19:30:55.848Z"
   },
   {
    "duration": 0,
    "start_time": "2025-04-09T19:30:55.849Z"
   },
   {
    "duration": 0,
    "start_time": "2025-04-09T19:30:55.850Z"
   },
   {
    "duration": 0,
    "start_time": "2025-04-09T19:30:55.851Z"
   },
   {
    "duration": 0,
    "start_time": "2025-04-09T19:30:55.852Z"
   },
   {
    "duration": 0,
    "start_time": "2025-04-09T19:30:55.854Z"
   },
   {
    "duration": 2808,
    "start_time": "2025-04-09T23:10:44.925Z"
   },
   {
    "duration": 12,
    "start_time": "2025-04-09T23:10:47.736Z"
   },
   {
    "duration": 3,
    "start_time": "2025-04-09T23:10:47.750Z"
   },
   {
    "duration": 12,
    "start_time": "2025-04-09T23:10:47.755Z"
   },
   {
    "duration": 9,
    "start_time": "2025-04-09T23:10:47.769Z"
   },
   {
    "duration": 4,
    "start_time": "2025-04-09T23:10:47.779Z"
   },
   {
    "duration": 3,
    "start_time": "2025-04-09T23:10:47.784Z"
   },
   {
    "duration": 37,
    "start_time": "2025-04-09T23:10:47.789Z"
   },
   {
    "duration": 10,
    "start_time": "2025-04-09T23:10:47.827Z"
   },
   {
    "duration": 4,
    "start_time": "2025-04-09T23:10:47.839Z"
   },
   {
    "duration": 15,
    "start_time": "2025-04-09T23:10:47.845Z"
   },
   {
    "duration": 2622,
    "start_time": "2025-04-09T23:10:47.862Z"
   },
   {
    "duration": 7,
    "start_time": "2025-04-09T23:10:50.486Z"
   },
   {
    "duration": 313,
    "start_time": "2025-04-09T23:10:50.498Z"
   },
   {
    "duration": 557,
    "start_time": "2025-04-09T23:10:50.813Z"
   },
   {
    "duration": 4,
    "start_time": "2025-04-09T23:10:51.372Z"
   },
   {
    "duration": 4,
    "start_time": "2025-04-09T23:10:51.377Z"
   },
   {
    "duration": 7,
    "start_time": "2025-04-09T23:10:51.383Z"
   },
   {
    "duration": 9,
    "start_time": "2025-04-09T23:10:51.392Z"
   },
   {
    "duration": 88,
    "start_time": "2025-04-09T23:10:51.402Z"
   },
   {
    "duration": 7,
    "start_time": "2025-04-09T23:10:51.492Z"
   },
   {
    "duration": 0,
    "start_time": "2025-04-09T23:10:51.501Z"
   },
   {
    "duration": 0,
    "start_time": "2025-04-09T23:10:51.502Z"
   },
   {
    "duration": 0,
    "start_time": "2025-04-09T23:10:51.503Z"
   },
   {
    "duration": 0,
    "start_time": "2025-04-09T23:10:51.504Z"
   },
   {
    "duration": 0,
    "start_time": "2025-04-09T23:10:51.524Z"
   },
   {
    "duration": 0,
    "start_time": "2025-04-09T23:10:51.526Z"
   },
   {
    "duration": 0,
    "start_time": "2025-04-09T23:10:51.528Z"
   },
   {
    "duration": 0,
    "start_time": "2025-04-09T23:10:51.529Z"
   },
   {
    "duration": 0,
    "start_time": "2025-04-09T23:10:51.531Z"
   },
   {
    "duration": 0,
    "start_time": "2025-04-09T23:10:51.532Z"
   },
   {
    "duration": 2776,
    "start_time": "2025-04-10T00:12:13.007Z"
   },
   {
    "duration": 13,
    "start_time": "2025-04-10T00:12:15.784Z"
   },
   {
    "duration": 4,
    "start_time": "2025-04-10T00:12:15.798Z"
   },
   {
    "duration": 9,
    "start_time": "2025-04-10T00:12:15.804Z"
   },
   {
    "duration": 9,
    "start_time": "2025-04-10T00:12:15.815Z"
   },
   {
    "duration": 18,
    "start_time": "2025-04-10T00:12:15.826Z"
   },
   {
    "duration": 3,
    "start_time": "2025-04-10T00:12:15.846Z"
   },
   {
    "duration": 9,
    "start_time": "2025-04-10T00:12:15.850Z"
   },
   {
    "duration": 9,
    "start_time": "2025-04-10T00:12:15.860Z"
   },
   {
    "duration": 4,
    "start_time": "2025-04-10T00:12:15.871Z"
   },
   {
    "duration": 15,
    "start_time": "2025-04-10T00:12:15.877Z"
   },
   {
    "duration": 2620,
    "start_time": "2025-04-10T00:12:15.895Z"
   },
   {
    "duration": 7,
    "start_time": "2025-04-10T00:12:18.516Z"
   },
   {
    "duration": 274,
    "start_time": "2025-04-10T00:12:18.525Z"
   },
   {
    "duration": 448,
    "start_time": "2025-04-10T00:12:18.801Z"
   },
   {
    "duration": 3,
    "start_time": "2025-04-10T00:12:19.250Z"
   },
   {
    "duration": 5,
    "start_time": "2025-04-10T00:12:19.255Z"
   },
   {
    "duration": 8,
    "start_time": "2025-04-10T00:12:19.261Z"
   },
   {
    "duration": 10,
    "start_time": "2025-04-10T00:12:19.270Z"
   },
   {
    "duration": 71,
    "start_time": "2025-04-10T00:12:19.281Z"
   },
   {
    "duration": 4,
    "start_time": "2025-04-10T00:12:19.354Z"
   },
   {
    "duration": 0,
    "start_time": "2025-04-10T00:12:19.360Z"
   },
   {
    "duration": 0,
    "start_time": "2025-04-10T00:12:19.361Z"
   },
   {
    "duration": 0,
    "start_time": "2025-04-10T00:12:19.363Z"
   },
   {
    "duration": 0,
    "start_time": "2025-04-10T00:12:19.365Z"
   },
   {
    "duration": 0,
    "start_time": "2025-04-10T00:12:19.366Z"
   },
   {
    "duration": 0,
    "start_time": "2025-04-10T00:12:19.368Z"
   },
   {
    "duration": 0,
    "start_time": "2025-04-10T00:12:19.369Z"
   },
   {
    "duration": 0,
    "start_time": "2025-04-10T00:12:19.370Z"
   },
   {
    "duration": 0,
    "start_time": "2025-04-10T00:12:19.371Z"
   },
   {
    "duration": 0,
    "start_time": "2025-04-10T00:12:19.372Z"
   },
   {
    "duration": 1024,
    "start_time": "2025-04-10T00:22:29.294Z"
   },
   {
    "duration": 8,
    "start_time": "2025-04-10T00:22:30.320Z"
   },
   {
    "duration": 3,
    "start_time": "2025-04-10T00:22:30.330Z"
   },
   {
    "duration": 11,
    "start_time": "2025-04-10T00:22:30.343Z"
   },
   {
    "duration": 9,
    "start_time": "2025-04-10T00:22:30.356Z"
   },
   {
    "duration": 4,
    "start_time": "2025-04-10T00:22:30.366Z"
   },
   {
    "duration": 3,
    "start_time": "2025-04-10T00:22:30.372Z"
   },
   {
    "duration": 8,
    "start_time": "2025-04-10T00:22:30.376Z"
   },
   {
    "duration": 9,
    "start_time": "2025-04-10T00:22:30.385Z"
   },
   {
    "duration": 4,
    "start_time": "2025-04-10T00:22:30.398Z"
   },
   {
    "duration": 59,
    "start_time": "2025-04-10T00:22:30.403Z"
   },
   {
    "duration": 2583,
    "start_time": "2025-04-10T00:22:30.464Z"
   },
   {
    "duration": 8,
    "start_time": "2025-04-10T00:22:33.048Z"
   },
   {
    "duration": 316,
    "start_time": "2025-04-10T00:22:33.059Z"
   },
   {
    "duration": 436,
    "start_time": "2025-04-10T00:22:33.377Z"
   },
   {
    "duration": 3,
    "start_time": "2025-04-10T00:22:33.815Z"
   },
   {
    "duration": 4,
    "start_time": "2025-04-10T00:22:33.820Z"
   },
   {
    "duration": 23,
    "start_time": "2025-04-10T00:22:33.826Z"
   },
   {
    "duration": 11,
    "start_time": "2025-04-10T00:22:33.851Z"
   },
   {
    "duration": 43,
    "start_time": "2025-04-10T00:22:33.864Z"
   },
   {
    "duration": 4,
    "start_time": "2025-04-10T00:22:33.909Z"
   },
   {
    "duration": 0,
    "start_time": "2025-04-10T00:22:33.916Z"
   },
   {
    "duration": 0,
    "start_time": "2025-04-10T00:22:33.942Z"
   },
   {
    "duration": 0,
    "start_time": "2025-04-10T00:22:33.945Z"
   },
   {
    "duration": 0,
    "start_time": "2025-04-10T00:22:33.946Z"
   },
   {
    "duration": 0,
    "start_time": "2025-04-10T00:22:33.948Z"
   },
   {
    "duration": 0,
    "start_time": "2025-04-10T00:22:33.950Z"
   },
   {
    "duration": 0,
    "start_time": "2025-04-10T00:22:33.951Z"
   },
   {
    "duration": 0,
    "start_time": "2025-04-10T00:22:33.953Z"
   },
   {
    "duration": 0,
    "start_time": "2025-04-10T00:22:33.955Z"
   },
   {
    "duration": 0,
    "start_time": "2025-04-10T00:22:33.957Z"
   },
   {
    "duration": 4,
    "start_time": "2025-04-10T01:37:25.087Z"
   },
   {
    "duration": 4,
    "start_time": "2025-04-10T01:38:54.965Z"
   },
   {
    "duration": 5,
    "start_time": "2025-04-10T01:39:01.824Z"
   },
   {
    "duration": 6,
    "start_time": "2025-04-10T01:39:10.576Z"
   },
   {
    "duration": 6,
    "start_time": "2025-04-10T01:39:15.171Z"
   },
   {
    "duration": 4,
    "start_time": "2025-04-10T01:49:21.991Z"
   },
   {
    "duration": 3,
    "start_time": "2025-04-10T01:49:22.365Z"
   },
   {
    "duration": 5,
    "start_time": "2025-04-10T01:49:22.812Z"
   },
   {
    "duration": 19,
    "start_time": "2025-04-10T01:50:51.424Z"
   },
   {
    "duration": 4,
    "start_time": "2025-04-10T02:00:26.182Z"
   },
   {
    "duration": 7,
    "start_time": "2025-04-10T02:00:31.660Z"
   },
   {
    "duration": 7,
    "start_time": "2025-04-10T02:00:44.142Z"
   },
   {
    "duration": 12,
    "start_time": "2025-04-10T02:01:07.162Z"
   },
   {
    "duration": 4,
    "start_time": "2025-04-10T02:01:33.605Z"
   },
   {
    "duration": 5,
    "start_time": "2025-04-10T02:01:33.781Z"
   },
   {
    "duration": 7,
    "start_time": "2025-04-10T02:01:33.966Z"
   },
   {
    "duration": 266,
    "start_time": "2025-04-10T02:01:34.226Z"
   },
   {
    "duration": 1122,
    "start_time": "2025-04-10T02:02:08.143Z"
   },
   {
    "duration": 8,
    "start_time": "2025-04-10T02:02:09.268Z"
   },
   {
    "duration": 4,
    "start_time": "2025-04-10T02:02:09.278Z"
   },
   {
    "duration": 11,
    "start_time": "2025-04-10T02:02:09.284Z"
   },
   {
    "duration": 9,
    "start_time": "2025-04-10T02:02:09.297Z"
   },
   {
    "duration": 3,
    "start_time": "2025-04-10T02:02:09.308Z"
   },
   {
    "duration": 4,
    "start_time": "2025-04-10T02:02:09.313Z"
   },
   {
    "duration": 28,
    "start_time": "2025-04-10T02:02:09.319Z"
   },
   {
    "duration": 9,
    "start_time": "2025-04-10T02:02:09.349Z"
   },
   {
    "duration": 5,
    "start_time": "2025-04-10T02:02:09.360Z"
   },
   {
    "duration": 16,
    "start_time": "2025-04-10T02:02:09.366Z"
   },
   {
    "duration": 2674,
    "start_time": "2025-04-10T02:02:09.383Z"
   },
   {
    "duration": 9,
    "start_time": "2025-04-10T02:02:12.059Z"
   },
   {
    "duration": 322,
    "start_time": "2025-04-10T02:02:12.072Z"
   },
   {
    "duration": 392,
    "start_time": "2025-04-10T02:02:12.396Z"
   },
   {
    "duration": 4,
    "start_time": "2025-04-10T02:02:12.791Z"
   },
   {
    "duration": 4,
    "start_time": "2025-04-10T02:02:12.797Z"
   },
   {
    "duration": 9,
    "start_time": "2025-04-10T02:02:12.803Z"
   },
   {
    "duration": 8,
    "start_time": "2025-04-10T02:02:12.814Z"
   },
   {
    "duration": 48,
    "start_time": "2025-04-10T02:02:12.843Z"
   },
   {
    "duration": 3,
    "start_time": "2025-04-10T02:02:12.893Z"
   },
   {
    "duration": 6,
    "start_time": "2025-04-10T02:02:12.898Z"
   },
   {
    "duration": 3,
    "start_time": "2025-04-10T02:02:12.906Z"
   },
   {
    "duration": 2,
    "start_time": "2025-04-10T02:02:12.912Z"
   },
   {
    "duration": 46,
    "start_time": "2025-04-10T02:02:12.916Z"
   },
   {
    "duration": 8,
    "start_time": "2025-04-10T02:02:12.964Z"
   },
   {
    "duration": 5,
    "start_time": "2025-04-10T02:02:12.974Z"
   },
   {
    "duration": 7,
    "start_time": "2025-04-10T02:02:12.981Z"
   },
   {
    "duration": 558,
    "start_time": "2025-04-10T02:02:12.990Z"
   },
   {
    "duration": 5,
    "start_time": "2025-04-10T02:02:13.549Z"
   },
   {
    "duration": 0,
    "start_time": "2025-04-10T02:02:13.556Z"
   },
   {
    "duration": 0,
    "start_time": "2025-04-10T02:02:13.557Z"
   },
   {
    "duration": 0,
    "start_time": "2025-04-10T02:02:13.558Z"
   },
   {
    "duration": 0,
    "start_time": "2025-04-10T02:02:13.559Z"
   },
   {
    "duration": 0,
    "start_time": "2025-04-10T02:02:13.561Z"
   },
   {
    "duration": 5,
    "start_time": "2025-04-10T02:09:48.966Z"
   },
   {
    "duration": 5,
    "start_time": "2025-04-10T02:09:53.312Z"
   },
   {
    "duration": 4,
    "start_time": "2025-04-10T02:09:53.735Z"
   },
   {
    "duration": 350,
    "start_time": "2025-04-10T02:09:54.743Z"
   },
   {
    "duration": 5,
    "start_time": "2025-04-10T02:12:08.527Z"
   },
   {
    "duration": 1101,
    "start_time": "2025-04-10T02:17:36.654Z"
   },
   {
    "duration": 9,
    "start_time": "2025-04-10T02:17:37.757Z"
   },
   {
    "duration": 3,
    "start_time": "2025-04-10T02:17:37.767Z"
   },
   {
    "duration": 11,
    "start_time": "2025-04-10T02:17:37.771Z"
   },
   {
    "duration": 9,
    "start_time": "2025-04-10T02:17:37.784Z"
   },
   {
    "duration": 3,
    "start_time": "2025-04-10T02:17:37.795Z"
   },
   {
    "duration": 3,
    "start_time": "2025-04-10T02:17:37.799Z"
   },
   {
    "duration": 8,
    "start_time": "2025-04-10T02:17:37.804Z"
   },
   {
    "duration": 37,
    "start_time": "2025-04-10T02:17:37.813Z"
   },
   {
    "duration": 6,
    "start_time": "2025-04-10T02:17:37.851Z"
   },
   {
    "duration": 18,
    "start_time": "2025-04-10T02:17:37.859Z"
   },
   {
    "duration": 2686,
    "start_time": "2025-04-10T02:17:37.881Z"
   },
   {
    "duration": 6,
    "start_time": "2025-04-10T02:17:40.570Z"
   },
   {
    "duration": 298,
    "start_time": "2025-04-10T02:17:40.580Z"
   },
   {
    "duration": 373,
    "start_time": "2025-04-10T02:17:40.880Z"
   },
   {
    "duration": 3,
    "start_time": "2025-04-10T02:17:41.257Z"
   },
   {
    "duration": 5,
    "start_time": "2025-04-10T02:17:41.261Z"
   },
   {
    "duration": 8,
    "start_time": "2025-04-10T02:17:41.268Z"
   },
   {
    "duration": 9,
    "start_time": "2025-04-10T02:17:41.279Z"
   },
   {
    "duration": 67,
    "start_time": "2025-04-10T02:17:41.290Z"
   },
   {
    "duration": 4,
    "start_time": "2025-04-10T02:17:41.359Z"
   },
   {
    "duration": 5,
    "start_time": "2025-04-10T02:17:41.364Z"
   },
   {
    "duration": 3,
    "start_time": "2025-04-10T02:17:41.372Z"
   },
   {
    "duration": 4,
    "start_time": "2025-04-10T02:17:41.376Z"
   },
   {
    "duration": 19,
    "start_time": "2025-04-10T02:17:41.382Z"
   },
   {
    "duration": 4,
    "start_time": "2025-04-10T02:17:41.402Z"
   },
   {
    "duration": 37,
    "start_time": "2025-04-10T02:17:41.407Z"
   },
   {
    "duration": 6,
    "start_time": "2025-04-10T02:17:41.446Z"
   },
   {
    "duration": 556,
    "start_time": "2025-04-10T02:17:41.454Z"
   },
   {
    "duration": 4,
    "start_time": "2025-04-10T02:17:42.012Z"
   },
   {
    "duration": 4,
    "start_time": "2025-04-10T02:17:42.017Z"
   },
   {
    "duration": 21,
    "start_time": "2025-04-10T02:17:42.023Z"
   },
   {
    "duration": 5,
    "start_time": "2025-04-10T02:17:42.046Z"
   },
   {
    "duration": 390,
    "start_time": "2025-04-10T02:17:42.053Z"
   },
   {
    "duration": 0,
    "start_time": "2025-04-10T02:17:42.445Z"
   },
   {
    "duration": 0,
    "start_time": "2025-04-10T02:17:42.447Z"
   },
   {
    "duration": 0,
    "start_time": "2025-04-10T02:17:42.448Z"
   },
   {
    "duration": 0,
    "start_time": "2025-04-10T02:17:42.449Z"
   },
   {
    "duration": 1,
    "start_time": "2025-04-10T02:17:42.450Z"
   },
   {
    "duration": 0,
    "start_time": "2025-04-10T02:17:42.451Z"
   },
   {
    "duration": 1040,
    "start_time": "2025-04-10T02:18:16.909Z"
   },
   {
    "duration": 7,
    "start_time": "2025-04-10T02:18:17.952Z"
   },
   {
    "duration": 3,
    "start_time": "2025-04-10T02:18:17.961Z"
   },
   {
    "duration": 11,
    "start_time": "2025-04-10T02:18:17.965Z"
   },
   {
    "duration": 9,
    "start_time": "2025-04-10T02:18:17.978Z"
   },
   {
    "duration": 3,
    "start_time": "2025-04-10T02:18:17.988Z"
   },
   {
    "duration": 3,
    "start_time": "2025-04-10T02:18:17.993Z"
   },
   {
    "duration": 8,
    "start_time": "2025-04-10T02:18:17.997Z"
   },
   {
    "duration": 42,
    "start_time": "2025-04-10T02:18:18.007Z"
   },
   {
    "duration": 5,
    "start_time": "2025-04-10T02:18:18.050Z"
   },
   {
    "duration": 17,
    "start_time": "2025-04-10T02:18:18.056Z"
   },
   {
    "duration": 2704,
    "start_time": "2025-04-10T02:18:18.075Z"
   },
   {
    "duration": 7,
    "start_time": "2025-04-10T02:18:20.781Z"
   },
   {
    "duration": 305,
    "start_time": "2025-04-10T02:18:20.792Z"
   },
   {
    "duration": 384,
    "start_time": "2025-04-10T02:18:21.099Z"
   },
   {
    "duration": 3,
    "start_time": "2025-04-10T02:18:21.484Z"
   },
   {
    "duration": 4,
    "start_time": "2025-04-10T02:18:21.489Z"
   },
   {
    "duration": 7,
    "start_time": "2025-04-10T02:18:21.495Z"
   },
   {
    "duration": 8,
    "start_time": "2025-04-10T02:18:21.504Z"
   },
   {
    "duration": 71,
    "start_time": "2025-04-10T02:18:21.513Z"
   },
   {
    "duration": 6,
    "start_time": "2025-04-10T02:18:21.587Z"
   },
   {
    "duration": 5,
    "start_time": "2025-04-10T02:18:21.597Z"
   },
   {
    "duration": 6,
    "start_time": "2025-04-10T02:18:21.605Z"
   },
   {
    "duration": 32,
    "start_time": "2025-04-10T02:18:21.613Z"
   },
   {
    "duration": 22,
    "start_time": "2025-04-10T02:18:21.648Z"
   },
   {
    "duration": 4,
    "start_time": "2025-04-10T02:18:21.673Z"
   },
   {
    "duration": 6,
    "start_time": "2025-04-10T02:18:21.678Z"
   },
   {
    "duration": 7,
    "start_time": "2025-04-10T02:18:21.685Z"
   },
   {
    "duration": 565,
    "start_time": "2025-04-10T02:18:21.693Z"
   },
   {
    "duration": 3,
    "start_time": "2025-04-10T02:18:22.260Z"
   },
   {
    "duration": 4,
    "start_time": "2025-04-10T02:18:22.265Z"
   },
   {
    "duration": 3,
    "start_time": "2025-04-10T02:18:22.271Z"
   },
   {
    "duration": 4,
    "start_time": "2025-04-10T02:18:22.276Z"
   },
   {
    "duration": 5,
    "start_time": "2025-04-10T02:18:22.282Z"
   },
   {
    "duration": 3,
    "start_time": "2025-04-10T02:18:22.288Z"
   },
   {
    "duration": 52,
    "start_time": "2025-04-10T02:18:22.292Z"
   },
   {
    "duration": 4,
    "start_time": "2025-04-10T02:18:22.350Z"
   },
   {
    "duration": 7,
    "start_time": "2025-04-10T02:18:22.355Z"
   },
   {
    "duration": 2,
    "start_time": "2025-04-10T02:18:22.364Z"
   },
   {
    "duration": 5,
    "start_time": "2025-04-10T02:18:22.444Z"
   },
   {
    "duration": 861,
    "start_time": "2025-04-10T02:31:37.546Z"
   },
   {
    "duration": 331,
    "start_time": "2025-04-10T02:32:33.347Z"
   },
   {
    "duration": 388,
    "start_time": "2025-04-10T02:32:45.096Z"
   },
   {
    "duration": 2768,
    "start_time": "2025-04-10T16:42:51.562Z"
   },
   {
    "duration": 12,
    "start_time": "2025-04-10T16:42:54.332Z"
   },
   {
    "duration": 3,
    "start_time": "2025-04-10T16:42:54.346Z"
   },
   {
    "duration": 11,
    "start_time": "2025-04-10T16:42:54.351Z"
   },
   {
    "duration": 10,
    "start_time": "2025-04-10T16:42:54.363Z"
   },
   {
    "duration": 3,
    "start_time": "2025-04-10T16:42:54.374Z"
   },
   {
    "duration": 3,
    "start_time": "2025-04-10T16:42:54.379Z"
   },
   {
    "duration": 8,
    "start_time": "2025-04-10T16:42:54.384Z"
   },
   {
    "duration": 39,
    "start_time": "2025-04-10T16:42:54.394Z"
   },
   {
    "duration": 6,
    "start_time": "2025-04-10T16:42:54.437Z"
   },
   {
    "duration": 18,
    "start_time": "2025-04-10T16:42:54.444Z"
   },
   {
    "duration": 2708,
    "start_time": "2025-04-10T16:42:54.463Z"
   },
   {
    "duration": 8,
    "start_time": "2025-04-10T16:42:57.173Z"
   },
   {
    "duration": 299,
    "start_time": "2025-04-10T16:42:57.183Z"
   },
   {
    "duration": 507,
    "start_time": "2025-04-10T16:42:57.484Z"
   },
   {
    "duration": 2,
    "start_time": "2025-04-10T16:42:57.993Z"
   },
   {
    "duration": 4,
    "start_time": "2025-04-10T16:42:57.997Z"
   },
   {
    "duration": 8,
    "start_time": "2025-04-10T16:42:58.003Z"
   },
   {
    "duration": 26,
    "start_time": "2025-04-10T16:42:58.012Z"
   },
   {
    "duration": 42,
    "start_time": "2025-04-10T16:42:58.039Z"
   },
   {
    "duration": 4,
    "start_time": "2025-04-10T16:42:58.082Z"
   },
   {
    "duration": 5,
    "start_time": "2025-04-10T16:42:58.088Z"
   },
   {
    "duration": 3,
    "start_time": "2025-04-10T16:42:58.096Z"
   },
   {
    "duration": 31,
    "start_time": "2025-04-10T16:42:58.101Z"
   },
   {
    "duration": 19,
    "start_time": "2025-04-10T16:42:58.134Z"
   },
   {
    "duration": 4,
    "start_time": "2025-04-10T16:42:58.155Z"
   },
   {
    "duration": 6,
    "start_time": "2025-04-10T16:42:58.161Z"
   },
   {
    "duration": 7,
    "start_time": "2025-04-10T16:42:58.171Z"
   },
   {
    "duration": 596,
    "start_time": "2025-04-10T16:42:58.179Z"
   },
   {
    "duration": 4,
    "start_time": "2025-04-10T16:42:58.777Z"
   },
   {
    "duration": 3,
    "start_time": "2025-04-10T16:42:58.783Z"
   },
   {
    "duration": 5,
    "start_time": "2025-04-10T16:42:58.788Z"
   },
   {
    "duration": 4,
    "start_time": "2025-04-10T16:42:58.794Z"
   },
   {
    "duration": 33,
    "start_time": "2025-04-10T16:42:58.800Z"
   },
   {
    "duration": 6,
    "start_time": "2025-04-10T16:42:58.835Z"
   },
   {
    "duration": 5,
    "start_time": "2025-04-10T16:42:58.844Z"
   },
   {
    "duration": 83,
    "start_time": "2025-04-10T16:42:58.854Z"
   },
   {
    "duration": 435,
    "start_time": "2025-04-10T16:42:58.941Z"
   },
   {
    "duration": 427,
    "start_time": "2025-04-10T16:42:59.377Z"
   },
   {
    "duration": 4,
    "start_time": "2025-04-10T16:42:59.806Z"
   },
   {
    "duration": 3,
    "start_time": "2025-04-10T16:42:59.811Z"
   },
   {
    "duration": 15,
    "start_time": "2025-04-10T16:42:59.816Z"
   },
   {
    "duration": 1011,
    "start_time": "2025-04-10T17:41:36.751Z"
   },
   {
    "duration": 8,
    "start_time": "2025-04-10T17:41:37.765Z"
   },
   {
    "duration": 3,
    "start_time": "2025-04-10T17:41:37.774Z"
   },
   {
    "duration": 10,
    "start_time": "2025-04-10T17:41:37.779Z"
   },
   {
    "duration": 8,
    "start_time": "2025-04-10T17:41:37.791Z"
   },
   {
    "duration": 4,
    "start_time": "2025-04-10T17:41:37.800Z"
   },
   {
    "duration": 26,
    "start_time": "2025-04-10T17:41:37.806Z"
   },
   {
    "duration": 8,
    "start_time": "2025-04-10T17:41:37.834Z"
   },
   {
    "duration": 8,
    "start_time": "2025-04-10T17:41:37.844Z"
   },
   {
    "duration": 5,
    "start_time": "2025-04-10T17:41:37.855Z"
   },
   {
    "duration": 17,
    "start_time": "2025-04-10T17:41:37.862Z"
   },
   {
    "duration": 2611,
    "start_time": "2025-04-10T17:41:37.881Z"
   },
   {
    "duration": 6,
    "start_time": "2025-04-10T17:41:40.494Z"
   },
   {
    "duration": 257,
    "start_time": "2025-04-10T17:41:40.502Z"
   },
   {
    "duration": 422,
    "start_time": "2025-04-10T17:41:40.760Z"
   },
   {
    "duration": 2,
    "start_time": "2025-04-10T17:41:41.184Z"
   },
   {
    "duration": 4,
    "start_time": "2025-04-10T17:41:41.188Z"
   },
   {
    "duration": 8,
    "start_time": "2025-04-10T17:41:41.194Z"
   },
   {
    "duration": 8,
    "start_time": "2025-04-10T17:41:41.204Z"
   },
   {
    "duration": 42,
    "start_time": "2025-04-10T17:41:41.231Z"
   },
   {
    "duration": 3,
    "start_time": "2025-04-10T17:41:41.274Z"
   },
   {
    "duration": 5,
    "start_time": "2025-04-10T17:41:41.279Z"
   },
   {
    "duration": 3,
    "start_time": "2025-04-10T17:41:41.285Z"
   },
   {
    "duration": 3,
    "start_time": "2025-04-10T17:41:41.290Z"
   },
   {
    "duration": 52,
    "start_time": "2025-04-10T17:41:41.295Z"
   },
   {
    "duration": 4,
    "start_time": "2025-04-10T17:41:41.348Z"
   },
   {
    "duration": 6,
    "start_time": "2025-04-10T17:41:41.354Z"
   },
   {
    "duration": 6,
    "start_time": "2025-04-10T17:41:41.364Z"
   },
   {
    "duration": 542,
    "start_time": "2025-04-10T17:41:41.372Z"
   },
   {
    "duration": 3,
    "start_time": "2025-04-10T17:41:41.916Z"
   },
   {
    "duration": 12,
    "start_time": "2025-04-10T17:41:41.921Z"
   },
   {
    "duration": 5,
    "start_time": "2025-04-10T17:41:41.935Z"
   },
   {
    "duration": 6,
    "start_time": "2025-04-10T17:41:41.941Z"
   },
   {
    "duration": 11,
    "start_time": "2025-04-10T17:41:41.949Z"
   },
   {
    "duration": 4,
    "start_time": "2025-04-10T17:41:41.962Z"
   },
   {
    "duration": 5,
    "start_time": "2025-04-10T17:41:41.967Z"
   },
   {
    "duration": 63,
    "start_time": "2025-04-10T17:41:41.973Z"
   },
   {
    "duration": 442,
    "start_time": "2025-04-10T17:41:42.038Z"
   },
   {
    "duration": 455,
    "start_time": "2025-04-10T17:41:42.482Z"
   },
   {
    "duration": 3,
    "start_time": "2025-04-10T17:41:42.939Z"
   },
   {
    "duration": 3,
    "start_time": "2025-04-10T17:41:42.944Z"
   },
   {
    "duration": 3,
    "start_time": "2025-04-10T17:41:42.949Z"
   },
   {
    "duration": 3,
    "start_time": "2025-04-10T17:42:59.443Z"
   },
   {
    "duration": 3,
    "start_time": "2025-04-10T17:43:17.069Z"
   },
   {
    "duration": 5,
    "start_time": "2025-04-10T17:44:14.709Z"
   },
   {
    "duration": 2,
    "start_time": "2025-04-10T17:44:33.025Z"
   },
   {
    "duration": 4,
    "start_time": "2025-04-10T17:44:44.323Z"
   },
   {
    "duration": 3,
    "start_time": "2025-04-10T17:44:47.019Z"
   },
   {
    "duration": 7,
    "start_time": "2025-04-10T17:44:58.913Z"
   },
   {
    "duration": 3,
    "start_time": "2025-04-10T17:52:48.088Z"
   },
   {
    "duration": 2,
    "start_time": "2025-04-10T17:53:23.966Z"
   },
   {
    "duration": 4,
    "start_time": "2025-04-10T17:53:24.167Z"
   },
   {
    "duration": 4,
    "start_time": "2025-04-10T17:54:31.376Z"
   },
   {
    "duration": 3,
    "start_time": "2025-04-10T17:54:31.779Z"
   },
   {
    "duration": 3,
    "start_time": "2025-04-10T17:54:32.216Z"
   },
   {
    "duration": 9,
    "start_time": "2025-04-10T17:54:32.753Z"
   },
   {
    "duration": 2,
    "start_time": "2025-04-10T18:09:47.596Z"
   },
   {
    "duration": 4,
    "start_time": "2025-04-10T18:10:05.210Z"
   },
   {
    "duration": 2662,
    "start_time": "2025-04-10T23:01:45.785Z"
   },
   {
    "duration": 13,
    "start_time": "2025-04-10T23:01:48.449Z"
   },
   {
    "duration": 3,
    "start_time": "2025-04-10T23:01:48.467Z"
   },
   {
    "duration": 11,
    "start_time": "2025-04-10T23:01:48.471Z"
   },
   {
    "duration": 9,
    "start_time": "2025-04-10T23:01:48.483Z"
   },
   {
    "duration": 4,
    "start_time": "2025-04-10T23:01:48.493Z"
   },
   {
    "duration": 3,
    "start_time": "2025-04-10T23:01:48.498Z"
   },
   {
    "duration": 28,
    "start_time": "2025-04-10T23:01:48.503Z"
   },
   {
    "duration": 8,
    "start_time": "2025-04-10T23:01:48.535Z"
   },
   {
    "duration": 4,
    "start_time": "2025-04-10T23:01:48.545Z"
   },
   {
    "duration": 18,
    "start_time": "2025-04-10T23:01:48.552Z"
   },
   {
    "duration": 2556,
    "start_time": "2025-04-10T23:01:48.573Z"
   },
   {
    "duration": 7,
    "start_time": "2025-04-10T23:01:51.130Z"
   },
   {
    "duration": 315,
    "start_time": "2025-04-10T23:01:51.139Z"
   },
   {
    "duration": 512,
    "start_time": "2025-04-10T23:01:51.456Z"
   },
   {
    "duration": 3,
    "start_time": "2025-04-10T23:01:51.969Z"
   },
   {
    "duration": 5,
    "start_time": "2025-04-10T23:01:51.973Z"
   },
   {
    "duration": 7,
    "start_time": "2025-04-10T23:01:51.980Z"
   },
   {
    "duration": 8,
    "start_time": "2025-04-10T23:01:51.989Z"
   },
   {
    "duration": 64,
    "start_time": "2025-04-10T23:01:51.999Z"
   },
   {
    "duration": 3,
    "start_time": "2025-04-10T23:01:52.065Z"
   },
   {
    "duration": 5,
    "start_time": "2025-04-10T23:01:52.070Z"
   },
   {
    "duration": 3,
    "start_time": "2025-04-10T23:01:52.076Z"
   },
   {
    "duration": 3,
    "start_time": "2025-04-10T23:01:52.081Z"
   },
   {
    "duration": 49,
    "start_time": "2025-04-10T23:01:52.085Z"
   },
   {
    "duration": 4,
    "start_time": "2025-04-10T23:01:52.136Z"
   },
   {
    "duration": 5,
    "start_time": "2025-04-10T23:01:52.145Z"
   },
   {
    "duration": 7,
    "start_time": "2025-04-10T23:01:52.151Z"
   },
   {
    "duration": 569,
    "start_time": "2025-04-10T23:01:52.159Z"
   },
   {
    "duration": 4,
    "start_time": "2025-04-10T23:01:52.730Z"
   },
   {
    "duration": 4,
    "start_time": "2025-04-10T23:01:52.736Z"
   },
   {
    "duration": 5,
    "start_time": "2025-04-10T23:01:52.741Z"
   },
   {
    "duration": 3,
    "start_time": "2025-04-10T23:01:52.748Z"
   },
   {
    "duration": 8,
    "start_time": "2025-04-10T23:01:52.752Z"
   },
   {
    "duration": 4,
    "start_time": "2025-04-10T23:01:52.761Z"
   },
   {
    "duration": 4,
    "start_time": "2025-04-10T23:01:52.824Z"
   },
   {
    "duration": 5,
    "start_time": "2025-04-10T23:01:52.829Z"
   },
   {
    "duration": 434,
    "start_time": "2025-04-10T23:01:52.835Z"
   },
   {
    "duration": 449,
    "start_time": "2025-04-10T23:01:53.271Z"
   },
   {
    "duration": 3,
    "start_time": "2025-04-10T23:01:53.724Z"
   },
   {
    "duration": 3,
    "start_time": "2025-04-10T23:01:53.729Z"
   },
   {
    "duration": 4,
    "start_time": "2025-04-10T23:01:53.733Z"
   },
   {
    "duration": 4,
    "start_time": "2025-04-10T23:01:53.738Z"
   },
   {
    "duration": 2,
    "start_time": "2025-04-10T23:01:53.744Z"
   },
   {
    "duration": 3,
    "start_time": "2025-04-10T23:01:53.748Z"
   },
   {
    "duration": 7,
    "start_time": "2025-04-10T23:01:53.753Z"
   },
   {
    "duration": 6,
    "start_time": "2025-04-10T23:01:53.762Z"
   },
   {
    "duration": 2,
    "start_time": "2025-04-10T23:01:53.771Z"
   },
   {
    "duration": 4,
    "start_time": "2025-04-10T23:01:53.824Z"
   },
   {
    "duration": 4,
    "start_time": "2025-04-10T23:01:53.830Z"
   },
   {
    "duration": 4,
    "start_time": "2025-04-10T23:01:53.835Z"
   },
   {
    "duration": 3,
    "start_time": "2025-04-10T23:01:53.841Z"
   },
   {
    "duration": 82,
    "start_time": "2025-04-10T23:01:53.846Z"
   },
   {
    "duration": 7,
    "start_time": "2025-04-10T23:07:17.460Z"
   },
   {
    "duration": 4,
    "start_time": "2025-04-10T23:07:26.400Z"
   },
   {
    "duration": 4,
    "start_time": "2025-04-10T23:08:31.703Z"
   },
   {
    "duration": 3,
    "start_time": "2025-04-10T23:08:53.664Z"
   },
   {
    "duration": 8,
    "start_time": "2025-04-10T23:08:57.383Z"
   },
   {
    "duration": 18,
    "start_time": "2025-04-10T23:09:03.695Z"
   },
   {
    "duration": 8,
    "start_time": "2025-04-10T23:09:15.776Z"
   },
   {
    "duration": 1005,
    "start_time": "2025-04-11T00:00:55.524Z"
   },
   {
    "duration": 8,
    "start_time": "2025-04-11T00:00:56.531Z"
   },
   {
    "duration": 3,
    "start_time": "2025-04-11T00:00:56.540Z"
   },
   {
    "duration": 10,
    "start_time": "2025-04-11T00:00:56.545Z"
   },
   {
    "duration": 9,
    "start_time": "2025-04-11T00:00:56.556Z"
   },
   {
    "duration": 3,
    "start_time": "2025-04-11T00:00:56.566Z"
   },
   {
    "duration": 4,
    "start_time": "2025-04-11T00:00:56.571Z"
   },
   {
    "duration": 8,
    "start_time": "2025-04-11T00:00:56.576Z"
   },
   {
    "duration": 40,
    "start_time": "2025-04-11T00:00:56.586Z"
   },
   {
    "duration": 4,
    "start_time": "2025-04-11T00:00:56.629Z"
   },
   {
    "duration": 15,
    "start_time": "2025-04-11T00:00:56.635Z"
   },
   {
    "duration": 2589,
    "start_time": "2025-04-11T00:00:56.652Z"
   },
   {
    "duration": 7,
    "start_time": "2025-04-11T00:00:59.242Z"
   },
   {
    "duration": 298,
    "start_time": "2025-04-11T00:00:59.251Z"
   },
   {
    "duration": 410,
    "start_time": "2025-04-11T00:00:59.551Z"
   },
   {
    "duration": 3,
    "start_time": "2025-04-11T00:00:59.962Z"
   },
   {
    "duration": 5,
    "start_time": "2025-04-11T00:00:59.967Z"
   },
   {
    "duration": 9,
    "start_time": "2025-04-11T00:00:59.973Z"
   },
   {
    "duration": 9,
    "start_time": "2025-04-11T00:00:59.983Z"
   },
   {
    "duration": 72,
    "start_time": "2025-04-11T00:00:59.993Z"
   },
   {
    "duration": 4,
    "start_time": "2025-04-11T00:01:00.066Z"
   },
   {
    "duration": 4,
    "start_time": "2025-04-11T00:01:00.072Z"
   },
   {
    "duration": 3,
    "start_time": "2025-04-11T00:01:00.078Z"
   },
   {
    "duration": 2,
    "start_time": "2025-04-11T00:01:00.084Z"
   },
   {
    "duration": 47,
    "start_time": "2025-04-11T00:01:00.088Z"
   },
   {
    "duration": 5,
    "start_time": "2025-04-11T00:01:00.137Z"
   },
   {
    "duration": 5,
    "start_time": "2025-04-11T00:01:00.144Z"
   },
   {
    "duration": 6,
    "start_time": "2025-04-11T00:01:00.155Z"
   },
   {
    "duration": 581,
    "start_time": "2025-04-11T00:01:00.163Z"
   },
   {
    "duration": 4,
    "start_time": "2025-04-11T00:01:00.746Z"
   },
   {
    "duration": 4,
    "start_time": "2025-04-11T00:01:00.751Z"
   },
   {
    "duration": 5,
    "start_time": "2025-04-11T00:01:00.756Z"
   },
   {
    "duration": 5,
    "start_time": "2025-04-11T00:01:00.762Z"
   },
   {
    "duration": 8,
    "start_time": "2025-04-11T00:01:00.768Z"
   },
   {
    "duration": 51,
    "start_time": "2025-04-11T00:01:00.777Z"
   },
   {
    "duration": 7,
    "start_time": "2025-04-11T00:01:00.829Z"
   },
   {
    "duration": 4,
    "start_time": "2025-04-11T00:01:00.840Z"
   },
   {
    "duration": 423,
    "start_time": "2025-04-11T00:01:00.923Z"
   },
   {
    "duration": 420,
    "start_time": "2025-04-11T00:01:01.348Z"
   },
   {
    "duration": 5,
    "start_time": "2025-04-11T00:01:01.770Z"
   },
   {
    "duration": 2,
    "start_time": "2025-04-11T00:01:01.780Z"
   },
   {
    "duration": 4,
    "start_time": "2025-04-11T00:01:01.784Z"
   },
   {
    "duration": 5,
    "start_time": "2025-04-11T00:01:01.790Z"
   },
   {
    "duration": 2,
    "start_time": "2025-04-11T00:01:01.797Z"
   },
   {
    "duration": 25,
    "start_time": "2025-04-11T00:01:01.801Z"
   },
   {
    "duration": 7,
    "start_time": "2025-04-11T00:01:01.827Z"
   },
   {
    "duration": 7,
    "start_time": "2025-04-11T00:01:01.836Z"
   },
   {
    "duration": 5,
    "start_time": "2025-04-11T00:01:01.845Z"
   },
   {
    "duration": 4,
    "start_time": "2025-04-11T00:01:01.851Z"
   },
   {
    "duration": 66,
    "start_time": "2025-04-11T00:01:01.860Z"
   },
   {
    "duration": 4,
    "start_time": "2025-04-11T00:01:01.929Z"
   },
   {
    "duration": 3,
    "start_time": "2025-04-11T00:01:01.935Z"
   },
   {
    "duration": 8,
    "start_time": "2025-04-11T00:01:01.940Z"
   },
   {
    "duration": 4,
    "start_time": "2025-04-11T00:02:37.747Z"
   },
   {
    "duration": 3,
    "start_time": "2025-04-11T00:02:37.875Z"
   },
   {
    "duration": 3,
    "start_time": "2025-04-11T00:02:38.047Z"
   },
   {
    "duration": 3,
    "start_time": "2025-04-11T00:02:38.214Z"
   },
   {
    "duration": 5,
    "start_time": "2025-04-11T00:02:38.365Z"
   },
   {
    "duration": 4,
    "start_time": "2025-04-11T00:02:38.581Z"
   },
   {
    "duration": 4,
    "start_time": "2025-04-11T00:02:39.031Z"
   },
   {
    "duration": 4,
    "start_time": "2025-04-11T00:02:39.769Z"
   },
   {
    "duration": 2986,
    "start_time": "2025-04-11T01:26:19.489Z"
   },
   {
    "duration": 12,
    "start_time": "2025-04-11T01:26:22.478Z"
   },
   {
    "duration": 4,
    "start_time": "2025-04-11T01:26:22.492Z"
   },
   {
    "duration": 13,
    "start_time": "2025-04-11T01:26:22.498Z"
   },
   {
    "duration": 11,
    "start_time": "2025-04-11T01:26:22.524Z"
   },
   {
    "duration": 3,
    "start_time": "2025-04-11T01:26:22.538Z"
   },
   {
    "duration": 5,
    "start_time": "2025-04-11T01:26:22.543Z"
   },
   {
    "duration": 10,
    "start_time": "2025-04-11T01:26:22.550Z"
   },
   {
    "duration": 10,
    "start_time": "2025-04-11T01:26:22.561Z"
   },
   {
    "duration": 5,
    "start_time": "2025-04-11T01:26:22.574Z"
   },
   {
    "duration": 58,
    "start_time": "2025-04-11T01:26:22.581Z"
   },
   {
    "duration": 2660,
    "start_time": "2025-04-11T01:26:22.641Z"
   },
   {
    "duration": 7,
    "start_time": "2025-04-11T01:26:25.304Z"
   },
   {
    "duration": 286,
    "start_time": "2025-04-11T01:26:25.312Z"
   },
   {
    "duration": 507,
    "start_time": "2025-04-11T01:26:25.600Z"
   },
   {
    "duration": 3,
    "start_time": "2025-04-11T01:26:26.109Z"
   },
   {
    "duration": 12,
    "start_time": "2025-04-11T01:26:26.114Z"
   },
   {
    "duration": 9,
    "start_time": "2025-04-11T01:26:26.128Z"
   },
   {
    "duration": 10,
    "start_time": "2025-04-11T01:26:26.141Z"
   },
   {
    "duration": 75,
    "start_time": "2025-04-11T01:26:26.153Z"
   },
   {
    "duration": 4,
    "start_time": "2025-04-11T01:26:26.229Z"
   },
   {
    "duration": 5,
    "start_time": "2025-04-11T01:26:26.235Z"
   },
   {
    "duration": 4,
    "start_time": "2025-04-11T01:26:26.242Z"
   },
   {
    "duration": 4,
    "start_time": "2025-04-11T01:26:26.248Z"
   },
   {
    "duration": 19,
    "start_time": "2025-04-11T01:26:26.253Z"
   },
   {
    "duration": 4,
    "start_time": "2025-04-11T01:26:26.274Z"
   },
   {
    "duration": 6,
    "start_time": "2025-04-11T01:26:26.280Z"
   },
   {
    "duration": 7,
    "start_time": "2025-04-11T01:26:26.328Z"
   },
   {
    "duration": 564,
    "start_time": "2025-04-11T01:26:26.337Z"
   },
   {
    "duration": 4,
    "start_time": "2025-04-11T01:26:26.903Z"
   },
   {
    "duration": 16,
    "start_time": "2025-04-11T01:26:26.909Z"
   },
   {
    "duration": 5,
    "start_time": "2025-04-11T01:26:26.927Z"
   },
   {
    "duration": 3,
    "start_time": "2025-04-11T01:26:26.934Z"
   },
   {
    "duration": 10,
    "start_time": "2025-04-11T01:26:26.939Z"
   },
   {
    "duration": 7,
    "start_time": "2025-04-11T01:26:26.951Z"
   },
   {
    "duration": 70,
    "start_time": "2025-04-11T01:26:26.959Z"
   },
   {
    "duration": 6,
    "start_time": "2025-04-11T01:26:27.031Z"
   },
   {
    "duration": 442,
    "start_time": "2025-04-11T01:26:27.039Z"
   },
   {
    "duration": 407,
    "start_time": "2025-04-11T01:26:27.484Z"
   },
   {
    "duration": 4,
    "start_time": "2025-04-11T01:26:27.893Z"
   },
   {
    "duration": 4,
    "start_time": "2025-04-11T01:26:27.898Z"
   },
   {
    "duration": 3,
    "start_time": "2025-04-11T01:26:27.904Z"
   },
   {
    "duration": 5,
    "start_time": "2025-04-11T01:26:27.925Z"
   },
   {
    "duration": 3,
    "start_time": "2025-04-11T01:26:27.931Z"
   },
   {
    "duration": 4,
    "start_time": "2025-04-11T01:26:27.936Z"
   },
   {
    "duration": 8,
    "start_time": "2025-04-11T01:26:27.941Z"
   },
   {
    "duration": 10,
    "start_time": "2025-04-11T01:26:27.950Z"
   },
   {
    "duration": 60,
    "start_time": "2025-04-11T01:26:27.964Z"
   },
   {
    "duration": 5,
    "start_time": "2025-04-11T01:26:28.026Z"
   },
   {
    "duration": 4,
    "start_time": "2025-04-11T01:26:28.032Z"
   },
   {
    "duration": 4,
    "start_time": "2025-04-11T01:26:28.038Z"
   },
   {
    "duration": 3,
    "start_time": "2025-04-11T01:26:28.044Z"
   },
   {
    "duration": 85,
    "start_time": "2025-04-11T01:26:28.048Z"
   },
   {
    "duration": 5,
    "start_time": "2025-04-11T01:26:28.134Z"
   },
   {
    "duration": 3,
    "start_time": "2025-04-11T01:26:28.141Z"
   },
   {
    "duration": 4,
    "start_time": "2025-04-11T01:26:28.146Z"
   },
   {
    "duration": 3,
    "start_time": "2025-04-11T01:26:28.153Z"
   },
   {
    "duration": 4,
    "start_time": "2025-04-11T01:26:28.157Z"
   },
   {
    "duration": 4,
    "start_time": "2025-04-11T01:26:28.163Z"
   },
   {
    "duration": 4,
    "start_time": "2025-04-11T01:26:28.169Z"
   },
   {
    "duration": 50,
    "start_time": "2025-04-11T01:26:28.174Z"
   },
   {
    "duration": 3,
    "start_time": "2025-04-11T01:30:32.067Z"
   },
   {
    "duration": 6,
    "start_time": "2025-04-11T01:30:53.939Z"
   },
   {
    "duration": 6,
    "start_time": "2025-04-11T01:31:13.065Z"
   },
   {
    "duration": 255,
    "start_time": "2025-04-11T01:42:09.160Z"
   },
   {
    "duration": 2700,
    "start_time": "2025-04-11T11:51:32.036Z"
   },
   {
    "duration": 15,
    "start_time": "2025-04-11T11:51:34.739Z"
   },
   {
    "duration": 4,
    "start_time": "2025-04-11T11:51:34.755Z"
   },
   {
    "duration": 10,
    "start_time": "2025-04-11T11:51:34.761Z"
   },
   {
    "duration": 8,
    "start_time": "2025-04-11T11:51:34.773Z"
   },
   {
    "duration": 2,
    "start_time": "2025-04-11T11:51:34.783Z"
   },
   {
    "duration": 3,
    "start_time": "2025-04-11T11:51:34.787Z"
   },
   {
    "duration": 9,
    "start_time": "2025-04-11T11:51:34.792Z"
   },
   {
    "duration": 9,
    "start_time": "2025-04-11T11:51:34.831Z"
   },
   {
    "duration": 4,
    "start_time": "2025-04-11T11:51:34.844Z"
   },
   {
    "duration": 18,
    "start_time": "2025-04-11T11:51:34.850Z"
   },
   {
    "duration": 2610,
    "start_time": "2025-04-11T11:51:34.870Z"
   },
   {
    "duration": 6,
    "start_time": "2025-04-11T11:51:37.482Z"
   },
   {
    "duration": 338,
    "start_time": "2025-04-11T11:51:37.489Z"
   },
   {
    "duration": 406,
    "start_time": "2025-04-11T11:51:37.832Z"
   },
   {
    "duration": 2,
    "start_time": "2025-04-11T11:51:38.240Z"
   },
   {
    "duration": 4,
    "start_time": "2025-04-11T11:51:38.244Z"
   },
   {
    "duration": 7,
    "start_time": "2025-04-11T11:51:38.250Z"
   },
   {
    "duration": 8,
    "start_time": "2025-04-11T11:51:38.260Z"
   },
   {
    "duration": 65,
    "start_time": "2025-04-11T11:51:38.270Z"
   },
   {
    "duration": 2,
    "start_time": "2025-04-11T11:51:38.337Z"
   },
   {
    "duration": 5,
    "start_time": "2025-04-11T11:51:38.341Z"
   },
   {
    "duration": 4,
    "start_time": "2025-04-11T11:51:38.348Z"
   },
   {
    "duration": 3,
    "start_time": "2025-04-11T11:51:38.353Z"
   },
   {
    "duration": 19,
    "start_time": "2025-04-11T11:51:38.358Z"
   },
   {
    "duration": 4,
    "start_time": "2025-04-11T11:51:38.378Z"
   },
   {
    "duration": 5,
    "start_time": "2025-04-11T11:51:38.384Z"
   },
   {
    "duration": 38,
    "start_time": "2025-04-11T11:51:38.394Z"
   },
   {
    "duration": 539,
    "start_time": "2025-04-11T11:51:38.434Z"
   },
   {
    "duration": 4,
    "start_time": "2025-04-11T11:51:38.974Z"
   },
   {
    "duration": 4,
    "start_time": "2025-04-11T11:51:38.980Z"
   },
   {
    "duration": 3,
    "start_time": "2025-04-11T11:51:38.987Z"
   },
   {
    "duration": 4,
    "start_time": "2025-04-11T11:51:38.992Z"
   },
   {
    "duration": 34,
    "start_time": "2025-04-11T11:51:38.997Z"
   },
   {
    "duration": 5,
    "start_time": "2025-04-11T11:51:39.033Z"
   },
   {
    "duration": 4,
    "start_time": "2025-04-11T11:51:39.039Z"
   },
   {
    "duration": 5,
    "start_time": "2025-04-11T11:51:39.044Z"
   },
   {
    "duration": 448,
    "start_time": "2025-04-11T11:51:39.051Z"
   },
   {
    "duration": 398,
    "start_time": "2025-04-11T11:51:39.501Z"
   },
   {
    "duration": 4,
    "start_time": "2025-04-11T11:51:39.901Z"
   },
   {
    "duration": 2,
    "start_time": "2025-04-11T11:51:39.907Z"
   },
   {
    "duration": 3,
    "start_time": "2025-04-11T11:51:39.911Z"
   },
   {
    "duration": 3,
    "start_time": "2025-04-11T11:51:39.932Z"
   },
   {
    "duration": 3,
    "start_time": "2025-04-11T11:51:39.936Z"
   },
   {
    "duration": 3,
    "start_time": "2025-04-11T11:51:39.941Z"
   },
   {
    "duration": 6,
    "start_time": "2025-04-11T11:51:39.946Z"
   },
   {
    "duration": 9,
    "start_time": "2025-04-11T11:51:39.954Z"
   },
   {
    "duration": 3,
    "start_time": "2025-04-11T11:51:39.964Z"
   },
   {
    "duration": 63,
    "start_time": "2025-04-11T11:51:39.969Z"
   },
   {
    "duration": 4,
    "start_time": "2025-04-11T11:51:40.034Z"
   },
   {
    "duration": 6,
    "start_time": "2025-04-11T11:51:40.040Z"
   },
   {
    "duration": 4,
    "start_time": "2025-04-11T11:51:40.050Z"
   },
   {
    "duration": 10,
    "start_time": "2025-04-11T11:51:40.131Z"
   },
   {
    "duration": 4,
    "start_time": "2025-04-11T11:51:40.142Z"
   },
   {
    "duration": 5,
    "start_time": "2025-04-11T11:51:40.147Z"
   },
   {
    "duration": 4,
    "start_time": "2025-04-11T11:51:40.153Z"
   },
   {
    "duration": 3,
    "start_time": "2025-04-11T11:51:40.159Z"
   },
   {
    "duration": 4,
    "start_time": "2025-04-11T11:51:40.163Z"
   },
   {
    "duration": 4,
    "start_time": "2025-04-11T11:51:40.169Z"
   },
   {
    "duration": 3,
    "start_time": "2025-04-11T11:51:40.174Z"
   },
   {
    "duration": 4,
    "start_time": "2025-04-11T11:51:40.179Z"
   },
   {
    "duration": 313,
    "start_time": "2025-04-11T11:51:40.185Z"
   },
   {
    "duration": 2789,
    "start_time": "2025-04-11T14:20:30.944Z"
   },
   {
    "duration": 14,
    "start_time": "2025-04-11T14:20:33.736Z"
   },
   {
    "duration": 3,
    "start_time": "2025-04-11T14:20:33.751Z"
   },
   {
    "duration": 11,
    "start_time": "2025-04-11T14:20:33.755Z"
   },
   {
    "duration": 9,
    "start_time": "2025-04-11T14:20:33.768Z"
   },
   {
    "duration": 3,
    "start_time": "2025-04-11T14:20:33.778Z"
   },
   {
    "duration": 3,
    "start_time": "2025-04-11T14:20:33.783Z"
   },
   {
    "duration": 29,
    "start_time": "2025-04-11T14:20:33.787Z"
   },
   {
    "duration": 8,
    "start_time": "2025-04-11T14:20:33.818Z"
   },
   {
    "duration": 4,
    "start_time": "2025-04-11T14:20:33.828Z"
   },
   {
    "duration": 15,
    "start_time": "2025-04-11T14:20:33.834Z"
   },
   {
    "duration": 2555,
    "start_time": "2025-04-11T14:20:33.850Z"
   },
   {
    "duration": 6,
    "start_time": "2025-04-11T14:20:36.407Z"
   },
   {
    "duration": 317,
    "start_time": "2025-04-11T14:20:36.417Z"
   },
   {
    "duration": 387,
    "start_time": "2025-04-11T14:20:36.736Z"
   },
   {
    "duration": 2,
    "start_time": "2025-04-11T14:20:37.125Z"
   },
   {
    "duration": 4,
    "start_time": "2025-04-11T14:20:37.129Z"
   },
   {
    "duration": 7,
    "start_time": "2025-04-11T14:20:37.135Z"
   },
   {
    "duration": 8,
    "start_time": "2025-04-11T14:20:37.144Z"
   },
   {
    "duration": 6,
    "start_time": "2025-04-11T14:20:37.153Z"
   },
   {
    "duration": 0,
    "start_time": "2025-04-11T14:20:37.162Z"
   },
   {
    "duration": 0,
    "start_time": "2025-04-11T14:20:37.164Z"
   },
   {
    "duration": 0,
    "start_time": "2025-04-11T14:20:37.165Z"
   },
   {
    "duration": 0,
    "start_time": "2025-04-11T14:20:37.166Z"
   },
   {
    "duration": 0,
    "start_time": "2025-04-11T14:20:37.167Z"
   },
   {
    "duration": 0,
    "start_time": "2025-04-11T14:20:37.168Z"
   },
   {
    "duration": 0,
    "start_time": "2025-04-11T14:20:37.169Z"
   },
   {
    "duration": 0,
    "start_time": "2025-04-11T14:20:37.170Z"
   },
   {
    "duration": 0,
    "start_time": "2025-04-11T14:20:37.209Z"
   },
   {
    "duration": 0,
    "start_time": "2025-04-11T14:20:37.210Z"
   },
   {
    "duration": 0,
    "start_time": "2025-04-11T14:20:37.211Z"
   },
   {
    "duration": 0,
    "start_time": "2025-04-11T14:20:37.212Z"
   },
   {
    "duration": 0,
    "start_time": "2025-04-11T14:20:37.213Z"
   },
   {
    "duration": 0,
    "start_time": "2025-04-11T14:20:37.214Z"
   },
   {
    "duration": 0,
    "start_time": "2025-04-11T14:20:37.215Z"
   },
   {
    "duration": 0,
    "start_time": "2025-04-11T14:20:37.216Z"
   },
   {
    "duration": 0,
    "start_time": "2025-04-11T14:20:37.217Z"
   },
   {
    "duration": 0,
    "start_time": "2025-04-11T14:20:37.218Z"
   },
   {
    "duration": 0,
    "start_time": "2025-04-11T14:20:37.219Z"
   },
   {
    "duration": 0,
    "start_time": "2025-04-11T14:20:37.219Z"
   },
   {
    "duration": 0,
    "start_time": "2025-04-11T14:20:37.221Z"
   },
   {
    "duration": 0,
    "start_time": "2025-04-11T14:20:37.222Z"
   },
   {
    "duration": 0,
    "start_time": "2025-04-11T14:20:37.223Z"
   },
   {
    "duration": 0,
    "start_time": "2025-04-11T14:20:37.224Z"
   },
   {
    "duration": 0,
    "start_time": "2025-04-11T14:20:37.225Z"
   },
   {
    "duration": 0,
    "start_time": "2025-04-11T14:20:37.227Z"
   },
   {
    "duration": 0,
    "start_time": "2025-04-11T14:20:37.227Z"
   },
   {
    "duration": 0,
    "start_time": "2025-04-11T14:20:37.229Z"
   },
   {
    "duration": 0,
    "start_time": "2025-04-11T14:20:37.230Z"
   },
   {
    "duration": 0,
    "start_time": "2025-04-11T14:20:37.232Z"
   },
   {
    "duration": 0,
    "start_time": "2025-04-11T14:20:37.233Z"
   },
   {
    "duration": 0,
    "start_time": "2025-04-11T14:20:37.234Z"
   },
   {
    "duration": 0,
    "start_time": "2025-04-11T14:20:37.236Z"
   },
   {
    "duration": 0,
    "start_time": "2025-04-11T14:20:37.237Z"
   },
   {
    "duration": 0,
    "start_time": "2025-04-11T14:20:37.239Z"
   },
   {
    "duration": 0,
    "start_time": "2025-04-11T14:20:37.240Z"
   },
   {
    "duration": 0,
    "start_time": "2025-04-11T14:20:37.241Z"
   },
   {
    "duration": 0,
    "start_time": "2025-04-11T14:20:37.242Z"
   },
   {
    "duration": 0,
    "start_time": "2025-04-11T14:20:37.243Z"
   },
   {
    "duration": 0,
    "start_time": "2025-04-11T14:20:37.244Z"
   },
   {
    "duration": 0,
    "start_time": "2025-04-11T14:20:37.245Z"
   },
   {
    "duration": 0,
    "start_time": "2025-04-11T14:20:37.246Z"
   },
   {
    "duration": 41,
    "start_time": "2025-04-11T14:21:23.595Z"
   },
   {
    "duration": 1011,
    "start_time": "2025-04-11T14:21:59.786Z"
   },
   {
    "duration": 12,
    "start_time": "2025-04-11T14:22:00.799Z"
   },
   {
    "duration": 4,
    "start_time": "2025-04-11T14:22:00.812Z"
   },
   {
    "duration": 10,
    "start_time": "2025-04-11T14:22:00.818Z"
   },
   {
    "duration": 9,
    "start_time": "2025-04-11T14:22:00.830Z"
   },
   {
    "duration": 3,
    "start_time": "2025-04-11T14:22:00.840Z"
   },
   {
    "duration": 3,
    "start_time": "2025-04-11T14:22:00.844Z"
   },
   {
    "duration": 9,
    "start_time": "2025-04-11T14:22:00.848Z"
   },
   {
    "duration": 8,
    "start_time": "2025-04-11T14:22:00.858Z"
   },
   {
    "duration": 41,
    "start_time": "2025-04-11T14:22:00.868Z"
   },
   {
    "duration": 15,
    "start_time": "2025-04-11T14:22:00.911Z"
   },
   {
    "duration": 2499,
    "start_time": "2025-04-11T14:22:00.927Z"
   },
   {
    "duration": 8,
    "start_time": "2025-04-11T14:22:03.427Z"
   },
   {
    "duration": 299,
    "start_time": "2025-04-11T14:22:03.438Z"
   },
   {
    "duration": 410,
    "start_time": "2025-04-11T14:22:03.739Z"
   },
   {
    "duration": 3,
    "start_time": "2025-04-11T14:22:04.150Z"
   },
   {
    "duration": 5,
    "start_time": "2025-04-11T14:22:04.155Z"
   },
   {
    "duration": 8,
    "start_time": "2025-04-11T14:22:04.161Z"
   },
   {
    "duration": 8,
    "start_time": "2025-04-11T14:22:04.170Z"
   },
   {
    "duration": 66,
    "start_time": "2025-04-11T14:22:04.180Z"
   },
   {
    "duration": 3,
    "start_time": "2025-04-11T14:22:04.248Z"
   },
   {
    "duration": 5,
    "start_time": "2025-04-11T14:22:04.252Z"
   },
   {
    "duration": 3,
    "start_time": "2025-04-11T14:22:04.258Z"
   },
   {
    "duration": 3,
    "start_time": "2025-04-11T14:22:04.264Z"
   },
   {
    "duration": 49,
    "start_time": "2025-04-11T14:22:04.269Z"
   },
   {
    "duration": 4,
    "start_time": "2025-04-11T14:22:04.319Z"
   },
   {
    "duration": 5,
    "start_time": "2025-04-11T14:22:04.325Z"
   },
   {
    "duration": 6,
    "start_time": "2025-04-11T14:22:04.331Z"
   },
   {
    "duration": 559,
    "start_time": "2025-04-11T14:22:04.338Z"
   },
   {
    "duration": 10,
    "start_time": "2025-04-11T14:22:04.899Z"
   },
   {
    "duration": 2,
    "start_time": "2025-04-11T14:22:04.911Z"
   },
   {
    "duration": 3,
    "start_time": "2025-04-11T14:22:04.915Z"
   },
   {
    "duration": 4,
    "start_time": "2025-04-11T14:22:04.920Z"
   },
   {
    "duration": 10,
    "start_time": "2025-04-11T14:22:04.925Z"
   },
   {
    "duration": 3,
    "start_time": "2025-04-11T14:22:04.937Z"
   },
   {
    "duration": 3,
    "start_time": "2025-04-11T14:22:04.941Z"
   },
   {
    "duration": 5,
    "start_time": "2025-04-11T14:22:05.010Z"
   },
   {
    "duration": 438,
    "start_time": "2025-04-11T14:22:05.017Z"
   },
   {
    "duration": 447,
    "start_time": "2025-04-11T14:22:05.457Z"
   },
   {
    "duration": 4,
    "start_time": "2025-04-11T14:22:05.906Z"
   },
   {
    "duration": 2,
    "start_time": "2025-04-11T14:22:05.916Z"
   },
   {
    "duration": 3,
    "start_time": "2025-04-11T14:22:05.920Z"
   },
   {
    "duration": 4,
    "start_time": "2025-04-11T14:22:05.924Z"
   },
   {
    "duration": 3,
    "start_time": "2025-04-11T14:22:05.929Z"
   },
   {
    "duration": 3,
    "start_time": "2025-04-11T14:22:05.933Z"
   },
   {
    "duration": 6,
    "start_time": "2025-04-11T14:22:05.939Z"
   },
   {
    "duration": 65,
    "start_time": "2025-04-11T14:22:05.946Z"
   },
   {
    "duration": 2,
    "start_time": "2025-04-11T14:22:06.015Z"
   },
   {
    "duration": 4,
    "start_time": "2025-04-11T14:22:06.018Z"
   },
   {
    "duration": 4,
    "start_time": "2025-04-11T14:22:06.023Z"
   },
   {
    "duration": 4,
    "start_time": "2025-04-11T14:22:06.028Z"
   },
   {
    "duration": 3,
    "start_time": "2025-04-11T14:22:06.109Z"
   },
   {
    "duration": 8,
    "start_time": "2025-04-11T14:22:06.114Z"
   },
   {
    "duration": 3,
    "start_time": "2025-04-11T14:22:06.124Z"
   },
   {
    "duration": 3,
    "start_time": "2025-04-11T14:22:06.129Z"
   },
   {
    "duration": 4,
    "start_time": "2025-04-11T14:22:06.133Z"
   },
   {
    "duration": 2,
    "start_time": "2025-04-11T14:22:06.139Z"
   },
   {
    "duration": 4,
    "start_time": "2025-04-11T14:22:06.143Z"
   },
   {
    "duration": 4,
    "start_time": "2025-04-11T14:22:06.149Z"
   },
   {
    "duration": 3,
    "start_time": "2025-04-11T14:22:06.156Z"
   },
   {
    "duration": 49,
    "start_time": "2025-04-11T14:22:06.161Z"
   },
   {
    "duration": 277,
    "start_time": "2025-04-11T14:22:06.212Z"
   },
   {
    "duration": 2777,
    "start_time": "2025-04-11T15:03:20.620Z"
   },
   {
    "duration": 15,
    "start_time": "2025-04-11T15:03:23.400Z"
   },
   {
    "duration": 3,
    "start_time": "2025-04-11T15:03:23.416Z"
   },
   {
    "duration": 10,
    "start_time": "2025-04-11T15:03:23.421Z"
   },
   {
    "duration": 8,
    "start_time": "2025-04-11T15:03:23.433Z"
   },
   {
    "duration": 2,
    "start_time": "2025-04-11T15:03:23.443Z"
   },
   {
    "duration": 3,
    "start_time": "2025-04-11T15:03:23.447Z"
   },
   {
    "duration": 7,
    "start_time": "2025-04-11T15:03:23.452Z"
   },
   {
    "duration": 9,
    "start_time": "2025-04-11T15:03:23.461Z"
   },
   {
    "duration": 37,
    "start_time": "2025-04-11T15:03:23.472Z"
   },
   {
    "duration": 16,
    "start_time": "2025-04-11T15:03:23.510Z"
   },
   {
    "duration": 2502,
    "start_time": "2025-04-11T15:03:23.527Z"
   },
   {
    "duration": 7,
    "start_time": "2025-04-11T15:03:26.031Z"
   },
   {
    "duration": 372,
    "start_time": "2025-04-11T15:03:26.040Z"
   },
   {
    "duration": 372,
    "start_time": "2025-04-11T15:03:26.414Z"
   },
   {
    "duration": 3,
    "start_time": "2025-04-11T15:03:26.788Z"
   },
   {
    "duration": 17,
    "start_time": "2025-04-11T15:03:26.793Z"
   },
   {
    "duration": 9,
    "start_time": "2025-04-11T15:03:26.811Z"
   },
   {
    "duration": 9,
    "start_time": "2025-04-11T15:03:26.821Z"
   },
   {
    "duration": 41,
    "start_time": "2025-04-11T15:03:26.831Z"
   },
   {
    "duration": 4,
    "start_time": "2025-04-11T15:03:26.873Z"
   },
   {
    "duration": 4,
    "start_time": "2025-04-11T15:03:26.909Z"
   },
   {
    "duration": 3,
    "start_time": "2025-04-11T15:03:26.915Z"
   },
   {
    "duration": 3,
    "start_time": "2025-04-11T15:03:26.920Z"
   },
   {
    "duration": 19,
    "start_time": "2025-04-11T15:03:26.924Z"
   },
   {
    "duration": 3,
    "start_time": "2025-04-11T15:03:26.945Z"
   },
   {
    "duration": 5,
    "start_time": "2025-04-11T15:03:26.950Z"
   },
   {
    "duration": 5,
    "start_time": "2025-04-11T15:03:26.960Z"
   },
   {
    "duration": 574,
    "start_time": "2025-04-11T15:03:26.967Z"
   },
   {
    "duration": 4,
    "start_time": "2025-04-11T15:03:27.543Z"
   },
   {
    "duration": 3,
    "start_time": "2025-04-11T15:03:27.549Z"
   },
   {
    "duration": 4,
    "start_time": "2025-04-11T15:03:27.554Z"
   },
   {
    "duration": 4,
    "start_time": "2025-04-11T15:03:27.559Z"
   },
   {
    "duration": 5,
    "start_time": "2025-04-11T15:03:27.564Z"
   },
   {
    "duration": 41,
    "start_time": "2025-04-11T15:03:27.570Z"
   },
   {
    "duration": 6,
    "start_time": "2025-04-11T15:03:27.613Z"
   },
   {
    "duration": 5,
    "start_time": "2025-04-11T15:03:27.620Z"
   },
   {
    "duration": 444,
    "start_time": "2025-04-11T15:03:27.627Z"
   },
   {
    "duration": 391,
    "start_time": "2025-04-11T15:03:28.073Z"
   },
   {
    "duration": 2,
    "start_time": "2025-04-11T15:03:28.466Z"
   },
   {
    "duration": 2,
    "start_time": "2025-04-11T15:03:28.471Z"
   },
   {
    "duration": 4,
    "start_time": "2025-04-11T15:03:28.475Z"
   },
   {
    "duration": 6,
    "start_time": "2025-04-11T15:03:28.481Z"
   },
   {
    "duration": 17,
    "start_time": "2025-04-11T15:03:28.492Z"
   },
   {
    "duration": 4,
    "start_time": "2025-04-11T15:03:28.513Z"
   },
   {
    "duration": 6,
    "start_time": "2025-04-11T15:03:28.520Z"
   },
   {
    "duration": 7,
    "start_time": "2025-04-11T15:03:28.527Z"
   },
   {
    "duration": 3,
    "start_time": "2025-04-11T15:03:28.536Z"
   },
   {
    "duration": 6,
    "start_time": "2025-04-11T15:03:28.540Z"
   },
   {
    "duration": 63,
    "start_time": "2025-04-11T15:03:28.548Z"
   },
   {
    "duration": 6,
    "start_time": "2025-04-11T15:03:28.613Z"
   },
   {
    "duration": 5,
    "start_time": "2025-04-11T15:03:28.621Z"
   },
   {
    "duration": 10,
    "start_time": "2025-04-11T15:03:28.628Z"
   },
   {
    "duration": 3,
    "start_time": "2025-04-11T15:03:28.639Z"
   },
   {
    "duration": 7,
    "start_time": "2025-04-11T15:03:28.709Z"
   },
   {
    "duration": 4,
    "start_time": "2025-04-11T15:03:28.718Z"
   },
   {
    "duration": 3,
    "start_time": "2025-04-11T15:03:28.724Z"
   },
   {
    "duration": 5,
    "start_time": "2025-04-11T15:03:28.728Z"
   },
   {
    "duration": 4,
    "start_time": "2025-04-11T15:03:28.734Z"
   },
   {
    "duration": 4,
    "start_time": "2025-04-11T15:03:28.739Z"
   },
   {
    "duration": 3,
    "start_time": "2025-04-11T15:03:28.746Z"
   },
   {
    "duration": 322,
    "start_time": "2025-04-11T15:03:28.751Z"
   },
   {
    "duration": 4,
    "start_time": "2025-04-11T15:18:11.842Z"
   },
   {
    "duration": 9,
    "start_time": "2025-04-11T15:18:11.849Z"
   },
   {
    "duration": 3,
    "start_time": "2025-04-11T15:18:11.859Z"
   },
   {
    "duration": 8,
    "start_time": "2025-04-11T15:18:11.864Z"
   },
   {
    "duration": 8,
    "start_time": "2025-04-11T15:18:11.874Z"
   },
   {
    "duration": 3,
    "start_time": "2025-04-11T15:18:11.884Z"
   },
   {
    "duration": 3,
    "start_time": "2025-04-11T15:18:11.888Z"
   },
   {
    "duration": 8,
    "start_time": "2025-04-11T15:18:11.893Z"
   },
   {
    "duration": 8,
    "start_time": "2025-04-11T15:18:11.909Z"
   },
   {
    "duration": 4,
    "start_time": "2025-04-11T15:18:11.919Z"
   },
   {
    "duration": 14,
    "start_time": "2025-04-11T15:18:11.925Z"
   },
   {
    "duration": 2554,
    "start_time": "2025-04-11T15:18:11.941Z"
   },
   {
    "duration": 12,
    "start_time": "2025-04-11T15:18:14.497Z"
   },
   {
    "duration": 297,
    "start_time": "2025-04-11T15:18:14.514Z"
   },
   {
    "duration": 399,
    "start_time": "2025-04-11T15:18:14.813Z"
   },
   {
    "duration": 3,
    "start_time": "2025-04-11T15:18:15.214Z"
   },
   {
    "duration": 5,
    "start_time": "2025-04-11T15:18:15.218Z"
   },
   {
    "duration": 8,
    "start_time": "2025-04-11T15:18:15.225Z"
   },
   {
    "duration": 9,
    "start_time": "2025-04-11T15:18:15.235Z"
   },
   {
    "duration": 71,
    "start_time": "2025-04-11T15:18:15.245Z"
   },
   {
    "duration": 3,
    "start_time": "2025-04-11T15:18:15.318Z"
   },
   {
    "duration": 5,
    "start_time": "2025-04-11T15:18:15.323Z"
   },
   {
    "duration": 3,
    "start_time": "2025-04-11T15:18:15.329Z"
   },
   {
    "duration": 3,
    "start_time": "2025-04-11T15:18:15.333Z"
   },
   {
    "duration": 18,
    "start_time": "2025-04-11T15:18:15.338Z"
   },
   {
    "duration": 4,
    "start_time": "2025-04-11T15:18:15.357Z"
   },
   {
    "duration": 6,
    "start_time": "2025-04-11T15:18:15.364Z"
   },
   {
    "duration": 42,
    "start_time": "2025-04-11T15:18:15.371Z"
   },
   {
    "duration": 534,
    "start_time": "2025-04-11T15:18:15.415Z"
   },
   {
    "duration": 4,
    "start_time": "2025-04-11T15:18:15.951Z"
   },
   {
    "duration": 3,
    "start_time": "2025-04-11T15:18:15.956Z"
   },
   {
    "duration": 4,
    "start_time": "2025-04-11T15:18:15.961Z"
   },
   {
    "duration": 3,
    "start_time": "2025-04-11T15:18:15.967Z"
   },
   {
    "duration": 38,
    "start_time": "2025-04-11T15:18:15.972Z"
   },
   {
    "duration": 7,
    "start_time": "2025-04-11T15:18:16.011Z"
   },
   {
    "duration": 4,
    "start_time": "2025-04-11T15:18:16.020Z"
   },
   {
    "duration": 6,
    "start_time": "2025-04-11T15:18:16.025Z"
   },
   {
    "duration": 468,
    "start_time": "2025-04-11T15:18:16.032Z"
   },
   {
    "duration": 424,
    "start_time": "2025-04-11T15:18:16.502Z"
   },
   {
    "duration": 3,
    "start_time": "2025-04-11T15:18:16.928Z"
   },
   {
    "duration": 2,
    "start_time": "2025-04-11T15:18:16.936Z"
   },
   {
    "duration": 2,
    "start_time": "2025-04-11T15:18:16.940Z"
   },
   {
    "duration": 3,
    "start_time": "2025-04-11T15:18:16.944Z"
   },
   {
    "duration": 3,
    "start_time": "2025-04-11T15:18:16.949Z"
   },
   {
    "duration": 3,
    "start_time": "2025-04-11T15:18:16.953Z"
   },
   {
    "duration": 7,
    "start_time": "2025-04-11T15:18:16.958Z"
   },
   {
    "duration": 44,
    "start_time": "2025-04-11T15:18:16.966Z"
   },
   {
    "duration": 3,
    "start_time": "2025-04-11T15:18:17.011Z"
   },
   {
    "duration": 3,
    "start_time": "2025-04-11T15:18:17.016Z"
   },
   {
    "duration": 3,
    "start_time": "2025-04-11T15:18:17.021Z"
   },
   {
    "duration": 4,
    "start_time": "2025-04-11T15:18:17.026Z"
   },
   {
    "duration": 77,
    "start_time": "2025-04-11T15:18:17.032Z"
   },
   {
    "duration": 9,
    "start_time": "2025-04-11T15:18:17.111Z"
   },
   {
    "duration": 3,
    "start_time": "2025-04-11T15:18:17.121Z"
   },
   {
    "duration": 3,
    "start_time": "2025-04-11T15:18:17.126Z"
   },
   {
    "duration": 4,
    "start_time": "2025-04-11T15:18:17.131Z"
   },
   {
    "duration": 2,
    "start_time": "2025-04-11T15:18:17.136Z"
   },
   {
    "duration": 5,
    "start_time": "2025-04-11T15:18:17.140Z"
   },
   {
    "duration": 6,
    "start_time": "2025-04-11T15:18:17.146Z"
   },
   {
    "duration": 3,
    "start_time": "2025-04-11T15:18:17.154Z"
   },
   {
    "duration": 4,
    "start_time": "2025-04-11T15:18:17.159Z"
   },
   {
    "duration": 276,
    "start_time": "2025-04-11T15:18:17.209Z"
   }
  ],
  "kernelspec": {
   "display_name": "Python 3 (ipykernel)",
   "language": "python",
   "name": "python3"
  },
  "language_info": {
   "codemirror_mode": {
    "name": "ipython",
    "version": 3
   },
   "file_extension": ".py",
   "mimetype": "text/x-python",
   "name": "python",
   "nbconvert_exporter": "python",
   "pygments_lexer": "ipython3",
   "version": "3.9.19"
  },
  "toc": {
   "base_numbering": 1,
   "nav_menu": {},
   "number_sections": true,
   "sideBar": true,
   "skip_h1_title": true,
   "title_cell": "Table of Contents",
   "title_sidebar": "Contents",
   "toc_cell": false,
   "toc_position": {},
   "toc_section_display": true,
   "toc_window_display": false
  }
 },
 "nbformat": 4,
 "nbformat_minor": 4
}
