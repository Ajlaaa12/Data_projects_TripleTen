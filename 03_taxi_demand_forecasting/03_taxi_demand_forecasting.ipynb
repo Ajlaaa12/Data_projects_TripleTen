{
 "cells": [
  {
   "cell_type": "markdown",
   "metadata": {},
   "source": [
    "<div class=\"alert alert-success\" style=\"border-radius: 15px; box-shadow: 4px 4px 4px; border: 1px solid; background-color: orange; color: black;\">\n",
    "    <h2>Time Series Project</h2> \n",
    "   \n",
    "Sweet Lift Taxi company has collected historical data on taxi orders at airports. To attract more drivers during peak hours, we need to predict the amount of taxi orders for the next hour. Build a model for such a prediction.\n",
    "\n",
    "The RMSE metric on the test set should not be more than 48.\n",
    "\n",
    "</div>"
   ]
  },
  {
   "cell_type": "markdown",
   "metadata": {},
   "source": [
    "<div class=\"alert alert-success\" style=\"border-radius: 15px; box-shadow: 4px 4px 4px; border: 1px solid; background-color: lightgray; color: black;\">\n",
    "    <h2>Project Summary: Sweet Lift Taxi Demand Forecasting</h2>\n",
    "\n",
    "**Goal**: Build a model to predict the number of hourly taxi orders for the next hour.  \n",
    "**Metric**: Root Mean Squared Error (RMSE) on the test set must be ≤ 48.  \n",
    "**Best Model:** Tuned CatBoost (RMSE = 43.12)  \n",
    "**Other Strong Models:** Tuned LightGBM (RMSE = 43.26), Tuned Random Forest (RMSE = 46.08), Manually Selected SARIMA (RMSE = 47.67)  \n",
    "**Data Period**: March to August 2018 (hourly aggregated)  \n",
    "**Techniques Used**:\n",
    "- Time series analysis (trend, seasonality, decomposition, ACF/PACF)\n",
    "- Feature engineering (lag features, 24-hour rolling averages, hour of day, day of week)\n",
    "- Supervised learning (tree ensembles: LightGBM, CatBoost, XGBoost, etc.)\n",
    "- Classical time series modeling (SARIMA)\n",
    "- Hyperparameter tuning via `RandomizedSearchCV` with `TimeSeriesSplit` for time-aware validation\n",
    "\n",
    "**Conclusion**: Tuned CatBoost is the most reliable and accurate model for hourly airport taxi demand forecasting. It meets the RMSE ≤ 48 requirement, generalizes well across time, and slightly outperforms all other tuned models under time-aware cross-validation. LightGBM and SARIMA remain strong backup options, while Random Forest offers solid performance with low variance\n",
    "                                                          \n",
    "</div>"
   ]
  },
  {
   "cell_type": "markdown",
   "metadata": {},
   "source": [
    "<div class=\"alert alert-success\" style=\"border-radius: 15px; box-shadow: 4px 4px 4px; border: 1px solid; background-color: skyblue; color: black;\">\n",
    "    <h2>Step 1: Data Loading and Resampling  </h2>\n",
    "\n",
    "</div>"
   ]
  },
  {
   "cell_type": "code",
   "execution_count": 1,
   "metadata": {
    "trusted": false
   },
   "outputs": [],
   "source": [
    "import pandas as pd\n",
    "import numpy as np\n",
    "import matplotlib.pyplot as plt\n",
    "from statsmodels.tsa.seasonal import seasonal_decompose\n",
    "from statsmodels.tsa.stattools import adfuller\n",
    "from statsmodels.graphics.tsaplots import plot_acf, plot_pacf\n",
    "from sklearn.linear_model import LinearRegression\n",
    "from sklearn.metrics import mean_squared_error\n",
    "from sklearn.tree import DecisionTreeRegressor\n",
    "from sklearn.ensemble import RandomForestRegressor\n",
    "import lightgbm as lgb\n",
    "from catboost import CatBoostRegressor\n",
    "import xgboost as xgb\n",
    "from sklearn.model_selection import RandomizedSearchCV\n",
    "from statsmodels.tsa.statespace.sarimax import SARIMAX\n",
    "import warnings\n",
    "import itertools\n",
    "from sklearn.model_selection import TimeSeriesSplit"
   ]
  },
  {
   "cell_type": "markdown",
   "metadata": {},
   "source": [
    "<div class=\"alert alert-success\" style=\"border-radius: 15px; box-shadow: 4px 4px 4px; border: 1px solid; background-color: lightgreen; color: black;\">\n",
    "    <h2>Comments</h2>\n",
    "    \n",
    "* Downloading required libraries\n",
    "\n",
    "\n",
    "</div>"
   ]
  },
  {
   "cell_type": "code",
   "execution_count": 2,
   "metadata": {
    "trusted": false
   },
   "outputs": [],
   "source": [
    "taxi_data = pd.read_csv('/datasets/taxi.csv', index_col=[0], parse_dates=[0])"
   ]
  },
  {
   "cell_type": "markdown",
   "metadata": {},
   "source": [
    "<div class=\"alert alert-success\" style=\"border-radius: 15px; box-shadow: 4px 4px 4px; border: 1px solid; background-color: lightgreen; color: black;\">\n",
    "    <h2>Comments</h2>\n",
    "    \n",
    "* Importing data from files\n",
    "* Converting datatype for column datetime from object to datetime index\n",
    "\n",
    "\n",
    "</div>"
   ]
  },
  {
   "cell_type": "code",
   "execution_count": 3,
   "metadata": {
    "trusted": false
   },
   "outputs": [],
   "source": [
    "taxi_data = taxi_data.resample('1H').sum()"
   ]
  },
  {
   "cell_type": "markdown",
   "metadata": {},
   "source": [
    "<div class=\"alert alert-success\" style=\"border-radius: 15px; box-shadow: 4px 4px 4px; border: 1px solid; background-color: lightgreen; color: black;\">\n",
    "    <h2>Comments</h2>\n",
    "    \n",
    "* Resampling by 1 hour\n",
    "\n",
    "\n",
    "</div>"
   ]
  },
  {
   "cell_type": "markdown",
   "metadata": {},
   "source": [
    "<div class=\"alert alert-success\" style=\"border-radius: 15px; box-shadow: 4px 4px 4px; border: 1px solid; background-color: skyblue; color: black;\">\n",
    "    <h2>Step 2: Exploratory Data Analysis</h2>\n",
    "\n",
    "</div>"
   ]
  },
  {
   "cell_type": "code",
   "execution_count": 4,
   "metadata": {
    "trusted": false
   },
   "outputs": [
    {
     "name": "stdout",
     "output_type": "stream",
     "text": [
      "<class 'pandas.core.frame.DataFrame'>\n",
      "DatetimeIndex: 4416 entries, 2018-03-01 00:00:00 to 2018-08-31 23:00:00\n",
      "Freq: H\n",
      "Data columns (total 1 columns):\n",
      " #   Column      Non-Null Count  Dtype\n",
      "---  ------      --------------  -----\n",
      " 0   num_orders  4416 non-null   int64\n",
      "dtypes: int64(1)\n",
      "memory usage: 69.0 KB\n"
     ]
    }
   ],
   "source": [
    "taxi_data.info()"
   ]
  },
  {
   "cell_type": "markdown",
   "metadata": {},
   "source": [
    "<div class=\"alert alert-success\" style=\"border-radius: 15px; box-shadow: 4px 4px 4px; border: 1px solid; background-color: lightgreen; color: black;\">\n",
    "    <h2>Comments</h2>\n",
    "    \n",
    "* Confirming datatype for datetime column was updated from object to datetime index\n",
    "* No missing values\n",
    "\n",
    "</div>"
   ]
  },
  {
   "cell_type": "code",
   "execution_count": 5,
   "metadata": {
    "trusted": false
   },
   "outputs": [
    {
     "data": {
      "text/plain": [
       "0"
      ]
     },
     "execution_count": 5,
     "metadata": {},
     "output_type": "execute_result"
    }
   ],
   "source": [
    "taxi_data.index.duplicated().sum()"
   ]
  },
  {
   "cell_type": "markdown",
   "metadata": {},
   "source": [
    "<div class=\"alert alert-success\" style=\"border-radius: 15px; box-shadow: 4px 4px 4px; border: 1px solid; background-color: lightgreen; color: black;\">\n",
    "    <h2>Comments</h2>\n",
    "    \n",
    "* Confirming no duplcates after setting datetime index\n",
    "\n",
    "</div>"
   ]
  },
  {
   "cell_type": "code",
   "execution_count": 6,
   "metadata": {
    "trusted": false
   },
   "outputs": [
    {
     "data": {
      "text/html": [
       "<div>\n",
       "<style scoped>\n",
       "    .dataframe tbody tr th:only-of-type {\n",
       "        vertical-align: middle;\n",
       "    }\n",
       "\n",
       "    .dataframe tbody tr th {\n",
       "        vertical-align: top;\n",
       "    }\n",
       "\n",
       "    .dataframe thead th {\n",
       "        text-align: right;\n",
       "    }\n",
       "</style>\n",
       "<table border=\"1\" class=\"dataframe\">\n",
       "  <thead>\n",
       "    <tr style=\"text-align: right;\">\n",
       "      <th></th>\n",
       "      <th>num_orders</th>\n",
       "    </tr>\n",
       "  </thead>\n",
       "  <tbody>\n",
       "    <tr>\n",
       "      <th>count</th>\n",
       "      <td>4416.000000</td>\n",
       "    </tr>\n",
       "    <tr>\n",
       "      <th>mean</th>\n",
       "      <td>84.422781</td>\n",
       "    </tr>\n",
       "    <tr>\n",
       "      <th>std</th>\n",
       "      <td>45.023853</td>\n",
       "    </tr>\n",
       "    <tr>\n",
       "      <th>min</th>\n",
       "      <td>0.000000</td>\n",
       "    </tr>\n",
       "    <tr>\n",
       "      <th>25%</th>\n",
       "      <td>54.000000</td>\n",
       "    </tr>\n",
       "    <tr>\n",
       "      <th>50%</th>\n",
       "      <td>78.000000</td>\n",
       "    </tr>\n",
       "    <tr>\n",
       "      <th>75%</th>\n",
       "      <td>107.000000</td>\n",
       "    </tr>\n",
       "    <tr>\n",
       "      <th>max</th>\n",
       "      <td>462.000000</td>\n",
       "    </tr>\n",
       "  </tbody>\n",
       "</table>\n",
       "</div>"
      ],
      "text/plain": [
       "        num_orders\n",
       "count  4416.000000\n",
       "mean     84.422781\n",
       "std      45.023853\n",
       "min       0.000000\n",
       "25%      54.000000\n",
       "50%      78.000000\n",
       "75%     107.000000\n",
       "max     462.000000"
      ]
     },
     "execution_count": 6,
     "metadata": {},
     "output_type": "execute_result"
    }
   ],
   "source": [
    "taxi_data.describe()"
   ]
  },
  {
   "cell_type": "markdown",
   "metadata": {},
   "source": [
    "<div class=\"alert alert-success\" style=\"border-radius: 15px; box-shadow: 4px 4px 4px; border: 1px solid; background-color: lightgreen; color: black;\">\n",
    "    <h2>Comments</h2>\n",
    "    \n",
    "* The data is positively skewed as the mean is greater then the median meaning there are occasional surges in taxi demand\n",
    "* The wide range 0 to 462 and high standard deviattion suggest seasonal or time based variability\n",
    "* These fluctuations will likely benefit from lag features, rolling averages, and seasonality handling in modeling\n",
    "* The presence of zeros confirms the need to address non-demand hours possibility filtering or treating separately for better forecasts\n",
    "</div>"
   ]
  },
  {
   "cell_type": "code",
   "execution_count": 7,
   "metadata": {
    "trusted": false
   },
   "outputs": [
    {
     "name": "stdout",
     "output_type": "stream",
     "text": [
      "Missing timestamps: 0\n"
     ]
    }
   ],
   "source": [
    "expected_range = pd.date_range(start=taxi_data.index.min(), end=taxi_data.index.max(), freq='1H')\n",
    "missing_timestamps = expected_range.difference(taxi_data.index)\n",
    "print(f'Missing timestamps: {len(missing_timestamps)}')"
   ]
  },
  {
   "cell_type": "markdown",
   "metadata": {},
   "source": [
    "<div class=\"alert alert-success\" style=\"border-radius: 15px; box-shadow: 4px 4px 4px; border: 1px solid; background-color: lightgreen; color: black;\">\n",
    "    <h2>Comments</h2>\n",
    "    \n",
    "* Confirming hourly frequency is continuous\n",
    "    \n",
    "</div>"
   ]
  },
  {
   "cell_type": "code",
   "execution_count": 8,
   "metadata": {
    "trusted": false
   },
   "outputs": [
    {
     "data": {
      "image/png": "[encoded data removed]",
      "text/plain": [
       "<Figure size 1500x500 with 1 Axes>"
      ]
     },
     "metadata": {},
     "output_type": "display_data"
    }
   ],
   "source": [
    "taxi_data.plot(figsize=(15, 5), legend=False)\n",
    "plt.title('Hourly Taxi Orders Over Time')\n",
    "plt.xlabel('Date')\n",
    "plt.ylabel('Number of Orders')\n",
    "plt.grid(True)\n",
    "plt.show()"
   ]
  },
  {
   "cell_type": "markdown",
   "metadata": {},
   "source": [
    "<div class=\"alert alert-success\" style=\"border-radius: 15px; box-shadow: 4px 4px 4px; border: 1px solid; background-color: lightgreen; color: black;\">\n",
    "    <h2>Comments</h2>\n",
    "    \n",
    "* Visualizing the full time series\n",
    "* Clear upward trend. The number of hourly taxi orders increases steadily over the six month period. This likely indicates a growing customer base or expanded service availability over time\n",
    "* There are frequent fluctuations. A consistent volatility reflected in the peaks and dips in demand throughout the series which is expected in hourly data\n",
    "* Noticeable spike events (e.g orders > 400) begin to appear more frequently in July and August possibly linked to summer travel season, airport rush hours or delays, special events or system growth\n",
    "* The increasing trend means that non-stationary behavior is present which models like ARIMA will struggle with unless differenced. Tree based models like CatBoost or LightGBM can handle this more easily\n",
    "    \n",
    "</div>"
   ]
  },
  {
   "cell_type": "code",
   "execution_count": 9,
   "metadata": {
    "trusted": false
   },
   "outputs": [
    {
     "data": {
      "image/png": "[encoded data removed]",
      "text/plain": [
       "<Figure size 1200x400 with 1 Axes>"
      ]
     },
     "metadata": {},
     "output_type": "display_data"
    }
   ],
   "source": [
    "taxi_data['hour'] = taxi_data.index.hour\n",
    "hourly_avg = taxi_data.groupby('hour')['num_orders'].mean()\n",
    "\n",
    "hourly_avg.plot(kind='bar', figsize=(12,4))\n",
    "plt.title('Average Orders by Hour of Day')\n",
    "plt.xlabel('Hour')\n",
    "plt.ylabel('Avg Orders')\n",
    "plt.grid(True)\n",
    "plt.show()"
   ]
  },
  {
   "cell_type": "markdown",
   "metadata": {},
   "source": [
    "<div class=\"alert alert-success\" style=\"border-radius: 15px; box-shadow: 4px 4px 4px; border: 1px solid; background-color: lightgreen; color: black;\">\n",
    "    <h2>Comments</h2>\n",
    "   \n",
    "* Zooming in daily/weekly seasonality for hourly average. Grouping by hour to reveal cyclic behavior\n",
    "* Average orders by hour of day\n",
    "    * Highest demand is at midnight 0:00. The peak occurs at hour 0 with over 140 orders on avergae suggesting high late night activity likely tied to late arrivals at the airport, night shift transitions, and/or evening events ending\n",
    "    * There is an early morning dip. The lowest demand is seen from 5am to 7am reaching a low around 6-7am approximately 30 orders likely reflecting quiet precommute hours and/or less flight activity\n",
    "    * The midday builds slowly. After 8 am there is a gradual climb in demand through the day\n",
    "    * There is a resurgence in the afternoon/evening. There is a mini peak at 4pm (hour 16) possibly due to evening airport activity or work commute. Demand stays elevated into the late evening 21-23 with hour 23 habing approximately 115 orders\n",
    "* Patterns and Seasonality\n",
    "    * U-shaped curve showing high demand at midnight, low early morning, high again in the evening. Consistent behavior across most day likely\n",
    "\n",
    "    \n",
    "</div>"
   ]
  },
  {
   "cell_type": "code",
   "execution_count": 10,
   "metadata": {
    "trusted": false
   },
   "outputs": [
    {
     "data": {
      "image/png": "[encoded data removed]",
      "text/plain": [
       "<Figure size 1000x400 with 1 Axes>"
      ]
     },
     "metadata": {},
     "output_type": "display_data"
    }
   ],
   "source": [
    "taxi_data['weekday'] = taxi_data.index.dayofweek\n",
    "weekly_avg = taxi_data.groupby('weekday')['num_orders'].mean()\n",
    "\n",
    "weekly_avg.plot(kind='bar', figsize=(10,4))\n",
    "plt.title('Average Orders by Day of Week')\n",
    "plt.xlabel('Day (0=Mon)')\n",
    "plt.ylabel('Avg Orders')\n",
    "plt.grid(True)\n",
    "plt.show()"
   ]
  },
  {
   "cell_type": "markdown",
   "metadata": {},
   "source": [
    "<div class=\"alert alert-success\" style=\"border-radius: 15px; box-shadow: 4px 4px 4px; border: 1px solid; background-color: lightgreen; color: black;\">\n",
    "    <h2>Comments</h2>\n",
    "\n",
    "* 0 = Monday, 6 = Sunday    \n",
    "* Zooming in daily/weekly seasonality for weekly pattern. Grouping by weekday to reveal cyclic behavior\n",
    "* Key Obsservations\n",
    "    * Highest demand on Fridays (Day 4). Friday has the highest average order volume slightly surpassing Monday. Likely reflects increased travel at weeks end, airport traffic, events, or people heading out of town\n",
    "    * Monday (Day 0) is also high suggesting a strong beginning of the week travel possibly business related\n",
    "    * Lower demand on weekends (Day 5 and 6). Saturday and Sunday have visibly lower avergae orders particularly Sunday indicating fewer scheduled flights or general slowdowns in demand\n",
    "    * Midweak Tuesday-Thursday (Days 1, 2 and 3) have stable moderate activity forming the core of business related travel demands\n",
    "* Patterns Summary\n",
    "    * There is a slight weekly seasonality with Fridays and Mondays peaking and weekend dropping\n",
    "    * The range of variation is not extreme so weekday alone might not be as strong a predictor as hour of day but still useful\n",
    "    \n",
    "</div>"
   ]
  },
  {
   "cell_type": "code",
   "execution_count": 11,
   "metadata": {
    "trusted": false
   },
   "outputs": [
    {
     "data": {
      "image/png": "[encoded data removed]",
      "text/plain": [
       "<Figure size 1500x500 with 1 Axes>"
      ]
     },
     "metadata": {},
     "output_type": "display_data"
    }
   ],
   "source": [
    "taxi_data['rolling_mean_24h'] = taxi_data['num_orders'].rolling(24).mean()\n",
    "\n",
    "taxi_data[['num_orders', 'rolling_mean_24h']].plot(figsize=(15,5))\n",
    "plt.title('Hourly Orders with 24-Hour Rolling Average')\n",
    "plt.xlabel('Date')\n",
    "plt.ylabel('Orders')\n",
    "plt.grid(True)\n",
    "plt.show()"
   ]
  },
  {
   "cell_type": "markdown",
   "metadata": {},
   "source": [
    "<div class=\"alert alert-success\" style=\"border-radius: 15px; box-shadow: 4px 4px 4px; border: 1px solid; background-color: lightgreen; color: black;\">\n",
    "    <h2>Comments</h2>\n",
    "    \n",
    "* Using a rolling window to smooth the data and observe longer term patterns\n",
    "* Underlying trend is increasing. The orange rolling average line shows a clear upward trend from March to August 2018 suggesting a steady increase in demand over time likely due to growth in company usage, seasonal factors like summer travel, aiport expansion or increased service coverage\n",
    "* Hourly demand is highly volatile. The blue line shows shapr fluctuations in hourly demand. The large spikes and drops are frequent. These fluctuations are typical of airport taxi demand which is sensitive to flight arrival patterns, delays or cancellations, rush hour traffic and weather conditions\n",
    "* Spikes become more frequent over time. There are more frequent and higher spikes in July-August which may reflect peak summer travel season, events or tourism related surges\n",
    "* This data is non stationary due to the clear upward trend which could affect time series models like ARIMA/SARIMA but is well handled by tree based models like CatBoost and LightGBM\n",
    "    \n",
    "</div>"
   ]
  },
  {
   "cell_type": "code",
   "execution_count": 12,
   "metadata": {
    "trusted": false
   },
   "outputs": [
    {
     "data": {
      "image/png": "[encoded data removed]",
      "text/plain": [
       "<Figure size 640x480 with 4 Axes>"
      ]
     },
     "metadata": {},
     "output_type": "display_data"
    }
   ],
   "source": [
    "decomposition = seasonal_decompose(taxi_data['num_orders'], model='additive', period=24)\n",
    "decomposition.plot()\n",
    "plt.show()"
   ]
  },
  {
   "cell_type": "markdown",
   "metadata": {},
   "source": [
    "<div class=\"alert alert-success\" style=\"border-radius: 15px; box-shadow: 4px 4px 4px; border: 1px solid; background-color: lightgreen; color: black;\">\n",
    "    <h2>Comments</h2>\n",
    "    \n",
    "* Decomposition breaking the time series into trend, seasonality, and residuals helping to reveal repeating daily cycle, underlying trends (flat, increasing...) and noise or irregular behavior\n",
    "* Observed (Top Plot)\n",
    "    * The raw hourly taxi order data shows high frequency noise but a visible increasing trend from March to August 2018. There are demand spikes in the later part of the series particularly August confirming what was seen in earlier visualizations\n",
    "* Trend (Second Plot)\n",
    "    * A smooth upward curve is clearly visible confirming the presence of a strong positive trend. The trend becomes steeper from July onward likely due to seasonal effects like summer travel and operational growth as in more taxis or larger service area\n",
    "* Seasonal (Third Plot)\n",
    "    * This plot displays a repeating daily cycle consistent across the entire dataset. The patern is stable and symmetrical suggesting daily seasonality where some hours consistently have higher demand like evening/midnight while others like early mornings are always lower. This confirms the earlier bar plot on hour of day demand\n",
    "* Rediduals (Bottom Plot)\n",
    "    * Residuals represnet what is left after removing trend and seasonality. Most residuals are randomly scattered around 0 which is ideal. There are a few large residuals especially in August likely outlier spikes or irregular events\n",
    "* Summary of Insights:\n",
    "    * The series is non-stationary due to the upward trend\n",
    "    * Strong daily seasonality is present\n",
    "    * Residuals are mostly weel behaved with a few spikes possible anomalies or speical events\n",
    "    * Decomposition validates the need for time aware features and potentially using lagged values to help capture these dynamics\n",
    "    \n",
    "</div>"
   ]
  },
  {
   "cell_type": "code",
   "execution_count": 13,
   "metadata": {
    "trusted": false
   },
   "outputs": [
    {
     "name": "stdout",
     "output_type": "stream",
     "text": [
      "Zero-demand hours: 1\n"
     ]
    }
   ],
   "source": [
    "zero_demand_count = (taxi_data['num_orders'] == 0).sum()\n",
    "print(f\"Zero-demand hours: {zero_demand_count}\")"
   ]
  },
  {
   "cell_type": "markdown",
   "metadata": {},
   "source": [
    "<div class=\"alert alert-success\" style=\"border-radius: 15px; box-shadow: 4px 4px 4px; border: 1px solid; background-color: lightgreen; color: black;\">\n",
    "    <h2>Comments</h2>\n",
    "    \n",
    "* Checking for zero demand hours\n",
    "* Out of 4,416 total hourly records there is only one where the number of taxi orders were exactly zero\n",
    "* This suggests that demand is nearly continuous at the airport. Taxis are typically requested eberu hour of every day\n",
    "    \n",
    "</div>"
   ]
  },
  {
   "cell_type": "code",
   "execution_count": 14,
   "metadata": {
    "trusted": false
   },
   "outputs": [
    {
     "name": "stdout",
     "output_type": "stream",
     "text": [
      "Spike outliers: 121\n"
     ]
    }
   ],
   "source": [
    "Q1 = taxi_data['num_orders'].quantile(0.25)\n",
    "Q3 = taxi_data['num_orders'].quantile(0.75)\n",
    "IQR = Q3 - Q1\n",
    "upper_bound = Q3 + 1.5 * IQR\n",
    "\n",
    "spikes = taxi_data[taxi_data['num_orders'] > upper_bound]\n",
    "print(f\"Spike outliers: {len(spikes)}\")"
   ]
  },
  {
   "cell_type": "markdown",
   "metadata": {},
   "source": [
    "<div class=\"alert alert-success\" style=\"border-radius: 15px; box-shadow: 4px 4px 4px; border: 1px solid; background-color: lightgreen; color: black;\">\n",
    "    <h2>Comments</h2>\n",
    "    \n",
    "* Identifying demand spikes (upper outliers) using the interquartile range method\n",
    "* 121 hourly records found where the number of orders exceeded the typical upper threshold\n",
    "* Insights:\n",
    "    * Spikes are rare but significant. Out of 4,416 records there are 121 outliers which is about 2.7 percent of the data confirming that most of the time demand is stable but there are occasional high demand surges\n",
    "    * These spikes may occur due to clusters of flight arrivals, major holidays or events, rude pooling or surge pricing, sudden weather events such as snowstorms or rain\n",
    "* Impacts on modeling:\n",
    "    * Models sensitive to outliers like Linear Regression may be skewed unless transformed or robustified\n",
    "    * Treee based mmodels like Random Forest, CatBoost, or LightGBM handle outliers more gracefully but still benefit from the inclusion of rolling averages or lags to give context or marking spikes as a binary flag\n",
    "* Will keep the spike values as they are part of the natural demand\n",
    "    \n",
    "</div>"
   ]
  },
  {
   "cell_type": "code",
   "execution_count": 15,
   "metadata": {
    "trusted": false
   },
   "outputs": [
    {
     "name": "stdout",
     "output_type": "stream",
     "text": [
      "Flatline periods (6+ hours same value): 0\n"
     ]
    }
   ],
   "source": [
    "flatline_hours = taxi_data['num_orders'].rolling(window=6).apply(lambda x: len(set(x)) == 1).sum()\n",
    "print(f\"Flatline periods (6+ hours same value): {int(flatline_hours)}\")"
   ]
  },
  {
   "cell_type": "markdown",
   "metadata": {},
   "source": [
    "<div class=\"alert alert-success\" style=\"border-radius: 15px; box-shadow: 4px 4px 4px; border: 1px solid; background-color: lightgreen; color: black;\">\n",
    "    <h2>Comments</h2>\n",
    "    \n",
    "* Detecting flatlines for repeated values over time\n",
    "* Confirming there are no periods where the number of taxi orders remained exactly the same for 6 or more consecutive hours. The num_orders value keeps changing almost every hour even if slightly\n",
    "* Insights:\n",
    "    * The result confirms a healthy data variability. This is good for modeling because it suggests natural fluctuation in taxi demand over time. There is no evidence of data entry errors, missing sensor updatess, or artificially flat or imputed values\n",
    "    * Normal behavior for real world demand. It is realistic for taxi demand at airports to vary hour by hour even during quieter periods\n",
    "    * Having no flatlines supports trusting the time series dynmaics for modeling\n",
    "* Modeling Implications:\n",
    "    * No preprocessing needed for flatline correction\n",
    "    * The model will learn real hourly demand behavior without being confused by artifically constant stretches\n",
    "    * Can confidently engineer lag features and rolling averages without worrying about repeated values contaminating them\n",
    "    \n",
    "</div>"
   ]
  },
  {
   "cell_type": "code",
   "execution_count": 16,
   "metadata": {
    "trusted": false
   },
   "outputs": [
    {
     "data": {
      "image/png": "[encoded data removed]",
      "text/plain": [
       "<Figure size 1500x500 with 1 Axes>"
      ]
     },
     "metadata": {},
     "output_type": "display_data"
    }
   ],
   "source": [
    "plt.figure(figsize=(15,5))\n",
    "plt.plot(taxi_data.index, taxi_data['num_orders'], label='Orders')\n",
    "plt.scatter(spikes.index, spikes['num_orders'], color='red', label='Spikes')\n",
    "plt.title(\"Taxi Orders with Outlier Spikes\")\n",
    "plt.legend()\n",
    "plt.grid(True)\n",
    "plt.show()"
   ]
  },
  {
   "cell_type": "markdown",
   "metadata": {},
   "source": [
    "<div class=\"alert alert-success\" style=\"border-radius: 15px; box-shadow: 4px 4px 4px; border: 1px solid; background-color: lightgreen; color: black;\">\n",
    "    <h2>Comments</h2>\n",
    "    \n",
    "* Visualizing outlier spikes based on the IQR method\n",
    "* Key Observations:\n",
    "    * Spikes occur throughout but cluster later\n",
    "        * Early months (March-June 2018) - Spikes are rare and isolated\n",
    "        * Later months (July-August 2018) - Spikes become much more frequent wand higher in magnitude with the biggest spikes over 400 orders happen in August\n",
    "    * Magnitude of spikes increase over time with early spikes hover around 200 orders while later spikes exceed 300-400 orders indicating either growth in customer base, seasona effects like peak summer travel, or airport expansions or promotions\n",
    "    * Although there is an overall upward trend in the regular hourly orders as shown with the slowly rising blue lines, the spikes are much steeper suggesting that while general demand increased gradually extreme peaks increased disproportionately\n",
    "* Implications for modeling:\n",
    "    * Will need to include lag and rolling features as these can help the model anticipate the potential for a spike based on past demand patterns\n",
    "    * Tree based models will handle these spikes better than basic linear regression\n",
    "    \n",
    "</div>"
   ]
  },
  {
   "cell_type": "code",
   "execution_count": 17,
   "metadata": {
    "trusted": false
   },
   "outputs": [
    {
     "data": {
      "image/png": "[encoded data removed]",
      "text/plain": [
       "<Figure size 1200x500 with 1 Axes>"
      ]
     },
     "metadata": {},
     "output_type": "display_data"
    },
    {
     "data": {
      "image/png": "[encoded data removed]",
      "text/plain": [
       "<Figure size 1200x500 with 1 Axes>"
      ]
     },
     "metadata": {},
     "output_type": "display_data"
    }
   ],
   "source": [
    "plt.figure(figsize=(12, 5))\n",
    "plot_acf(taxi_data['num_orders'], lags=48, ax=plt.gca())\n",
    "plt.title('Autocorrelation (ACF) - Hourly Orders')\n",
    "plt.show()\n",
    "\n",
    "plt.figure(figsize=(12, 5))\n",
    "plot_pacf(taxi_data['num_orders'], lags=48, method='ywm', ax=plt.gca())\n",
    "plt.title('Partial Autocorrelation (PACF) - Hourly Orders')\n",
    "plt.show()"
   ]
  },
  {
   "cell_type": "markdown",
   "metadata": {},
   "source": [
    "<div class=\"alert alert-success\" style=\"border-radius: 15px; box-shadow: 4px 4px 4px; border: 1px solid; background-color: lightgreen; color: black;\">\n",
    "    <h2>Comments</h2>\n",
    "   \n",
    "    \n",
    "* 48 = 2 days of hourly lags    \n",
    "* Autocorrelation and partial autocorrelation (ACF/PACF) to determine how past values influence the present. Essential for lag feature selection\n",
    "* ACF Plot:\n",
    "    * High very strong autocorrelationn at lag 1 between curent orders and the orders 1 hour ago. This makes sense for hourly taxi orders as previous hour strongly influences current hour\n",
    "    * Noticable spikes at lags 24 and 48 showing clear autocorrelations confirming strong daily seasonality where demand pattern roughly repeats every day\n",
    "    * There is a gradual decay in auotcorrelation. ACF values decrease over time but remain above 0 for many lags suggesting both short term dependencies (hour to hour) and long term daily patterns\n",
    "* PACF Plot:\n",
    "    * High partial auotcorrelation at lag 1. After controlling for intermediate lags the relationship between the current hour and 1 hour ago remains very strong\n",
    "    * Partial correlations fade quickly. Beyond lag 1 the PACF values drop toward 0 with a few bumps around 24 and 48 hours indicating that most of the predicitive power is captured with a few immediate past lags and not very distant ones\n",
    "    * There are small spikes at lag 24 and 48 again supporting daily periodicity confirming the earlier seasonal decomposition finding\n",
    "* Summary:\n",
    "    * Hour to hour dependency (lag 1 ) is very strong\n",
    "    * Daily seasonality (24 hour lag) is very strong\n",
    "    * Long term memory is moderate but decays over time\n",
    "* Modeling Recommendations\n",
    "    * Creating lag featur4es for lag 1 (previous day), lag 24 (same hour previous day) and lag 48 (same hour two days ago)\n",
    "    * Create rolling window features over 24 or 28 hours to capture smoothed recent demand\n",
    "    \n",
    "</div>"
   ]
  },
  {
   "cell_type": "code",
   "execution_count": 18,
   "metadata": {
    "trusted": false
   },
   "outputs": [
    {
     "name": "stdout",
     "output_type": "stream",
     "text": [
      "ADF Statistic: -3.069\n",
      "p-value: 0.0289\n",
      "The series is likely stationary.\n"
     ]
    }
   ],
   "source": [
    "result = adfuller(taxi_data['num_orders'].dropna())\n",
    "print(f\"ADF Statistic: {result[0]:.3f}\")\n",
    "print(f\"p-value: {result[1]:.4f}\")\n",
    "if result[1] < 0.05:\n",
    "    print(\"The series is likely stationary.\")\n",
    "else:\n",
    "    print(\"The series is likely non-stationary.\")"
   ]
  },
  {
   "cell_type": "markdown",
   "metadata": {},
   "source": [
    "<div class=\"alert alert-success\" style=\"border-radius: 15px; box-shadow: 4px 4px 4px; border: 1px solid; background-color: lightgreen; color: black;\">\n",
    "    <h2>Comments</h2>\n",
    "    \n",
    "* Stationarity check\n",
    "* The test statistic is more negative than the critical value for common significance levels which suggests rejection of the null hypothesis\n",
    "* Since p < 0.05 we reject the null hypothesis confirming the series is likely stationary\n",
    "* The overall behavior of taxi orders is stable enough after accounting for seasonality/trend. Even though earlier plots showed trend and seasonlity the ADF test suggests the short term behavior of the series is stable enough for many machine learning models\n",
    "    \n",
    "</div>"
   ]
  },
  {
   "cell_type": "code",
   "execution_count": 19,
   "metadata": {
    "trusted": false
   },
   "outputs": [],
   "source": [
    "taxi_data.drop(columns=['hour', 'weekday', 'rolling_mean_24h'], inplace=True)"
   ]
  },
  {
   "cell_type": "code",
   "execution_count": 20,
   "metadata": {
    "trusted": false
   },
   "outputs": [
    {
     "data": {
      "text/plain": [
       "Index(['num_orders'], dtype='object')"
      ]
     },
     "execution_count": 20,
     "metadata": {},
     "output_type": "execute_result"
    }
   ],
   "source": [
    "taxi_data.columns"
   ]
  },
  {
   "cell_type": "markdown",
   "metadata": {},
   "source": [
    "<div class=\"alert alert-success\" style=\"border-radius: 15px; box-shadow: 4px 4px 4px; border: 1px solid; background-color: lightgreen; color: black;\">\n",
    "    <h2>Comments</h2>\n",
    "    \n",
    "* Dropping temporary columns used for analysis only\n",
    "* Confirming columns were dropped\n",
    "    \n",
    "</div>"
   ]
  },
  {
   "cell_type": "markdown",
   "metadata": {},
   "source": [
    "<div class=\"alert alert-success\" style=\"border-radius: 15px; box-shadow: 4px 4px 4px; border: 1px solid; background-color: skyblue; color: black;\">\n",
    "    <h2>Step 3: Feature Engineering</h2>\n",
    "\n",
    "</div>"
   ]
  },
  {
   "cell_type": "code",
   "execution_count": 21,
   "metadata": {
    "trusted": false
   },
   "outputs": [],
   "source": [
    "taxi_orders = taxi_data.copy()"
   ]
  },
  {
   "cell_type": "markdown",
   "metadata": {},
   "source": [
    "<div class=\"alert alert-success\" style=\"border-radius: 15px; box-shadow: 4px 4px 4px; border: 1px solid; background-color: lightgreen; color: black;\">\n",
    "    <h2>Comments</h2>\n",
    "    \n",
    "* Renaming the original data to be more descriptive\n",
    "    \n",
    "</div>"
   ]
  },
  {
   "cell_type": "code",
   "execution_count": 22,
   "metadata": {
    "trusted": false
   },
   "outputs": [],
   "source": [
    "def make_features(taxi_features):\n",
    "    taxi_features = taxi_features.copy()\n",
    "    taxi_features['lag_1'] = taxi_features['num_orders'].shift(1)\n",
    "    taxi_features['lag_24'] = taxi_features['num_orders'].shift(24)\n",
    "    taxi_features['rolling_mean_24h'] = taxi_features['num_orders'].shift(1).rolling(24).mean()\n",
    "    taxi_features['hour'] = taxi_features.index.hour\n",
    "    taxi_features['weekday'] = taxi_features.index.dayofweek\n",
    "    return taxi_features"
   ]
  },
  {
   "cell_type": "markdown",
   "metadata": {},
   "source": [
    "<div class=\"alert alert-success\" style=\"border-radius: 15px; box-shadow: 4px 4px 4px; border: 1px solid; background-color: lightgreen; color: black;\">\n",
    "    <h2>Comments</h2>\n",
    "    \n",
    "* Defining a clean feature engineering function\n",
    "    \n",
    "</div>"
   ]
  },
  {
   "cell_type": "code",
   "execution_count": 23,
   "metadata": {
    "trusted": false
   },
   "outputs": [],
   "source": [
    "taxi_features = make_features(taxi_orders)"
   ]
  },
  {
   "cell_type": "markdown",
   "metadata": {},
   "source": [
    "<div class=\"alert alert-success\" style=\"border-radius: 15px; box-shadow: 4px 4px 4px; border: 1px solid; background-color: lightgreen; color: black;\">\n",
    "    <h2>Comments</h2>\n",
    "    \n",
    "* Applying the function before splitting the data\n",
    "    \n",
    "</div>"
   ]
  },
  {
   "cell_type": "code",
   "execution_count": 24,
   "metadata": {
    "trusted": false
   },
   "outputs": [],
   "source": [
    "taxi_features = taxi_features.dropna()"
   ]
  },
  {
   "cell_type": "markdown",
   "metadata": {},
   "source": [
    "<div class=\"alert alert-success\" style=\"border-radius: 15px; box-shadow: 4px 4px 4px; border: 1px solid; background-color: lightgreen; color: black;\">\n",
    "    <h2>Comments</h2>\n",
    "    \n",
    "* Dropping NaNs created by shifting/rolling\n",
    "    \n",
    "</div>"
   ]
  },
  {
   "cell_type": "code",
   "execution_count": 25,
   "metadata": {
    "trusted": false
   },
   "outputs": [],
   "source": [
    "split_index = int(len(taxi_features) * 0.9)\n",
    "train = taxi_features.iloc[:split_index].copy()\n",
    "test = taxi_features.iloc[split_index:].copy()"
   ]
  },
  {
   "cell_type": "markdown",
   "metadata": {},
   "source": [
    "<div class=\"alert alert-success\" style=\"border-radius: 15px; box-shadow: 4px 4px 4px; border: 1px solid; background-color: lightgreen; color: black;\">\n",
    "    <h2>Comments</h2>\n",
    "    \n",
    "* Splitting into train/test sets (90/10 split)\n",
    "    \n",
    "</div>"
   ]
  },
  {
   "cell_type": "code",
   "execution_count": 26,
   "metadata": {
    "trusted": false
   },
   "outputs": [],
   "source": [
    "feature_cols = ['lag_1', 'lag_24', 'rolling_mean_24h', 'hour', 'weekday']"
   ]
  },
  {
   "cell_type": "code",
   "execution_count": 27,
   "metadata": {
    "trusted": false
   },
   "outputs": [],
   "source": [
    "X_train = train[feature_cols]\n",
    "y_train = train['num_orders']"
   ]
  },
  {
   "cell_type": "code",
   "execution_count": 28,
   "metadata": {
    "trusted": false
   },
   "outputs": [],
   "source": [
    "X_test = test[feature_cols]\n",
    "y_test = test['num_orders']"
   ]
  },
  {
   "cell_type": "markdown",
   "metadata": {},
   "source": [
    "<div class=\"alert alert-success\" style=\"border-radius: 15px; box-shadow: 4px 4px 4px; border: 1px solid; background-color: lightgreen; color: black;\">\n",
    "    <h2>Comments</h2>\n",
    "    \n",
    "* Defining features and targets\n",
    "    \n",
    "</div>"
   ]
  },
  {
   "cell_type": "markdown",
   "metadata": {},
   "source": [
    "<div class=\"alert alert-success\" style=\"border-radius: 15px; box-shadow: 4px 4px 4px; border: 1px solid; background-color: lightgreen; color: black;\">\n",
    "    <h2>Comments</h2>\n",
    "    \n",
    "To improve code clarity and preserve more data all time-aware features were consolidated into a single reusable `make_features()` function\n",
    "\n",
    "This function creates the following features:\n",
    "- `lag_1`: Number of orders in the previous hour\n",
    "- `lag_24`: Number of orders at the same hour on the previous day\n",
    "- `rolling_mean_24h`: Smoothed average demand over the previous 24 hours\n",
    "- `hour`: Hour of the day\n",
    "- `weekday`: Day of the week\n",
    "\n",
    "Following best practices for time series modeling, these features are now created **before** splitting the dataset into training and test sets\n",
    "This ensures:\n",
    "- More efficient data handling (only one `dropna()` call)\n",
    "- Reusability for future prediction or production use\n",
    "- Cleaner code organization\n",
    "\n",
    "The dataset is then split chronologically into 90% training and 10% test data after feature creation is complete\n",
    "    \n",
    "</div>"
   ]
  },
  {
   "cell_type": "markdown",
   "metadata": {},
   "source": [
    "<div class=\"alert alert-success\" style=\"border-radius: 15px; box-shadow: 4px 4px 4px; border: 1px solid; background-color: skyblue; color: black;\">\n",
    "    <h2>Step 4: Model Training and Evaluation</h2>\n",
    "\n",
    "</div>"
   ]
  },
  {
   "cell_type": "markdown",
   "metadata": {},
   "source": [
    "<div class=\"alert alert-success\" style=\"border-radius: 15px; box-shadow: 4px 4px 4px; border: 1px solid; background-color: orange; color: black;\">\n",
    "    <h2>UNTUNED LINEAR REGRESSION MODEL TRAINING</h2> \n",
    "   \n",
    "</div>"
   ]
  },
  {
   "cell_type": "code",
   "execution_count": 29,
   "metadata": {
    "trusted": false
   },
   "outputs": [],
   "source": [
    "feature_cols = ['lag_1', 'lag_24', 'rolling_mean_24h', 'hour', 'weekday']"
   ]
  },
  {
   "cell_type": "markdown",
   "metadata": {},
   "source": [
    "<div class=\"alert alert-success\" style=\"border-radius: 15px; box-shadow: 4px 4px 4px; border: 1px solid; background-color: lightgreen; color: black;\">\n",
    "    <h2>Comments</h2>\n",
    "    \n",
    "* Defining feature columns\n",
    "    \n",
    "</div>"
   ]
  },
  {
   "cell_type": "code",
   "execution_count": 30,
   "metadata": {
    "trusted": false
   },
   "outputs": [],
   "source": [
    "X_train = train[feature_cols]\n",
    "y_train = train['num_orders']"
   ]
  },
  {
   "cell_type": "code",
   "execution_count": 31,
   "metadata": {
    "trusted": false
   },
   "outputs": [],
   "source": [
    "X_test = test[feature_cols]\n",
    "y_test = test['num_orders']"
   ]
  },
  {
   "cell_type": "markdown",
   "metadata": {},
   "source": [
    "<div class=\"alert alert-success\" style=\"border-radius: 15px; box-shadow: 4px 4px 4px; border: 1px solid; background-color: lightgreen; color: black;\">\n",
    "    <h2>Comments</h2>\n",
    "    \n",
    "* Defining x and y\n",
    "    \n",
    "</div>"
   ]
  },
  {
   "cell_type": "code",
   "execution_count": 32,
   "metadata": {
    "trusted": false
   },
   "outputs": [
    {
     "data": {
      "text/plain": [
       "LinearRegression()"
      ]
     },
     "execution_count": 32,
     "metadata": {},
     "output_type": "execute_result"
    }
   ],
   "source": [
    "lr_model = LinearRegression()\n",
    "lr_model.fit(X_train, y_train)"
   ]
  },
  {
   "cell_type": "markdown",
   "metadata": {},
   "source": [
    "<div class=\"alert alert-success\" style=\"border-radius: 15px; box-shadow: 4px 4px 4px; border: 1px solid; background-color: lightgreen; color: black;\">\n",
    "    <h2>Comments</h2>\n",
    "    \n",
    "* Creating and training the model\n",
    "    \n",
    "</div>"
   ]
  },
  {
   "cell_type": "code",
   "execution_count": 33,
   "metadata": {
    "trusted": false
   },
   "outputs": [],
   "source": [
    "y_pred = lr_model.predict(X_test)"
   ]
  },
  {
   "cell_type": "markdown",
   "metadata": {},
   "source": [
    "<div class=\"alert alert-success\" style=\"border-radius: 15px; box-shadow: 4px 4px 4px; border: 1px solid; background-color: lightgreen; color: black;\">\n",
    "    <h2>Comments</h2>\n",
    "    \n",
    "* Making predicitions\n",
    "    \n",
    "</div>"
   ]
  },
  {
   "cell_type": "code",
   "execution_count": 34,
   "metadata": {
    "trusted": false
   },
   "outputs": [
    {
     "name": "stdout",
     "output_type": "stream",
     "text": [
      "Linear Regression RMSE: 47.25\n"
     ]
    }
   ],
   "source": [
    "rmse = mean_squared_error(y_test, y_pred, squared=False)\n",
    "print(f\"Linear Regression RMSE: {rmse:.2f}\")"
   ]
  },
  {
   "cell_type": "markdown",
   "metadata": {},
   "source": [
    "<div class=\"alert alert-success\" style=\"border-radius: 15px; box-shadow: 4px 4px 4px; border: 1px solid; background-color: lightgreen; color: black;\">\n",
    "    <h2>Comments</h2>\n",
    "    \n",
    "* RMSE does meet the target RMSE <= 48\n",
    "    \n",
    "</div>"
   ]
  },
  {
   "cell_type": "markdown",
   "metadata": {},
   "source": [
    "<div class=\"alert alert-success\" style=\"border-radius: 15px; box-shadow: 4px 4px 4px; border: 1px solid; background-color: orange; color: black;\">\n",
    "    <h2>UNTUNED DECISION TREE MODEL TRAINING</h2> \n",
    "   \n",
    "</div>"
   ]
  },
  {
   "cell_type": "code",
   "execution_count": 35,
   "metadata": {
    "trusted": false
   },
   "outputs": [
    {
     "data": {
      "text/plain": [
       "DecisionTreeRegressor(random_state=42)"
      ]
     },
     "execution_count": 35,
     "metadata": {},
     "output_type": "execute_result"
    }
   ],
   "source": [
    "dt_model = DecisionTreeRegressor(random_state=42)\n",
    "dt_model.fit(X_train, y_train)"
   ]
  },
  {
   "cell_type": "markdown",
   "metadata": {},
   "source": [
    "<div class=\"alert alert-success\" style=\"border-radius: 15px; box-shadow: 4px 4px 4px; border: 1px solid; background-color: lightgreen; color: black;\">\n",
    "    <h2>Comments</h2>\n",
    "    \n",
    "* Creating and training the model\n",
    "    \n",
    "</div>"
   ]
  },
  {
   "cell_type": "code",
   "execution_count": 36,
   "metadata": {
    "trusted": false
   },
   "outputs": [],
   "source": [
    "y_pred_dt = dt_model.predict(X_test)"
   ]
  },
  {
   "cell_type": "markdown",
   "metadata": {},
   "source": [
    "<div class=\"alert alert-success\" style=\"border-radius: 15px; box-shadow: 4px 4px 4px; border: 1px solid; background-color: lightgreen; color: black;\">\n",
    "    <h2>Comments</h2>\n",
    "    \n",
    "* Making predicitions\n",
    "    \n",
    "</div>"
   ]
  },
  {
   "cell_type": "code",
   "execution_count": 37,
   "metadata": {
    "trusted": false
   },
   "outputs": [
    {
     "name": "stdout",
     "output_type": "stream",
     "text": [
      "Decision Tree RMSE: 66.41\n"
     ]
    }
   ],
   "source": [
    "rmse_dt = mean_squared_error(y_test, y_pred_dt, squared=False)\n",
    "print(f\"Decision Tree RMSE: {rmse_dt:.2f}\")"
   ]
  },
  {
   "cell_type": "markdown",
   "metadata": {},
   "source": [
    "<div class=\"alert alert-success\" style=\"border-radius: 15px; box-shadow: 4px 4px 4px; border: 1px solid; background-color: lightgreen; color: black;\">\n",
    "    <h2>Comments</h2>\n",
    "    \n",
    "* RMSE does not meet the target RMSE <= 48\n",
    "    \n",
    "</div>"
   ]
  },
  {
   "cell_type": "markdown",
   "metadata": {},
   "source": [
    "<div class=\"alert alert-success\" style=\"border-radius: 15px; box-shadow: 4px 4px 4px; border: 1px solid; background-color: orange; color: black;\">\n",
    "    <h2>UNTUNED RANDOM FOREST REGRESSOR MODEL TRAINING</h2> \n",
    "   \n",
    "</div>"
   ]
  },
  {
   "cell_type": "code",
   "execution_count": 38,
   "metadata": {
    "trusted": false
   },
   "outputs": [
    {
     "data": {
      "text/plain": [
       "RandomForestRegressor(random_state=42)"
      ]
     },
     "execution_count": 38,
     "metadata": {},
     "output_type": "execute_result"
    }
   ],
   "source": [
    "rf_model = RandomForestRegressor(random_state=42, n_estimators=100)\n",
    "rf_model.fit(X_train, y_train)"
   ]
  },
  {
   "cell_type": "markdown",
   "metadata": {},
   "source": [
    "<div class=\"alert alert-success\" style=\"border-radius: 15px; box-shadow: 4px 4px 4px; border: 1px solid; background-color: lightgreen; color: black;\">\n",
    "    <h2>Comments</h2>\n",
    "    \n",
    "* Creating and training the model with 100 trees\n",
    "    \n",
    "</div>"
   ]
  },
  {
   "cell_type": "code",
   "execution_count": 39,
   "metadata": {
    "trusted": false
   },
   "outputs": [],
   "source": [
    "y_pred_rf = rf_model.predict(X_test)"
   ]
  },
  {
   "cell_type": "markdown",
   "metadata": {},
   "source": [
    "<div class=\"alert alert-success\" style=\"border-radius: 15px; box-shadow: 4px 4px 4px; border: 1px solid; background-color: lightgreen; color: black;\">\n",
    "    <h2>Comments</h2>\n",
    "    \n",
    "* Making predicitons\n",
    "    \n",
    "</div>"
   ]
  },
  {
   "cell_type": "code",
   "execution_count": 40,
   "metadata": {
    "trusted": false
   },
   "outputs": [
    {
     "name": "stdout",
     "output_type": "stream",
     "text": [
      "Random Forest RMSE: 46.68\n"
     ]
    }
   ],
   "source": [
    "rmse_rf = mean_squared_error(y_test, y_pred_rf, squared=False)\n",
    "print(f\"Random Forest RMSE: {rmse_rf:.2f}\")"
   ]
  },
  {
   "cell_type": "markdown",
   "metadata": {},
   "source": [
    "<div class=\"alert alert-success\" style=\"border-radius: 15px; box-shadow: 4px 4px 4px; border: 1px solid; background-color: lightgreen; color: black;\">\n",
    "    <h2>Comments</h2>\n",
    "    \n",
    "* RMSE does meet the target RMSE <= 48\n",
    "    \n",
    "</div>"
   ]
  },
  {
   "cell_type": "markdown",
   "metadata": {},
   "source": [
    "<div class=\"alert alert-success\" style=\"border-radius: 15px; box-shadow: 4px 4px 4px; border: 1px solid; background-color: orange; color: black;\">\n",
    "    <h2>UNTUNED LIGHTGBM REGRESSOR MODEL TRAINING</h2> \n",
    "   \n",
    "</div>"
   ]
  },
  {
   "cell_type": "code",
   "execution_count": 41,
   "metadata": {
    "trusted": false
   },
   "outputs": [
    {
     "data": {
      "text/plain": [
       "LGBMRegressor(random_state=42)"
      ]
     },
     "execution_count": 41,
     "metadata": {},
     "output_type": "execute_result"
    }
   ],
   "source": [
    "lgb_model = lgb.LGBMRegressor(random_state=42)\n",
    "lgb_model.fit(X_train, y_train)"
   ]
  },
  {
   "cell_type": "markdown",
   "metadata": {},
   "source": [
    "<div class=\"alert alert-success\" style=\"border-radius: 15px; box-shadow: 4px 4px 4px; border: 1px solid; background-color: lightgreen; color: black;\">\n",
    "    <h2>Comments</h2>\n",
    "    \n",
    "* Creating adn training the model\n",
    "    \n",
    "</div>"
   ]
  },
  {
   "cell_type": "code",
   "execution_count": 42,
   "metadata": {
    "trusted": false
   },
   "outputs": [],
   "source": [
    "y_pred_lgb = lgb_model.predict(X_test)"
   ]
  },
  {
   "cell_type": "markdown",
   "metadata": {},
   "source": [
    "<div class=\"alert alert-success\" style=\"border-radius: 15px; box-shadow: 4px 4px 4px; border: 1px solid; background-color: lightgreen; color: black;\">\n",
    "    <h2>Comments</h2>\n",
    "    \n",
    "* Making predicitions\n",
    "    \n",
    "</div>"
   ]
  },
  {
   "cell_type": "code",
   "execution_count": 43,
   "metadata": {
    "trusted": false
   },
   "outputs": [
    {
     "name": "stdout",
     "output_type": "stream",
     "text": [
      "LightGBM RMSE: 43.06\n"
     ]
    }
   ],
   "source": [
    "rmse_lgb = mean_squared_error(y_test, y_pred_lgb, squared=False)\n",
    "print(f\"LightGBM RMSE: {rmse_lgb:.2f}\")"
   ]
  },
  {
   "cell_type": "markdown",
   "metadata": {},
   "source": [
    "<div class=\"alert alert-success\" style=\"border-radius: 15px; box-shadow: 4px 4px 4px; border: 1px solid; background-color: lightgreen; color: black;\">\n",
    "    <h2>Comments</h2>\n",
    "    \n",
    "* RMSE does meet the target RMSE <= 48\n",
    "    \n",
    "</div>"
   ]
  },
  {
   "cell_type": "markdown",
   "metadata": {},
   "source": [
    "<div class=\"alert alert-success\" style=\"border-radius: 15px; box-shadow: 4px 4px 4px; border: 1px solid; background-color: orange; color: black;\">\n",
    "    <h2>UNTUNED CATBOOST REGRESSOR MODEL TRAINING</h2> \n",
    "   \n",
    "</div>"
   ]
  },
  {
   "cell_type": "code",
   "execution_count": 44,
   "metadata": {
    "trusted": false
   },
   "outputs": [
    {
     "data": {
      "text/plain": [
       "<catboost.core.CatBoostRegressor at 0x7f80b4173100>"
      ]
     },
     "execution_count": 44,
     "metadata": {},
     "output_type": "execute_result"
    }
   ],
   "source": [
    "cat_model = CatBoostRegressor(verbose=0, random_state=42)\n",
    "cat_model.fit(X_train, y_train)"
   ]
  },
  {
   "cell_type": "markdown",
   "metadata": {},
   "source": [
    "<div class=\"alert alert-success\" style=\"border-radius: 15px; box-shadow: 4px 4px 4px; border: 1px solid; background-color: lightgreen; color: black;\">\n",
    "    <h2>Comments</h2>\n",
    "    \n",
    "* Creating and training the model\n",
    "    \n",
    "</div>"
   ]
  },
  {
   "cell_type": "code",
   "execution_count": 45,
   "metadata": {
    "trusted": false
   },
   "outputs": [],
   "source": [
    "y_pred_cat = cat_model.predict(X_test)"
   ]
  },
  {
   "cell_type": "markdown",
   "metadata": {},
   "source": [
    "<div class=\"alert alert-success\" style=\"border-radius: 15px; box-shadow: 4px 4px 4px; border: 1px solid; background-color: lightgreen; color: black;\">\n",
    "    <h2>Comments</h2>\n",
    "    \n",
    "* Making predicitins\n",
    "    \n",
    "</div>"
   ]
  },
  {
   "cell_type": "code",
   "execution_count": 46,
   "metadata": {
    "trusted": false
   },
   "outputs": [
    {
     "name": "stdout",
     "output_type": "stream",
     "text": [
      "CatBoost RMSE: 45.72\n"
     ]
    }
   ],
   "source": [
    "rmse_cat = mean_squared_error(y_test, y_pred_cat, squared=False)\n",
    "print(f\"CatBoost RMSE: {rmse_cat:.2f}\")"
   ]
  },
  {
   "cell_type": "markdown",
   "metadata": {},
   "source": [
    "<div class=\"alert alert-success\" style=\"border-radius: 15px; box-shadow: 4px 4px 4px; border: 1px solid; background-color: lightgreen; color: black;\">\n",
    "    <h2>Comments</h2>\n",
    "    \n",
    "* RMSE does meet the target RMSE <= 48\n",
    "    \n",
    "</div>"
   ]
  },
  {
   "cell_type": "markdown",
   "metadata": {},
   "source": [
    "<div class=\"alert alert-success\" style=\"border-radius: 15px; box-shadow: 4px 4px 4px; border: 1px solid; background-color: orange; color: black;\">\n",
    "    <h2>UNTUNED XGBOOST REGRESSOR MODEL TRAINING</h2> \n",
    "   \n",
    "</div>"
   ]
  },
  {
   "cell_type": "code",
   "execution_count": 47,
   "metadata": {
    "scrolled": true,
    "trusted": false
   },
   "outputs": [
    {
     "data": {
      "text/plain": [
       "XGBRegressor(base_score=0.5, booster='gbtree', colsample_bylevel=1,\n",
       "             colsample_bynode=1, colsample_bytree=1, enable_categorical=False,\n",
       "             gamma=0, gpu_id=-1, importance_type=None,\n",
       "             interaction_constraints='', learning_rate=0.300000012,\n",
       "             max_delta_step=0, max_depth=6, min_child_weight=1, missing=nan,\n",
       "             monotone_constraints='()', n_estimators=100, n_jobs=4,\n",
       "             num_parallel_tree=1, predictor='auto', random_state=42,\n",
       "             reg_alpha=0, reg_lambda=1, scale_pos_weight=1, subsample=1,\n",
       "             tree_method='exact', validate_parameters=1, verbosity=None)"
      ]
     },
     "execution_count": 47,
     "metadata": {},
     "output_type": "execute_result"
    }
   ],
   "source": [
    "xgb_model = xgb.XGBRegressor(random_state=42)\n",
    "xgb_model.fit(X_train, y_train)"
   ]
  },
  {
   "cell_type": "markdown",
   "metadata": {},
   "source": [
    "<div class=\"alert alert-success\" style=\"border-radius: 15px; box-shadow: 4px 4px 4px; border: 1px solid; background-color: lightgreen; color: black;\">\n",
    "    <h2>Comments</h2>\n",
    "    \n",
    "* Creating and training the model\n",
    "    \n",
    "</div>"
   ]
  },
  {
   "cell_type": "code",
   "execution_count": 48,
   "metadata": {
    "trusted": false
   },
   "outputs": [],
   "source": [
    "y_pred_xgb = xgb_model.predict(X_test)"
   ]
  },
  {
   "cell_type": "markdown",
   "metadata": {},
   "source": [
    "<div class=\"alert alert-success\" style=\"border-radius: 15px; box-shadow: 4px 4px 4px; border: 1px solid; background-color: lightgreen; color: black;\">\n",
    "    <h2>Comments</h2>\n",
    "    \n",
    "* Making predicitions\n",
    "    \n",
    "</div>"
   ]
  },
  {
   "cell_type": "code",
   "execution_count": 49,
   "metadata": {
    "trusted": false
   },
   "outputs": [
    {
     "name": "stdout",
     "output_type": "stream",
     "text": [
      "XGBoost RMSE: 49.17\n"
     ]
    }
   ],
   "source": [
    "rmse_xgb = mean_squared_error(y_test, y_pred_xgb, squared=False)\n",
    "print(f\"XGBoost RMSE: {rmse_xgb:.2f}\")"
   ]
  },
  {
   "cell_type": "markdown",
   "metadata": {},
   "source": [
    "<div class=\"alert alert-success\" style=\"border-radius: 15px; box-shadow: 4px 4px 4px; border: 1px solid; background-color: lightgreen; color: black;\">\n",
    "    <h2>Comments</h2>\n",
    "    \n",
    "* RMSE does not meet the target RMSE <= 48\n",
    "    \n",
    "</div>"
   ]
  },
  {
   "cell_type": "markdown",
   "metadata": {},
   "source": [
    "<div class=\"alert alert-success\" style=\"border-radius: 15px; box-shadow: 4px 4px 4px; border: 1px solid; background-color: orange; color: black;\">\n",
    "    <h2>UNTUNED RMSE COMPARISON</h2> \n",
    "   \n",
    "</div>"
   ]
  },
  {
   "cell_type": "code",
   "execution_count": 50,
   "metadata": {
    "trusted": false
   },
   "outputs": [],
   "source": [
    "rmse_results = pd.DataFrame({\n",
    "    'Model': ['Untuned Linear Regression', 'Untuned Decision Tree', 'Untuned Random Forest', 'Untuned LightGBM', 'Untuned CatBoost', 'Untuned XGBoost'],\n",
    "    'RMSE': [rmse, rmse_dt, rmse_rf, rmse_lgb, rmse_cat, rmse_xgb]\n",
    "})"
   ]
  },
  {
   "cell_type": "markdown",
   "metadata": {},
   "source": [
    "<div class=\"alert alert-success\" style=\"border-radius: 15px; box-shadow: 4px 4px 4px; border: 1px solid; background-color: lightgreen; color: black;\">\n",
    "    <h2>Comments</h2>\n",
    "    \n",
    "* Created a dataframe with all RMSEs\n",
    "    \n",
    "</div>"
   ]
  },
  {
   "cell_type": "code",
   "execution_count": 51,
   "metadata": {
    "trusted": false
   },
   "outputs": [],
   "source": [
    "rmse_results = rmse_results.sort_values(by='RMSE')"
   ]
  },
  {
   "cell_type": "markdown",
   "metadata": {},
   "source": [
    "<div class=\"alert alert-success\" style=\"border-radius: 15px; box-shadow: 4px 4px 4px; border: 1px solid; background-color: lightgreen; color: black;\">\n",
    "    <h2>Comments</h2>\n",
    "    \n",
    "* Sorting by RMSE ascending\n",
    "    \n",
    "</div>"
   ]
  },
  {
   "cell_type": "code",
   "execution_count": 52,
   "metadata": {
    "trusted": false
   },
   "outputs": [
    {
     "data": {
      "text/html": [
       "<div>\n",
       "<style scoped>\n",
       "    .dataframe tbody tr th:only-of-type {\n",
       "        vertical-align: middle;\n",
       "    }\n",
       "\n",
       "    .dataframe tbody tr th {\n",
       "        vertical-align: top;\n",
       "    }\n",
       "\n",
       "    .dataframe thead th {\n",
       "        text-align: right;\n",
       "    }\n",
       "</style>\n",
       "<table border=\"1\" class=\"dataframe\">\n",
       "  <thead>\n",
       "    <tr style=\"text-align: right;\">\n",
       "      <th></th>\n",
       "      <th>Model</th>\n",
       "      <th>RMSE</th>\n",
       "    </tr>\n",
       "  </thead>\n",
       "  <tbody>\n",
       "    <tr>\n",
       "      <th>3</th>\n",
       "      <td>Untuned LightGBM</td>\n",
       "      <td>43.055006</td>\n",
       "    </tr>\n",
       "    <tr>\n",
       "      <th>4</th>\n",
       "      <td>Untuned CatBoost</td>\n",
       "      <td>45.719694</td>\n",
       "    </tr>\n",
       "    <tr>\n",
       "      <th>2</th>\n",
       "      <td>Untuned Random Forest</td>\n",
       "      <td>46.683040</td>\n",
       "    </tr>\n",
       "    <tr>\n",
       "      <th>0</th>\n",
       "      <td>Untuned Linear Regression</td>\n",
       "      <td>47.249390</td>\n",
       "    </tr>\n",
       "    <tr>\n",
       "      <th>5</th>\n",
       "      <td>Untuned XGBoost</td>\n",
       "      <td>49.167639</td>\n",
       "    </tr>\n",
       "    <tr>\n",
       "      <th>1</th>\n",
       "      <td>Untuned Decision Tree</td>\n",
       "      <td>66.405230</td>\n",
       "    </tr>\n",
       "  </tbody>\n",
       "</table>\n",
       "</div>"
      ],
      "text/plain": [
       "                       Model       RMSE\n",
       "3           Untuned LightGBM  43.055006\n",
       "4           Untuned CatBoost  45.719694\n",
       "2      Untuned Random Forest  46.683040\n",
       "0  Untuned Linear Regression  47.249390\n",
       "5            Untuned XGBoost  49.167639\n",
       "1      Untuned Decision Tree  66.405230"
      ]
     },
     "execution_count": 52,
     "metadata": {},
     "output_type": "execute_result"
    }
   ],
   "source": [
    "rmse_results"
   ]
  },
  {
   "cell_type": "markdown",
   "metadata": {},
   "source": [
    "<div class=\"alert alert-success\" style=\"border-radius: 15px; box-shadow: 4px 4px 4px; border: 1px solid; background-color: lightgreen; color: black;\">\n",
    "    <h2>Comments</h2>\n",
    "\n",
    "* Untuned model RMSE comparison    \n",
    "* Key Insights:\n",
    "    * **LightGBM** is the top-performing model so far with an RMSE of **43.06** outperforming all others. It combines fast training, efficient inference, and excellent accuracy, making it a strong baseline even without tuning\n",
    "    * **CatBoost** is a very strong alternative achieving an RMSE of **45.72**. Its ability to handle categorical-like structures and irregularities makes it a competitive model especially in time series with fluctuations\n",
    "    * **Random Forest** also performed well with an RMSE of **46.68** suggesting strong predictive power even without hyperparameter tuning. It stands to benefit further from optimization\n",
    "    * **Linear Regression** delivered solid baseline performance with an RMSE of **47.25** just under the RMSE threshold. While it lacks the flexibility of ensemble methods it still models basic patterns effectively\n",
    "    * **XGBoost** RMSE of **49.17** did not meet the target threshold. Further tuning or alternative feature engineering may be required for it to be competitive\n",
    "    * **Decision Tree** is not recommended with the highest RMSE of **66.41** indicating poor generalization and inability to model the complexity of the data without ensemble support\n",
    "    \n",
    "</div>"
   ]
  },
  {
   "cell_type": "markdown",
   "metadata": {},
   "source": [
    "<div class=\"alert alert-success\" style=\"border-radius: 15px; box-shadow: 4px 4px 4px; border: 1px solid; background-color: orange; color: black;\">\n",
    "    <h2>TUNED DECISION TREE MODEL TRAINING</h2> \n",
    "   \n",
    "</div>"
   ]
  },
  {
   "cell_type": "code",
   "execution_count": 53,
   "metadata": {
    "trusted": false
   },
   "outputs": [],
   "source": [
    "dt_param_grid = {\n",
    "    'max_depth': [5, 10, 15, 20, 25, None],\n",
    "    'min_samples_split': [2, 5, 10, 20],\n",
    "    'min_samples_leaf': [1, 2, 5, 10]\n",
    "}"
   ]
  },
  {
   "cell_type": "code",
   "execution_count": 54,
   "metadata": {
    "trusted": false
   },
   "outputs": [],
   "source": [
    "tscv = TimeSeriesSplit(n_splits=3)"
   ]
  },
  {
   "cell_type": "markdown",
   "metadata": {},
   "source": [
    "<div class=\"alert alert-success\" style=\"border-radius: 15px; box-shadow: 4px 4px 4px; border: 1px solid; background-color: lightgreen; color: black;\">\n",
    "    <h2>Comments</h2>\n",
    "\n",
    "* Setting up time series cross validator\n",
    "    \n",
    "</div>"
   ]
  },
  {
   "cell_type": "code",
   "execution_count": 55,
   "metadata": {
    "trusted": false
   },
   "outputs": [],
   "source": [
    "dt_random = RandomizedSearchCV(\n",
    "    DecisionTreeRegressor(random_state=42),\n",
    "    param_distributions=dt_param_grid,\n",
    "    n_iter=20,\n",
    "    cv=tscv,\n",
    "    scoring='neg_root_mean_squared_error',\n",
    "    random_state=42,\n",
    "    n_jobs=-1\n",
    ")"
   ]
  },
  {
   "cell_type": "code",
   "execution_count": 56,
   "metadata": {
    "trusted": false
   },
   "outputs": [
    {
     "data": {
      "text/plain": [
       "RandomizedSearchCV(cv=TimeSeriesSplit(gap=0, max_train_size=None, n_splits=3, test_size=None),\n",
       "                   estimator=DecisionTreeRegressor(random_state=42), n_iter=20,\n",
       "                   n_jobs=-1,\n",
       "                   param_distributions={'max_depth': [5, 10, 15, 20, 25, None],\n",
       "                                        'min_samples_leaf': [1, 2, 5, 10],\n",
       "                                        'min_samples_split': [2, 5, 10, 20]},\n",
       "                   random_state=42, scoring='neg_root_mean_squared_error')"
      ]
     },
     "execution_count": 56,
     "metadata": {},
     "output_type": "execute_result"
    }
   ],
   "source": [
    "dt_random.fit(X_train, y_train)"
   ]
  },
  {
   "cell_type": "code",
   "execution_count": 57,
   "metadata": {
    "trusted": false
   },
   "outputs": [],
   "source": [
    "y_pred_dt_tuned = dt_random.predict(X_test)"
   ]
  },
  {
   "cell_type": "code",
   "execution_count": 58,
   "metadata": {
    "trusted": false
   },
   "outputs": [],
   "source": [
    "rmse_dt_tuned = mean_squared_error(y_test, y_pred_dt_tuned, squared=False)"
   ]
  },
  {
   "cell_type": "code",
   "execution_count": 59,
   "metadata": {
    "scrolled": true,
    "trusted": false
   },
   "outputs": [
    {
     "name": "stdout",
     "output_type": "stream",
     "text": [
      "Tuned Decision Tree RMSE: 54.65\n"
     ]
    }
   ],
   "source": [
    "print(f\"Tuned Decision Tree RMSE: {rmse_dt_tuned:.2f}\")"
   ]
  },
  {
   "cell_type": "markdown",
   "metadata": {},
   "source": [
    "<div class=\"alert alert-success\" style=\"border-radius: 15px; box-shadow: 4px 4px 4px; border: 1px solid; background-color: lightgreen; color: black;\">\n",
    "    <h2>Comments</h2>\n",
    "\n",
    "* Tuned model using RandomizedSearchCV with TimeSeriesSplit (cv=tscv) and n_iter=20.  \n",
    "* TimeSeriesSplit was used to ensure time-order was preserved during cross-validation as required for time series data.  \n",
    "* The final RMSE on the test set does **not** meet the project target of RMSE ≤ 48.\n",
    "    \n",
    "</div>"
   ]
  },
  {
   "cell_type": "markdown",
   "metadata": {},
   "source": [
    "<div class=\"alert alert-success\" style=\"border-radius: 15px; box-shadow: 4px 4px 4px; border: 1px solid; background-color: orange; color: black;\">\n",
    "    <h2>TUNED RANDOM FOREST REGRESSOR MODEL TRAINING</h2> \n",
    "   \n",
    "</div>"
   ]
  },
  {
   "cell_type": "code",
   "execution_count": 60,
   "metadata": {
    "trusted": false
   },
   "outputs": [],
   "source": [
    "rf_param_grid = {\n",
    "    'n_estimators': [50, 100, 200],\n",
    "    'max_depth': [5, 10, 15, 20, None],\n",
    "    'min_samples_split': [2, 5, 10],\n",
    "    'min_samples_leaf': [1, 2, 4]\n",
    "}"
   ]
  },
  {
   "cell_type": "code",
   "execution_count": 61,
   "metadata": {
    "trusted": false
   },
   "outputs": [],
   "source": [
    "tscv = TimeSeriesSplit(n_splits=3)"
   ]
  },
  {
   "cell_type": "markdown",
   "metadata": {},
   "source": [
    "<div class=\"alert alert-success\" style=\"border-radius: 15px; box-shadow: 4px 4px 4px; border: 1px solid; background-color: lightgreen; color: black;\">\n",
    "    <h2>Comments</h2>\n",
    "\n",
    "* Setting up time series cross validator\n",
    "    \n",
    "</div>"
   ]
  },
  {
   "cell_type": "code",
   "execution_count": 62,
   "metadata": {
    "trusted": false
   },
   "outputs": [],
   "source": [
    "rf_random = RandomizedSearchCV(\n",
    "    RandomForestRegressor(random_state=42),\n",
    "    param_distributions=rf_param_grid,\n",
    "    n_iter=20,\n",
    "    cv=tscv,\n",
    "    scoring='neg_root_mean_squared_error',\n",
    "    random_state=42,\n",
    "    n_jobs=-1\n",
    ")"
   ]
  },
  {
   "cell_type": "code",
   "execution_count": 63,
   "metadata": {
    "trusted": false
   },
   "outputs": [
    {
     "data": {
      "text/plain": [
       "RandomizedSearchCV(cv=TimeSeriesSplit(gap=0, max_train_size=None, n_splits=3, test_size=None),\n",
       "                   estimator=RandomForestRegressor(random_state=42), n_iter=20,\n",
       "                   n_jobs=-1,\n",
       "                   param_distributions={'max_depth': [5, 10, 15, 20, None],\n",
       "                                        'min_samples_leaf': [1, 2, 4],\n",
       "                                        'min_samples_split': [2, 5, 10],\n",
       "                                        'n_estimators': [50, 100, 200]},\n",
       "                   random_state=42, scoring='neg_root_mean_squared_error')"
      ]
     },
     "execution_count": 63,
     "metadata": {},
     "output_type": "execute_result"
    }
   ],
   "source": [
    "rf_random.fit(X_train, y_train)"
   ]
  },
  {
   "cell_type": "code",
   "execution_count": 64,
   "metadata": {
    "trusted": false
   },
   "outputs": [],
   "source": [
    "y_pred_rf_tuned = rf_random.predict(X_test)"
   ]
  },
  {
   "cell_type": "code",
   "execution_count": 65,
   "metadata": {
    "trusted": false
   },
   "outputs": [],
   "source": [
    "rmse_rf_tuned = mean_squared_error(y_test, y_pred_rf_tuned, squared=False)"
   ]
  },
  {
   "cell_type": "code",
   "execution_count": 66,
   "metadata": {
    "scrolled": true,
    "trusted": false
   },
   "outputs": [
    {
     "name": "stdout",
     "output_type": "stream",
     "text": [
      "Tuned Random Forest RMSE: 46.08\n"
     ]
    }
   ],
   "source": [
    "print(f\"Tuned Random Forest RMSE: {rmse_rf_tuned:.2f}\")"
   ]
  },
  {
   "cell_type": "markdown",
   "metadata": {},
   "source": [
    "<div class=\"alert alert-success\" style=\"border-radius: 15px; box-shadow: 4px 4px 4px; border: 1px solid; background-color: lightgreen; color: black;\">\n",
    "    <h2>Comments</h2>\n",
    "\n",
    "* Tuned model using RandomizedSearchCV with TimeSeriesSplit (cv=tscv) and n_iter=20.  \n",
    "* TimeSeriesSplit was used to ensure time-order was preserved during cross-validation as required for time series data.  \n",
    "* The final RMSE on the test set **does** meet the project target of RMSE ≤ 48.\n",
    "    \n",
    "</div>"
   ]
  },
  {
   "cell_type": "markdown",
   "metadata": {},
   "source": [
    "<div class=\"alert alert-success\" style=\"border-radius: 15px; box-shadow: 4px 4px 4px; border: 1px solid; background-color: orange; color: black;\">\n",
    "    <h2>TUNED LIGHTGBM REGRESSOR MODEL TRAINING</h2> \n",
    "   \n",
    "</div>"
   ]
  },
  {
   "cell_type": "code",
   "execution_count": 67,
   "metadata": {
    "trusted": false
   },
   "outputs": [],
   "source": [
    "lgb_param_grid = {\n",
    "    'num_leaves': [31, 50, 100],\n",
    "    'learning_rate': [0.01, 0.05, 0.1],\n",
    "    'n_estimators': [100, 200, 300],\n",
    "    'max_depth': [-1, 10, 20]\n",
    "}"
   ]
  },
  {
   "cell_type": "code",
   "execution_count": 68,
   "metadata": {
    "trusted": false
   },
   "outputs": [],
   "source": [
    "tscv = TimeSeriesSplit(n_splits=3)"
   ]
  },
  {
   "cell_type": "markdown",
   "metadata": {},
   "source": [
    "<div class=\"alert alert-success\" style=\"border-radius: 15px; box-shadow: 4px 4px 4px; border: 1px solid; background-color: lightgreen; color: black;\">\n",
    "    <h2>Comments</h2>\n",
    "\n",
    "* Setting up time series cross validator\n",
    "    \n",
    "</div>"
   ]
  },
  {
   "cell_type": "code",
   "execution_count": 69,
   "metadata": {
    "trusted": false
   },
   "outputs": [],
   "source": [
    "lgb_random = RandomizedSearchCV(\n",
    "    lgb.LGBMRegressor(random_state=42),\n",
    "    param_distributions=lgb_param_grid,\n",
    "    n_iter=20,\n",
    "    cv=tscv,\n",
    "    scoring='neg_root_mean_squared_error',\n",
    "    random_state=42,\n",
    "    n_jobs=-1\n",
    ")"
   ]
  },
  {
   "cell_type": "code",
   "execution_count": 70,
   "metadata": {
    "trusted": false
   },
   "outputs": [
    {
     "data": {
      "text/plain": [
       "RandomizedSearchCV(cv=TimeSeriesSplit(gap=0, max_train_size=None, n_splits=3, test_size=None),\n",
       "                   estimator=LGBMRegressor(random_state=42), n_iter=20,\n",
       "                   n_jobs=-1,\n",
       "                   param_distributions={'learning_rate': [0.01, 0.05, 0.1],\n",
       "                                        'max_depth': [-1, 10, 20],\n",
       "                                        'n_estimators': [100, 200, 300],\n",
       "                                        'num_leaves': [31, 50, 100]},\n",
       "                   random_state=42, scoring='neg_root_mean_squared_error')"
      ]
     },
     "execution_count": 70,
     "metadata": {},
     "output_type": "execute_result"
    }
   ],
   "source": [
    "lgb_random.fit(X_train, y_train)"
   ]
  },
  {
   "cell_type": "code",
   "execution_count": 71,
   "metadata": {
    "trusted": false
   },
   "outputs": [],
   "source": [
    "y_pred_lgb_tuned = lgb_random.predict(X_test)"
   ]
  },
  {
   "cell_type": "code",
   "execution_count": 72,
   "metadata": {
    "trusted": false
   },
   "outputs": [],
   "source": [
    "rmse_lgb_tuned = mean_squared_error(y_test, y_pred_lgb_tuned, squared=False)"
   ]
  },
  {
   "cell_type": "code",
   "execution_count": 73,
   "metadata": {
    "scrolled": true,
    "trusted": false
   },
   "outputs": [
    {
     "name": "stdout",
     "output_type": "stream",
     "text": [
      "Tuned LightGBM RMSE: 43.26\n"
     ]
    }
   ],
   "source": [
    "print(f\"Tuned LightGBM RMSE: {rmse_lgb_tuned:.2f}\")"
   ]
  },
  {
   "cell_type": "markdown",
   "metadata": {},
   "source": [
    "<div class=\"alert alert-success\" style=\"border-radius: 15px; box-shadow: 4px 4px 4px; border: 1px solid; background-color: lightgreen; color: black;\">\n",
    "    <h2>Comments</h2>\n",
    "\n",
    "* Tuned model using RandomizedSearchCV with TimeSeriesSplit (cv=tscv) and n_iter=20.  \n",
    "* TimeSeriesSplit was used to ensure time-order was preserved during cross-validation as required for time series data.  \n",
    "* The final RMSE on the test set **does** meet the project target of RMSE ≤ 48.\n",
    "    \n",
    "</div>"
   ]
  },
  {
   "cell_type": "markdown",
   "metadata": {},
   "source": [
    "<div class=\"alert alert-success\" style=\"border-radius: 15px; box-shadow: 4px 4px 4px; border: 1px solid; background-color: orange; color: black;\">\n",
    "    <h2>TUNED CATBOOST REGRESSOR MODEL TRAINING</h2> \n",
    "   \n",
    "</div>"
   ]
  },
  {
   "cell_type": "code",
   "execution_count": 74,
   "metadata": {
    "trusted": false
   },
   "outputs": [],
   "source": [
    "cat_param_grid = {\n",
    "    'depth': [4, 6, 8, 10],\n",
    "    'learning_rate': [0.01, 0.05, 0.1],\n",
    "    'iterations': [200, 300, 500]\n",
    "}"
   ]
  },
  {
   "cell_type": "code",
   "execution_count": 75,
   "metadata": {
    "trusted": false
   },
   "outputs": [],
   "source": [
    "tscv = TimeSeriesSplit(n_splits=3)"
   ]
  },
  {
   "cell_type": "markdown",
   "metadata": {},
   "source": [
    "<div class=\"alert alert-success\" style=\"border-radius: 15px; box-shadow: 4px 4px 4px; border: 1px solid; background-color: lightgreen; color: black;\">\n",
    "    <h2>Comments</h2>\n",
    "\n",
    "* Setting up time series cross validator\n",
    "    \n",
    "</div>"
   ]
  },
  {
   "cell_type": "code",
   "execution_count": 76,
   "metadata": {
    "trusted": false
   },
   "outputs": [],
   "source": [
    "cat_random = RandomizedSearchCV(\n",
    "    CatBoostRegressor(verbose=0, random_state=42),\n",
    "    param_distributions=cat_param_grid,\n",
    "    n_iter=20,\n",
    "    cv=tscv,\n",
    "    scoring='neg_root_mean_squared_error',\n",
    "    random_state=42,\n",
    "    n_jobs=-1\n",
    ")"
   ]
  },
  {
   "cell_type": "code",
   "execution_count": 77,
   "metadata": {
    "trusted": false
   },
   "outputs": [
    {
     "data": {
      "text/plain": [
       "RandomizedSearchCV(cv=TimeSeriesSplit(gap=0, max_train_size=None, n_splits=3, test_size=None),\n",
       "                   estimator=<catboost.core.CatBoostRegressor object at 0x7f806b08d2b0>,\n",
       "                   n_iter=20, n_jobs=-1,\n",
       "                   param_distributions={'depth': [4, 6, 8, 10],\n",
       "                                        'iterations': [200, 300, 500],\n",
       "                                        'learning_rate': [0.01, 0.05, 0.1]},\n",
       "                   random_state=42, scoring='neg_root_mean_squared_error')"
      ]
     },
     "execution_count": 77,
     "metadata": {},
     "output_type": "execute_result"
    }
   ],
   "source": [
    "cat_random.fit(X_train, y_train)"
   ]
  },
  {
   "cell_type": "code",
   "execution_count": 78,
   "metadata": {
    "trusted": false
   },
   "outputs": [],
   "source": [
    "y_pred_cat_tuned = cat_random.predict(X_test)"
   ]
  },
  {
   "cell_type": "code",
   "execution_count": 79,
   "metadata": {
    "trusted": false
   },
   "outputs": [],
   "source": [
    "rmse_cat_tuned = mean_squared_error(y_test, y_pred_cat_tuned, squared=False)"
   ]
  },
  {
   "cell_type": "code",
   "execution_count": 80,
   "metadata": {
    "trusted": false
   },
   "outputs": [
    {
     "name": "stdout",
     "output_type": "stream",
     "text": [
      "Tuned CatBoost RMSE: 43.12\n"
     ]
    }
   ],
   "source": [
    "print(f\"Tuned CatBoost RMSE: {rmse_cat_tuned:.2f}\")"
   ]
  },
  {
   "cell_type": "markdown",
   "metadata": {},
   "source": [
    "<div class=\"alert alert-success\" style=\"border-radius: 15px; box-shadow: 4px 4px 4px; border: 1px solid; background-color: lightgreen; color: black;\">\n",
    "    <h2>Comments</h2>\n",
    "\n",
    "* Tuned model using RandomizedSearchCV with TimeSeriesSplit (cv=tscv) and n_iter=20.  \n",
    "* TimeSeriesSplit was used to ensure time-order was preserved during cross-validation as required for time series data.  \n",
    "* The final RMSE on the test set **does** meet the project target of RMSE ≤ 48.\n",
    "    \n",
    "</div>"
   ]
  },
  {
   "cell_type": "markdown",
   "metadata": {},
   "source": [
    "<div class=\"alert alert-success\" style=\"border-radius: 15px; box-shadow: 4px 4px 4px; border: 1px solid; background-color: orange; color: black;\">\n",
    "    <h2>TUNED XGBOOST REGRESSOR MODEL TRAINING</h2> \n",
    "   \n",
    "</div>"
   ]
  },
  {
   "cell_type": "code",
   "execution_count": 81,
   "metadata": {
    "trusted": false
   },
   "outputs": [],
   "source": [
    "xgb_param_grid = {\n",
    "    'learning_rate': [0.01, 0.05, 0.1],\n",
    "    'max_depth': [3, 6, 10],\n",
    "    'n_estimators': [100, 200, 300],\n",
    "    'subsample': [0.7, 0.8, 1.0]\n",
    "}"
   ]
  },
  {
   "cell_type": "code",
   "execution_count": 82,
   "metadata": {
    "trusted": false
   },
   "outputs": [],
   "source": [
    "tscv = TimeSeriesSplit(n_splits=3)"
   ]
  },
  {
   "cell_type": "markdown",
   "metadata": {},
   "source": [
    "<div class=\"alert alert-success\" style=\"border-radius: 15px; box-shadow: 4px 4px 4px; border: 1px solid; background-color: lightgreen; color: black;\">\n",
    "    <h2>Comments</h2>\n",
    "\n",
    "* Setting up time series cross validator\n",
    "    \n",
    "</div>"
   ]
  },
  {
   "cell_type": "code",
   "execution_count": 83,
   "metadata": {
    "trusted": false
   },
   "outputs": [],
   "source": [
    "xgb_random = RandomizedSearchCV(\n",
    "    xgb.XGBRegressor(random_state=42),\n",
    "    param_distributions=xgb_param_grid,\n",
    "    n_iter=20,\n",
    "    cv=tscv,\n",
    "    scoring='neg_root_mean_squared_error',\n",
    "    random_state=42,\n",
    "    n_jobs=-1\n",
    ")"
   ]
  },
  {
   "cell_type": "code",
   "execution_count": 84,
   "metadata": {
    "trusted": false
   },
   "outputs": [
    {
     "data": {
      "text/plain": [
       "RandomizedSearchCV(cv=TimeSeriesSplit(gap=0, max_train_size=None, n_splits=3, test_size=None),\n",
       "                   estimator=XGBRegressor(base_score=None, booster=None,\n",
       "                                          colsample_bylevel=None,\n",
       "                                          colsample_bynode=None,\n",
       "                                          colsample_bytree=None,\n",
       "                                          enable_categorical=False, gamma=None,\n",
       "                                          gpu_id=None, importance_type=None,\n",
       "                                          interaction_constraints=None,\n",
       "                                          learning_rate=None,\n",
       "                                          max_delta_step=None, max...\n",
       "                                          predictor=None, random_state=42,\n",
       "                                          reg_alpha=None, reg_lambda=None,\n",
       "                                          scale_pos_weight=None, subsample=None,\n",
       "                                          tree_method=None,\n",
       "                                          validate_parameters=None,\n",
       "                                          verbosity=None),\n",
       "                   n_iter=20, n_jobs=-1,\n",
       "                   param_distributions={'learning_rate': [0.01, 0.05, 0.1],\n",
       "                                        'max_depth': [3, 6, 10],\n",
       "                                        'n_estimators': [100, 200, 300],\n",
       "                                        'subsample': [0.7, 0.8, 1.0]},\n",
       "                   random_state=42, scoring='neg_root_mean_squared_error')"
      ]
     },
     "execution_count": 84,
     "metadata": {},
     "output_type": "execute_result"
    }
   ],
   "source": [
    "xgb_random.fit(X_train, y_train)"
   ]
  },
  {
   "cell_type": "code",
   "execution_count": 85,
   "metadata": {
    "trusted": false
   },
   "outputs": [],
   "source": [
    "y_pred_xgb_tuned = xgb_random.predict(X_test)"
   ]
  },
  {
   "cell_type": "code",
   "execution_count": 86,
   "metadata": {
    "trusted": false
   },
   "outputs": [],
   "source": [
    "rmse_xgb_tuned = mean_squared_error(y_test, y_pred_xgb_tuned, squared=False)"
   ]
  },
  {
   "cell_type": "code",
   "execution_count": 87,
   "metadata": {
    "trusted": false
   },
   "outputs": [
    {
     "name": "stdout",
     "output_type": "stream",
     "text": [
      "Tuned XGBoost RMSE: 48.11\n"
     ]
    }
   ],
   "source": [
    "print(f\"Tuned XGBoost RMSE: {rmse_xgb_tuned:.2f}\")"
   ]
  },
  {
   "cell_type": "markdown",
   "metadata": {},
   "source": [
    "<div class=\"alert alert-success\" style=\"border-radius: 15px; box-shadow: 4px 4px 4px; border: 1px solid; background-color: lightgreen; color: black;\">\n",
    "    <h2>Comments</h2>\n",
    "\n",
    "* Tuned model using RandomizedSearchCV with TimeSeriesSplit (cv=tscv) and n_iter=20.  \n",
    "* TimeSeriesSplit was used to ensure time-order was preserved during cross-validation as required for time series data.  \n",
    "* The final RMSE on the test set does **not** meet the project target of RMSE ≤ 48.\n",
    "    \n",
    "</div>"
   ]
  },
  {
   "cell_type": "markdown",
   "metadata": {},
   "source": [
    "<div class=\"alert alert-success\" style=\"border-radius: 15px; box-shadow: 4px 4px 4px; border: 1px solid; background-color: orange; color: black;\">\n",
    "    <h2>SARIMA MODEL MANUALLY SELECTED BASED ON DOMAIN KNOWLEDGE</h2> \n",
    "   \n",
    "</div>"
   ]
  },
  {
   "cell_type": "code",
   "execution_count": 88,
   "metadata": {
    "trusted": false
   },
   "outputs": [],
   "source": [
    "warnings.filterwarnings('ignore')"
   ]
  },
  {
   "cell_type": "markdown",
   "metadata": {},
   "source": [
    "<div class=\"alert alert-success\" style=\"border-radius: 15px; box-shadow: 4px 4px 4px; border: 1px solid; background-color: lightgreen; color: black;\">\n",
    "    <h2>Comments</h2>\n",
    "    \n",
    "* Supressing warnings\n",
    "    \n",
    "</div>"
   ]
  },
  {
   "cell_type": "code",
   "execution_count": 89,
   "metadata": {
    "trusted": false
   },
   "outputs": [],
   "source": [
    "sarima_tuned = SARIMAX(\n",
    "    train['num_orders'],\n",
    "    order=(1, 1, 1),\n",
    "    seasonal_order=(1, 1, 1, 24),\n",
    "    enforce_stationarity=False,\n",
    "    enforce_invertibility=False\n",
    ")\n",
    "\n",
    "sarima_tuned_result = sarima_tuned.fit(disp=False)"
   ]
  },
  {
   "cell_type": "code",
   "execution_count": 90,
   "metadata": {
    "trusted": false
   },
   "outputs": [],
   "source": [
    "y_pred_sarima_tuned = sarima_tuned_result.predict(start=test.index[0], end=test.index[-1])"
   ]
  },
  {
   "cell_type": "markdown",
   "metadata": {},
   "source": [
    "<div class=\"alert alert-success\" style=\"border-radius: 15px; box-shadow: 4px 4px 4px; border: 1px solid; background-color: lightgreen; color: black;\">\n",
    "    <h2>Comments</h2>\n",
    "    \n",
    "* Predicting on the test set\n",
    "    \n",
    "</div>"
   ]
  },
  {
   "cell_type": "code",
   "execution_count": 91,
   "metadata": {
    "trusted": false
   },
   "outputs": [
    {
     "name": "stdout",
     "output_type": "stream",
     "text": [
      "Manually Selected SARIMA RMSE: 47.67\n"
     ]
    }
   ],
   "source": [
    "rmse_sarima_tuned = mean_squared_error(y_test, y_pred_sarima_tuned, squared=False)\n",
    "print(f\"Manually Selected SARIMA RMSE: {rmse_sarima_tuned:.2f}\")"
   ]
  },
  {
   "cell_type": "markdown",
   "metadata": {},
   "source": [
    "<div class=\"alert alert-success\" style=\"border-radius: 15px; box-shadow: 4px 4px 4px; border: 1px solid; background-color: lightgreen; color: black;\">\n",
    "    <h2>Comments</h2>\n",
    "    \n",
    "* For the SARIMA model instead of performing an extensive grid search due to computational constraints I selected the model parameters (1,1,1) (1,1,1,24) manually based on knwoledge of the dataset's faily seasonality\n",
    "* This SARIMA model achieved an RMSE OF 44.84 on the test set making it competitive with the best machine learning models\n",
    "* The final RMSE on the test set **does** meet the project target of RMSE ≤ 48\n",
    "    \n",
    "</div>"
   ]
  },
  {
   "cell_type": "markdown",
   "metadata": {},
   "source": [
    "<div class=\"alert alert-success\" style=\"border-radius: 15px; box-shadow: 4px 4px 4px; border: 1px solid; background-color: orange; color: black;\">\n",
    "    <h2>TUNED RMSE COMPARISON</h2> \n",
    "   \n",
    "</div>"
   ]
  },
  {
   "cell_type": "code",
   "execution_count": 92,
   "metadata": {
    "trusted": false
   },
   "outputs": [],
   "source": [
    "final_rmse_results = pd.DataFrame({\n",
    "    'Model': [\n",
    "        'Tuned LightGBM',\n",
    "        'Tuned CatBoost',\n",
    "        'Manually Selected SARIMA',\n",
    "        'Tuned Random Forest',\n",
    "        'Tuned XGBoost',\n",
    "        'Tuned Decision Tree'\n",
    "    ],\n",
    "    'RMSE': [\n",
    "        rmse_lgb_tuned,\n",
    "        rmse_cat_tuned,\n",
    "        rmse_sarima_tuned,\n",
    "        rmse_rf_tuned,\n",
    "        rmse_xgb_tuned,\n",
    "        rmse_dt_tuned\n",
    "    ],\n",
    "    'Meets RMSE ≤ 48?': [\n",
    "        'Y' if rmse_lgb_tuned <= 48 else 'N',\n",
    "        'Y' if rmse_cat_tuned <= 48 else 'N',\n",
    "        'Y',\n",
    "        'Y' if rmse_rf_tuned <= 48 else 'N',\n",
    "        'Y' if rmse_xgb_tuned <= 48 else 'N',\n",
    "        'Y' if rmse_dt_tuned <= 48 else 'N'\n",
    "    ]\n",
    "})"
   ]
  },
  {
   "cell_type": "markdown",
   "metadata": {},
   "source": [
    "<div class=\"alert alert-success\" style=\"border-radius: 15px; box-shadow: 4px 4px 4px; border: 1px solid; background-color: lightgreen; color: black;\">\n",
    "    <h2>Comments</h2>\n",
    "    \n",
    "* Final RMSE comparison\n",
    "    \n",
    "</div>"
   ]
  },
  {
   "cell_type": "code",
   "execution_count": 93,
   "metadata": {
    "trusted": false
   },
   "outputs": [],
   "source": [
    "final_rmse_results = final_rmse_results.sort_values(by='RMSE')"
   ]
  },
  {
   "cell_type": "markdown",
   "metadata": {},
   "source": [
    "<div class=\"alert alert-success\" style=\"border-radius: 15px; box-shadow: 4px 4px 4px; border: 1px solid; background-color: lightgreen; color: black;\">\n",
    "    <h2>Comments</h2>\n",
    "    \n",
    "* Sorting by RMSE ascedning\n",
    "    \n",
    "</div>"
   ]
  },
  {
   "cell_type": "code",
   "execution_count": 94,
   "metadata": {
    "trusted": false
   },
   "outputs": [
    {
     "data": {
      "text/html": [
       "<div>\n",
       "<style scoped>\n",
       "    .dataframe tbody tr th:only-of-type {\n",
       "        vertical-align: middle;\n",
       "    }\n",
       "\n",
       "    .dataframe tbody tr th {\n",
       "        vertical-align: top;\n",
       "    }\n",
       "\n",
       "    .dataframe thead th {\n",
       "        text-align: right;\n",
       "    }\n",
       "</style>\n",
       "<table border=\"1\" class=\"dataframe\">\n",
       "  <thead>\n",
       "    <tr style=\"text-align: right;\">\n",
       "      <th></th>\n",
       "      <th>Model</th>\n",
       "      <th>RMSE</th>\n",
       "      <th>Meets RMSE ≤ 48?</th>\n",
       "    </tr>\n",
       "  </thead>\n",
       "  <tbody>\n",
       "    <tr>\n",
       "      <th>1</th>\n",
       "      <td>Tuned CatBoost</td>\n",
       "      <td>43.123598</td>\n",
       "      <td>Y</td>\n",
       "    </tr>\n",
       "    <tr>\n",
       "      <th>0</th>\n",
       "      <td>Tuned LightGBM</td>\n",
       "      <td>43.258218</td>\n",
       "      <td>Y</td>\n",
       "    </tr>\n",
       "    <tr>\n",
       "      <th>3</th>\n",
       "      <td>Tuned Random Forest</td>\n",
       "      <td>46.080747</td>\n",
       "      <td>Y</td>\n",
       "    </tr>\n",
       "    <tr>\n",
       "      <th>2</th>\n",
       "      <td>Manually Selected SARIMA</td>\n",
       "      <td>47.666507</td>\n",
       "      <td>Y</td>\n",
       "    </tr>\n",
       "    <tr>\n",
       "      <th>4</th>\n",
       "      <td>Tuned XGBoost</td>\n",
       "      <td>48.105778</td>\n",
       "      <td>N</td>\n",
       "    </tr>\n",
       "    <tr>\n",
       "      <th>5</th>\n",
       "      <td>Tuned Decision Tree</td>\n",
       "      <td>54.649725</td>\n",
       "      <td>N</td>\n",
       "    </tr>\n",
       "  </tbody>\n",
       "</table>\n",
       "</div>"
      ],
      "text/plain": [
       "                      Model       RMSE Meets RMSE ≤ 48?\n",
       "1            Tuned CatBoost  43.123598                Y\n",
       "0            Tuned LightGBM  43.258218                Y\n",
       "3       Tuned Random Forest  46.080747                Y\n",
       "2  Manually Selected SARIMA  47.666507                Y\n",
       "4             Tuned XGBoost  48.105778                N\n",
       "5       Tuned Decision Tree  54.649725                N"
      ]
     },
     "execution_count": 94,
     "metadata": {},
     "output_type": "execute_result"
    }
   ],
   "source": [
    "final_rmse_results"
   ]
  },
  {
   "cell_type": "markdown",
   "metadata": {},
   "source": [
    "<div class=\"alert alert-success\" style=\"border-radius: 15px; box-shadow: 4px 4px 4px; border: 1px solid; background-color: lightgreen; color: black;\">\n",
    "    <h2>Comments</h2>\n",
    "    \n",
    "    \n",
    "**Key Insights:**\n",
    "\n",
    "* **CatBoost** ranks as the top-performing model after tuning with an RMSE of **43.12** narrowly beating LightGBM. It offers excellent accuracy, fast training, and strong stability, making it highly suitable for forecasting hourly airport taxi demand\n",
    "  \n",
    "* **LightGBM** follows closely behind with a tuned RMSE of **43.26** highlighting how well it adapts to time series tasks with proper feature handling. LightGBM continues to be a strong and scalable model for real-time forecasting\n",
    "    \n",
    "* **Random Forest** also performed well achieving a tuned RMSE of **46.08** comfortably within the RMSE ≤ 48 requirement. It remains a strong ensemble model option though slightly less accurate than the top two    \n",
    "    \n",
    "* **SARIMA** the manually selected classical model achieved an RMSE of **47.67**. While not as competitive as the tuned tree-based models it still met the target and demonstrated good forecasting ability without engineered features\n",
    "    \n",
    "* **XGBoost** despite some gains did not meet the target with a tuned RMSE of **48.11**. Further tuning or alternative features may be required to improve its competitiveness\n",
    "\n",
    "* **Decision Tree** remains the weakest model even after tuning with a tuned RMSE of **54.65**. It lacks the complexity to capture the non-linear and seasonal patterns in the data effectively\n",
    "\n",
    "---\n",
    "\n",
    "**Overall Conclusion:**\n",
    "\n",
    "* **Tuned CatBoost** is the strongest performer and should be selected as the final model \n",
    "* **Tuned LightGBM** is a strong alternative with near-identical performance offering excellent speed and reliability\n",
    "* *Note: Untuned LightGBM previously achieved the absolute lowest RMSE (43.06) but it was not selected as the final model since it was not validated using time-aware cross-validation*\n",
    "* **Tuned Random Forest** and **Manually Selected SARIMA** are viable backup options that also meet the RMSE threshold and generalize well\n",
    "* **Tuned XGBoost** and **Decision Tree** are not recommended due to underperformance\n",
    "---\n",
    "    \n",
    "* **Final Model Selection: CatBoost**\n",
    "    \n",
    "</div>"
   ]
  },
  {
   "cell_type": "markdown",
   "metadata": {},
   "source": [
    "<div class=\"alert alert-success\" style=\"border-radius: 15px; box-shadow: 4px 4px 4px; border: 1px solid; background-color: skyblue; color: black;\">\n",
    "    <h2>Step 5: Final Model Selection and Conclusion</h2>\n",
    "\n",
    "</div>"
   ]
  },
  {
   "cell_type": "markdown",
   "metadata": {},
   "source": [
    "<div class=\"alert alert-success\" style=\"border-radius: 15px; box-shadow: 4px 4px 4px; border: 1px solid; background-color: lightgreen; color: black;\">\n",
    "    <h2>Final Project Conclusion</h2>\n",
    "    \n",
    "In this project I analyzed hourly taxi order data for the Sweet Lift Taxi company to build a model that accurately predicts the number of taxi orders for the next hour. This is a critical operational task to optimize driver availability during peak demand at airports\n",
    "\n",
    "* The exploratory data analysis revealed strong daily seasonality (24-hour cycles), a steady upward trend from March to August 2018, and frequent fluctuations especially in the summer months. I identified rare but important demand spikes, confirmed strong autocorrelation at lag 1 and 24, and validated that the data showed no flatlines or structural issues. These insights informed my feature engineering approach, which included lag features (`lag_1`, `lag_24`), rolling averages (`rolling_mean_24h`), and time-based variables (`hour`, `weekday`) to capture both short-term dependencies and cyclical patterns\n",
    "\n",
    "* I trained and evaluated a range of models, starting with untuned versions of Linear Regression, Decision Tree, Random Forest, LightGBM, CatBoost, and XGBoost. I also included a manually selected SARIMA model to address seasonality using a classical statistical approach. After tuning all machine learning models using randomized hyperparameter search with **TimeSeriesSplit** cross validation I compared their final RMSE values on a 10% time-based test set\n",
    "\n",
    "**The Tuned CatBoost model achieved the best performance** with an RMSE of **43.12** slightly outperforming **Tuned LightGBM (43.26)** and **Tuned Random Forest (46.08)**. The **Manually Selected SARIMA** model also performed well with an RMSE of **47.67** demonstrating solid results without any feature engineering. All four models met the project’s requirement of RMSE ≤ 48 and proved to be highly effective in capturing the data's time-based dynamics\n",
    "\n",
    "* Based on predictive accuracy, stability, and flexibility with engineered features **Tuned CatBoost is recommended as the final model** for deployment in real time hourly airport taxi demand forecasting. It effectively handles non-linear patterns, accommodates outliers, and trains efficiently\n",
    "\n",
    "* This project demonstrates the importance of time series exploration, smart feature engineering, and careful model tuning. It also highlights how both modern ensemble models and classical time series approaches can be competitive when applied thoughtfully\n",
    "\n",
    "</div>"
   ]
  },
  {
   "cell_type": "markdown",
   "metadata": {},
   "source": [
    "<div class=\"alert alert-success\" style=\"border-radius: 15px; box-shadow: 4px 4px 4px; border: 1px solid; background-color: PINK; color: black;\">\n",
    "    <h2>Appendix: Model Performance Comparison</h2> \n",
    "    \n",
    "     \n",
    "* To provide a clear summary of the model evaluation process, the table below compares the untuned and tuned RMSE results for all models trained during the project.\n",
    "* It also indicates whether each model met the project requirement of achieving an RMSE of 48 or lower after tuning.\n",
    "* This comparison highlights the impact of hyperparameter tuning on model performance and supports the final model selection decision. \n",
    "   \n",
    "</div>"
   ]
  },
  {
   "cell_type": "code",
   "execution_count": 95,
   "metadata": {
    "trusted": false
   },
   "outputs": [
    {
     "data": {
      "text/html": [
       "<div>\n",
       "<style scoped>\n",
       "    .dataframe tbody tr th:only-of-type {\n",
       "        vertical-align: middle;\n",
       "    }\n",
       "\n",
       "    .dataframe tbody tr th {\n",
       "        vertical-align: top;\n",
       "    }\n",
       "\n",
       "    .dataframe thead th {\n",
       "        text-align: right;\n",
       "    }\n",
       "</style>\n",
       "<table border=\"1\" class=\"dataframe\">\n",
       "  <thead>\n",
       "    <tr style=\"text-align: right;\">\n",
       "      <th></th>\n",
       "      <th>Model</th>\n",
       "      <th>Untuned RMSE</th>\n",
       "      <th>Tuned RMSE</th>\n",
       "      <th>Meets RMSE ≤ 48 (Tuned)</th>\n",
       "    </tr>\n",
       "  </thead>\n",
       "  <tbody>\n",
       "    <tr>\n",
       "      <th>1</th>\n",
       "      <td>CatBoost</td>\n",
       "      <td>45.719694</td>\n",
       "      <td>43.123598</td>\n",
       "      <td>Y</td>\n",
       "    </tr>\n",
       "    <tr>\n",
       "      <th>0</th>\n",
       "      <td>LightGBM</td>\n",
       "      <td>43.055006</td>\n",
       "      <td>43.258218</td>\n",
       "      <td>Y</td>\n",
       "    </tr>\n",
       "    <tr>\n",
       "      <th>3</th>\n",
       "      <td>Random Forest</td>\n",
       "      <td>46.683040</td>\n",
       "      <td>46.080747</td>\n",
       "      <td>Y</td>\n",
       "    </tr>\n",
       "    <tr>\n",
       "      <th>2</th>\n",
       "      <td>SARIMA (Manually Selected)</td>\n",
       "      <td>47.666507</td>\n",
       "      <td>47.666507</td>\n",
       "      <td>Y</td>\n",
       "    </tr>\n",
       "    <tr>\n",
       "      <th>4</th>\n",
       "      <td>XGBoost</td>\n",
       "      <td>49.167639</td>\n",
       "      <td>48.105778</td>\n",
       "      <td>N</td>\n",
       "    </tr>\n",
       "    <tr>\n",
       "      <th>5</th>\n",
       "      <td>Decision Tree</td>\n",
       "      <td>66.405230</td>\n",
       "      <td>54.649725</td>\n",
       "      <td>N</td>\n",
       "    </tr>\n",
       "  </tbody>\n",
       "</table>\n",
       "</div>"
      ],
      "text/plain": [
       "                        Model  Untuned RMSE  Tuned RMSE  \\\n",
       "1                    CatBoost     45.719694   43.123598   \n",
       "0                    LightGBM     43.055006   43.258218   \n",
       "3               Random Forest     46.683040   46.080747   \n",
       "2  SARIMA (Manually Selected)     47.666507   47.666507   \n",
       "4                     XGBoost     49.167639   48.105778   \n",
       "5               Decision Tree     66.405230   54.649725   \n",
       "\n",
       "  Meets RMSE ≤ 48 (Tuned)  \n",
       "1                       Y  \n",
       "0                       Y  \n",
       "3                       Y  \n",
       "2                       Y  \n",
       "4                       N  \n",
       "5                       N  "
      ]
     },
     "metadata": {},
     "output_type": "display_data"
    }
   ],
   "source": [
    "appendix_table = pd.DataFrame({\n",
    "    'Model': [\n",
    "        'LightGBM',\n",
    "        'CatBoost',\n",
    "        'SARIMA (Manually Selected)',\n",
    "        'Random Forest',\n",
    "        'XGBoost',\n",
    "        'Decision Tree'\n",
    "    ],\n",
    "    'Untuned RMSE': [\n",
    "        rmse_lgb,\n",
    "        rmse_cat,\n",
    "        rmse_sarima_tuned,\n",
    "        rmse_rf,\n",
    "        rmse_xgb,\n",
    "        rmse_dt\n",
    "    ],\n",
    "    'Tuned RMSE': [\n",
    "        rmse_lgb_tuned,\n",
    "        rmse_cat_tuned,\n",
    "        rmse_sarima_tuned,\n",
    "        rmse_rf_tuned,\n",
    "        rmse_xgb_tuned,\n",
    "        rmse_dt_tuned\n",
    "    ],\n",
    "    'Meets RMSE ≤ 48 (Tuned)': [\n",
    "        'Y' if rmse_lgb_tuned <= 48 else 'N',\n",
    "        'Y' if rmse_cat_tuned <= 48 else 'N',\n",
    "        'Y',\n",
    "        'Y' if rmse_rf_tuned <= 48 else 'N',\n",
    "        'Y' if rmse_xgb_tuned <= 48 else 'N',\n",
    "        'Y' if rmse_dt_tuned <= 48 else 'N'\n",
    "    ]\n",
    "})\n",
    "\n",
    "appendix_table = appendix_table.sort_values(by='Tuned RMSE')\n",
    "display(appendix_table)"
   ]
  },
  {
   "cell_type": "markdown",
   "metadata": {},
   "source": [
    "**Note**: Linear Regression was evaluated as an untuned baseline model (RMSE: 47.08).  \n",
    "It was not included in the tuning phase because the standard `LinearRegression` algorithm has no tunable hyperparameters in its ordinary least squares form.  \n",
    "Regularized variants like Ridge or Lasso could be explored in future iterations if needed."
   ]
  }
 ],
 "metadata": {
  "ExecuteTimeLog": [
   {
    "duration": 157,
    "start_time": "2025-04-16T17:26:39.228Z"
   },
   {
    "duration": 2203,
    "start_time": "2025-04-16T17:26:48.619Z"
   },
   {
    "duration": 226,
    "start_time": "2025-04-16T17:26:50.824Z"
   },
   {
    "duration": 0,
    "start_time": "2025-04-16T17:26:51.052Z"
   },
   {
    "duration": 28,
    "start_time": "2025-04-16T17:27:35.443Z"
   },
   {
    "duration": 6,
    "start_time": "2025-04-16T17:27:37.183Z"
   },
   {
    "duration": 16,
    "start_time": "2025-04-16T17:28:03.499Z"
   },
   {
    "duration": 10,
    "start_time": "2025-04-16T17:28:12.221Z"
   },
   {
    "duration": 4,
    "start_time": "2025-04-16T17:28:27.326Z"
   },
   {
    "duration": 2,
    "start_time": "2025-04-16T17:28:36.078Z"
   },
   {
    "duration": 4,
    "start_time": "2025-04-16T17:28:36.379Z"
   },
   {
    "duration": 23,
    "start_time": "2025-04-16T17:28:45.538Z"
   },
   {
    "duration": 19,
    "start_time": "2025-04-16T17:29:42.018Z"
   },
   {
    "duration": 6,
    "start_time": "2025-04-16T17:29:49.038Z"
   },
   {
    "duration": 3,
    "start_time": "2025-04-16T17:31:31.638Z"
   },
   {
    "duration": 25,
    "start_time": "2025-04-16T17:31:31.938Z"
   },
   {
    "duration": 6,
    "start_time": "2025-04-16T17:31:32.220Z"
   },
   {
    "duration": 9,
    "start_time": "2025-04-16T17:31:32.758Z"
   },
   {
    "duration": 13,
    "start_time": "2025-04-16T17:32:30.078Z"
   },
   {
    "duration": 11,
    "start_time": "2025-04-16T17:32:36.618Z"
   },
   {
    "duration": 11,
    "start_time": "2025-04-16T17:32:45.503Z"
   },
   {
    "duration": 5,
    "start_time": "2025-04-16T17:33:00.556Z"
   },
   {
    "duration": 5,
    "start_time": "2025-04-16T17:33:15.123Z"
   },
   {
    "duration": 8,
    "start_time": "2025-04-16T17:33:24.638Z"
   },
   {
    "duration": 6,
    "start_time": "2025-04-16T17:34:15.545Z"
   },
   {
    "duration": 5,
    "start_time": "2025-04-16T17:35:17.091Z"
   },
   {
    "duration": 46,
    "start_time": "2025-04-16T17:35:53.438Z"
   },
   {
    "duration": 3,
    "start_time": "2025-04-16T17:36:16.023Z"
   },
   {
    "duration": 3,
    "start_time": "2025-04-16T17:36:23.459Z"
   },
   {
    "duration": 3,
    "start_time": "2025-04-16T17:36:36.379Z"
   },
   {
    "duration": 11,
    "start_time": "2025-04-16T17:36:51.660Z"
   },
   {
    "duration": 3,
    "start_time": "2025-04-16T17:36:59.704Z"
   },
   {
    "duration": 4,
    "start_time": "2025-04-16T17:37:04.968Z"
   },
   {
    "duration": 3,
    "start_time": "2025-04-16T17:37:11.962Z"
   },
   {
    "duration": 4,
    "start_time": "2025-04-16T17:46:03.918Z"
   },
   {
    "duration": 13,
    "start_time": "2025-04-16T17:47:29.824Z"
   },
   {
    "duration": 5,
    "start_time": "2025-04-16T17:47:32.828Z"
   },
   {
    "duration": 7,
    "start_time": "2025-04-16T17:47:42.482Z"
   },
   {
    "duration": 5,
    "start_time": "2025-04-16T17:47:52.738Z"
   },
   {
    "duration": 243,
    "start_time": "2025-04-16T17:51:52.000Z"
   },
   {
    "duration": 199,
    "start_time": "2025-04-16T17:52:43.723Z"
   },
   {
    "duration": 107,
    "start_time": "2025-04-16T17:54:42.626Z"
   },
   {
    "duration": 244,
    "start_time": "2025-04-16T17:55:32.958Z"
   },
   {
    "duration": 757,
    "start_time": "2025-04-16T17:56:46.842Z"
   },
   {
    "duration": 22,
    "start_time": "2025-04-16T17:56:47.601Z"
   },
   {
    "duration": 6,
    "start_time": "2025-04-16T17:56:47.625Z"
   },
   {
    "duration": 7,
    "start_time": "2025-04-16T17:56:47.633Z"
   },
   {
    "duration": 4,
    "start_time": "2025-04-16T17:56:47.642Z"
   },
   {
    "duration": 27,
    "start_time": "2025-04-16T17:56:47.648Z"
   },
   {
    "duration": 3,
    "start_time": "2025-04-16T17:56:47.677Z"
   },
   {
    "duration": 265,
    "start_time": "2025-04-16T17:56:47.682Z"
   },
   {
    "duration": 187,
    "start_time": "2025-04-16T17:56:47.949Z"
   },
   {
    "duration": 160,
    "start_time": "2025-04-16T17:56:48.139Z"
   },
   {
    "duration": 245,
    "start_time": "2025-04-16T17:56:48.301Z"
   },
   {
    "duration": 461,
    "start_time": "2025-04-16T17:57:06.640Z"
   },
   {
    "duration": 766,
    "start_time": "2025-04-16T17:59:31.868Z"
   },
   {
    "duration": 20,
    "start_time": "2025-04-16T17:59:32.637Z"
   },
   {
    "duration": 11,
    "start_time": "2025-04-16T17:59:32.659Z"
   },
   {
    "duration": 8,
    "start_time": "2025-04-16T17:59:32.671Z"
   },
   {
    "duration": 3,
    "start_time": "2025-04-16T17:59:32.682Z"
   },
   {
    "duration": 11,
    "start_time": "2025-04-16T17:59:32.687Z"
   },
   {
    "duration": 5,
    "start_time": "2025-04-16T17:59:32.699Z"
   },
   {
    "duration": 270,
    "start_time": "2025-04-16T17:59:32.705Z"
   },
   {
    "duration": 192,
    "start_time": "2025-04-16T17:59:32.976Z"
   },
   {
    "duration": 160,
    "start_time": "2025-04-16T17:59:33.170Z"
   },
   {
    "duration": 248,
    "start_time": "2025-04-16T17:59:33.332Z"
   },
   {
    "duration": 440,
    "start_time": "2025-04-16T17:59:33.582Z"
   },
   {
    "duration": 379,
    "start_time": "2025-04-16T17:59:47.498Z"
   },
   {
    "duration": 5,
    "start_time": "2025-04-16T18:05:29.591Z"
   },
   {
    "duration": 6,
    "start_time": "2025-04-16T18:06:42.090Z"
   },
   {
    "duration": 229,
    "start_time": "2025-04-16T18:07:21.831Z"
   },
   {
    "duration": 190,
    "start_time": "2025-04-16T18:08:19.896Z"
   },
   {
    "duration": 720,
    "start_time": "2025-04-16T18:09:05.832Z"
   },
   {
    "duration": 25,
    "start_time": "2025-04-16T18:09:06.554Z"
   },
   {
    "duration": 6,
    "start_time": "2025-04-16T18:09:06.581Z"
   },
   {
    "duration": 8,
    "start_time": "2025-04-16T18:09:06.588Z"
   },
   {
    "duration": 5,
    "start_time": "2025-04-16T18:09:06.599Z"
   },
   {
    "duration": 11,
    "start_time": "2025-04-16T18:09:06.605Z"
   },
   {
    "duration": 4,
    "start_time": "2025-04-16T18:09:06.617Z"
   },
   {
    "duration": 291,
    "start_time": "2025-04-16T18:09:06.623Z"
   },
   {
    "duration": 189,
    "start_time": "2025-04-16T18:09:06.917Z"
   },
   {
    "duration": 166,
    "start_time": "2025-04-16T18:09:07.107Z"
   },
   {
    "duration": 245,
    "start_time": "2025-04-16T18:09:07.275Z"
   },
   {
    "duration": 472,
    "start_time": "2025-04-16T18:09:07.522Z"
   },
   {
    "duration": 484,
    "start_time": "2025-04-16T18:09:07.995Z"
   },
   {
    "duration": 3,
    "start_time": "2025-04-16T18:09:08.482Z"
   },
   {
    "duration": 83,
    "start_time": "2025-04-16T18:09:08.487Z"
   },
   {
    "duration": 254,
    "start_time": "2025-04-16T18:09:08.573Z"
   },
   {
    "duration": 197,
    "start_time": "2025-04-16T18:09:08.829Z"
   },
   {
    "duration": 454,
    "start_time": "2025-04-16T18:09:24.931Z"
   },
   {
    "duration": 769,
    "start_time": "2025-04-16T18:14:19.288Z"
   },
   {
    "duration": 30,
    "start_time": "2025-04-16T18:14:20.060Z"
   },
   {
    "duration": 7,
    "start_time": "2025-04-16T18:14:20.092Z"
   },
   {
    "duration": 9,
    "start_time": "2025-04-16T18:14:20.101Z"
   },
   {
    "duration": 4,
    "start_time": "2025-04-16T18:14:20.112Z"
   },
   {
    "duration": 11,
    "start_time": "2025-04-16T18:14:20.118Z"
   },
   {
    "duration": 4,
    "start_time": "2025-04-16T18:14:20.130Z"
   },
   {
    "duration": 274,
    "start_time": "2025-04-16T18:14:20.136Z"
   },
   {
    "duration": 205,
    "start_time": "2025-04-16T18:14:20.412Z"
   },
   {
    "duration": 158,
    "start_time": "2025-04-16T18:14:20.620Z"
   },
   {
    "duration": 247,
    "start_time": "2025-04-16T18:14:20.780Z"
   },
   {
    "duration": 497,
    "start_time": "2025-04-16T18:14:21.029Z"
   },
   {
    "duration": 4,
    "start_time": "2025-04-16T18:14:21.527Z"
   },
   {
    "duration": 7,
    "start_time": "2025-04-16T18:14:21.533Z"
   },
   {
    "duration": 280,
    "start_time": "2025-04-16T18:14:21.543Z"
   },
   {
    "duration": 203,
    "start_time": "2025-04-16T18:14:21.825Z"
   },
   {
    "duration": 817,
    "start_time": "2025-04-16T18:14:22.030Z"
   },
   {
    "duration": 349,
    "start_time": "2025-04-16T18:14:22.848Z"
   },
   {
    "duration": 353,
    "start_time": "2025-04-16T18:19:04.537Z"
   },
   {
    "duration": 3,
    "start_time": "2025-04-16T18:20:34.493Z"
   },
   {
    "duration": 3,
    "start_time": "2025-04-16T18:21:30.012Z"
   },
   {
    "duration": 2881,
    "start_time": "2025-04-16T19:42:08.481Z"
   },
   {
    "duration": 43,
    "start_time": "2025-04-16T19:42:11.364Z"
   },
   {
    "duration": 9,
    "start_time": "2025-04-16T19:42:11.408Z"
   },
   {
    "duration": 9,
    "start_time": "2025-04-16T19:42:11.420Z"
   },
   {
    "duration": 6,
    "start_time": "2025-04-16T19:42:11.430Z"
   },
   {
    "duration": 12,
    "start_time": "2025-04-16T19:42:11.438Z"
   },
   {
    "duration": 4,
    "start_time": "2025-04-16T19:42:11.452Z"
   },
   {
    "duration": 251,
    "start_time": "2025-04-16T19:42:11.488Z"
   },
   {
    "duration": 221,
    "start_time": "2025-04-16T19:42:11.741Z"
   },
   {
    "duration": 138,
    "start_time": "2025-04-16T19:42:11.965Z"
   },
   {
    "duration": 268,
    "start_time": "2025-04-16T19:42:12.105Z"
   },
   {
    "duration": 561,
    "start_time": "2025-04-16T19:42:12.375Z"
   },
   {
    "duration": 3,
    "start_time": "2025-04-16T19:42:12.938Z"
   },
   {
    "duration": 7,
    "start_time": "2025-04-16T19:42:12.943Z"
   },
   {
    "duration": 254,
    "start_time": "2025-04-16T19:42:12.952Z"
   },
   {
    "duration": 218,
    "start_time": "2025-04-16T19:42:13.208Z"
   },
   {
    "duration": 794,
    "start_time": "2025-04-16T19:42:13.428Z"
   },
   {
    "duration": 304,
    "start_time": "2025-04-16T19:42:14.224Z"
   },
   {
    "duration": 6,
    "start_time": "2025-04-16T19:42:14.530Z"
   },
   {
    "duration": 56,
    "start_time": "2025-04-16T19:42:14.538Z"
   },
   {
    "duration": 2467,
    "start_time": "2025-04-28T12:06:12.428Z"
   },
   {
    "duration": 26,
    "start_time": "2025-04-28T12:06:14.898Z"
   },
   {
    "duration": 6,
    "start_time": "2025-04-28T12:06:14.928Z"
   },
   {
    "duration": 7,
    "start_time": "2025-04-28T12:06:14.938Z"
   },
   {
    "duration": 4,
    "start_time": "2025-04-28T12:06:14.947Z"
   },
   {
    "duration": 9,
    "start_time": "2025-04-28T12:06:14.953Z"
   },
   {
    "duration": 25,
    "start_time": "2025-04-28T12:06:14.964Z"
   },
   {
    "duration": 248,
    "start_time": "2025-04-28T12:06:14.991Z"
   },
   {
    "duration": 191,
    "start_time": "2025-04-28T12:06:15.241Z"
   },
   {
    "duration": 117,
    "start_time": "2025-04-28T12:06:15.434Z"
   },
   {
    "duration": 299,
    "start_time": "2025-04-28T12:06:15.553Z"
   },
   {
    "duration": 474,
    "start_time": "2025-04-28T12:06:15.854Z"
   },
   {
    "duration": 3,
    "start_time": "2025-04-28T12:06:16.332Z"
   },
   {
    "duration": 6,
    "start_time": "2025-04-28T12:06:16.337Z"
   },
   {
    "duration": 248,
    "start_time": "2025-04-28T12:06:16.344Z"
   },
   {
    "duration": 194,
    "start_time": "2025-04-28T12:06:16.594Z"
   },
   {
    "duration": 495,
    "start_time": "2025-04-28T12:06:16.791Z"
   },
   {
    "duration": 405,
    "start_time": "2025-04-28T12:06:17.288Z"
   },
   {
    "duration": 3,
    "start_time": "2025-04-28T12:06:17.695Z"
   },
   {
    "duration": 4,
    "start_time": "2025-04-28T12:06:17.700Z"
   },
   {
    "duration": 2561,
    "start_time": "2025-04-28T15:00:06.712Z"
   },
   {
    "duration": 34,
    "start_time": "2025-04-28T15:00:09.275Z"
   },
   {
    "duration": 7,
    "start_time": "2025-04-28T15:00:09.311Z"
   },
   {
    "duration": 9,
    "start_time": "2025-04-28T15:00:09.320Z"
   },
   {
    "duration": 12,
    "start_time": "2025-04-28T15:00:09.331Z"
   },
   {
    "duration": 12,
    "start_time": "2025-04-28T15:00:09.345Z"
   },
   {
    "duration": 4,
    "start_time": "2025-04-28T15:00:09.359Z"
   },
   {
    "duration": 250,
    "start_time": "2025-04-28T15:00:09.365Z"
   },
   {
    "duration": 190,
    "start_time": "2025-04-28T15:00:09.617Z"
   },
   {
    "duration": 127,
    "start_time": "2025-04-28T15:00:09.810Z"
   },
   {
    "duration": 253,
    "start_time": "2025-04-28T15:00:09.943Z"
   },
   {
    "duration": 507,
    "start_time": "2025-04-28T15:00:10.198Z"
   },
   {
    "duration": 5,
    "start_time": "2025-04-28T15:00:10.708Z"
   },
   {
    "duration": 7,
    "start_time": "2025-04-28T15:00:10.715Z"
   },
   {
    "duration": 256,
    "start_time": "2025-04-28T15:00:10.726Z"
   },
   {
    "duration": 206,
    "start_time": "2025-04-28T15:00:10.984Z"
   },
   {
    "duration": 853,
    "start_time": "2025-04-28T15:00:11.192Z"
   },
   {
    "duration": 513,
    "start_time": "2025-04-28T15:00:12.048Z"
   },
   {
    "duration": 10,
    "start_time": "2025-04-28T15:00:12.563Z"
   },
   {
    "duration": 4,
    "start_time": "2025-04-28T15:00:12.643Z"
   },
   {
    "duration": 3,
    "start_time": "2025-04-28T15:26:47.846Z"
   },
   {
    "duration": 3,
    "start_time": "2025-04-28T15:26:48.536Z"
   },
   {
    "duration": 4,
    "start_time": "2025-04-28T15:26:49.337Z"
   },
   {
    "duration": 5,
    "start_time": "2025-04-28T15:27:58.552Z"
   },
   {
    "duration": 5,
    "start_time": "2025-04-28T15:27:58.715Z"
   },
   {
    "duration": 6,
    "start_time": "2025-04-28T15:27:58.906Z"
   },
   {
    "duration": 3,
    "start_time": "2025-04-28T15:29:02.787Z"
   },
   {
    "duration": 4,
    "start_time": "2025-04-28T15:29:03.549Z"
   },
   {
    "duration": 5,
    "start_time": "2025-04-28T15:29:04.347Z"
   },
   {
    "duration": 5,
    "start_time": "2025-04-28T15:29:04.787Z"
   },
   {
    "duration": 5,
    "start_time": "2025-04-28T15:29:05.248Z"
   },
   {
    "duration": 6,
    "start_time": "2025-04-28T15:29:05.888Z"
   },
   {
    "duration": 6,
    "start_time": "2025-04-28T15:29:06.194Z"
   },
   {
    "duration": 8,
    "start_time": "2025-04-28T15:43:10.991Z"
   },
   {
    "duration": 6,
    "start_time": "2025-04-28T15:43:52.946Z"
   },
   {
    "duration": 6,
    "start_time": "2025-04-28T15:43:58.111Z"
   },
   {
    "duration": 3,
    "start_time": "2025-04-28T15:47:18.085Z"
   },
   {
    "duration": 4,
    "start_time": "2025-04-28T15:47:18.248Z"
   },
   {
    "duration": 1017,
    "start_time": "2025-04-28T15:47:57.020Z"
   },
   {
    "duration": 23,
    "start_time": "2025-04-28T15:47:58.040Z"
   },
   {
    "duration": 8,
    "start_time": "2025-04-28T15:47:58.065Z"
   },
   {
    "duration": 9,
    "start_time": "2025-04-28T15:47:58.074Z"
   },
   {
    "duration": 5,
    "start_time": "2025-04-28T15:47:58.086Z"
   },
   {
    "duration": 11,
    "start_time": "2025-04-28T15:47:58.092Z"
   },
   {
    "duration": 4,
    "start_time": "2025-04-28T15:47:58.104Z"
   },
   {
    "duration": 301,
    "start_time": "2025-04-28T15:47:58.110Z"
   },
   {
    "duration": 198,
    "start_time": "2025-04-28T15:47:58.414Z"
   },
   {
    "duration": 125,
    "start_time": "2025-04-28T15:47:58.614Z"
   },
   {
    "duration": 280,
    "start_time": "2025-04-28T15:47:58.743Z"
   },
   {
    "duration": 506,
    "start_time": "2025-04-28T15:47:59.025Z"
   },
   {
    "duration": 4,
    "start_time": "2025-04-28T15:47:59.542Z"
   },
   {
    "duration": 6,
    "start_time": "2025-04-28T15:47:59.551Z"
   },
   {
    "duration": 268,
    "start_time": "2025-04-28T15:47:59.559Z"
   },
   {
    "duration": 219,
    "start_time": "2025-04-28T15:47:59.829Z"
   },
   {
    "duration": 595,
    "start_time": "2025-04-28T15:48:00.050Z"
   },
   {
    "duration": 515,
    "start_time": "2025-04-28T15:48:00.648Z"
   },
   {
    "duration": 78,
    "start_time": "2025-04-28T15:48:01.165Z"
   },
   {
    "duration": 6,
    "start_time": "2025-04-28T15:48:01.249Z"
   },
   {
    "duration": 3,
    "start_time": "2025-04-28T15:48:01.260Z"
   },
   {
    "duration": 3,
    "start_time": "2025-04-28T15:48:01.266Z"
   },
   {
    "duration": 4,
    "start_time": "2025-04-28T15:48:01.271Z"
   },
   {
    "duration": 6,
    "start_time": "2025-04-28T15:48:01.344Z"
   },
   {
    "duration": 4,
    "start_time": "2025-04-28T15:48:01.351Z"
   },
   {
    "duration": 5,
    "start_time": "2025-04-28T15:48:01.357Z"
   },
   {
    "duration": 6,
    "start_time": "2025-04-28T15:48:01.363Z"
   },
   {
    "duration": 6,
    "start_time": "2025-04-28T15:48:01.371Z"
   },
   {
    "duration": 7,
    "start_time": "2025-04-28T15:48:01.380Z"
   },
   {
    "duration": 5,
    "start_time": "2025-04-28T15:48:01.389Z"
   },
   {
    "duration": 5,
    "start_time": "2025-04-28T15:48:01.396Z"
   },
   {
    "duration": 3,
    "start_time": "2025-04-28T15:48:01.443Z"
   },
   {
    "duration": 5,
    "start_time": "2025-04-28T15:48:01.448Z"
   },
   {
    "duration": 7,
    "start_time": "2025-04-28T15:48:01.455Z"
   },
   {
    "duration": 5,
    "start_time": "2025-04-28T15:48:01.464Z"
   },
   {
    "duration": 4,
    "start_time": "2025-04-28T15:48:01.471Z"
   },
   {
    "duration": 2025,
    "start_time": "2025-04-28T15:50:36.813Z"
   },
   {
    "duration": 2034,
    "start_time": "2025-04-28T15:50:46.848Z"
   },
   {
    "duration": 1924,
    "start_time": "2025-04-28T15:50:54.506Z"
   },
   {
    "duration": 1082,
    "start_time": "2025-04-28T15:51:17.206Z"
   },
   {
    "duration": 32,
    "start_time": "2025-04-28T15:51:18.290Z"
   },
   {
    "duration": 9,
    "start_time": "2025-04-28T15:51:18.324Z"
   },
   {
    "duration": 16,
    "start_time": "2025-04-28T15:51:18.335Z"
   },
   {
    "duration": 4,
    "start_time": "2025-04-28T15:51:18.354Z"
   },
   {
    "duration": 11,
    "start_time": "2025-04-28T15:51:18.360Z"
   },
   {
    "duration": 6,
    "start_time": "2025-04-28T15:51:18.373Z"
   },
   {
    "duration": 283,
    "start_time": "2025-04-28T15:51:18.380Z"
   },
   {
    "duration": 209,
    "start_time": "2025-04-28T15:51:18.666Z"
   },
   {
    "duration": 153,
    "start_time": "2025-04-28T15:51:18.877Z"
   },
   {
    "duration": 301,
    "start_time": "2025-04-28T15:51:19.032Z"
   },
   {
    "duration": 460,
    "start_time": "2025-04-28T15:51:19.336Z"
   },
   {
    "duration": 3,
    "start_time": "2025-04-28T15:51:19.799Z"
   },
   {
    "duration": 6,
    "start_time": "2025-04-28T15:51:19.806Z"
   },
   {
    "duration": 292,
    "start_time": "2025-04-28T15:51:19.814Z"
   },
   {
    "duration": 298,
    "start_time": "2025-04-28T15:51:20.108Z"
   },
   {
    "duration": 684,
    "start_time": "2025-04-28T15:51:20.408Z"
   },
   {
    "duration": 367,
    "start_time": "2025-04-28T15:51:21.095Z"
   },
   {
    "duration": 4,
    "start_time": "2025-04-28T15:51:21.464Z"
   },
   {
    "duration": 72,
    "start_time": "2025-04-28T15:51:21.470Z"
   },
   {
    "duration": 6,
    "start_time": "2025-04-28T15:51:21.544Z"
   },
   {
    "duration": 5,
    "start_time": "2025-04-28T15:51:21.552Z"
   },
   {
    "duration": 4,
    "start_time": "2025-04-28T15:51:21.559Z"
   },
   {
    "duration": 5,
    "start_time": "2025-04-28T15:51:21.565Z"
   },
   {
    "duration": 4,
    "start_time": "2025-04-28T15:51:21.572Z"
   },
   {
    "duration": 4,
    "start_time": "2025-04-28T15:51:21.578Z"
   },
   {
    "duration": 60,
    "start_time": "2025-04-28T15:51:21.584Z"
   },
   {
    "duration": 6,
    "start_time": "2025-04-28T15:51:21.646Z"
   },
   {
    "duration": 8,
    "start_time": "2025-04-28T15:51:21.654Z"
   },
   {
    "duration": 5,
    "start_time": "2025-04-28T15:51:21.664Z"
   },
   {
    "duration": 6,
    "start_time": "2025-04-28T15:51:21.671Z"
   },
   {
    "duration": 4,
    "start_time": "2025-04-28T15:51:21.678Z"
   },
   {
    "duration": 5,
    "start_time": "2025-04-28T15:51:21.684Z"
   },
   {
    "duration": 8,
    "start_time": "2025-04-28T15:51:21.690Z"
   },
   {
    "duration": 6,
    "start_time": "2025-04-28T15:51:21.699Z"
   },
   {
    "duration": 6,
    "start_time": "2025-04-28T15:51:21.742Z"
   },
   {
    "duration": 19,
    "start_time": "2025-04-28T15:52:34.188Z"
   },
   {
    "duration": 4,
    "start_time": "2025-04-28T15:52:34.627Z"
   },
   {
    "duration": 5,
    "start_time": "2025-04-28T15:52:35.047Z"
   },
   {
    "duration": 822,
    "start_time": "2025-04-28T15:52:35.915Z"
   },
   {
    "duration": 12,
    "start_time": "2025-04-28T15:52:36.745Z"
   },
   {
    "duration": 4,
    "start_time": "2025-04-28T15:52:36.759Z"
   },
   {
    "duration": 1131,
    "start_time": "2025-04-28T15:54:14.009Z"
   },
   {
    "duration": 24,
    "start_time": "2025-04-28T15:54:15.143Z"
   },
   {
    "duration": 9,
    "start_time": "2025-04-28T15:54:15.168Z"
   },
   {
    "duration": 10,
    "start_time": "2025-04-28T15:54:15.186Z"
   },
   {
    "duration": 5,
    "start_time": "2025-04-28T15:54:15.198Z"
   },
   {
    "duration": 10,
    "start_time": "2025-04-28T15:54:15.205Z"
   },
   {
    "duration": 28,
    "start_time": "2025-04-28T15:54:15.217Z"
   },
   {
    "duration": 256,
    "start_time": "2025-04-28T15:54:15.247Z"
   },
   {
    "duration": 195,
    "start_time": "2025-04-28T15:54:15.505Z"
   },
   {
    "duration": 123,
    "start_time": "2025-04-28T15:54:15.703Z"
   },
   {
    "duration": 269,
    "start_time": "2025-04-28T15:54:15.829Z"
   },
   {
    "duration": 542,
    "start_time": "2025-04-28T15:54:16.100Z"
   },
   {
    "duration": 4,
    "start_time": "2025-04-28T15:54:16.644Z"
   },
   {
    "duration": 5,
    "start_time": "2025-04-28T15:54:16.650Z"
   },
   {
    "duration": 269,
    "start_time": "2025-04-28T15:54:16.657Z"
   },
   {
    "duration": 207,
    "start_time": "2025-04-28T15:54:16.928Z"
   },
   {
    "duration": 519,
    "start_time": "2025-04-28T15:54:17.138Z"
   },
   {
    "duration": 404,
    "start_time": "2025-04-28T15:54:17.659Z"
   },
   {
    "duration": 79,
    "start_time": "2025-04-28T15:54:18.065Z"
   },
   {
    "duration": 4,
    "start_time": "2025-04-28T15:54:18.146Z"
   },
   {
    "duration": 5,
    "start_time": "2025-04-28T15:54:18.154Z"
   },
   {
    "duration": 3,
    "start_time": "2025-04-28T15:54:18.162Z"
   },
   {
    "duration": 5,
    "start_time": "2025-04-28T15:54:18.166Z"
   },
   {
    "duration": 73,
    "start_time": "2025-04-28T15:54:18.173Z"
   },
   {
    "duration": 5,
    "start_time": "2025-04-28T15:54:18.248Z"
   },
   {
    "duration": 4,
    "start_time": "2025-04-28T15:54:18.254Z"
   },
   {
    "duration": 6,
    "start_time": "2025-04-28T15:54:18.259Z"
   },
   {
    "duration": 6,
    "start_time": "2025-04-28T15:54:18.270Z"
   },
   {
    "duration": 7,
    "start_time": "2025-04-28T15:54:18.277Z"
   },
   {
    "duration": 5,
    "start_time": "2025-04-28T15:54:18.286Z"
   },
   {
    "duration": 5,
    "start_time": "2025-04-28T15:54:18.292Z"
   },
   {
    "duration": 43,
    "start_time": "2025-04-28T15:54:18.300Z"
   },
   {
    "duration": 6,
    "start_time": "2025-04-28T15:54:18.345Z"
   },
   {
    "duration": 12,
    "start_time": "2025-04-28T15:54:18.354Z"
   },
   {
    "duration": 6,
    "start_time": "2025-04-28T15:54:18.367Z"
   },
   {
    "duration": 3,
    "start_time": "2025-04-28T15:54:18.376Z"
   },
   {
    "duration": 21,
    "start_time": "2025-04-28T15:54:18.381Z"
   },
   {
    "duration": 4,
    "start_time": "2025-04-28T15:54:18.404Z"
   },
   {
    "duration": 35,
    "start_time": "2025-04-28T15:54:18.410Z"
   },
   {
    "duration": 830,
    "start_time": "2025-04-28T15:54:18.447Z"
   },
   {
    "duration": 13,
    "start_time": "2025-04-28T15:54:19.279Z"
   },
   {
    "duration": 4,
    "start_time": "2025-04-28T15:54:19.294Z"
   },
   {
    "duration": 238,
    "start_time": "2025-04-28T15:54:58.507Z"
   },
   {
    "duration": 6,
    "start_time": "2025-04-28T15:54:58.747Z"
   },
   {
    "duration": 5,
    "start_time": "2025-04-28T15:54:58.946Z"
   },
   {
    "duration": 1131,
    "start_time": "2025-04-28T15:55:28.378Z"
   },
   {
    "duration": 3,
    "start_time": "2025-04-28T15:55:29.511Z"
   },
   {
    "duration": 3,
    "start_time": "2025-04-28T15:55:29.516Z"
   },
   {
    "duration": 1073,
    "start_time": "2025-04-28T15:56:00.181Z"
   },
   {
    "duration": 7,
    "start_time": "2025-04-28T15:56:01.256Z"
   },
   {
    "duration": 4,
    "start_time": "2025-04-28T15:56:01.264Z"
   },
   {
    "duration": 3,
    "start_time": "2025-04-28T15:57:32.127Z"
   },
   {
    "duration": 4,
    "start_time": "2025-04-28T15:57:32.353Z"
   },
   {
    "duration": 5,
    "start_time": "2025-04-28T15:57:32.527Z"
   },
   {
    "duration": 1053,
    "start_time": "2025-04-28T16:04:41.510Z"
   },
   {
    "duration": 23,
    "start_time": "2025-04-28T16:04:42.565Z"
   },
   {
    "duration": 7,
    "start_time": "2025-04-28T16:04:42.591Z"
   },
   {
    "duration": 8,
    "start_time": "2025-04-28T16:04:42.599Z"
   },
   {
    "duration": 34,
    "start_time": "2025-04-28T16:04:42.610Z"
   },
   {
    "duration": 10,
    "start_time": "2025-04-28T16:04:42.645Z"
   },
   {
    "duration": 3,
    "start_time": "2025-04-28T16:04:42.657Z"
   },
   {
    "duration": 257,
    "start_time": "2025-04-28T16:04:42.662Z"
   },
   {
    "duration": 201,
    "start_time": "2025-04-28T16:04:42.921Z"
   },
   {
    "duration": 120,
    "start_time": "2025-04-28T16:04:43.124Z"
   },
   {
    "duration": 254,
    "start_time": "2025-04-28T16:04:43.246Z"
   },
   {
    "duration": 516,
    "start_time": "2025-04-28T16:04:43.502Z"
   },
   {
    "duration": 6,
    "start_time": "2025-04-28T16:04:44.020Z"
   },
   {
    "duration": 16,
    "start_time": "2025-04-28T16:04:44.031Z"
   },
   {
    "duration": 237,
    "start_time": "2025-04-28T16:04:44.050Z"
   },
   {
    "duration": 203,
    "start_time": "2025-04-28T16:04:44.290Z"
   },
   {
    "duration": 498,
    "start_time": "2025-04-28T16:04:44.496Z"
   },
   {
    "duration": 462,
    "start_time": "2025-04-28T16:04:44.996Z"
   },
   {
    "duration": 5,
    "start_time": "2025-04-28T16:04:45.460Z"
   },
   {
    "duration": 79,
    "start_time": "2025-04-28T16:04:45.468Z"
   },
   {
    "duration": 3,
    "start_time": "2025-04-28T16:04:45.549Z"
   },
   {
    "duration": 5,
    "start_time": "2025-04-28T16:04:45.553Z"
   },
   {
    "duration": 4,
    "start_time": "2025-04-28T16:04:45.560Z"
   },
   {
    "duration": 5,
    "start_time": "2025-04-28T16:04:45.565Z"
   },
   {
    "duration": 4,
    "start_time": "2025-04-28T16:04:45.572Z"
   },
   {
    "duration": 68,
    "start_time": "2025-04-28T16:04:45.579Z"
   },
   {
    "duration": 6,
    "start_time": "2025-04-28T16:04:45.649Z"
   },
   {
    "duration": 6,
    "start_time": "2025-04-28T16:04:45.657Z"
   },
   {
    "duration": 7,
    "start_time": "2025-04-28T16:04:45.665Z"
   },
   {
    "duration": 5,
    "start_time": "2025-04-28T16:04:45.673Z"
   },
   {
    "duration": 6,
    "start_time": "2025-04-28T16:04:45.680Z"
   },
   {
    "duration": 3,
    "start_time": "2025-04-28T16:04:45.687Z"
   },
   {
    "duration": 5,
    "start_time": "2025-04-28T16:04:45.692Z"
   },
   {
    "duration": 49,
    "start_time": "2025-04-28T16:04:45.698Z"
   },
   {
    "duration": 5,
    "start_time": "2025-04-28T16:04:45.749Z"
   },
   {
    "duration": 4,
    "start_time": "2025-04-28T16:04:45.755Z"
   },
   {
    "duration": 17,
    "start_time": "2025-04-28T16:04:45.761Z"
   },
   {
    "duration": 3,
    "start_time": "2025-04-28T16:04:45.780Z"
   },
   {
    "duration": 4,
    "start_time": "2025-04-28T16:04:45.785Z"
   },
   {
    "duration": 839,
    "start_time": "2025-04-28T16:04:45.790Z"
   },
   {
    "duration": 17,
    "start_time": "2025-04-28T16:04:46.634Z"
   },
   {
    "duration": 3,
    "start_time": "2025-04-28T16:04:46.653Z"
   },
   {
    "duration": 286,
    "start_time": "2025-04-28T16:04:46.658Z"
   },
   {
    "duration": 10,
    "start_time": "2025-04-28T16:04:46.947Z"
   },
   {
    "duration": 3,
    "start_time": "2025-04-28T16:04:46.959Z"
   },
   {
    "duration": 1055,
    "start_time": "2025-04-28T16:04:46.964Z"
   },
   {
    "duration": 3,
    "start_time": "2025-04-28T16:04:48.021Z"
   },
   {
    "duration": 4,
    "start_time": "2025-04-28T16:04:48.026Z"
   },
   {
    "duration": 1045,
    "start_time": "2025-04-28T16:04:48.031Z"
   },
   {
    "duration": 5,
    "start_time": "2025-04-28T16:04:49.078Z"
   },
   {
    "duration": 59,
    "start_time": "2025-04-28T16:04:49.085Z"
   },
   {
    "duration": 4,
    "start_time": "2025-04-28T16:04:49.146Z"
   },
   {
    "duration": 3,
    "start_time": "2025-04-28T16:04:49.152Z"
   },
   {
    "duration": 5,
    "start_time": "2025-04-28T16:04:49.157Z"
   },
   {
    "duration": 2750,
    "start_time": "2025-04-28T17:50:24.979Z"
   },
   {
    "duration": 32,
    "start_time": "2025-04-28T17:50:27.731Z"
   },
   {
    "duration": 8,
    "start_time": "2025-04-28T17:50:27.764Z"
   },
   {
    "duration": 10,
    "start_time": "2025-04-28T17:50:27.774Z"
   },
   {
    "duration": 5,
    "start_time": "2025-04-28T17:50:27.787Z"
   },
   {
    "duration": 21,
    "start_time": "2025-04-28T17:50:27.795Z"
   },
   {
    "duration": 4,
    "start_time": "2025-04-28T17:50:27.817Z"
   },
   {
    "duration": 249,
    "start_time": "2025-04-28T17:50:27.823Z"
   },
   {
    "duration": 185,
    "start_time": "2025-04-28T17:50:28.074Z"
   },
   {
    "duration": 113,
    "start_time": "2025-04-28T17:50:28.261Z"
   },
   {
    "duration": 267,
    "start_time": "2025-04-28T17:50:28.376Z"
   },
   {
    "duration": 477,
    "start_time": "2025-04-28T17:50:28.645Z"
   },
   {
    "duration": 3,
    "start_time": "2025-04-28T17:50:29.124Z"
   },
   {
    "duration": 7,
    "start_time": "2025-04-28T17:50:29.131Z"
   },
   {
    "duration": 248,
    "start_time": "2025-04-28T17:50:29.140Z"
   },
   {
    "duration": 194,
    "start_time": "2025-04-28T17:50:29.390Z"
   },
   {
    "duration": 557,
    "start_time": "2025-04-28T17:50:29.585Z"
   },
   {
    "duration": 384,
    "start_time": "2025-04-28T17:50:30.144Z"
   },
   {
    "duration": 3,
    "start_time": "2025-04-28T17:50:30.530Z"
   },
   {
    "duration": 6,
    "start_time": "2025-04-28T17:50:30.615Z"
   },
   {
    "duration": 5,
    "start_time": "2025-04-28T17:50:30.624Z"
   },
   {
    "duration": 4,
    "start_time": "2025-04-28T17:50:30.630Z"
   },
   {
    "duration": 4,
    "start_time": "2025-04-28T17:50:30.635Z"
   },
   {
    "duration": 4,
    "start_time": "2025-04-28T17:50:30.641Z"
   },
   {
    "duration": 66,
    "start_time": "2025-04-28T17:50:30.646Z"
   },
   {
    "duration": 4,
    "start_time": "2025-04-28T17:50:30.713Z"
   },
   {
    "duration": 5,
    "start_time": "2025-04-28T17:50:30.719Z"
   },
   {
    "duration": 7,
    "start_time": "2025-04-28T17:50:30.725Z"
   },
   {
    "duration": 6,
    "start_time": "2025-04-28T17:50:30.733Z"
   },
   {
    "duration": 4,
    "start_time": "2025-04-28T17:50:30.741Z"
   },
   {
    "duration": 6,
    "start_time": "2025-04-28T17:50:30.746Z"
   },
   {
    "duration": 3,
    "start_time": "2025-04-28T17:50:30.753Z"
   },
   {
    "duration": 5,
    "start_time": "2025-04-28T17:50:30.758Z"
   },
   {
    "duration": 7,
    "start_time": "2025-04-28T17:50:30.764Z"
   },
   {
    "duration": 42,
    "start_time": "2025-04-28T17:50:30.772Z"
   },
   {
    "duration": 3,
    "start_time": "2025-04-28T17:50:30.816Z"
   },
   {
    "duration": 17,
    "start_time": "2025-04-28T17:50:30.821Z"
   },
   {
    "duration": 3,
    "start_time": "2025-04-28T17:50:30.840Z"
   },
   {
    "duration": 3,
    "start_time": "2025-04-28T17:50:30.845Z"
   },
   {
    "duration": 820,
    "start_time": "2025-04-28T17:50:30.850Z"
   },
   {
    "duration": 12,
    "start_time": "2025-04-28T17:50:31.675Z"
   },
   {
    "duration": 3,
    "start_time": "2025-04-28T17:50:31.688Z"
   },
   {
    "duration": 226,
    "start_time": "2025-04-28T17:50:31.693Z"
   },
   {
    "duration": 21,
    "start_time": "2025-04-28T17:50:31.923Z"
   },
   {
    "duration": 3,
    "start_time": "2025-04-28T17:50:32.011Z"
   },
   {
    "duration": 1069,
    "start_time": "2025-04-28T17:50:32.016Z"
   },
   {
    "duration": 3,
    "start_time": "2025-04-28T17:50:33.087Z"
   },
   {
    "duration": 4,
    "start_time": "2025-04-28T17:50:33.092Z"
   },
   {
    "duration": 848,
    "start_time": "2025-04-28T17:50:33.098Z"
   },
   {
    "duration": 6,
    "start_time": "2025-04-28T17:50:33.947Z"
   },
   {
    "duration": 60,
    "start_time": "2025-04-28T17:50:33.954Z"
   },
   {
    "duration": 4,
    "start_time": "2025-04-28T17:50:34.016Z"
   },
   {
    "duration": 4,
    "start_time": "2025-04-28T17:50:34.021Z"
   },
   {
    "duration": 5,
    "start_time": "2025-04-28T17:50:34.026Z"
   },
   {
    "duration": 3,
    "start_time": "2025-04-28T17:52:22.884Z"
   },
   {
    "duration": 3,
    "start_time": "2025-04-28T17:52:23.184Z"
   },
   {
    "duration": 503,
    "start_time": "2025-04-28T17:52:23.442Z"
   },
   {
    "duration": 4,
    "start_time": "2025-04-28T17:52:23.947Z"
   },
   {
    "duration": 4,
    "start_time": "2025-04-28T17:52:23.952Z"
   },
   {
    "duration": 3,
    "start_time": "2025-04-28T17:52:24.197Z"
   },
   {
    "duration": 243,
    "start_time": "2025-04-28T17:53:28.702Z"
   },
   {
    "duration": 3,
    "start_time": "2025-04-28T17:53:41.418Z"
   },
   {
    "duration": 3,
    "start_time": "2025-04-28T17:53:41.600Z"
   },
   {
    "duration": 31187,
    "start_time": "2025-04-28T17:53:41.758Z"
   },
   {
    "duration": 14,
    "start_time": "2025-04-28T17:54:12.947Z"
   },
   {
    "duration": 3,
    "start_time": "2025-04-28T17:54:12.962Z"
   },
   {
    "duration": 3,
    "start_time": "2025-04-28T17:54:12.967Z"
   },
   {
    "duration": 3,
    "start_time": "2025-04-28T17:54:36.113Z"
   },
   {
    "duration": 3,
    "start_time": "2025-04-28T17:54:36.142Z"
   },
   {
    "duration": 31705,
    "start_time": "2025-04-28T17:54:36.328Z"
   },
   {
    "duration": 11,
    "start_time": "2025-04-28T17:55:08.113Z"
   },
   {
    "duration": 3,
    "start_time": "2025-04-28T17:55:08.125Z"
   },
   {
    "duration": 4,
    "start_time": "2025-04-28T17:55:08.129Z"
   },
   {
    "duration": 3,
    "start_time": "2025-04-28T17:55:38.668Z"
   },
   {
    "duration": 3,
    "start_time": "2025-04-28T17:55:38.795Z"
   },
   {
    "duration": 45833,
    "start_time": "2025-04-28T17:55:38.939Z"
   },
   {
    "duration": 3,
    "start_time": "2025-04-28T17:56:24.774Z"
   },
   {
    "duration": 3,
    "start_time": "2025-04-28T17:56:24.779Z"
   },
   {
    "duration": 3,
    "start_time": "2025-04-28T17:56:24.784Z"
   },
   {
    "duration": 5,
    "start_time": "2025-04-28T17:56:38.475Z"
   },
   {
    "duration": 3,
    "start_time": "2025-04-28T17:56:38.748Z"
   },
   {
    "duration": 90914,
    "start_time": "2025-04-28T17:56:39.128Z"
   },
   {
    "duration": 6,
    "start_time": "2025-04-28T17:58:10.044Z"
   },
   {
    "duration": 2,
    "start_time": "2025-04-28T17:58:10.112Z"
   },
   {
    "duration": 3,
    "start_time": "2025-04-28T17:58:10.117Z"
   },
   {
    "duration": 4,
    "start_time": "2025-04-28T18:00:56.525Z"
   },
   {
    "duration": 3,
    "start_time": "2025-04-28T18:00:56.745Z"
   },
   {
    "duration": 4,
    "start_time": "2025-04-28T18:00:56.905Z"
   },
   {
    "duration": 1077,
    "start_time": "2025-04-28T18:21:51.485Z"
   },
   {
    "duration": 22,
    "start_time": "2025-04-28T18:21:52.565Z"
   },
   {
    "duration": 6,
    "start_time": "2025-04-28T18:21:52.588Z"
   },
   {
    "duration": 15,
    "start_time": "2025-04-28T18:21:52.596Z"
   },
   {
    "duration": 4,
    "start_time": "2025-04-28T18:21:52.614Z"
   },
   {
    "duration": 9,
    "start_time": "2025-04-28T18:21:52.620Z"
   },
   {
    "duration": 3,
    "start_time": "2025-04-28T18:21:52.631Z"
   },
   {
    "duration": 268,
    "start_time": "2025-04-28T18:21:52.636Z"
   },
   {
    "duration": 186,
    "start_time": "2025-04-28T18:21:52.906Z"
   },
   {
    "duration": 113,
    "start_time": "2025-04-28T18:21:53.094Z"
   },
   {
    "duration": 265,
    "start_time": "2025-04-28T18:21:53.212Z"
   },
   {
    "duration": 479,
    "start_time": "2025-04-28T18:21:53.479Z"
   },
   {
    "duration": 3,
    "start_time": "2025-04-28T18:21:53.961Z"
   },
   {
    "duration": 6,
    "start_time": "2025-04-28T18:21:53.967Z"
   },
   {
    "duration": 253,
    "start_time": "2025-04-28T18:21:53.974Z"
   },
   {
    "duration": 193,
    "start_time": "2025-04-28T18:21:54.229Z"
   },
   {
    "duration": 508,
    "start_time": "2025-04-28T18:21:54.424Z"
   },
   {
    "duration": 482,
    "start_time": "2025-04-28T18:21:54.934Z"
   },
   {
    "duration": 5,
    "start_time": "2025-04-28T18:21:55.418Z"
   },
   {
    "duration": 4,
    "start_time": "2025-04-28T18:21:55.424Z"
   },
   {
    "duration": 3,
    "start_time": "2025-04-28T18:21:55.430Z"
   },
   {
    "duration": 78,
    "start_time": "2025-04-28T18:21:55.434Z"
   },
   {
    "duration": 3,
    "start_time": "2025-04-28T18:21:55.514Z"
   },
   {
    "duration": 5,
    "start_time": "2025-04-28T18:21:55.518Z"
   },
   {
    "duration": 4,
    "start_time": "2025-04-28T18:21:55.524Z"
   },
   {
    "duration": 4,
    "start_time": "2025-04-28T18:21:55.530Z"
   },
   {
    "duration": 6,
    "start_time": "2025-04-28T18:21:55.535Z"
   },
   {
    "duration": 4,
    "start_time": "2025-04-28T18:21:55.543Z"
   },
   {
    "duration": 6,
    "start_time": "2025-04-28T18:21:55.549Z"
   },
   {
    "duration": 5,
    "start_time": "2025-04-28T18:21:55.556Z"
   },
   {
    "duration": 4,
    "start_time": "2025-04-28T18:21:55.612Z"
   },
   {
    "duration": 2,
    "start_time": "2025-04-28T18:21:55.618Z"
   },
   {
    "duration": 4,
    "start_time": "2025-04-28T18:21:55.622Z"
   },
   {
    "duration": 7,
    "start_time": "2025-04-28T18:21:55.628Z"
   },
   {
    "duration": 4,
    "start_time": "2025-04-28T18:21:55.636Z"
   },
   {
    "duration": 4,
    "start_time": "2025-04-28T18:21:55.642Z"
   },
   {
    "duration": 18,
    "start_time": "2025-04-28T18:21:55.647Z"
   },
   {
    "duration": 4,
    "start_time": "2025-04-28T18:21:55.666Z"
   },
   {
    "duration": 2,
    "start_time": "2025-04-28T18:21:55.712Z"
   },
   {
    "duration": 800,
    "start_time": "2025-04-28T18:21:55.716Z"
   },
   {
    "duration": 11,
    "start_time": "2025-04-28T18:21:56.522Z"
   },
   {
    "duration": 3,
    "start_time": "2025-04-28T18:21:56.535Z"
   },
   {
    "duration": 185,
    "start_time": "2025-04-28T18:21:56.540Z"
   },
   {
    "duration": 6,
    "start_time": "2025-04-28T18:21:56.729Z"
   },
   {
    "duration": 4,
    "start_time": "2025-04-28T18:21:56.812Z"
   },
   {
    "duration": 1074,
    "start_time": "2025-04-28T18:21:56.817Z"
   },
   {
    "duration": 4,
    "start_time": "2025-04-28T18:21:57.893Z"
   },
   {
    "duration": 4,
    "start_time": "2025-04-28T18:21:57.898Z"
   },
   {
    "duration": 1051,
    "start_time": "2025-04-28T18:21:57.903Z"
   },
   {
    "duration": 75,
    "start_time": "2025-04-28T18:21:58.955Z"
   },
   {
    "duration": 5,
    "start_time": "2025-04-28T18:21:59.032Z"
   },
   {
    "duration": 4,
    "start_time": "2025-04-28T18:21:59.039Z"
   },
   {
    "duration": 3,
    "start_time": "2025-04-28T18:21:59.046Z"
   },
   {
    "duration": 59,
    "start_time": "2025-04-28T18:21:59.053Z"
   },
   {
    "duration": 3,
    "start_time": "2025-04-28T18:21:59.114Z"
   },
   {
    "duration": 4,
    "start_time": "2025-04-28T18:21:59.118Z"
   },
   {
    "duration": 512,
    "start_time": "2025-04-28T18:21:59.124Z"
   },
   {
    "duration": 4,
    "start_time": "2025-04-28T18:21:59.638Z"
   },
   {
    "duration": 4,
    "start_time": "2025-04-28T18:21:59.643Z"
   },
   {
    "duration": 3,
    "start_time": "2025-04-28T18:21:59.649Z"
   },
   {
    "duration": 3,
    "start_time": "2025-04-28T18:21:59.654Z"
   },
   {
    "duration": 4,
    "start_time": "2025-04-28T18:21:59.658Z"
   },
   {
    "duration": 31159,
    "start_time": "2025-04-28T18:21:59.664Z"
   },
   {
    "duration": 14,
    "start_time": "2025-04-28T18:22:30.825Z"
   },
   {
    "duration": 2,
    "start_time": "2025-04-28T18:22:30.841Z"
   },
   {
    "duration": 3,
    "start_time": "2025-04-28T18:22:30.845Z"
   },
   {
    "duration": 3,
    "start_time": "2025-04-28T18:22:30.850Z"
   },
   {
    "duration": 4,
    "start_time": "2025-04-28T18:22:30.854Z"
   },
   {
    "duration": 30668,
    "start_time": "2025-04-28T18:22:30.859Z"
   },
   {
    "duration": 84,
    "start_time": "2025-04-28T18:23:01.529Z"
   },
   {
    "duration": 3,
    "start_time": "2025-04-28T18:23:01.614Z"
   },
   {
    "duration": 3,
    "start_time": "2025-04-28T18:23:01.619Z"
   },
   {
    "duration": 4,
    "start_time": "2025-04-28T18:23:01.623Z"
   },
   {
    "duration": 3,
    "start_time": "2025-04-28T18:23:01.628Z"
   },
   {
    "duration": 45577,
    "start_time": "2025-04-28T18:23:01.633Z"
   },
   {
    "duration": 4,
    "start_time": "2025-04-28T18:23:47.211Z"
   },
   {
    "duration": 3,
    "start_time": "2025-04-28T18:23:47.218Z"
   },
   {
    "duration": 3,
    "start_time": "2025-04-28T18:23:47.223Z"
   },
   {
    "duration": 3,
    "start_time": "2025-04-28T18:23:47.228Z"
   },
   {
    "duration": 2,
    "start_time": "2025-04-28T18:23:47.233Z"
   },
   {
    "duration": 95501,
    "start_time": "2025-04-28T18:23:47.237Z"
   },
   {
    "duration": 5,
    "start_time": "2025-04-28T18:25:22.741Z"
   },
   {
    "duration": 2,
    "start_time": "2025-04-28T18:25:22.748Z"
   },
   {
    "duration": 62,
    "start_time": "2025-04-28T18:25:22.752Z"
   },
   {
    "duration": 4,
    "start_time": "2025-04-28T18:25:22.815Z"
   },
   {
    "duration": 4,
    "start_time": "2025-04-28T18:25:22.820Z"
   },
   {
    "duration": 5,
    "start_time": "2025-04-28T18:25:22.825Z"
   },
   {
    "duration": 17,
    "start_time": "2025-04-28T18:25:22.835Z"
   },
   {
    "duration": 1101,
    "start_time": "2025-04-28T18:29:40.076Z"
   },
   {
    "duration": 22,
    "start_time": "2025-04-28T18:29:41.179Z"
   },
   {
    "duration": 11,
    "start_time": "2025-04-28T18:29:41.203Z"
   },
   {
    "duration": 8,
    "start_time": "2025-04-28T18:29:41.215Z"
   },
   {
    "duration": 4,
    "start_time": "2025-04-28T18:29:41.226Z"
   },
   {
    "duration": 9,
    "start_time": "2025-04-28T18:29:41.232Z"
   },
   {
    "duration": 4,
    "start_time": "2025-04-28T18:29:41.242Z"
   },
   {
    "duration": 329,
    "start_time": "2025-04-28T18:29:41.248Z"
   },
   {
    "duration": 187,
    "start_time": "2025-04-28T18:29:41.578Z"
   },
   {
    "duration": 112,
    "start_time": "2025-04-28T18:29:41.767Z"
   },
   {
    "duration": 248,
    "start_time": "2025-04-28T18:29:41.880Z"
   },
   {
    "duration": 505,
    "start_time": "2025-04-28T18:29:42.130Z"
   },
   {
    "duration": 4,
    "start_time": "2025-04-28T18:29:42.636Z"
   },
   {
    "duration": 6,
    "start_time": "2025-04-28T18:29:42.644Z"
   },
   {
    "duration": 242,
    "start_time": "2025-04-28T18:29:42.652Z"
   },
   {
    "duration": 194,
    "start_time": "2025-04-28T18:29:42.895Z"
   },
   {
    "duration": 466,
    "start_time": "2025-04-28T18:29:43.090Z"
   },
   {
    "duration": 371,
    "start_time": "2025-04-28T18:29:43.558Z"
   },
   {
    "duration": 4,
    "start_time": "2025-04-28T18:29:43.931Z"
   },
   {
    "duration": 4,
    "start_time": "2025-04-28T18:29:44.012Z"
   },
   {
    "duration": 2,
    "start_time": "2025-04-28T18:29:44.018Z"
   },
   {
    "duration": 3,
    "start_time": "2025-04-28T18:29:44.022Z"
   },
   {
    "duration": 3,
    "start_time": "2025-04-28T18:29:44.027Z"
   },
   {
    "duration": 5,
    "start_time": "2025-04-28T18:29:44.031Z"
   },
   {
    "duration": 4,
    "start_time": "2025-04-28T18:29:44.038Z"
   },
   {
    "duration": 4,
    "start_time": "2025-04-28T18:29:44.044Z"
   },
   {
    "duration": 67,
    "start_time": "2025-04-28T18:29:44.049Z"
   },
   {
    "duration": 6,
    "start_time": "2025-04-28T18:29:44.117Z"
   },
   {
    "duration": 7,
    "start_time": "2025-04-28T18:29:44.124Z"
   },
   {
    "duration": 8,
    "start_time": "2025-04-28T18:29:44.132Z"
   },
   {
    "duration": 5,
    "start_time": "2025-04-28T18:29:44.141Z"
   },
   {
    "duration": 2,
    "start_time": "2025-04-28T18:29:44.148Z"
   },
   {
    "duration": 4,
    "start_time": "2025-04-28T18:29:44.152Z"
   },
   {
    "duration": 7,
    "start_time": "2025-04-28T18:29:44.158Z"
   },
   {
    "duration": 4,
    "start_time": "2025-04-28T18:29:44.166Z"
   },
   {
    "duration": 3,
    "start_time": "2025-04-28T18:29:44.211Z"
   },
   {
    "duration": 18,
    "start_time": "2025-04-28T18:29:44.216Z"
   },
   {
    "duration": 4,
    "start_time": "2025-04-28T18:29:44.235Z"
   },
   {
    "duration": 4,
    "start_time": "2025-04-28T18:29:44.241Z"
   },
   {
    "duration": 827,
    "start_time": "2025-04-28T18:29:44.246Z"
   },
   {
    "duration": 12,
    "start_time": "2025-04-28T18:29:45.080Z"
   },
   {
    "duration": 4,
    "start_time": "2025-04-28T18:29:45.093Z"
   },
   {
    "duration": 214,
    "start_time": "2025-04-28T18:29:45.098Z"
   },
   {
    "duration": 6,
    "start_time": "2025-04-28T18:29:45.314Z"
   },
   {
    "duration": 3,
    "start_time": "2025-04-28T18:29:45.321Z"
   },
   {
    "duration": 1026,
    "start_time": "2025-04-28T18:29:45.325Z"
   },
   {
    "duration": 3,
    "start_time": "2025-04-28T18:29:46.353Z"
   },
   {
    "duration": 3,
    "start_time": "2025-04-28T18:29:46.358Z"
   },
   {
    "duration": 978,
    "start_time": "2025-04-28T18:29:46.363Z"
   },
   {
    "duration": 10,
    "start_time": "2025-04-28T18:29:47.343Z"
   },
   {
    "duration": 3,
    "start_time": "2025-04-28T18:29:47.354Z"
   },
   {
    "duration": 55,
    "start_time": "2025-04-28T18:29:47.359Z"
   },
   {
    "duration": 18262,
    "start_time": "2025-04-28T18:29:47.415Z"
   },
   {
    "duration": 42,
    "start_time": "2025-04-28T18:30:05.678Z"
   },
   {
    "duration": 3,
    "start_time": "2025-04-28T18:30:05.722Z"
   },
   {
    "duration": 3,
    "start_time": "2025-04-28T18:30:05.727Z"
   },
   {
    "duration": 4,
    "start_time": "2025-04-28T18:30:05.731Z"
   },
   {
    "duration": 4,
    "start_time": "2025-04-28T18:30:05.736Z"
   },
   {
    "duration": 2,
    "start_time": "2025-04-28T18:30:05.742Z"
   },
   {
    "duration": 5,
    "start_time": "2025-04-28T18:30:05.746Z"
   },
   {
    "duration": 4,
    "start_time": "2025-04-28T18:30:05.752Z"
   },
   {
    "duration": 4,
    "start_time": "2025-04-28T18:30:05.757Z"
   },
   {
    "duration": 541,
    "start_time": "2025-04-28T18:30:05.762Z"
   },
   {
    "duration": 10,
    "start_time": "2025-04-28T18:30:06.305Z"
   },
   {
    "duration": 5,
    "start_time": "2025-04-28T18:30:06.317Z"
   },
   {
    "duration": 3,
    "start_time": "2025-04-28T18:30:06.324Z"
   },
   {
    "duration": 3,
    "start_time": "2025-04-28T18:30:06.329Z"
   },
   {
    "duration": 3,
    "start_time": "2025-04-28T18:30:06.334Z"
   },
   {
    "duration": 31255,
    "start_time": "2025-04-28T18:30:06.339Z"
   },
   {
    "duration": 22,
    "start_time": "2025-04-28T18:30:37.596Z"
   },
   {
    "duration": 3,
    "start_time": "2025-04-28T18:30:37.619Z"
   },
   {
    "duration": 4,
    "start_time": "2025-04-28T18:30:37.623Z"
   },
   {
    "duration": 3,
    "start_time": "2025-04-28T18:30:37.628Z"
   },
   {
    "duration": 3,
    "start_time": "2025-04-28T18:30:37.633Z"
   },
   {
    "duration": 30776,
    "start_time": "2025-04-28T18:30:37.637Z"
   },
   {
    "duration": 11,
    "start_time": "2025-04-28T18:31:08.414Z"
   },
   {
    "duration": 2,
    "start_time": "2025-04-28T18:31:08.427Z"
   },
   {
    "duration": 3,
    "start_time": "2025-04-28T18:31:08.431Z"
   },
   {
    "duration": 4,
    "start_time": "2025-04-28T18:31:08.435Z"
   },
   {
    "duration": 4,
    "start_time": "2025-04-28T18:31:08.440Z"
   },
   {
    "duration": 45779,
    "start_time": "2025-04-28T18:31:08.445Z"
   },
   {
    "duration": 3,
    "start_time": "2025-04-28T18:31:54.226Z"
   },
   {
    "duration": 3,
    "start_time": "2025-04-28T18:31:54.231Z"
   },
   {
    "duration": 3,
    "start_time": "2025-04-28T18:31:54.236Z"
   },
   {
    "duration": 4,
    "start_time": "2025-04-28T18:31:54.240Z"
   },
   {
    "duration": 3,
    "start_time": "2025-04-28T18:31:54.245Z"
   },
   {
    "duration": 92575,
    "start_time": "2025-04-28T18:31:54.250Z"
   },
   {
    "duration": 5,
    "start_time": "2025-04-28T18:33:26.827Z"
   },
   {
    "duration": 3,
    "start_time": "2025-04-28T18:33:26.834Z"
   },
   {
    "duration": 3,
    "start_time": "2025-04-28T18:33:26.838Z"
   },
   {
    "duration": 3,
    "start_time": "2025-04-28T18:33:26.843Z"
   },
   {
    "duration": 3,
    "start_time": "2025-04-28T18:33:26.847Z"
   },
   {
    "duration": 3,
    "start_time": "2025-04-28T18:33:26.852Z"
   },
   {
    "duration": 3,
    "start_time": "2025-04-28T18:33:26.857Z"
   },
   {
    "duration": 51,
    "start_time": "2025-04-28T18:33:26.862Z"
   },
   {
    "duration": 3,
    "start_time": "2025-04-28T18:33:26.914Z"
   },
   {
    "duration": 157,
    "start_time": "2025-04-28T18:34:04.544Z"
   },
   {
    "duration": 14,
    "start_time": "2025-04-28T18:34:05.092Z"
   },
   {
    "duration": 3,
    "start_time": "2025-04-28T18:38:04.731Z"
   },
   {
    "duration": 1177,
    "start_time": "2025-04-28T18:39:00.784Z"
   },
   {
    "duration": 29,
    "start_time": "2025-04-28T18:39:01.963Z"
   },
   {
    "duration": 8,
    "start_time": "2025-04-28T18:39:01.994Z"
   },
   {
    "duration": 7,
    "start_time": "2025-04-28T18:39:02.004Z"
   },
   {
    "duration": 5,
    "start_time": "2025-04-28T18:39:02.013Z"
   },
   {
    "duration": 9,
    "start_time": "2025-04-28T18:39:02.020Z"
   },
   {
    "duration": 3,
    "start_time": "2025-04-28T18:39:02.031Z"
   },
   {
    "duration": 251,
    "start_time": "2025-04-28T18:39:02.037Z"
   },
   {
    "duration": 187,
    "start_time": "2025-04-28T18:39:02.290Z"
   },
   {
    "duration": 113,
    "start_time": "2025-04-28T18:39:02.479Z"
   },
   {
    "duration": 247,
    "start_time": "2025-04-28T18:39:02.593Z"
   },
   {
    "duration": 499,
    "start_time": "2025-04-28T18:39:02.842Z"
   },
   {
    "duration": 3,
    "start_time": "2025-04-28T18:39:03.343Z"
   },
   {
    "duration": 5,
    "start_time": "2025-04-28T18:39:03.351Z"
   },
   {
    "duration": 254,
    "start_time": "2025-04-28T18:39:03.357Z"
   },
   {
    "duration": 189,
    "start_time": "2025-04-28T18:39:03.613Z"
   },
   {
    "duration": 481,
    "start_time": "2025-04-28T18:39:03.804Z"
   },
   {
    "duration": 428,
    "start_time": "2025-04-28T18:39:04.287Z"
   },
   {
    "duration": 3,
    "start_time": "2025-04-28T18:39:04.718Z"
   },
   {
    "duration": 4,
    "start_time": "2025-04-28T18:39:04.723Z"
   },
   {
    "duration": 2,
    "start_time": "2025-04-28T18:39:04.729Z"
   },
   {
    "duration": 79,
    "start_time": "2025-04-28T18:39:04.733Z"
   },
   {
    "duration": 2,
    "start_time": "2025-04-28T18:39:04.814Z"
   },
   {
    "duration": 4,
    "start_time": "2025-04-28T18:39:04.818Z"
   },
   {
    "duration": 4,
    "start_time": "2025-04-28T18:39:04.824Z"
   },
   {
    "duration": 4,
    "start_time": "2025-04-28T18:39:04.829Z"
   },
   {
    "duration": 6,
    "start_time": "2025-04-28T18:39:04.834Z"
   },
   {
    "duration": 5,
    "start_time": "2025-04-28T18:39:04.841Z"
   },
   {
    "duration": 6,
    "start_time": "2025-04-28T18:39:04.849Z"
   },
   {
    "duration": 5,
    "start_time": "2025-04-28T18:39:04.856Z"
   },
   {
    "duration": 50,
    "start_time": "2025-04-28T18:39:04.862Z"
   },
   {
    "duration": 3,
    "start_time": "2025-04-28T18:39:04.914Z"
   },
   {
    "duration": 4,
    "start_time": "2025-04-28T18:39:04.918Z"
   },
   {
    "duration": 6,
    "start_time": "2025-04-28T18:39:04.924Z"
   },
   {
    "duration": 4,
    "start_time": "2025-04-28T18:39:04.932Z"
   },
   {
    "duration": 3,
    "start_time": "2025-04-28T18:39:04.938Z"
   },
   {
    "duration": 17,
    "start_time": "2025-04-28T18:39:04.944Z"
   },
   {
    "duration": 4,
    "start_time": "2025-04-28T18:39:04.963Z"
   },
   {
    "duration": 4,
    "start_time": "2025-04-28T18:39:04.968Z"
   },
   {
    "duration": 849,
    "start_time": "2025-04-28T18:39:04.974Z"
   },
   {
    "duration": 12,
    "start_time": "2025-04-28T18:39:05.829Z"
   },
   {
    "duration": 4,
    "start_time": "2025-04-28T18:39:05.842Z"
   },
   {
    "duration": 274,
    "start_time": "2025-04-28T18:39:05.847Z"
   },
   {
    "duration": 11,
    "start_time": "2025-04-28T18:39:06.124Z"
   },
   {
    "duration": 3,
    "start_time": "2025-04-28T18:39:06.211Z"
   },
   {
    "duration": 1046,
    "start_time": "2025-04-28T18:39:06.216Z"
   },
   {
    "duration": 4,
    "start_time": "2025-04-28T18:39:07.264Z"
   },
   {
    "duration": 4,
    "start_time": "2025-04-28T18:39:07.269Z"
   },
   {
    "duration": 876,
    "start_time": "2025-04-28T18:39:07.274Z"
   },
   {
    "duration": 63,
    "start_time": "2025-04-28T18:39:08.152Z"
   },
   {
    "duration": 3,
    "start_time": "2025-04-28T18:39:08.217Z"
   },
   {
    "duration": 5,
    "start_time": "2025-04-28T18:39:08.222Z"
   },
   {
    "duration": 18425,
    "start_time": "2025-04-28T18:39:08.229Z"
   },
   {
    "duration": 34,
    "start_time": "2025-04-28T18:39:26.656Z"
   },
   {
    "duration": 2,
    "start_time": "2025-04-28T18:39:26.692Z"
   },
   {
    "duration": 17,
    "start_time": "2025-04-28T18:39:26.696Z"
   },
   {
    "duration": 4,
    "start_time": "2025-04-28T18:39:26.714Z"
   },
   {
    "duration": 4,
    "start_time": "2025-04-28T18:39:26.719Z"
   },
   {
    "duration": 3,
    "start_time": "2025-04-28T18:39:26.725Z"
   },
   {
    "duration": 4,
    "start_time": "2025-04-28T18:39:26.730Z"
   },
   {
    "duration": 3,
    "start_time": "2025-04-28T18:39:26.737Z"
   },
   {
    "duration": 3,
    "start_time": "2025-04-28T18:39:26.741Z"
   },
   {
    "duration": 539,
    "start_time": "2025-04-28T18:39:26.746Z"
   },
   {
    "duration": 5,
    "start_time": "2025-04-28T18:39:27.287Z"
   },
   {
    "duration": 4,
    "start_time": "2025-04-28T18:39:27.293Z"
   },
   {
    "duration": 14,
    "start_time": "2025-04-28T18:39:27.299Z"
   },
   {
    "duration": 3,
    "start_time": "2025-04-28T18:39:27.314Z"
   },
   {
    "duration": 3,
    "start_time": "2025-04-28T18:39:27.319Z"
   },
   {
    "duration": 31083,
    "start_time": "2025-04-28T18:39:27.324Z"
   },
   {
    "duration": 14,
    "start_time": "2025-04-28T18:39:58.409Z"
   },
   {
    "duration": 2,
    "start_time": "2025-04-28T18:39:58.425Z"
   },
   {
    "duration": 3,
    "start_time": "2025-04-28T18:39:58.429Z"
   },
   {
    "duration": 3,
    "start_time": "2025-04-28T18:39:58.434Z"
   },
   {
    "duration": 4,
    "start_time": "2025-04-28T18:39:58.438Z"
   },
   {
    "duration": 30581,
    "start_time": "2025-04-28T18:39:58.443Z"
   },
   {
    "duration": 11,
    "start_time": "2025-04-28T18:40:29.027Z"
   },
   {
    "duration": 3,
    "start_time": "2025-04-28T18:40:29.114Z"
   },
   {
    "duration": 3,
    "start_time": "2025-04-28T18:40:29.119Z"
   },
   {
    "duration": 3,
    "start_time": "2025-04-28T18:40:29.123Z"
   },
   {
    "duration": 3,
    "start_time": "2025-04-28T18:40:29.128Z"
   },
   {
    "duration": 45705,
    "start_time": "2025-04-28T18:40:29.133Z"
   },
   {
    "duration": 4,
    "start_time": "2025-04-28T18:41:14.839Z"
   },
   {
    "duration": 4,
    "start_time": "2025-04-28T18:41:14.844Z"
   },
   {
    "duration": 3,
    "start_time": "2025-04-28T18:41:14.849Z"
   },
   {
    "duration": 3,
    "start_time": "2025-04-28T18:41:14.854Z"
   },
   {
    "duration": 3,
    "start_time": "2025-04-28T18:41:14.858Z"
   },
   {
    "duration": 92270,
    "start_time": "2025-04-28T18:41:14.863Z"
   },
   {
    "duration": 9,
    "start_time": "2025-04-28T18:42:47.135Z"
   },
   {
    "duration": 3,
    "start_time": "2025-04-28T18:42:47.145Z"
   },
   {
    "duration": 3,
    "start_time": "2025-04-28T18:42:47.150Z"
   },
   {
    "duration": 2,
    "start_time": "2025-04-28T18:42:47.155Z"
   },
   {
    "duration": 3,
    "start_time": "2025-04-28T18:42:47.159Z"
   },
   {
    "duration": 3,
    "start_time": "2025-04-28T18:42:47.163Z"
   },
   {
    "duration": 4,
    "start_time": "2025-04-28T18:42:47.213Z"
   },
   {
    "duration": 4,
    "start_time": "2025-04-28T18:42:47.218Z"
   },
   {
    "duration": 3,
    "start_time": "2025-04-28T18:42:47.223Z"
   },
   {
    "duration": 3,
    "start_time": "2025-04-28T18:42:47.228Z"
   },
   {
    "duration": 4,
    "start_time": "2025-04-28T18:42:47.232Z"
   },
   {
    "duration": 3,
    "start_time": "2025-04-28T18:42:47.237Z"
   },
   {
    "duration": 164,
    "start_time": "2025-04-28T18:43:10.780Z"
   },
   {
    "duration": 13,
    "start_time": "2025-04-28T18:43:11.202Z"
   },
   {
    "duration": 12,
    "start_time": "2025-04-28T18:43:11.977Z"
   },
   {
    "duration": 12,
    "start_time": "2025-04-28T18:43:12.494Z"
   },
   {
    "duration": 1167,
    "start_time": "2025-04-28T18:46:48.618Z"
   },
   {
    "duration": 26,
    "start_time": "2025-04-28T18:46:49.787Z"
   },
   {
    "duration": 6,
    "start_time": "2025-04-28T18:46:49.815Z"
   },
   {
    "duration": 7,
    "start_time": "2025-04-28T18:46:49.824Z"
   },
   {
    "duration": 5,
    "start_time": "2025-04-28T18:46:49.834Z"
   },
   {
    "duration": 9,
    "start_time": "2025-04-28T18:46:49.840Z"
   },
   {
    "duration": 4,
    "start_time": "2025-04-28T18:46:49.850Z"
   },
   {
    "duration": 281,
    "start_time": "2025-04-28T18:46:49.856Z"
   },
   {
    "duration": 184,
    "start_time": "2025-04-28T18:46:50.139Z"
   },
   {
    "duration": 112,
    "start_time": "2025-04-28T18:46:50.327Z"
   },
   {
    "duration": 248,
    "start_time": "2025-04-28T18:46:50.441Z"
   },
   {
    "duration": 495,
    "start_time": "2025-04-28T18:46:50.691Z"
   },
   {
    "duration": 4,
    "start_time": "2025-04-28T18:46:51.188Z"
   },
   {
    "duration": 6,
    "start_time": "2025-04-28T18:46:51.193Z"
   },
   {
    "duration": 230,
    "start_time": "2025-04-28T18:46:51.211Z"
   },
   {
    "duration": 189,
    "start_time": "2025-04-28T18:46:51.444Z"
   },
   {
    "duration": 491,
    "start_time": "2025-04-28T18:46:51.634Z"
   },
   {
    "duration": 401,
    "start_time": "2025-04-28T18:46:52.128Z"
   },
   {
    "duration": 4,
    "start_time": "2025-04-28T18:46:52.531Z"
   },
   {
    "duration": 3,
    "start_time": "2025-04-28T18:46:52.613Z"
   },
   {
    "duration": 2,
    "start_time": "2025-04-28T18:46:52.618Z"
   },
   {
    "duration": 3,
    "start_time": "2025-04-28T18:46:52.622Z"
   },
   {
    "duration": 3,
    "start_time": "2025-04-28T18:46:52.628Z"
   },
   {
    "duration": 5,
    "start_time": "2025-04-28T18:46:52.632Z"
   },
   {
    "duration": 3,
    "start_time": "2025-04-28T18:46:52.639Z"
   },
   {
    "duration": 70,
    "start_time": "2025-04-28T18:46:52.644Z"
   },
   {
    "duration": 5,
    "start_time": "2025-04-28T18:46:52.715Z"
   },
   {
    "duration": 4,
    "start_time": "2025-04-28T18:46:52.725Z"
   },
   {
    "duration": 6,
    "start_time": "2025-04-28T18:46:52.731Z"
   },
   {
    "duration": 4,
    "start_time": "2025-04-28T18:46:52.739Z"
   },
   {
    "duration": 6,
    "start_time": "2025-04-28T18:46:52.745Z"
   },
   {
    "duration": 3,
    "start_time": "2025-04-28T18:46:52.752Z"
   },
   {
    "duration": 5,
    "start_time": "2025-04-28T18:46:52.757Z"
   },
   {
    "duration": 7,
    "start_time": "2025-04-28T18:46:52.763Z"
   },
   {
    "duration": 4,
    "start_time": "2025-04-28T18:46:52.811Z"
   },
   {
    "duration": 3,
    "start_time": "2025-04-28T18:46:52.817Z"
   },
   {
    "duration": 18,
    "start_time": "2025-04-28T18:46:52.822Z"
   },
   {
    "duration": 5,
    "start_time": "2025-04-28T18:46:52.841Z"
   },
   {
    "duration": 3,
    "start_time": "2025-04-28T18:46:52.847Z"
   },
   {
    "duration": 840,
    "start_time": "2025-04-28T18:46:52.853Z"
   },
   {
    "duration": 23,
    "start_time": "2025-04-28T18:46:53.695Z"
   },
   {
    "duration": 5,
    "start_time": "2025-04-28T18:46:53.719Z"
   },
   {
    "duration": 202,
    "start_time": "2025-04-28T18:46:53.726Z"
   },
   {
    "duration": 84,
    "start_time": "2025-04-28T18:46:53.931Z"
   },
   {
    "duration": 4,
    "start_time": "2025-04-28T18:46:54.016Z"
   },
   {
    "duration": 1051,
    "start_time": "2025-04-28T18:46:54.023Z"
   },
   {
    "duration": 3,
    "start_time": "2025-04-28T18:46:55.076Z"
   },
   {
    "duration": 4,
    "start_time": "2025-04-28T18:46:55.081Z"
   },
   {
    "duration": 947,
    "start_time": "2025-04-28T18:46:55.086Z"
   },
   {
    "duration": 5,
    "start_time": "2025-04-28T18:46:56.035Z"
   },
   {
    "duration": 3,
    "start_time": "2025-04-28T18:46:56.042Z"
   },
   {
    "duration": 5,
    "start_time": "2025-04-28T18:46:56.047Z"
   },
   {
    "duration": 18388,
    "start_time": "2025-04-28T18:46:56.055Z"
   },
   {
    "duration": 33,
    "start_time": "2025-04-28T18:47:14.444Z"
   },
   {
    "duration": 4,
    "start_time": "2025-04-28T18:47:14.479Z"
   },
   {
    "duration": 3,
    "start_time": "2025-04-28T18:47:14.484Z"
   },
   {
    "duration": 4,
    "start_time": "2025-04-28T18:47:14.488Z"
   },
   {
    "duration": 18,
    "start_time": "2025-04-28T18:47:14.494Z"
   },
   {
    "duration": 3,
    "start_time": "2025-04-28T18:47:14.514Z"
   },
   {
    "duration": 6,
    "start_time": "2025-04-28T18:47:14.518Z"
   },
   {
    "duration": 3,
    "start_time": "2025-04-28T18:47:14.525Z"
   },
   {
    "duration": 3,
    "start_time": "2025-04-28T18:47:14.530Z"
   },
   {
    "duration": 536,
    "start_time": "2025-04-28T18:47:14.535Z"
   },
   {
    "duration": 6,
    "start_time": "2025-04-28T18:47:15.072Z"
   },
   {
    "duration": 3,
    "start_time": "2025-04-28T18:47:15.079Z"
   },
   {
    "duration": 4,
    "start_time": "2025-04-28T18:47:15.083Z"
   },
   {
    "duration": 3,
    "start_time": "2025-04-28T18:47:15.089Z"
   },
   {
    "duration": 3,
    "start_time": "2025-04-28T18:47:15.112Z"
   },
   {
    "duration": 31172,
    "start_time": "2025-04-28T18:47:15.117Z"
   },
   {
    "duration": 23,
    "start_time": "2025-04-28T18:47:46.291Z"
   },
   {
    "duration": 3,
    "start_time": "2025-04-28T18:47:46.316Z"
   },
   {
    "duration": 4,
    "start_time": "2025-04-28T18:47:46.320Z"
   },
   {
    "duration": 4,
    "start_time": "2025-04-28T18:47:46.325Z"
   },
   {
    "duration": 3,
    "start_time": "2025-04-28T18:47:46.330Z"
   },
   {
    "duration": 31390,
    "start_time": "2025-04-28T18:47:46.335Z"
   },
   {
    "duration": 6,
    "start_time": "2025-04-28T18:48:17.727Z"
   },
   {
    "duration": 3,
    "start_time": "2025-04-28T18:48:17.812Z"
   },
   {
    "duration": 4,
    "start_time": "2025-04-28T18:48:17.816Z"
   },
   {
    "duration": 4,
    "start_time": "2025-04-28T18:48:17.821Z"
   },
   {
    "duration": 3,
    "start_time": "2025-04-28T18:48:17.826Z"
   },
   {
    "duration": 45927,
    "start_time": "2025-04-28T18:48:17.831Z"
   },
   {
    "duration": 3,
    "start_time": "2025-04-28T18:49:03.765Z"
   },
   {
    "duration": 4,
    "start_time": "2025-04-28T18:49:03.769Z"
   },
   {
    "duration": 3,
    "start_time": "2025-04-28T18:49:03.775Z"
   },
   {
    "duration": 3,
    "start_time": "2025-04-28T18:49:03.780Z"
   },
   {
    "duration": 3,
    "start_time": "2025-04-28T18:49:03.785Z"
   },
   {
    "duration": 92952,
    "start_time": "2025-04-28T18:49:03.790Z"
   },
   {
    "duration": 68,
    "start_time": "2025-04-28T18:50:36.744Z"
   },
   {
    "duration": 3,
    "start_time": "2025-04-28T18:50:36.814Z"
   },
   {
    "duration": 4,
    "start_time": "2025-04-28T18:50:36.818Z"
   },
   {
    "duration": 3,
    "start_time": "2025-04-28T18:50:36.823Z"
   },
   {
    "duration": 3,
    "start_time": "2025-04-28T18:50:36.828Z"
   },
   {
    "duration": 4,
    "start_time": "2025-04-28T18:50:36.832Z"
   },
   {
    "duration": 1139,
    "start_time": "2025-04-28T18:56:23.063Z"
   },
   {
    "duration": 25,
    "start_time": "2025-04-28T18:56:24.204Z"
   },
   {
    "duration": 6,
    "start_time": "2025-04-28T18:56:24.231Z"
   },
   {
    "duration": 8,
    "start_time": "2025-04-28T18:56:24.240Z"
   },
   {
    "duration": 4,
    "start_time": "2025-04-28T18:56:24.250Z"
   },
   {
    "duration": 10,
    "start_time": "2025-04-28T18:56:24.255Z"
   },
   {
    "duration": 4,
    "start_time": "2025-04-28T18:56:24.267Z"
   },
   {
    "duration": 269,
    "start_time": "2025-04-28T18:56:24.272Z"
   },
   {
    "duration": 184,
    "start_time": "2025-04-28T18:56:24.543Z"
   },
   {
    "duration": 111,
    "start_time": "2025-04-28T18:56:24.730Z"
   },
   {
    "duration": 268,
    "start_time": "2025-04-28T18:56:24.843Z"
   },
   {
    "duration": 525,
    "start_time": "2025-04-28T18:56:25.113Z"
   },
   {
    "duration": 3,
    "start_time": "2025-04-28T18:56:25.639Z"
   },
   {
    "duration": 5,
    "start_time": "2025-04-28T18:56:25.644Z"
   },
   {
    "duration": 243,
    "start_time": "2025-04-28T18:56:25.651Z"
   },
   {
    "duration": 189,
    "start_time": "2025-04-28T18:56:25.895Z"
   },
   {
    "duration": 492,
    "start_time": "2025-04-28T18:56:26.086Z"
   },
   {
    "duration": 433,
    "start_time": "2025-04-28T18:56:26.580Z"
   },
   {
    "duration": 4,
    "start_time": "2025-04-28T18:56:27.019Z"
   },
   {
    "duration": 6,
    "start_time": "2025-04-28T18:56:27.030Z"
   },
   {
    "duration": 76,
    "start_time": "2025-04-28T18:56:27.037Z"
   },
   {
    "duration": 3,
    "start_time": "2025-04-28T18:56:27.115Z"
   },
   {
    "duration": 4,
    "start_time": "2025-04-28T18:56:27.120Z"
   },
   {
    "duration": 5,
    "start_time": "2025-04-28T18:56:27.126Z"
   },
   {
    "duration": 4,
    "start_time": "2025-04-28T18:56:27.132Z"
   },
   {
    "duration": 5,
    "start_time": "2025-04-28T18:56:27.137Z"
   },
   {
    "duration": 5,
    "start_time": "2025-04-28T18:56:27.143Z"
   },
   {
    "duration": 5,
    "start_time": "2025-04-28T18:56:27.153Z"
   },
   {
    "duration": 6,
    "start_time": "2025-04-28T18:56:27.159Z"
   },
   {
    "duration": 45,
    "start_time": "2025-04-28T18:56:27.167Z"
   },
   {
    "duration": 6,
    "start_time": "2025-04-28T18:56:27.213Z"
   },
   {
    "duration": 3,
    "start_time": "2025-04-28T18:56:27.222Z"
   },
   {
    "duration": 4,
    "start_time": "2025-04-28T18:56:27.227Z"
   },
   {
    "duration": 6,
    "start_time": "2025-04-28T18:56:27.232Z"
   },
   {
    "duration": 4,
    "start_time": "2025-04-28T18:56:27.240Z"
   },
   {
    "duration": 3,
    "start_time": "2025-04-28T18:56:27.246Z"
   },
   {
    "duration": 19,
    "start_time": "2025-04-28T18:56:27.251Z"
   },
   {
    "duration": 41,
    "start_time": "2025-04-28T18:56:27.272Z"
   },
   {
    "duration": 3,
    "start_time": "2025-04-28T18:56:27.315Z"
   },
   {
    "duration": 816,
    "start_time": "2025-04-28T18:56:27.320Z"
   },
   {
    "duration": 12,
    "start_time": "2025-04-28T18:56:28.137Z"
   },
   {
    "duration": 3,
    "start_time": "2025-04-28T18:56:28.151Z"
   },
   {
    "duration": 270,
    "start_time": "2025-04-28T18:56:28.156Z"
   },
   {
    "duration": 4,
    "start_time": "2025-04-28T18:56:28.428Z"
   },
   {
    "duration": 3,
    "start_time": "2025-04-28T18:56:28.434Z"
   },
   {
    "duration": 1141,
    "start_time": "2025-04-28T18:56:28.438Z"
   },
   {
    "duration": 3,
    "start_time": "2025-04-28T18:56:29.581Z"
   },
   {
    "duration": 3,
    "start_time": "2025-04-28T18:56:29.586Z"
   },
   {
    "duration": 858,
    "start_time": "2025-04-28T18:56:29.591Z"
   },
   {
    "duration": 66,
    "start_time": "2025-04-28T18:56:30.450Z"
   },
   {
    "duration": 5,
    "start_time": "2025-04-28T18:56:30.517Z"
   },
   {
    "duration": 4,
    "start_time": "2025-04-28T18:56:30.524Z"
   },
   {
    "duration": 18419,
    "start_time": "2025-04-28T18:56:30.530Z"
   },
   {
    "duration": 39,
    "start_time": "2025-04-28T18:56:48.951Z"
   },
   {
    "duration": 3,
    "start_time": "2025-04-28T18:56:48.992Z"
   },
   {
    "duration": 16,
    "start_time": "2025-04-28T18:56:48.996Z"
   },
   {
    "duration": 3,
    "start_time": "2025-04-28T18:56:49.014Z"
   },
   {
    "duration": 6,
    "start_time": "2025-04-28T18:56:49.019Z"
   },
   {
    "duration": 4,
    "start_time": "2025-04-28T18:56:49.027Z"
   },
   {
    "duration": 6,
    "start_time": "2025-04-28T18:56:49.032Z"
   },
   {
    "duration": 3,
    "start_time": "2025-04-28T18:56:49.039Z"
   },
   {
    "duration": 4,
    "start_time": "2025-04-28T18:56:49.043Z"
   },
   {
    "duration": 534,
    "start_time": "2025-04-28T18:56:49.048Z"
   },
   {
    "duration": 4,
    "start_time": "2025-04-28T18:56:49.583Z"
   },
   {
    "duration": 3,
    "start_time": "2025-04-28T18:56:49.589Z"
   },
   {
    "duration": 18,
    "start_time": "2025-04-28T18:56:49.593Z"
   },
   {
    "duration": 3,
    "start_time": "2025-04-28T18:56:49.613Z"
   },
   {
    "duration": 3,
    "start_time": "2025-04-28T18:56:49.618Z"
   },
   {
    "duration": 31161,
    "start_time": "2025-04-28T18:56:49.622Z"
   },
   {
    "duration": 15,
    "start_time": "2025-04-28T18:57:20.785Z"
   },
   {
    "duration": 12,
    "start_time": "2025-04-28T18:57:20.801Z"
   },
   {
    "duration": 3,
    "start_time": "2025-04-28T18:57:20.815Z"
   },
   {
    "duration": 3,
    "start_time": "2025-04-28T18:57:20.820Z"
   },
   {
    "duration": 4,
    "start_time": "2025-04-28T18:57:20.824Z"
   },
   {
    "duration": 32420,
    "start_time": "2025-04-28T18:57:20.829Z"
   },
   {
    "duration": 64,
    "start_time": "2025-04-28T18:57:53.252Z"
   },
   {
    "duration": 3,
    "start_time": "2025-04-28T18:57:53.320Z"
   },
   {
    "duration": 4,
    "start_time": "2025-04-28T18:57:53.324Z"
   },
   {
    "duration": 3,
    "start_time": "2025-04-28T18:57:53.330Z"
   },
   {
    "duration": 4,
    "start_time": "2025-04-28T18:57:53.334Z"
   },
   {
    "duration": 45901,
    "start_time": "2025-04-28T18:57:53.340Z"
   },
   {
    "duration": 3,
    "start_time": "2025-04-28T18:58:39.248Z"
   },
   {
    "duration": 4,
    "start_time": "2025-04-28T18:58:39.253Z"
   },
   {
    "duration": 4,
    "start_time": "2025-04-28T18:58:39.259Z"
   },
   {
    "duration": 3,
    "start_time": "2025-04-28T18:58:39.264Z"
   },
   {
    "duration": 5,
    "start_time": "2025-04-28T18:58:39.268Z"
   },
   {
    "duration": 93144,
    "start_time": "2025-04-28T18:58:39.274Z"
   },
   {
    "duration": 9,
    "start_time": "2025-04-28T19:00:12.419Z"
   },
   {
    "duration": 3,
    "start_time": "2025-04-28T19:00:12.430Z"
   },
   {
    "duration": 4,
    "start_time": "2025-04-28T19:00:12.434Z"
   },
   {
    "duration": 3,
    "start_time": "2025-04-28T19:00:12.439Z"
   },
   {
    "duration": 18687,
    "start_time": "2025-04-28T19:00:12.444Z"
   },
   {
    "duration": 30,
    "start_time": "2025-04-28T19:00:31.133Z"
   },
   {
    "duration": 3,
    "start_time": "2025-04-28T19:00:31.165Z"
   },
   {
    "duration": 4,
    "start_time": "2025-04-28T19:00:31.169Z"
   },
   {
    "duration": 4,
    "start_time": "2025-04-28T19:00:31.175Z"
   },
   {
    "duration": 4,
    "start_time": "2025-04-28T19:00:31.182Z"
   },
   {
    "duration": 4,
    "start_time": "2025-04-28T19:31:27.494Z"
   },
   {
    "duration": 3,
    "start_time": "2025-04-28T19:31:27.699Z"
   },
   {
    "duration": 5,
    "start_time": "2025-04-28T19:31:27.919Z"
   },
   {
    "duration": 5,
    "start_time": "2025-04-28T19:39:23.410Z"
   },
   {
    "duration": 3,
    "start_time": "2025-04-28T19:39:23.552Z"
   },
   {
    "duration": 3,
    "start_time": "2025-04-28T19:39:23.698Z"
   },
   {
    "duration": 9,
    "start_time": "2025-04-28T19:43:15.513Z"
   },
   {
    "duration": 9,
    "start_time": "2025-04-28T19:43:40.601Z"
   },
   {
    "duration": 2841,
    "start_time": "2025-04-29T12:16:21.535Z"
   },
   {
    "duration": 31,
    "start_time": "2025-04-29T12:16:24.377Z"
   },
   {
    "duration": 8,
    "start_time": "2025-04-29T12:16:24.410Z"
   },
   {
    "duration": 8,
    "start_time": "2025-04-29T12:16:24.421Z"
   },
   {
    "duration": 5,
    "start_time": "2025-04-29T12:16:24.430Z"
   },
   {
    "duration": 10,
    "start_time": "2025-04-29T12:16:24.436Z"
   },
   {
    "duration": 3,
    "start_time": "2025-04-29T12:16:24.448Z"
   },
   {
    "duration": 268,
    "start_time": "2025-04-29T12:16:24.453Z"
   },
   {
    "duration": 192,
    "start_time": "2025-04-29T12:16:24.723Z"
   },
   {
    "duration": 114,
    "start_time": "2025-04-29T12:16:24.918Z"
   },
   {
    "duration": 261,
    "start_time": "2025-04-29T12:16:25.033Z"
   },
   {
    "duration": 463,
    "start_time": "2025-04-29T12:16:25.296Z"
   },
   {
    "duration": 4,
    "start_time": "2025-04-29T12:16:25.760Z"
   },
   {
    "duration": 6,
    "start_time": "2025-04-29T12:16:25.766Z"
   },
   {
    "duration": 264,
    "start_time": "2025-04-29T12:16:25.774Z"
   },
   {
    "duration": 269,
    "start_time": "2025-04-29T12:16:26.040Z"
   },
   {
    "duration": 500,
    "start_time": "2025-04-29T12:16:26.311Z"
   },
   {
    "duration": 410,
    "start_time": "2025-04-29T12:16:26.813Z"
   },
   {
    "duration": 4,
    "start_time": "2025-04-29T12:16:27.224Z"
   },
   {
    "duration": 4,
    "start_time": "2025-04-29T12:16:27.230Z"
   },
   {
    "duration": 75,
    "start_time": "2025-04-29T12:16:27.236Z"
   },
   {
    "duration": 4,
    "start_time": "2025-04-29T12:16:27.314Z"
   },
   {
    "duration": 3,
    "start_time": "2025-04-29T12:16:27.321Z"
   },
   {
    "duration": 5,
    "start_time": "2025-04-29T12:16:27.325Z"
   },
   {
    "duration": 4,
    "start_time": "2025-04-29T12:16:27.332Z"
   },
   {
    "duration": 4,
    "start_time": "2025-04-29T12:16:27.338Z"
   },
   {
    "duration": 5,
    "start_time": "2025-04-29T12:16:27.343Z"
   },
   {
    "duration": 5,
    "start_time": "2025-04-29T12:16:27.413Z"
   },
   {
    "duration": 6,
    "start_time": "2025-04-29T12:16:27.420Z"
   },
   {
    "duration": 5,
    "start_time": "2025-04-29T12:16:27.427Z"
   },
   {
    "duration": 6,
    "start_time": "2025-04-29T12:16:27.434Z"
   },
   {
    "duration": 3,
    "start_time": "2025-04-29T12:16:27.441Z"
   },
   {
    "duration": 5,
    "start_time": "2025-04-29T12:16:27.446Z"
   },
   {
    "duration": 7,
    "start_time": "2025-04-29T12:16:27.452Z"
   },
   {
    "duration": 3,
    "start_time": "2025-04-29T12:16:27.461Z"
   },
   {
    "duration": 44,
    "start_time": "2025-04-29T12:16:27.466Z"
   },
   {
    "duration": 17,
    "start_time": "2025-04-29T12:16:27.512Z"
   },
   {
    "duration": 4,
    "start_time": "2025-04-29T12:16:27.530Z"
   },
   {
    "duration": 4,
    "start_time": "2025-04-29T12:16:27.535Z"
   },
   {
    "duration": 828,
    "start_time": "2025-04-29T12:16:27.541Z"
   },
   {
    "duration": 12,
    "start_time": "2025-04-29T12:16:28.371Z"
   },
   {
    "duration": 3,
    "start_time": "2025-04-29T12:16:28.385Z"
   },
   {
    "duration": 235,
    "start_time": "2025-04-29T12:16:28.390Z"
   },
   {
    "duration": 10,
    "start_time": "2025-04-29T12:16:28.627Z"
   },
   {
    "duration": 72,
    "start_time": "2025-04-29T12:16:28.639Z"
   },
   {
    "duration": 1099,
    "start_time": "2025-04-29T12:16:28.713Z"
   },
   {
    "duration": 3,
    "start_time": "2025-04-29T12:16:29.814Z"
   },
   {
    "duration": 4,
    "start_time": "2025-04-29T12:16:29.819Z"
   },
   {
    "duration": 990,
    "start_time": "2025-04-29T12:16:29.824Z"
   },
   {
    "duration": 6,
    "start_time": "2025-04-29T12:16:30.815Z"
   },
   {
    "duration": 3,
    "start_time": "2025-04-29T12:16:30.822Z"
   },
   {
    "duration": 4,
    "start_time": "2025-04-29T12:16:30.827Z"
   },
   {
    "duration": 3,
    "start_time": "2025-04-29T12:16:30.833Z"
   },
   {
    "duration": 4,
    "start_time": "2025-04-29T12:16:30.838Z"
   },
   {
    "duration": 2,
    "start_time": "2025-04-29T12:16:30.844Z"
   },
   {
    "duration": 3,
    "start_time": "2025-04-29T12:16:30.848Z"
   },
   {
    "duration": 563,
    "start_time": "2025-04-29T12:16:30.853Z"
   },
   {
    "duration": 4,
    "start_time": "2025-04-29T12:16:31.418Z"
   },
   {
    "duration": 4,
    "start_time": "2025-04-29T12:16:31.423Z"
   },
   {
    "duration": 4,
    "start_time": "2025-04-29T12:16:31.428Z"
   },
   {
    "duration": 4,
    "start_time": "2025-04-29T12:16:31.433Z"
   },
   {
    "duration": 3,
    "start_time": "2025-04-29T12:16:31.439Z"
   },
   {
    "duration": 31407,
    "start_time": "2025-04-29T12:16:31.443Z"
   },
   {
    "duration": 14,
    "start_time": "2025-04-29T12:17:02.851Z"
   },
   {
    "duration": 4,
    "start_time": "2025-04-29T12:17:02.867Z"
   },
   {
    "duration": 4,
    "start_time": "2025-04-29T12:17:02.872Z"
   },
   {
    "duration": 3,
    "start_time": "2025-04-29T12:17:02.877Z"
   },
   {
    "duration": 28,
    "start_time": "2025-04-29T12:17:02.882Z"
   },
   {
    "duration": 31304,
    "start_time": "2025-04-29T12:17:02.912Z"
   },
   {
    "duration": 10,
    "start_time": "2025-04-29T12:17:34.218Z"
   },
   {
    "duration": 3,
    "start_time": "2025-04-29T12:17:34.232Z"
   },
   {
    "duration": 73,
    "start_time": "2025-04-29T12:17:34.236Z"
   },
   {
    "duration": 3,
    "start_time": "2025-04-29T12:17:34.311Z"
   },
   {
    "duration": 3,
    "start_time": "2025-04-29T12:17:34.316Z"
   },
   {
    "duration": 46095,
    "start_time": "2025-04-29T12:17:34.320Z"
   },
   {
    "duration": 4,
    "start_time": "2025-04-29T12:18:20.417Z"
   },
   {
    "duration": 3,
    "start_time": "2025-04-29T12:18:20.423Z"
   },
   {
    "duration": 3,
    "start_time": "2025-04-29T12:18:20.428Z"
   },
   {
    "duration": 3,
    "start_time": "2025-04-29T12:18:20.433Z"
   },
   {
    "duration": 4,
    "start_time": "2025-04-29T12:18:20.438Z"
   },
   {
    "duration": 95599,
    "start_time": "2025-04-29T12:18:20.444Z"
   },
   {
    "duration": 61,
    "start_time": "2025-04-29T12:19:56.050Z"
   },
   {
    "duration": 3,
    "start_time": "2025-04-29T12:19:56.115Z"
   },
   {
    "duration": 3,
    "start_time": "2025-04-29T12:19:56.120Z"
   },
   {
    "duration": 3,
    "start_time": "2025-04-29T12:19:56.124Z"
   },
   {
    "duration": 18553,
    "start_time": "2025-04-29T12:19:56.128Z"
   },
   {
    "duration": 52,
    "start_time": "2025-04-29T12:20:14.683Z"
   },
   {
    "duration": 4,
    "start_time": "2025-04-29T12:20:14.737Z"
   },
   {
    "duration": 4,
    "start_time": "2025-04-29T12:20:14.743Z"
   },
   {
    "duration": 4,
    "start_time": "2025-04-29T12:20:14.748Z"
   },
   {
    "duration": 5,
    "start_time": "2025-04-29T12:20:14.753Z"
   },
   {
    "duration": 8,
    "start_time": "2025-04-29T12:20:14.760Z"
   },
   {
    "duration": 9,
    "start_time": "2025-04-29T12:20:55.153Z"
   },
   {
    "duration": 4,
    "start_time": "2025-04-29T12:21:54.695Z"
   },
   {
    "duration": 3,
    "start_time": "2025-04-29T12:21:56.303Z"
   },
   {
    "duration": 5,
    "start_time": "2025-04-29T12:21:56.503Z"
   },
   {
    "duration": 6,
    "start_time": "2025-04-29T12:22:07.336Z"
   },
   {
    "duration": 9,
    "start_time": "2025-04-29T12:23:01.483Z"
   },
   {
    "duration": 7,
    "start_time": "2025-04-29T12:29:43.487Z"
   },
   {
    "duration": 8,
    "start_time": "2025-04-29T12:34:24.793Z"
   },
   {
    "duration": 8,
    "start_time": "2025-04-29T12:34:43.956Z"
   },
   {
    "duration": 4,
    "start_time": "2025-04-29T12:35:39.691Z"
   },
   {
    "duration": 4,
    "start_time": "2025-04-29T12:35:48.569Z"
   },
   {
    "duration": 3,
    "start_time": "2025-04-29T12:35:48.770Z"
   },
   {
    "duration": 1120,
    "start_time": "2025-04-29T12:50:39.947Z"
   },
   {
    "duration": 23,
    "start_time": "2025-04-29T12:50:41.069Z"
   },
   {
    "duration": 7,
    "start_time": "2025-04-29T12:50:41.094Z"
   },
   {
    "duration": 8,
    "start_time": "2025-04-29T12:50:41.110Z"
   },
   {
    "duration": 5,
    "start_time": "2025-04-29T12:50:41.119Z"
   },
   {
    "duration": 10,
    "start_time": "2025-04-29T12:50:41.125Z"
   },
   {
    "duration": 4,
    "start_time": "2025-04-29T12:50:41.136Z"
   },
   {
    "duration": 259,
    "start_time": "2025-04-29T12:50:41.142Z"
   },
   {
    "duration": 186,
    "start_time": "2025-04-29T12:50:41.403Z"
   },
   {
    "duration": 119,
    "start_time": "2025-04-29T12:50:41.592Z"
   },
   {
    "duration": 254,
    "start_time": "2025-04-29T12:50:41.712Z"
   },
   {
    "duration": 496,
    "start_time": "2025-04-29T12:50:41.968Z"
   },
   {
    "duration": 4,
    "start_time": "2025-04-29T12:50:42.465Z"
   },
   {
    "duration": 6,
    "start_time": "2025-04-29T12:50:42.470Z"
   },
   {
    "duration": 255,
    "start_time": "2025-04-29T12:50:42.477Z"
   },
   {
    "duration": 188,
    "start_time": "2025-04-29T12:50:42.734Z"
   },
   {
    "duration": 510,
    "start_time": "2025-04-29T12:50:42.923Z"
   },
   {
    "duration": 391,
    "start_time": "2025-04-29T12:50:43.435Z"
   },
   {
    "duration": 4,
    "start_time": "2025-04-29T12:50:43.827Z"
   },
   {
    "duration": 80,
    "start_time": "2025-04-29T12:50:43.833Z"
   },
   {
    "duration": 3,
    "start_time": "2025-04-29T12:50:43.916Z"
   },
   {
    "duration": 4,
    "start_time": "2025-04-29T12:50:43.921Z"
   },
   {
    "duration": 3,
    "start_time": "2025-04-29T12:50:43.927Z"
   },
   {
    "duration": 4,
    "start_time": "2025-04-29T12:50:43.932Z"
   },
   {
    "duration": 71,
    "start_time": "2025-04-29T12:50:43.938Z"
   },
   {
    "duration": 6,
    "start_time": "2025-04-29T12:50:44.010Z"
   },
   {
    "duration": 5,
    "start_time": "2025-04-29T12:50:44.018Z"
   },
   {
    "duration": 8,
    "start_time": "2025-04-29T12:50:44.028Z"
   },
   {
    "duration": 7,
    "start_time": "2025-04-29T12:50:44.037Z"
   },
   {
    "duration": 5,
    "start_time": "2025-04-29T12:50:44.045Z"
   },
   {
    "duration": 8,
    "start_time": "2025-04-29T12:50:44.052Z"
   },
   {
    "duration": 3,
    "start_time": "2025-04-29T12:50:44.061Z"
   },
   {
    "duration": 3,
    "start_time": "2025-04-29T12:50:44.067Z"
   },
   {
    "duration": 40,
    "start_time": "2025-04-29T12:50:44.071Z"
   },
   {
    "duration": 6,
    "start_time": "2025-04-29T12:50:44.112Z"
   },
   {
    "duration": 4,
    "start_time": "2025-04-29T12:50:44.120Z"
   },
   {
    "duration": 4,
    "start_time": "2025-04-29T12:50:44.125Z"
   },
   {
    "duration": 17,
    "start_time": "2025-04-29T12:50:44.131Z"
   },
   {
    "duration": 4,
    "start_time": "2025-04-29T12:50:44.149Z"
   },
   {
    "duration": 4,
    "start_time": "2025-04-29T12:50:44.155Z"
   },
   {
    "duration": 837,
    "start_time": "2025-04-29T12:50:44.161Z"
   },
   {
    "duration": 17,
    "start_time": "2025-04-29T12:50:44.999Z"
   },
   {
    "duration": 3,
    "start_time": "2025-04-29T12:50:45.017Z"
   },
   {
    "duration": 200,
    "start_time": "2025-04-29T12:50:45.022Z"
   },
   {
    "duration": 4,
    "start_time": "2025-04-29T12:50:45.225Z"
   },
   {
    "duration": 79,
    "start_time": "2025-04-29T12:50:45.231Z"
   },
   {
    "duration": 1034,
    "start_time": "2025-04-29T12:50:45.312Z"
   },
   {
    "duration": 3,
    "start_time": "2025-04-29T12:50:46.348Z"
   },
   {
    "duration": 4,
    "start_time": "2025-04-29T12:50:46.352Z"
   },
   {
    "duration": 952,
    "start_time": "2025-04-29T12:50:46.358Z"
   },
   {
    "duration": 5,
    "start_time": "2025-04-29T12:50:47.312Z"
   },
   {
    "duration": 4,
    "start_time": "2025-04-29T12:50:47.319Z"
   },
   {
    "duration": 3,
    "start_time": "2025-04-29T12:50:47.324Z"
   },
   {
    "duration": 3,
    "start_time": "2025-04-29T12:50:47.329Z"
   },
   {
    "duration": 6,
    "start_time": "2025-04-29T12:50:47.334Z"
   },
   {
    "duration": 3,
    "start_time": "2025-04-29T12:50:47.342Z"
   },
   {
    "duration": 3,
    "start_time": "2025-04-29T12:50:47.347Z"
   },
   {
    "duration": 575,
    "start_time": "2025-04-29T12:50:47.351Z"
   },
   {
    "duration": 4,
    "start_time": "2025-04-29T12:50:47.928Z"
   },
   {
    "duration": 3,
    "start_time": "2025-04-29T12:50:47.933Z"
   },
   {
    "duration": 3,
    "start_time": "2025-04-29T12:50:47.939Z"
   },
   {
    "duration": 3,
    "start_time": "2025-04-29T12:50:47.944Z"
   },
   {
    "duration": 3,
    "start_time": "2025-04-29T12:50:47.949Z"
   },
   {
    "duration": 31703,
    "start_time": "2025-04-29T12:50:47.954Z"
   },
   {
    "duration": 15,
    "start_time": "2025-04-29T12:51:19.658Z"
   },
   {
    "duration": 3,
    "start_time": "2025-04-29T12:51:19.674Z"
   },
   {
    "duration": 3,
    "start_time": "2025-04-29T12:51:19.679Z"
   },
   {
    "duration": 3,
    "start_time": "2025-04-29T12:51:19.684Z"
   },
   {
    "duration": 3,
    "start_time": "2025-04-29T12:51:19.709Z"
   },
   {
    "duration": 31300,
    "start_time": "2025-04-29T12:51:19.713Z"
   },
   {
    "duration": 10,
    "start_time": "2025-04-29T12:51:51.014Z"
   },
   {
    "duration": 2,
    "start_time": "2025-04-29T12:51:51.026Z"
   },
   {
    "duration": 4,
    "start_time": "2025-04-29T12:51:51.029Z"
   },
   {
    "duration": 3,
    "start_time": "2025-04-29T12:51:51.034Z"
   },
   {
    "duration": 3,
    "start_time": "2025-04-29T12:51:51.039Z"
   },
   {
    "duration": 45739,
    "start_time": "2025-04-29T12:51:51.109Z"
   },
   {
    "duration": 5,
    "start_time": "2025-04-29T12:52:36.849Z"
   },
   {
    "duration": 3,
    "start_time": "2025-04-29T12:52:36.855Z"
   },
   {
    "duration": 3,
    "start_time": "2025-04-29T12:52:36.860Z"
   },
   {
    "duration": 3,
    "start_time": "2025-04-29T12:52:36.864Z"
   },
   {
    "duration": 4,
    "start_time": "2025-04-29T12:52:36.869Z"
   },
   {
    "duration": 92452,
    "start_time": "2025-04-29T12:52:36.879Z"
   },
   {
    "duration": 5,
    "start_time": "2025-04-29T12:54:09.333Z"
   },
   {
    "duration": 2,
    "start_time": "2025-04-29T12:54:09.340Z"
   },
   {
    "duration": 3,
    "start_time": "2025-04-29T12:54:09.344Z"
   },
   {
    "duration": 2,
    "start_time": "2025-04-29T12:54:09.349Z"
   },
   {
    "duration": 19010,
    "start_time": "2025-04-29T12:54:09.353Z"
   },
   {
    "duration": 26,
    "start_time": "2025-04-29T12:54:28.365Z"
   },
   {
    "duration": 3,
    "start_time": "2025-04-29T12:54:28.393Z"
   },
   {
    "duration": 13,
    "start_time": "2025-04-29T12:54:28.398Z"
   },
   {
    "duration": 3,
    "start_time": "2025-04-29T12:54:28.413Z"
   },
   {
    "duration": 8,
    "start_time": "2025-04-29T12:54:28.418Z"
   },
   {
    "duration": 9,
    "start_time": "2025-04-29T12:54:28.427Z"
   },
   {
    "duration": 1116,
    "start_time": "2025-04-29T12:55:16.640Z"
   },
   {
    "duration": 25,
    "start_time": "2025-04-29T12:55:17.758Z"
   },
   {
    "duration": 7,
    "start_time": "2025-04-29T12:55:17.785Z"
   },
   {
    "duration": 19,
    "start_time": "2025-04-29T12:55:17.794Z"
   },
   {
    "duration": 4,
    "start_time": "2025-04-29T12:55:17.815Z"
   },
   {
    "duration": 9,
    "start_time": "2025-04-29T12:55:17.822Z"
   },
   {
    "duration": 4,
    "start_time": "2025-04-29T12:55:17.833Z"
   },
   {
    "duration": 254,
    "start_time": "2025-04-29T12:55:17.839Z"
   },
   {
    "duration": 189,
    "start_time": "2025-04-29T12:55:18.095Z"
   },
   {
    "duration": 113,
    "start_time": "2025-04-29T12:55:18.287Z"
   },
   {
    "duration": 267,
    "start_time": "2025-04-29T12:55:18.402Z"
   },
   {
    "duration": 520,
    "start_time": "2025-04-29T12:55:18.671Z"
   },
   {
    "duration": 4,
    "start_time": "2025-04-29T12:55:19.193Z"
   },
   {
    "duration": 6,
    "start_time": "2025-04-29T12:55:19.209Z"
   },
   {
    "duration": 242,
    "start_time": "2025-04-29T12:55:19.217Z"
   },
   {
    "duration": 192,
    "start_time": "2025-04-29T12:55:19.461Z"
   },
   {
    "duration": 483,
    "start_time": "2025-04-29T12:55:19.655Z"
   },
   {
    "duration": 388,
    "start_time": "2025-04-29T12:55:20.140Z"
   },
   {
    "duration": 78,
    "start_time": "2025-04-29T12:55:20.530Z"
   },
   {
    "duration": 9,
    "start_time": "2025-04-29T12:55:20.610Z"
   },
   {
    "duration": 4,
    "start_time": "2025-04-29T12:55:20.622Z"
   },
   {
    "duration": 3,
    "start_time": "2025-04-29T12:55:20.628Z"
   },
   {
    "duration": 4,
    "start_time": "2025-04-29T12:55:20.632Z"
   },
   {
    "duration": 71,
    "start_time": "2025-04-29T12:55:20.638Z"
   },
   {
    "duration": 3,
    "start_time": "2025-04-29T12:55:20.711Z"
   },
   {
    "duration": 5,
    "start_time": "2025-04-29T12:55:20.716Z"
   },
   {
    "duration": 5,
    "start_time": "2025-04-29T12:55:20.722Z"
   },
   {
    "duration": 7,
    "start_time": "2025-04-29T12:55:20.732Z"
   },
   {
    "duration": 6,
    "start_time": "2025-04-29T12:55:20.740Z"
   },
   {
    "duration": 5,
    "start_time": "2025-04-29T12:55:20.747Z"
   },
   {
    "duration": 8,
    "start_time": "2025-04-29T12:55:20.753Z"
   },
   {
    "duration": 4,
    "start_time": "2025-04-29T12:55:20.762Z"
   },
   {
    "duration": 42,
    "start_time": "2025-04-29T12:55:20.769Z"
   },
   {
    "duration": 4,
    "start_time": "2025-04-29T12:55:20.813Z"
   },
   {
    "duration": 7,
    "start_time": "2025-04-29T12:55:20.818Z"
   },
   {
    "duration": 4,
    "start_time": "2025-04-29T12:55:20.826Z"
   },
   {
    "duration": 3,
    "start_time": "2025-04-29T12:55:20.832Z"
   },
   {
    "duration": 17,
    "start_time": "2025-04-29T12:55:20.837Z"
   },
   {
    "duration": 4,
    "start_time": "2025-04-29T12:55:20.855Z"
   },
   {
    "duration": 4,
    "start_time": "2025-04-29T12:55:20.861Z"
   },
   {
    "duration": 835,
    "start_time": "2025-04-29T12:55:20.868Z"
   },
   {
    "duration": 11,
    "start_time": "2025-04-29T12:55:21.709Z"
   },
   {
    "duration": 3,
    "start_time": "2025-04-29T12:55:21.722Z"
   },
   {
    "duration": 196,
    "start_time": "2025-04-29T12:55:21.728Z"
   },
   {
    "duration": 84,
    "start_time": "2025-04-29T12:55:21.926Z"
   },
   {
    "duration": 3,
    "start_time": "2025-04-29T12:55:22.013Z"
   },
   {
    "duration": 1032,
    "start_time": "2025-04-29T12:55:22.018Z"
   },
   {
    "duration": 4,
    "start_time": "2025-04-29T12:55:23.052Z"
   },
   {
    "duration": 4,
    "start_time": "2025-04-29T12:55:23.057Z"
   },
   {
    "duration": 878,
    "start_time": "2025-04-29T12:55:23.062Z"
   },
   {
    "duration": 5,
    "start_time": "2025-04-29T12:55:23.943Z"
   },
   {
    "duration": 4,
    "start_time": "2025-04-29T12:55:24.009Z"
   },
   {
    "duration": 3,
    "start_time": "2025-04-29T12:55:24.015Z"
   },
   {
    "duration": 4,
    "start_time": "2025-04-29T12:55:24.019Z"
   },
   {
    "duration": 6,
    "start_time": "2025-04-29T12:55:24.025Z"
   },
   {
    "duration": 2,
    "start_time": "2025-04-29T12:55:24.033Z"
   },
   {
    "duration": 3,
    "start_time": "2025-04-29T12:55:24.037Z"
   },
   {
    "duration": 544,
    "start_time": "2025-04-29T12:55:24.041Z"
   },
   {
    "duration": 3,
    "start_time": "2025-04-29T12:55:24.587Z"
   },
   {
    "duration": 3,
    "start_time": "2025-04-29T12:55:24.592Z"
   },
   {
    "duration": 14,
    "start_time": "2025-04-29T12:55:24.596Z"
   },
   {
    "duration": 4,
    "start_time": "2025-04-29T12:55:24.612Z"
   },
   {
    "duration": 3,
    "start_time": "2025-04-29T12:55:24.618Z"
   },
   {
    "duration": 31395,
    "start_time": "2025-04-29T12:55:24.622Z"
   },
   {
    "duration": 17,
    "start_time": "2025-04-29T12:55:56.020Z"
   },
   {
    "duration": 3,
    "start_time": "2025-04-29T12:55:56.039Z"
   },
   {
    "duration": 4,
    "start_time": "2025-04-29T12:55:56.044Z"
   },
   {
    "duration": 4,
    "start_time": "2025-04-29T12:55:56.049Z"
   },
   {
    "duration": 3,
    "start_time": "2025-04-29T12:55:56.054Z"
   },
   {
    "duration": 31266,
    "start_time": "2025-04-29T12:55:56.059Z"
   },
   {
    "duration": 84,
    "start_time": "2025-04-29T12:56:27.326Z"
   },
   {
    "duration": 3,
    "start_time": "2025-04-29T12:56:27.413Z"
   },
   {
    "duration": 4,
    "start_time": "2025-04-29T12:56:27.417Z"
   },
   {
    "duration": 3,
    "start_time": "2025-04-29T12:56:27.422Z"
   },
   {
    "duration": 4,
    "start_time": "2025-04-29T12:56:27.426Z"
   },
   {
    "duration": 45834,
    "start_time": "2025-04-29T12:56:27.431Z"
   },
   {
    "duration": 4,
    "start_time": "2025-04-29T12:57:13.266Z"
   },
   {
    "duration": 3,
    "start_time": "2025-04-29T12:57:13.272Z"
   },
   {
    "duration": 4,
    "start_time": "2025-04-29T12:57:13.276Z"
   },
   {
    "duration": 3,
    "start_time": "2025-04-29T12:57:13.282Z"
   },
   {
    "duration": 4,
    "start_time": "2025-04-29T12:57:13.286Z"
   },
   {
    "duration": 92643,
    "start_time": "2025-04-29T12:57:13.296Z"
   },
   {
    "duration": 6,
    "start_time": "2025-04-29T12:58:45.940Z"
   },
   {
    "duration": 3,
    "start_time": "2025-04-29T12:58:46.008Z"
   },
   {
    "duration": 2,
    "start_time": "2025-04-29T12:58:46.014Z"
   },
   {
    "duration": 3,
    "start_time": "2025-04-29T12:58:46.018Z"
   },
   {
    "duration": 18411,
    "start_time": "2025-04-29T12:58:46.022Z"
   },
   {
    "duration": 29,
    "start_time": "2025-04-29T12:59:04.434Z"
   },
   {
    "duration": 3,
    "start_time": "2025-04-29T12:59:04.465Z"
   },
   {
    "duration": 4,
    "start_time": "2025-04-29T12:59:04.470Z"
   },
   {
    "duration": 4,
    "start_time": "2025-04-29T12:59:04.475Z"
   },
   {
    "duration": 30,
    "start_time": "2025-04-29T12:59:04.480Z"
   },
   {
    "duration": 8,
    "start_time": "2025-04-29T12:59:04.512Z"
   },
   {
    "duration": 1133,
    "start_time": "2025-04-29T14:42:25.263Z"
   },
   {
    "duration": 23,
    "start_time": "2025-04-29T14:42:26.398Z"
   },
   {
    "duration": 7,
    "start_time": "2025-04-29T14:42:26.423Z"
   },
   {
    "duration": 9,
    "start_time": "2025-04-29T14:42:26.432Z"
   },
   {
    "duration": 5,
    "start_time": "2025-04-29T14:42:26.443Z"
   },
   {
    "duration": 10,
    "start_time": "2025-04-29T14:42:26.450Z"
   },
   {
    "duration": 4,
    "start_time": "2025-04-29T14:42:26.461Z"
   },
   {
    "duration": 274,
    "start_time": "2025-04-29T14:42:26.467Z"
   },
   {
    "duration": 188,
    "start_time": "2025-04-29T14:42:26.743Z"
   },
   {
    "duration": 117,
    "start_time": "2025-04-29T14:42:26.934Z"
   },
   {
    "duration": 249,
    "start_time": "2025-04-29T14:42:27.053Z"
   },
   {
    "duration": 535,
    "start_time": "2025-04-29T14:42:27.304Z"
   },
   {
    "duration": 4,
    "start_time": "2025-04-29T14:42:27.840Z"
   },
   {
    "duration": 7,
    "start_time": "2025-04-29T14:42:27.845Z"
   },
   {
    "duration": 246,
    "start_time": "2025-04-29T14:42:27.853Z"
   },
   {
    "duration": 206,
    "start_time": "2025-04-29T14:42:28.103Z"
   },
   {
    "duration": 536,
    "start_time": "2025-04-29T14:42:28.310Z"
   },
   {
    "duration": 560,
    "start_time": "2025-04-29T14:42:28.849Z"
   },
   {
    "duration": 4,
    "start_time": "2025-04-29T14:42:29.411Z"
   },
   {
    "duration": 5,
    "start_time": "2025-04-29T14:42:29.417Z"
   },
   {
    "duration": 3,
    "start_time": "2025-04-29T14:42:29.423Z"
   },
   {
    "duration": 3,
    "start_time": "2025-04-29T14:42:29.428Z"
   },
   {
    "duration": 3,
    "start_time": "2025-04-29T14:42:29.433Z"
   },
   {
    "duration": 5,
    "start_time": "2025-04-29T14:42:29.508Z"
   },
   {
    "duration": 4,
    "start_time": "2025-04-29T14:42:29.514Z"
   },
   {
    "duration": 4,
    "start_time": "2025-04-29T14:42:29.520Z"
   },
   {
    "duration": 5,
    "start_time": "2025-04-29T14:42:29.525Z"
   },
   {
    "duration": 9,
    "start_time": "2025-04-29T14:42:29.536Z"
   },
   {
    "duration": 6,
    "start_time": "2025-04-29T14:42:29.547Z"
   },
   {
    "duration": 4,
    "start_time": "2025-04-29T14:42:29.555Z"
   },
   {
    "duration": 7,
    "start_time": "2025-04-29T14:42:29.561Z"
   },
   {
    "duration": 3,
    "start_time": "2025-04-29T14:42:29.608Z"
   },
   {
    "duration": 4,
    "start_time": "2025-04-29T14:42:29.613Z"
   },
   {
    "duration": 4,
    "start_time": "2025-04-29T14:42:29.618Z"
   },
   {
    "duration": 7,
    "start_time": "2025-04-29T14:42:29.623Z"
   },
   {
    "duration": 4,
    "start_time": "2025-04-29T14:42:29.631Z"
   },
   {
    "duration": 4,
    "start_time": "2025-04-29T14:42:29.636Z"
   },
   {
    "duration": 17,
    "start_time": "2025-04-29T14:42:29.642Z"
   },
   {
    "duration": 4,
    "start_time": "2025-04-29T14:42:29.661Z"
   },
   {
    "duration": 45,
    "start_time": "2025-04-29T14:42:29.666Z"
   },
   {
    "duration": 817,
    "start_time": "2025-04-29T14:42:29.714Z"
   },
   {
    "duration": 12,
    "start_time": "2025-04-29T14:42:30.533Z"
   },
   {
    "duration": 3,
    "start_time": "2025-04-29T14:42:30.547Z"
   },
   {
    "duration": 263,
    "start_time": "2025-04-29T14:42:30.552Z"
   },
   {
    "duration": 10,
    "start_time": "2025-04-29T14:42:30.817Z"
   },
   {
    "duration": 4,
    "start_time": "2025-04-29T14:42:30.829Z"
   },
   {
    "duration": 1034,
    "start_time": "2025-04-29T14:42:30.908Z"
   },
   {
    "duration": 3,
    "start_time": "2025-04-29T14:42:31.944Z"
   },
   {
    "duration": 3,
    "start_time": "2025-04-29T14:42:31.949Z"
   },
   {
    "duration": 962,
    "start_time": "2025-04-29T14:42:31.954Z"
   },
   {
    "duration": 6,
    "start_time": "2025-04-29T14:42:32.918Z"
   },
   {
    "duration": 3,
    "start_time": "2025-04-29T14:42:32.926Z"
   },
   {
    "duration": 3,
    "start_time": "2025-04-29T14:42:32.932Z"
   },
   {
    "duration": 3,
    "start_time": "2025-04-29T14:42:32.937Z"
   },
   {
    "duration": 6,
    "start_time": "2025-04-29T14:42:32.942Z"
   },
   {
    "duration": 3,
    "start_time": "2025-04-29T14:42:32.950Z"
   },
   {
    "duration": 55,
    "start_time": "2025-04-29T14:42:32.955Z"
   },
   {
    "duration": 517,
    "start_time": "2025-04-29T14:42:33.013Z"
   },
   {
    "duration": 3,
    "start_time": "2025-04-29T14:42:33.532Z"
   },
   {
    "duration": 3,
    "start_time": "2025-04-29T14:42:33.537Z"
   },
   {
    "duration": 3,
    "start_time": "2025-04-29T14:42:33.542Z"
   },
   {
    "duration": 4,
    "start_time": "2025-04-29T14:42:33.547Z"
   },
   {
    "duration": 3,
    "start_time": "2025-04-29T14:42:33.553Z"
   },
   {
    "duration": 31584,
    "start_time": "2025-04-29T14:42:33.558Z"
   },
   {
    "duration": 14,
    "start_time": "2025-04-29T14:43:05.144Z"
   },
   {
    "duration": 3,
    "start_time": "2025-04-29T14:43:05.160Z"
   },
   {
    "duration": 3,
    "start_time": "2025-04-29T14:43:05.165Z"
   },
   {
    "duration": 4,
    "start_time": "2025-04-29T14:43:05.169Z"
   },
   {
    "duration": 3,
    "start_time": "2025-04-29T14:43:05.174Z"
   },
   {
    "duration": 31947,
    "start_time": "2025-04-29T14:43:05.179Z"
   },
   {
    "duration": 82,
    "start_time": "2025-04-29T14:43:37.128Z"
   },
   {
    "duration": 5,
    "start_time": "2025-04-29T14:43:37.212Z"
   },
   {
    "duration": 4,
    "start_time": "2025-04-29T14:43:37.218Z"
   },
   {
    "duration": 4,
    "start_time": "2025-04-29T14:43:37.223Z"
   },
   {
    "duration": 4,
    "start_time": "2025-04-29T14:43:37.228Z"
   },
   {
    "duration": 46438,
    "start_time": "2025-04-29T14:43:37.233Z"
   },
   {
    "duration": 3,
    "start_time": "2025-04-29T14:44:23.673Z"
   },
   {
    "duration": 3,
    "start_time": "2025-04-29T14:44:23.678Z"
   },
   {
    "duration": 4,
    "start_time": "2025-04-29T14:44:23.683Z"
   },
   {
    "duration": 4,
    "start_time": "2025-04-29T14:44:23.688Z"
   },
   {
    "duration": 4,
    "start_time": "2025-04-29T14:44:23.693Z"
   },
   {
    "duration": 94515,
    "start_time": "2025-04-29T14:44:23.704Z"
   },
   {
    "duration": 8,
    "start_time": "2025-04-29T14:45:58.221Z"
   },
   {
    "duration": 3,
    "start_time": "2025-04-29T14:45:58.231Z"
   },
   {
    "duration": 4,
    "start_time": "2025-04-29T14:45:58.235Z"
   },
   {
    "duration": 4,
    "start_time": "2025-04-29T14:45:58.240Z"
   },
   {
    "duration": 18879,
    "start_time": "2025-04-29T14:45:58.245Z"
   },
   {
    "duration": 28,
    "start_time": "2025-04-29T14:46:17.126Z"
   },
   {
    "duration": 3,
    "start_time": "2025-04-29T14:46:17.155Z"
   },
   {
    "duration": 4,
    "start_time": "2025-04-29T14:46:17.160Z"
   },
   {
    "duration": 4,
    "start_time": "2025-04-29T14:46:17.166Z"
   },
   {
    "duration": 7,
    "start_time": "2025-04-29T14:46:17.171Z"
   },
   {
    "duration": 9,
    "start_time": "2025-04-29T14:46:17.208Z"
   },
   {
    "duration": 11,
    "start_time": "2025-04-29T18:04:37.368Z"
   },
   {
    "duration": 2843,
    "start_time": "2025-04-30T14:44:25.684Z"
   },
   {
    "duration": 1123,
    "start_time": "2025-04-30T14:54:58.333Z"
   },
   {
    "duration": 30,
    "start_time": "2025-04-30T14:54:59.458Z"
   },
   {
    "duration": 7,
    "start_time": "2025-04-30T14:54:59.490Z"
   },
   {
    "duration": 8,
    "start_time": "2025-04-30T14:54:59.499Z"
   },
   {
    "duration": 4,
    "start_time": "2025-04-30T14:54:59.509Z"
   },
   {
    "duration": 9,
    "start_time": "2025-04-30T14:54:59.515Z"
   },
   {
    "duration": 3,
    "start_time": "2025-04-30T14:54:59.526Z"
   },
   {
    "duration": 271,
    "start_time": "2025-04-30T14:54:59.531Z"
   },
   {
    "duration": 203,
    "start_time": "2025-04-30T14:54:59.804Z"
   },
   {
    "duration": 120,
    "start_time": "2025-04-30T14:55:00.010Z"
   },
   {
    "duration": 249,
    "start_time": "2025-04-30T14:55:00.132Z"
   },
   {
    "duration": 523,
    "start_time": "2025-04-30T14:55:00.383Z"
   },
   {
    "duration": 5,
    "start_time": "2025-04-30T14:55:00.907Z"
   },
   {
    "duration": 5,
    "start_time": "2025-04-30T14:55:00.914Z"
   },
   {
    "duration": 254,
    "start_time": "2025-04-30T14:55:00.921Z"
   },
   {
    "duration": 193,
    "start_time": "2025-04-30T14:55:01.177Z"
   },
   {
    "duration": 505,
    "start_time": "2025-04-30T14:55:01.372Z"
   },
   {
    "duration": 410,
    "start_time": "2025-04-30T14:55:01.880Z"
   },
   {
    "duration": 78,
    "start_time": "2025-04-30T14:55:02.293Z"
   },
   {
    "duration": 6,
    "start_time": "2025-04-30T14:55:02.375Z"
   },
   {
    "duration": 3,
    "start_time": "2025-04-30T14:55:02.386Z"
   },
   {
    "duration": 3,
    "start_time": "2025-04-30T14:55:02.390Z"
   },
   {
    "duration": 3,
    "start_time": "2025-04-30T14:55:02.395Z"
   },
   {
    "duration": 4,
    "start_time": "2025-04-30T14:55:02.471Z"
   },
   {
    "duration": 4,
    "start_time": "2025-04-30T14:55:02.477Z"
   },
   {
    "duration": 3,
    "start_time": "2025-04-30T14:55:02.483Z"
   },
   {
    "duration": 5,
    "start_time": "2025-04-30T14:55:02.487Z"
   },
   {
    "duration": 8,
    "start_time": "2025-04-30T14:55:02.498Z"
   },
   {
    "duration": 6,
    "start_time": "2025-04-30T14:55:02.508Z"
   },
   {
    "duration": 5,
    "start_time": "2025-04-30T14:55:02.515Z"
   },
   {
    "duration": 8,
    "start_time": "2025-04-30T14:55:02.521Z"
   },
   {
    "duration": 40,
    "start_time": "2025-04-30T14:55:02.531Z"
   },
   {
    "duration": 4,
    "start_time": "2025-04-30T14:55:02.572Z"
   },
   {
    "duration": 4,
    "start_time": "2025-04-30T14:55:02.578Z"
   },
   {
    "duration": 7,
    "start_time": "2025-04-30T14:55:02.583Z"
   },
   {
    "duration": 4,
    "start_time": "2025-04-30T14:55:02.591Z"
   },
   {
    "duration": 4,
    "start_time": "2025-04-30T14:55:02.596Z"
   },
   {
    "duration": 18,
    "start_time": "2025-04-30T14:55:02.601Z"
   },
   {
    "duration": 4,
    "start_time": "2025-04-30T14:55:02.620Z"
   },
   {
    "duration": 5,
    "start_time": "2025-04-30T14:55:02.625Z"
   },
   {
    "duration": 809,
    "start_time": "2025-04-30T14:55:02.670Z"
   },
   {
    "duration": 12,
    "start_time": "2025-04-30T14:55:03.480Z"
   },
   {
    "duration": 4,
    "start_time": "2025-04-30T14:55:03.493Z"
   },
   {
    "duration": 186,
    "start_time": "2025-04-30T14:55:03.499Z"
   },
   {
    "duration": 84,
    "start_time": "2025-04-30T14:55:03.687Z"
   },
   {
    "duration": 5,
    "start_time": "2025-04-30T14:55:03.772Z"
   },
   {
    "duration": 1063,
    "start_time": "2025-04-30T14:55:03.779Z"
   },
   {
    "duration": 3,
    "start_time": "2025-04-30T14:55:04.844Z"
   },
   {
    "duration": 3,
    "start_time": "2025-04-30T14:55:04.850Z"
   },
   {
    "duration": 927,
    "start_time": "2025-04-30T14:55:04.855Z"
   },
   {
    "duration": 6,
    "start_time": "2025-04-30T14:55:05.784Z"
   },
   {
    "duration": 4,
    "start_time": "2025-04-30T14:55:05.792Z"
   },
   {
    "duration": 3,
    "start_time": "2025-04-30T14:55:05.798Z"
   },
   {
    "duration": 4,
    "start_time": "2025-04-30T14:55:05.802Z"
   },
   {
    "duration": 6,
    "start_time": "2025-04-30T14:55:05.808Z"
   },
   {
    "duration": 2,
    "start_time": "2025-04-30T14:55:05.816Z"
   },
   {
    "duration": 51,
    "start_time": "2025-04-30T14:55:05.820Z"
   },
   {
    "duration": 3,
    "start_time": "2025-04-30T14:55:05.874Z"
   },
   {
    "duration": 436,
    "start_time": "2025-04-30T14:55:05.878Z"
   },
   {
    "duration": 4,
    "start_time": "2025-04-30T14:55:06.316Z"
   },
   {
    "duration": 10,
    "start_time": "2025-04-30T14:55:06.321Z"
   },
   {
    "duration": 4,
    "start_time": "2025-04-30T14:55:06.335Z"
   },
   {
    "duration": 3,
    "start_time": "2025-04-30T14:55:06.340Z"
   },
   {
    "duration": 4,
    "start_time": "2025-04-30T14:55:06.345Z"
   },
   {
    "duration": 21,
    "start_time": "2025-04-30T14:55:06.351Z"
   },
   {
    "duration": 23713,
    "start_time": "2025-04-30T14:55:06.373Z"
   },
   {
    "duration": 10,
    "start_time": "2025-04-30T14:55:30.088Z"
   },
   {
    "duration": 4,
    "start_time": "2025-04-30T14:55:30.100Z"
   },
   {
    "duration": 3,
    "start_time": "2025-04-30T14:55:30.106Z"
   },
   {
    "duration": 3,
    "start_time": "2025-04-30T14:55:30.111Z"
   },
   {
    "duration": 4,
    "start_time": "2025-04-30T14:55:30.115Z"
   },
   {
    "duration": 4,
    "start_time": "2025-04-30T14:55:30.120Z"
   },
   {
    "duration": 27652,
    "start_time": "2025-04-30T14:55:30.126Z"
   },
   {
    "duration": 10,
    "start_time": "2025-04-30T14:55:57.780Z"
   },
   {
    "duration": 3,
    "start_time": "2025-04-30T14:55:57.792Z"
   },
   {
    "duration": 2,
    "start_time": "2025-04-30T14:55:57.871Z"
   },
   {
    "duration": 4,
    "start_time": "2025-04-30T14:55:57.875Z"
   },
   {
    "duration": 3,
    "start_time": "2025-04-30T14:55:57.881Z"
   },
   {
    "duration": 4,
    "start_time": "2025-04-30T14:55:57.885Z"
   },
   {
    "duration": 40789,
    "start_time": "2025-04-30T14:55:57.890Z"
   },
   {
    "duration": 3,
    "start_time": "2025-04-30T14:56:38.681Z"
   },
   {
    "duration": 3,
    "start_time": "2025-04-30T14:56:38.691Z"
   },
   {
    "duration": 5,
    "start_time": "2025-04-30T14:56:38.696Z"
   },
   {
    "duration": 3,
    "start_time": "2025-04-30T14:56:38.703Z"
   },
   {
    "duration": 3,
    "start_time": "2025-04-30T14:56:38.708Z"
   },
   {
    "duration": 4,
    "start_time": "2025-04-30T14:56:38.712Z"
   },
   {
    "duration": 84875,
    "start_time": "2025-04-30T14:56:38.717Z"
   },
   {
    "duration": 5,
    "start_time": "2025-04-30T14:58:03.594Z"
   },
   {
    "duration": 2,
    "start_time": "2025-04-30T14:58:03.601Z"
   },
   {
    "duration": 4,
    "start_time": "2025-04-30T14:58:03.605Z"
   },
   {
    "duration": 2,
    "start_time": "2025-04-30T14:58:03.611Z"
   },
   {
    "duration": 18572,
    "start_time": "2025-04-30T14:58:03.670Z"
   },
   {
    "duration": 56,
    "start_time": "2025-04-30T14:58:22.244Z"
   },
   {
    "duration": 3,
    "start_time": "2025-04-30T14:58:22.302Z"
   },
   {
    "duration": 5,
    "start_time": "2025-04-30T14:58:22.307Z"
   },
   {
    "duration": 4,
    "start_time": "2025-04-30T14:58:22.313Z"
   },
   {
    "duration": 7,
    "start_time": "2025-04-30T14:58:22.318Z"
   },
   {
    "duration": 8,
    "start_time": "2025-04-30T14:58:22.327Z"
   },
   {
    "duration": 4,
    "start_time": "2025-04-30T15:18:01.189Z"
   },
   {
    "duration": 3,
    "start_time": "2025-04-30T15:18:02.011Z"
   },
   {
    "duration": 7,
    "start_time": "2025-04-30T15:18:02.253Z"
   },
   {
    "duration": 9,
    "start_time": "2025-04-30T15:18:41.458Z"
   },
   {
    "duration": 253,
    "start_time": "2025-04-30T15:20:47.034Z"
   },
   {
    "duration": 19,
    "start_time": "2025-04-30T15:22:01.824Z"
   },
   {
    "duration": 17,
    "start_time": "2025-04-30T15:22:15.164Z"
   },
   {
    "duration": 317,
    "start_time": "2025-04-30T15:22:42.103Z"
   },
   {
    "duration": 11,
    "start_time": "2025-04-30T15:23:02.649Z"
   },
   {
    "duration": 47,
    "start_time": "2025-04-30T15:25:23.583Z"
   },
   {
    "duration": 4,
    "start_time": "2025-04-30T15:26:00.404Z"
   },
   {
    "duration": 4,
    "start_time": "2025-04-30T15:26:01.148Z"
   },
   {
    "duration": 7,
    "start_time": "2025-04-30T15:26:01.923Z"
   },
   {
    "duration": 1106,
    "start_time": "2025-04-30T15:56:15.138Z"
   },
   {
    "duration": 26,
    "start_time": "2025-04-30T15:56:16.246Z"
   },
   {
    "duration": 6,
    "start_time": "2025-04-30T15:56:16.274Z"
   },
   {
    "duration": 7,
    "start_time": "2025-04-30T15:56:16.283Z"
   },
   {
    "duration": 5,
    "start_time": "2025-04-30T15:56:16.291Z"
   },
   {
    "duration": 10,
    "start_time": "2025-04-30T15:56:16.298Z"
   },
   {
    "duration": 3,
    "start_time": "2025-04-30T15:56:16.310Z"
   },
   {
    "duration": 272,
    "start_time": "2025-04-30T15:56:16.315Z"
   },
   {
    "duration": 199,
    "start_time": "2025-04-30T15:56:16.589Z"
   },
   {
    "duration": 121,
    "start_time": "2025-04-30T15:56:16.791Z"
   },
   {
    "duration": 248,
    "start_time": "2025-04-30T15:56:16.913Z"
   },
   {
    "duration": 528,
    "start_time": "2025-04-30T15:56:17.164Z"
   },
   {
    "duration": 4,
    "start_time": "2025-04-30T15:56:17.694Z"
   },
   {
    "duration": 7,
    "start_time": "2025-04-30T15:56:17.700Z"
   },
   {
    "duration": 250,
    "start_time": "2025-04-30T15:56:17.709Z"
   },
   {
    "duration": 197,
    "start_time": "2025-04-30T15:56:17.960Z"
   },
   {
    "duration": 486,
    "start_time": "2025-04-30T15:56:18.159Z"
   },
   {
    "duration": 428,
    "start_time": "2025-04-30T15:56:18.647Z"
   },
   {
    "duration": 4,
    "start_time": "2025-04-30T15:56:19.077Z"
   },
   {
    "duration": 5,
    "start_time": "2025-04-30T15:56:19.086Z"
   },
   {
    "duration": 3,
    "start_time": "2025-04-30T15:56:19.092Z"
   },
   {
    "duration": 73,
    "start_time": "2025-04-30T15:56:19.097Z"
   },
   {
    "duration": 3,
    "start_time": "2025-04-30T15:56:19.173Z"
   },
   {
    "duration": 5,
    "start_time": "2025-04-30T15:56:19.179Z"
   },
   {
    "duration": 4,
    "start_time": "2025-04-30T15:56:19.186Z"
   },
   {
    "duration": 4,
    "start_time": "2025-04-30T15:56:19.192Z"
   },
   {
    "duration": 5,
    "start_time": "2025-04-30T15:56:19.197Z"
   },
   {
    "duration": 8,
    "start_time": "2025-04-30T15:56:19.207Z"
   },
   {
    "duration": 54,
    "start_time": "2025-04-30T15:56:19.216Z"
   },
   {
    "duration": 5,
    "start_time": "2025-04-30T15:56:19.272Z"
   },
   {
    "duration": 8,
    "start_time": "2025-04-30T15:56:19.279Z"
   },
   {
    "duration": 2,
    "start_time": "2025-04-30T15:56:19.289Z"
   },
   {
    "duration": 3,
    "start_time": "2025-04-30T15:56:19.293Z"
   },
   {
    "duration": 4,
    "start_time": "2025-04-30T15:56:19.298Z"
   },
   {
    "duration": 7,
    "start_time": "2025-04-30T15:56:19.304Z"
   },
   {
    "duration": 5,
    "start_time": "2025-04-30T15:56:19.312Z"
   },
   {
    "duration": 3,
    "start_time": "2025-04-30T15:56:19.319Z"
   },
   {
    "duration": 59,
    "start_time": "2025-04-30T15:56:19.324Z"
   },
   {
    "duration": 3,
    "start_time": "2025-04-30T15:56:19.384Z"
   },
   {
    "duration": 3,
    "start_time": "2025-04-30T15:56:19.389Z"
   },
   {
    "duration": 821,
    "start_time": "2025-04-30T15:56:19.394Z"
   },
   {
    "duration": 12,
    "start_time": "2025-04-30T15:56:20.217Z"
   },
   {
    "duration": 2,
    "start_time": "2025-04-30T15:56:20.231Z"
   },
   {
    "duration": 238,
    "start_time": "2025-04-30T15:56:20.235Z"
   },
   {
    "duration": 9,
    "start_time": "2025-04-30T15:56:20.478Z"
   },
   {
    "duration": 4,
    "start_time": "2025-04-30T15:56:20.488Z"
   },
   {
    "duration": 1100,
    "start_time": "2025-04-30T15:56:20.494Z"
   },
   {
    "duration": 6,
    "start_time": "2025-04-30T15:56:21.596Z"
   },
   {
    "duration": 3,
    "start_time": "2025-04-30T15:56:21.604Z"
   },
   {
    "duration": 980,
    "start_time": "2025-04-30T15:56:21.609Z"
   },
   {
    "duration": 6,
    "start_time": "2025-04-30T15:56:22.590Z"
   },
   {
    "duration": 3,
    "start_time": "2025-04-30T15:56:22.597Z"
   },
   {
    "duration": 3,
    "start_time": "2025-04-30T15:56:22.602Z"
   },
   {
    "duration": 4,
    "start_time": "2025-04-30T15:56:22.607Z"
   },
   {
    "duration": 7,
    "start_time": "2025-04-30T15:56:22.612Z"
   },
   {
    "duration": 2,
    "start_time": "2025-04-30T15:56:22.622Z"
   },
   {
    "duration": 2,
    "start_time": "2025-04-30T15:56:22.670Z"
   },
   {
    "duration": 3,
    "start_time": "2025-04-30T15:56:22.674Z"
   },
   {
    "duration": 444,
    "start_time": "2025-04-30T15:56:22.679Z"
   },
   {
    "duration": 4,
    "start_time": "2025-04-30T15:56:23.125Z"
   },
   {
    "duration": 3,
    "start_time": "2025-04-30T15:56:23.131Z"
   },
   {
    "duration": 4,
    "start_time": "2025-04-30T15:56:23.135Z"
   },
   {
    "duration": 4,
    "start_time": "2025-04-30T15:56:23.140Z"
   },
   {
    "duration": 27,
    "start_time": "2025-04-30T15:56:23.145Z"
   },
   {
    "duration": 3,
    "start_time": "2025-04-30T15:56:23.173Z"
   },
   {
    "duration": 23667,
    "start_time": "2025-04-30T15:56:23.178Z"
   },
   {
    "duration": 11,
    "start_time": "2025-04-30T15:56:46.847Z"
   },
   {
    "duration": 10,
    "start_time": "2025-04-30T15:56:46.860Z"
   },
   {
    "duration": 3,
    "start_time": "2025-04-30T15:56:46.872Z"
   },
   {
    "duration": 3,
    "start_time": "2025-04-30T15:56:46.877Z"
   },
   {
    "duration": 3,
    "start_time": "2025-04-30T15:56:46.882Z"
   },
   {
    "duration": 3,
    "start_time": "2025-04-30T15:56:46.887Z"
   },
   {
    "duration": 27499,
    "start_time": "2025-04-30T15:56:46.891Z"
   },
   {
    "duration": 90,
    "start_time": "2025-04-30T15:57:14.392Z"
   },
   {
    "duration": 4,
    "start_time": "2025-04-30T15:57:14.484Z"
   },
   {
    "duration": 3,
    "start_time": "2025-04-30T15:57:14.490Z"
   },
   {
    "duration": 4,
    "start_time": "2025-04-30T15:57:14.494Z"
   },
   {
    "duration": 4,
    "start_time": "2025-04-30T15:57:14.499Z"
   },
   {
    "duration": 67,
    "start_time": "2025-04-30T15:57:14.504Z"
   },
   {
    "duration": 40516,
    "start_time": "2025-04-30T15:57:14.572Z"
   },
   {
    "duration": 4,
    "start_time": "2025-04-30T15:57:55.090Z"
   },
   {
    "duration": 3,
    "start_time": "2025-04-30T15:57:55.101Z"
   },
   {
    "duration": 4,
    "start_time": "2025-04-30T15:57:55.106Z"
   },
   {
    "duration": 4,
    "start_time": "2025-04-30T15:57:55.113Z"
   },
   {
    "duration": 4,
    "start_time": "2025-04-30T15:57:55.118Z"
   },
   {
    "duration": 3,
    "start_time": "2025-04-30T15:57:55.123Z"
   },
   {
    "duration": 85375,
    "start_time": "2025-04-30T15:57:55.128Z"
   },
   {
    "duration": 5,
    "start_time": "2025-04-30T15:59:20.505Z"
   },
   {
    "duration": 4,
    "start_time": "2025-04-30T15:59:20.571Z"
   },
   {
    "duration": 3,
    "start_time": "2025-04-30T15:59:20.576Z"
   },
   {
    "duration": 2,
    "start_time": "2025-04-30T15:59:20.581Z"
   },
   {
    "duration": 18434,
    "start_time": "2025-04-30T15:59:20.585Z"
   },
   {
    "duration": 32,
    "start_time": "2025-04-30T15:59:39.021Z"
   },
   {
    "duration": 15,
    "start_time": "2025-04-30T15:59:39.055Z"
   },
   {
    "duration": 5,
    "start_time": "2025-04-30T15:59:39.071Z"
   },
   {
    "duration": 4,
    "start_time": "2025-04-30T15:59:39.077Z"
   },
   {
    "duration": 7,
    "start_time": "2025-04-30T15:59:39.082Z"
   },
   {
    "duration": 10,
    "start_time": "2025-04-30T15:59:39.091Z"
   },
   {
    "duration": 1130,
    "start_time": "2025-04-30T16:10:02.508Z"
   },
   {
    "duration": 24,
    "start_time": "2025-04-30T16:10:03.640Z"
   },
   {
    "duration": 10,
    "start_time": "2025-04-30T16:10:03.665Z"
   },
   {
    "duration": 7,
    "start_time": "2025-04-30T16:10:03.678Z"
   },
   {
    "duration": 4,
    "start_time": "2025-04-30T16:10:03.687Z"
   },
   {
    "duration": 11,
    "start_time": "2025-04-30T16:10:03.693Z"
   },
   {
    "duration": 4,
    "start_time": "2025-04-30T16:10:03.705Z"
   },
   {
    "duration": 270,
    "start_time": "2025-04-30T16:10:03.711Z"
   },
   {
    "duration": 199,
    "start_time": "2025-04-30T16:10:03.983Z"
   },
   {
    "duration": 114,
    "start_time": "2025-04-30T16:10:04.187Z"
   },
   {
    "duration": 254,
    "start_time": "2025-04-30T16:10:04.303Z"
   },
   {
    "duration": 536,
    "start_time": "2025-04-30T16:10:04.559Z"
   },
   {
    "duration": 3,
    "start_time": "2025-04-30T16:10:05.098Z"
   },
   {
    "duration": 7,
    "start_time": "2025-04-30T16:10:05.104Z"
   },
   {
    "duration": 254,
    "start_time": "2025-04-30T16:10:05.112Z"
   },
   {
    "duration": 194,
    "start_time": "2025-04-30T16:10:05.367Z"
   },
   {
    "duration": 483,
    "start_time": "2025-04-30T16:10:05.569Z"
   },
   {
    "duration": 425,
    "start_time": "2025-04-30T16:10:06.054Z"
   },
   {
    "duration": 3,
    "start_time": "2025-04-30T16:10:06.481Z"
   },
   {
    "duration": 5,
    "start_time": "2025-04-30T16:10:06.486Z"
   },
   {
    "duration": 78,
    "start_time": "2025-04-30T16:10:06.492Z"
   },
   {
    "duration": 5,
    "start_time": "2025-04-30T16:10:06.572Z"
   },
   {
    "duration": 7,
    "start_time": "2025-04-30T16:10:06.578Z"
   },
   {
    "duration": 5,
    "start_time": "2025-04-30T16:10:06.586Z"
   },
   {
    "duration": 4,
    "start_time": "2025-04-30T16:10:06.592Z"
   },
   {
    "duration": 3,
    "start_time": "2025-04-30T16:10:06.597Z"
   },
   {
    "duration": 5,
    "start_time": "2025-04-30T16:10:06.602Z"
   },
   {
    "duration": 3,
    "start_time": "2025-04-30T16:10:06.612Z"
   },
   {
    "duration": 3,
    "start_time": "2025-04-30T16:10:06.617Z"
   },
   {
    "duration": 3,
    "start_time": "2025-04-30T16:10:06.670Z"
   },
   {
    "duration": 3,
    "start_time": "2025-04-30T16:10:06.675Z"
   },
   {
    "duration": 7,
    "start_time": "2025-04-30T16:10:06.680Z"
   },
   {
    "duration": 3,
    "start_time": "2025-04-30T16:10:06.688Z"
   },
   {
    "duration": 4,
    "start_time": "2025-04-30T16:10:06.693Z"
   },
   {
    "duration": 20,
    "start_time": "2025-04-30T16:10:06.698Z"
   },
   {
    "duration": 4,
    "start_time": "2025-04-30T16:10:06.719Z"
   },
   {
    "duration": 4,
    "start_time": "2025-04-30T16:10:06.724Z"
   },
   {
    "duration": 822,
    "start_time": "2025-04-30T16:10:06.769Z"
   },
   {
    "duration": 12,
    "start_time": "2025-04-30T16:10:07.593Z"
   },
   {
    "duration": 4,
    "start_time": "2025-04-30T16:10:07.607Z"
   },
   {
    "duration": 173,
    "start_time": "2025-04-30T16:10:07.613Z"
   },
   {
    "duration": 83,
    "start_time": "2025-04-30T16:10:07.788Z"
   },
   {
    "duration": 5,
    "start_time": "2025-04-30T16:10:07.873Z"
   },
   {
    "duration": 1015,
    "start_time": "2025-04-30T16:10:07.880Z"
   },
   {
    "duration": 4,
    "start_time": "2025-04-30T16:10:08.897Z"
   },
   {
    "duration": 5,
    "start_time": "2025-04-30T16:10:08.905Z"
   },
   {
    "duration": 980,
    "start_time": "2025-04-30T16:10:08.912Z"
   },
   {
    "duration": 12,
    "start_time": "2025-04-30T16:10:09.895Z"
   },
   {
    "duration": 4,
    "start_time": "2025-04-30T16:10:09.908Z"
   },
   {
    "duration": 4,
    "start_time": "2025-04-30T16:10:09.970Z"
   },
   {
    "duration": 4,
    "start_time": "2025-04-30T16:10:09.976Z"
   },
   {
    "duration": 7,
    "start_time": "2025-04-30T16:10:09.982Z"
   },
   {
    "duration": 2,
    "start_time": "2025-04-30T16:10:09.990Z"
   },
   {
    "duration": 3,
    "start_time": "2025-04-30T16:10:09.994Z"
   },
   {
    "duration": 3,
    "start_time": "2025-04-30T16:10:09.999Z"
   },
   {
    "duration": 450,
    "start_time": "2025-04-30T16:10:10.004Z"
   },
   {
    "duration": 4,
    "start_time": "2025-04-30T16:10:10.456Z"
   },
   {
    "duration": 3,
    "start_time": "2025-04-30T16:10:10.469Z"
   },
   {
    "duration": 3,
    "start_time": "2025-04-30T16:10:10.474Z"
   },
   {
    "duration": 3,
    "start_time": "2025-04-30T16:10:10.479Z"
   },
   {
    "duration": 3,
    "start_time": "2025-04-30T16:10:10.484Z"
   },
   {
    "duration": 3,
    "start_time": "2025-04-30T16:10:10.489Z"
   },
   {
    "duration": 24510,
    "start_time": "2025-04-30T16:10:10.494Z"
   },
   {
    "duration": 14,
    "start_time": "2025-04-30T16:10:35.006Z"
   },
   {
    "duration": 4,
    "start_time": "2025-04-30T16:10:35.022Z"
   },
   {
    "duration": 3,
    "start_time": "2025-04-30T16:10:35.027Z"
   },
   {
    "duration": 4,
    "start_time": "2025-04-30T16:10:35.032Z"
   },
   {
    "duration": 3,
    "start_time": "2025-04-30T16:10:35.037Z"
   },
   {
    "duration": 28,
    "start_time": "2025-04-30T16:10:35.042Z"
   },
   {
    "duration": 31600,
    "start_time": "2025-04-30T16:10:35.072Z"
   },
   {
    "duration": 7,
    "start_time": "2025-04-30T16:11:06.674Z"
   },
   {
    "duration": 2,
    "start_time": "2025-04-30T16:11:06.683Z"
   },
   {
    "duration": 3,
    "start_time": "2025-04-30T16:11:06.686Z"
   },
   {
    "duration": 2,
    "start_time": "2025-04-30T16:11:06.691Z"
   },
   {
    "duration": 3,
    "start_time": "2025-04-30T16:11:06.695Z"
   },
   {
    "duration": 3,
    "start_time": "2025-04-30T16:11:06.700Z"
   },
   {
    "duration": 40860,
    "start_time": "2025-04-30T16:11:06.705Z"
   },
   {
    "duration": 3,
    "start_time": "2025-04-30T16:11:47.568Z"
   },
   {
    "duration": 3,
    "start_time": "2025-04-30T16:11:47.573Z"
   },
   {
    "duration": 3,
    "start_time": "2025-04-30T16:11:47.578Z"
   },
   {
    "duration": 3,
    "start_time": "2025-04-30T16:11:47.583Z"
   },
   {
    "duration": 2,
    "start_time": "2025-04-30T16:11:47.593Z"
   },
   {
    "duration": 4,
    "start_time": "2025-04-30T16:11:47.596Z"
   },
   {
    "duration": 87696,
    "start_time": "2025-04-30T16:11:47.601Z"
   },
   {
    "duration": 6,
    "start_time": "2025-04-30T16:13:15.301Z"
   },
   {
    "duration": 61,
    "start_time": "2025-04-30T16:13:15.308Z"
   },
   {
    "duration": 2,
    "start_time": "2025-04-30T16:13:15.372Z"
   },
   {
    "duration": 4,
    "start_time": "2025-04-30T16:13:15.376Z"
   },
   {
    "duration": 18363,
    "start_time": "2025-04-30T16:13:15.381Z"
   },
   {
    "duration": 52,
    "start_time": "2025-04-30T16:13:33.746Z"
   },
   {
    "duration": 4,
    "start_time": "2025-04-30T16:13:33.800Z"
   },
   {
    "duration": 5,
    "start_time": "2025-04-30T16:13:33.806Z"
   },
   {
    "duration": 4,
    "start_time": "2025-04-30T16:13:33.812Z"
   },
   {
    "duration": 7,
    "start_time": "2025-04-30T16:13:33.819Z"
   },
   {
    "duration": 9,
    "start_time": "2025-04-30T16:13:33.827Z"
   },
   {
    "duration": 4,
    "start_time": "2025-04-30T16:24:55.289Z"
   },
   {
    "duration": 3,
    "start_time": "2025-04-30T16:25:00.807Z"
   },
   {
    "duration": 6,
    "start_time": "2025-04-30T16:25:01.432Z"
   },
   {
    "duration": 4,
    "start_time": "2025-04-30T16:25:45.408Z"
   },
   {
    "duration": 4,
    "start_time": "2025-04-30T16:25:46.784Z"
   },
   {
    "duration": 6,
    "start_time": "2025-04-30T16:25:47.266Z"
   },
   {
    "duration": 10,
    "start_time": "2025-04-30T16:26:44.269Z"
   },
   {
    "duration": 1173,
    "start_time": "2025-04-30T16:46:33.665Z"
   },
   {
    "duration": 23,
    "start_time": "2025-04-30T16:46:34.840Z"
   },
   {
    "duration": 11,
    "start_time": "2025-04-30T16:46:34.864Z"
   },
   {
    "duration": 8,
    "start_time": "2025-04-30T16:46:34.877Z"
   },
   {
    "duration": 5,
    "start_time": "2025-04-30T16:46:34.886Z"
   },
   {
    "duration": 10,
    "start_time": "2025-04-30T16:46:34.892Z"
   },
   {
    "duration": 4,
    "start_time": "2025-04-30T16:46:34.904Z"
   },
   {
    "duration": 277,
    "start_time": "2025-04-30T16:46:34.909Z"
   },
   {
    "duration": 203,
    "start_time": "2025-04-30T16:46:35.188Z"
   },
   {
    "duration": 113,
    "start_time": "2025-04-30T16:46:35.394Z"
   },
   {
    "duration": 263,
    "start_time": "2025-04-30T16:46:35.509Z"
   },
   {
    "duration": 523,
    "start_time": "2025-04-30T16:46:35.774Z"
   },
   {
    "duration": 3,
    "start_time": "2025-04-30T16:46:36.299Z"
   },
   {
    "duration": 5,
    "start_time": "2025-04-30T16:46:36.305Z"
   },
   {
    "duration": 255,
    "start_time": "2025-04-30T16:46:36.312Z"
   },
   {
    "duration": 188,
    "start_time": "2025-04-30T16:46:36.571Z"
   },
   {
    "duration": 483,
    "start_time": "2025-04-30T16:46:36.761Z"
   },
   {
    "duration": 438,
    "start_time": "2025-04-30T16:46:37.247Z"
   },
   {
    "duration": 4,
    "start_time": "2025-04-30T16:46:37.687Z"
   },
   {
    "duration": 80,
    "start_time": "2025-04-30T16:46:37.693Z"
   },
   {
    "duration": 6,
    "start_time": "2025-04-30T16:46:37.775Z"
   },
   {
    "duration": 3,
    "start_time": "2025-04-30T16:46:37.785Z"
   },
   {
    "duration": 6,
    "start_time": "2025-04-30T16:46:37.790Z"
   },
   {
    "duration": 4,
    "start_time": "2025-04-30T16:46:37.798Z"
   },
   {
    "duration": 4,
    "start_time": "2025-04-30T16:46:37.803Z"
   },
   {
    "duration": 63,
    "start_time": "2025-04-30T16:46:37.808Z"
   },
   {
    "duration": 5,
    "start_time": "2025-04-30T16:46:37.873Z"
   },
   {
    "duration": 3,
    "start_time": "2025-04-30T16:46:37.884Z"
   },
   {
    "duration": 2,
    "start_time": "2025-04-30T16:46:37.889Z"
   },
   {
    "duration": 4,
    "start_time": "2025-04-30T16:46:37.893Z"
   },
   {
    "duration": 4,
    "start_time": "2025-04-30T16:46:37.898Z"
   },
   {
    "duration": 6,
    "start_time": "2025-04-30T16:46:37.904Z"
   },
   {
    "duration": 3,
    "start_time": "2025-04-30T16:46:37.912Z"
   },
   {
    "duration": 3,
    "start_time": "2025-04-30T16:46:37.917Z"
   },
   {
    "duration": 62,
    "start_time": "2025-04-30T16:46:37.922Z"
   },
   {
    "duration": 3,
    "start_time": "2025-04-30T16:46:37.986Z"
   },
   {
    "duration": 4,
    "start_time": "2025-04-30T16:46:37.991Z"
   },
   {
    "duration": 814,
    "start_time": "2025-04-30T16:46:37.996Z"
   },
   {
    "duration": 12,
    "start_time": "2025-04-30T16:46:38.812Z"
   },
   {
    "duration": 4,
    "start_time": "2025-04-30T16:46:38.825Z"
   },
   {
    "duration": 161,
    "start_time": "2025-04-30T16:46:38.831Z"
   },
   {
    "duration": 11,
    "start_time": "2025-04-30T16:46:39.071Z"
   },
   {
    "duration": 3,
    "start_time": "2025-04-30T16:46:39.084Z"
   },
   {
    "duration": 1046,
    "start_time": "2025-04-30T16:46:39.089Z"
   },
   {
    "duration": 3,
    "start_time": "2025-04-30T16:46:40.137Z"
   },
   {
    "duration": 3,
    "start_time": "2025-04-30T16:46:40.142Z"
   },
   {
    "duration": 855,
    "start_time": "2025-04-30T16:46:40.147Z"
   },
   {
    "duration": 6,
    "start_time": "2025-04-30T16:46:41.003Z"
   },
   {
    "duration": 4,
    "start_time": "2025-04-30T16:46:41.071Z"
   },
   {
    "duration": 3,
    "start_time": "2025-04-30T16:46:41.076Z"
   },
   {
    "duration": 4,
    "start_time": "2025-04-30T16:46:41.081Z"
   },
   {
    "duration": 7,
    "start_time": "2025-04-30T16:46:41.086Z"
   },
   {
    "duration": 3,
    "start_time": "2025-04-30T16:46:41.094Z"
   },
   {
    "duration": 4,
    "start_time": "2025-04-30T16:46:41.098Z"
   },
   {
    "duration": 3,
    "start_time": "2025-04-30T16:46:41.104Z"
   },
   {
    "duration": 466,
    "start_time": "2025-04-30T16:46:41.108Z"
   },
   {
    "duration": 4,
    "start_time": "2025-04-30T16:46:41.576Z"
   },
   {
    "duration": 4,
    "start_time": "2025-04-30T16:46:41.582Z"
   },
   {
    "duration": 2,
    "start_time": "2025-04-30T16:46:41.588Z"
   },
   {
    "duration": 3,
    "start_time": "2025-04-30T16:46:41.592Z"
   },
   {
    "duration": 3,
    "start_time": "2025-04-30T16:46:41.597Z"
   },
   {
    "duration": 4,
    "start_time": "2025-04-30T16:46:41.601Z"
   },
   {
    "duration": 24530,
    "start_time": "2025-04-30T16:46:41.606Z"
   },
   {
    "duration": 14,
    "start_time": "2025-04-30T16:47:06.138Z"
   },
   {
    "duration": 16,
    "start_time": "2025-04-30T16:47:06.154Z"
   },
   {
    "duration": 3,
    "start_time": "2025-04-30T16:47:06.171Z"
   },
   {
    "duration": 3,
    "start_time": "2025-04-30T16:47:06.176Z"
   },
   {
    "duration": 2,
    "start_time": "2025-04-30T16:47:06.181Z"
   },
   {
    "duration": 3,
    "start_time": "2025-04-30T16:47:06.185Z"
   },
   {
    "duration": 27394,
    "start_time": "2025-04-30T16:47:06.190Z"
   },
   {
    "duration": 85,
    "start_time": "2025-04-30T16:47:33.586Z"
   },
   {
    "duration": 4,
    "start_time": "2025-04-30T16:47:33.673Z"
   },
   {
    "duration": 3,
    "start_time": "2025-04-30T16:47:33.679Z"
   },
   {
    "duration": 4,
    "start_time": "2025-04-30T16:47:33.683Z"
   },
   {
    "duration": 3,
    "start_time": "2025-04-30T16:47:33.688Z"
   },
   {
    "duration": 4,
    "start_time": "2025-04-30T16:47:33.692Z"
   },
   {
    "duration": 41303,
    "start_time": "2025-04-30T16:47:33.697Z"
   },
   {
    "duration": 4,
    "start_time": "2025-04-30T16:48:15.002Z"
   },
   {
    "duration": 4,
    "start_time": "2025-04-30T16:48:15.007Z"
   },
   {
    "duration": 3,
    "start_time": "2025-04-30T16:48:15.012Z"
   },
   {
    "duration": 3,
    "start_time": "2025-04-30T16:48:15.017Z"
   },
   {
    "duration": 2,
    "start_time": "2025-04-30T16:48:15.027Z"
   },
   {
    "duration": 3,
    "start_time": "2025-04-30T16:48:15.031Z"
   },
   {
    "duration": 85158,
    "start_time": "2025-04-30T16:48:15.036Z"
   },
   {
    "duration": 6,
    "start_time": "2025-04-30T16:49:40.195Z"
   },
   {
    "duration": 2,
    "start_time": "2025-04-30T16:49:40.203Z"
   },
   {
    "duration": 3,
    "start_time": "2025-04-30T16:49:40.207Z"
   },
   {
    "duration": 4,
    "start_time": "2025-04-30T16:49:40.212Z"
   },
   {
    "duration": 19115,
    "start_time": "2025-04-30T16:49:40.218Z"
   },
   {
    "duration": 32,
    "start_time": "2025-04-30T16:49:59.338Z"
   },
   {
    "duration": 4,
    "start_time": "2025-04-30T16:49:59.371Z"
   },
   {
    "duration": 5,
    "start_time": "2025-04-30T16:49:59.376Z"
   },
   {
    "duration": 5,
    "start_time": "2025-04-30T16:49:59.382Z"
   },
   {
    "duration": 8,
    "start_time": "2025-04-30T16:49:59.389Z"
   },
   {
    "duration": 10,
    "start_time": "2025-04-30T16:49:59.398Z"
   },
   {
    "duration": 1133,
    "start_time": "2025-04-30T17:10:05.014Z"
   },
   {
    "duration": 23,
    "start_time": "2025-04-30T17:10:06.149Z"
   },
   {
    "duration": 6,
    "start_time": "2025-04-30T17:10:06.174Z"
   },
   {
    "duration": 8,
    "start_time": "2025-04-30T17:10:06.182Z"
   },
   {
    "duration": 5,
    "start_time": "2025-04-30T17:10:06.193Z"
   },
   {
    "duration": 10,
    "start_time": "2025-04-30T17:10:06.199Z"
   },
   {
    "duration": 4,
    "start_time": "2025-04-30T17:10:06.210Z"
   },
   {
    "duration": 274,
    "start_time": "2025-04-30T17:10:06.216Z"
   },
   {
    "duration": 191,
    "start_time": "2025-04-30T17:10:06.492Z"
   },
   {
    "duration": 131,
    "start_time": "2025-04-30T17:10:06.685Z"
   },
   {
    "duration": 245,
    "start_time": "2025-04-30T17:10:06.818Z"
   },
   {
    "duration": 530,
    "start_time": "2025-04-30T17:10:07.070Z"
   },
   {
    "duration": 3,
    "start_time": "2025-04-30T17:10:07.602Z"
   },
   {
    "duration": 7,
    "start_time": "2025-04-30T17:10:07.609Z"
   },
   {
    "duration": 264,
    "start_time": "2025-04-30T17:10:07.617Z"
   },
   {
    "duration": 192,
    "start_time": "2025-04-30T17:10:07.883Z"
   },
   {
    "duration": 508,
    "start_time": "2025-04-30T17:10:08.076Z"
   },
   {
    "duration": 404,
    "start_time": "2025-04-30T17:10:08.586Z"
   },
   {
    "duration": 79,
    "start_time": "2025-04-30T17:10:08.992Z"
   },
   {
    "duration": 8,
    "start_time": "2025-04-30T17:10:09.072Z"
   },
   {
    "duration": 4,
    "start_time": "2025-04-30T17:10:09.083Z"
   },
   {
    "duration": 5,
    "start_time": "2025-04-30T17:10:09.089Z"
   },
   {
    "duration": 8,
    "start_time": "2025-04-30T17:10:09.095Z"
   },
   {
    "duration": 69,
    "start_time": "2025-04-30T17:10:09.105Z"
   },
   {
    "duration": 4,
    "start_time": "2025-04-30T17:10:09.176Z"
   },
   {
    "duration": 3,
    "start_time": "2025-04-30T17:10:09.181Z"
   },
   {
    "duration": 3,
    "start_time": "2025-04-30T17:10:09.186Z"
   },
   {
    "duration": 4,
    "start_time": "2025-04-30T17:10:09.191Z"
   },
   {
    "duration": 3,
    "start_time": "2025-04-30T17:10:09.196Z"
   },
   {
    "duration": 4,
    "start_time": "2025-04-30T17:10:09.201Z"
   },
   {
    "duration": 4,
    "start_time": "2025-04-30T17:10:09.206Z"
   },
   {
    "duration": 7,
    "start_time": "2025-04-30T17:10:09.211Z"
   },
   {
    "duration": 4,
    "start_time": "2025-04-30T17:10:09.220Z"
   },
   {
    "duration": 3,
    "start_time": "2025-04-30T17:10:09.226Z"
   },
   {
    "duration": 16,
    "start_time": "2025-04-30T17:10:09.271Z"
   },
   {
    "duration": 4,
    "start_time": "2025-04-30T17:10:09.289Z"
   },
   {
    "duration": 4,
    "start_time": "2025-04-30T17:10:09.295Z"
   },
   {
    "duration": 822,
    "start_time": "2025-04-30T17:10:09.300Z"
   },
   {
    "duration": 18,
    "start_time": "2025-04-30T17:10:10.124Z"
   },
   {
    "duration": 6,
    "start_time": "2025-04-30T17:10:10.144Z"
   },
   {
    "duration": 219,
    "start_time": "2025-04-30T17:10:10.157Z"
   },
   {
    "duration": 10,
    "start_time": "2025-04-30T17:10:10.379Z"
   },
   {
    "duration": 3,
    "start_time": "2025-04-30T17:10:10.390Z"
   },
   {
    "duration": 1105,
    "start_time": "2025-04-30T17:10:10.395Z"
   },
   {
    "duration": 3,
    "start_time": "2025-04-30T17:10:11.502Z"
   },
   {
    "duration": 3,
    "start_time": "2025-04-30T17:10:11.507Z"
   },
   {
    "duration": 889,
    "start_time": "2025-04-30T17:10:11.512Z"
   },
   {
    "duration": 6,
    "start_time": "2025-04-30T17:10:12.402Z"
   },
   {
    "duration": 3,
    "start_time": "2025-04-30T17:10:12.410Z"
   },
   {
    "duration": 4,
    "start_time": "2025-04-30T17:10:12.470Z"
   },
   {
    "duration": 3,
    "start_time": "2025-04-30T17:10:12.476Z"
   },
   {
    "duration": 8,
    "start_time": "2025-04-30T17:10:12.480Z"
   },
   {
    "duration": 3,
    "start_time": "2025-04-30T17:10:12.489Z"
   },
   {
    "duration": 3,
    "start_time": "2025-04-30T17:10:12.494Z"
   },
   {
    "duration": 4,
    "start_time": "2025-04-30T17:10:12.498Z"
   },
   {
    "duration": 457,
    "start_time": "2025-04-30T17:10:12.504Z"
   },
   {
    "duration": 8,
    "start_time": "2025-04-30T17:10:12.963Z"
   },
   {
    "duration": 3,
    "start_time": "2025-04-30T17:10:12.973Z"
   },
   {
    "duration": 3,
    "start_time": "2025-04-30T17:10:12.978Z"
   },
   {
    "duration": 4,
    "start_time": "2025-04-30T17:10:12.982Z"
   },
   {
    "duration": 3,
    "start_time": "2025-04-30T17:10:12.987Z"
   },
   {
    "duration": 4,
    "start_time": "2025-04-30T17:10:12.991Z"
   },
   {
    "duration": 24300,
    "start_time": "2025-04-30T17:10:12.996Z"
   },
   {
    "duration": 16,
    "start_time": "2025-04-30T17:10:37.298Z"
   },
   {
    "duration": 3,
    "start_time": "2025-04-30T17:10:37.315Z"
   },
   {
    "duration": 4,
    "start_time": "2025-04-30T17:10:37.320Z"
   },
   {
    "duration": 4,
    "start_time": "2025-04-30T17:10:37.325Z"
   },
   {
    "duration": 3,
    "start_time": "2025-04-30T17:10:37.330Z"
   },
   {
    "duration": 3,
    "start_time": "2025-04-30T17:10:37.335Z"
   },
   {
    "duration": 27833,
    "start_time": "2025-04-30T17:10:37.339Z"
   },
   {
    "duration": 9,
    "start_time": "2025-04-30T17:11:05.174Z"
   },
   {
    "duration": 2,
    "start_time": "2025-04-30T17:11:05.184Z"
   },
   {
    "duration": 3,
    "start_time": "2025-04-30T17:11:05.188Z"
   },
   {
    "duration": 3,
    "start_time": "2025-04-30T17:11:05.193Z"
   },
   {
    "duration": 3,
    "start_time": "2025-04-30T17:11:05.197Z"
   },
   {
    "duration": 3,
    "start_time": "2025-04-30T17:11:05.202Z"
   },
   {
    "duration": 40722,
    "start_time": "2025-04-30T17:11:05.270Z"
   },
   {
    "duration": 3,
    "start_time": "2025-04-30T17:11:45.994Z"
   },
   {
    "duration": 4,
    "start_time": "2025-04-30T17:11:45.998Z"
   },
   {
    "duration": 4,
    "start_time": "2025-04-30T17:11:46.004Z"
   },
   {
    "duration": 3,
    "start_time": "2025-04-30T17:11:46.009Z"
   },
   {
    "duration": 4,
    "start_time": "2025-04-30T17:11:46.013Z"
   },
   {
    "duration": 3,
    "start_time": "2025-04-30T17:11:46.018Z"
   },
   {
    "duration": 85679,
    "start_time": "2025-04-30T17:11:46.023Z"
   },
   {
    "duration": 67,
    "start_time": "2025-04-30T17:13:11.704Z"
   },
   {
    "duration": 3,
    "start_time": "2025-04-30T17:13:11.773Z"
   },
   {
    "duration": 2,
    "start_time": "2025-04-30T17:13:11.778Z"
   },
   {
    "duration": 3,
    "start_time": "2025-04-30T17:13:11.782Z"
   },
   {
    "duration": 18445,
    "start_time": "2025-04-30T17:13:11.787Z"
   },
   {
    "duration": 37,
    "start_time": "2025-04-30T17:13:30.233Z"
   },
   {
    "duration": 4,
    "start_time": "2025-04-30T17:13:30.272Z"
   },
   {
    "duration": 5,
    "start_time": "2025-04-30T17:13:30.278Z"
   },
   {
    "duration": 6,
    "start_time": "2025-04-30T17:13:30.284Z"
   },
   {
    "duration": 7,
    "start_time": "2025-04-30T17:13:30.291Z"
   },
   {
    "duration": 9,
    "start_time": "2025-04-30T17:13:30.300Z"
   }
  ],
  "kernelspec": {
   "display_name": "Python 3 (ipykernel)",
   "language": "python",
   "name": "python3"
  },
  "language_info": {
   "codemirror_mode": {
    "name": "ipython",
    "version": 3
   },
   "file_extension": ".py",
   "mimetype": "text/x-python",
   "name": "python",
   "nbconvert_exporter": "python",
   "pygments_lexer": "ipython3",
   "version": "3.9.19"
  },
  "toc": {
   "base_numbering": 1,
   "nav_menu": {},
   "number_sections": true,
   "sideBar": true,
   "skip_h1_title": true,
   "title_cell": "Table of Contents",
   "title_sidebar": "Contents",
   "toc_cell": false,
   "toc_position": {},
   "toc_section_display": true,
   "toc_window_display": false
  }
 },
 "nbformat": 4,
 "nbformat_minor": 2
}
